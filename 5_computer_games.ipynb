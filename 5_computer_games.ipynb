{
 "cells": [
  {
   "cell_type": "markdown",
   "metadata": {},
   "source": [
    "# Анализ интернет-магазина компьютерных игр"
   ]
  },
  {
   "cell_type": "markdown",
   "metadata": {},
   "source": [
    "Вы работаете в интернет-магазине «Стримчик», который продаёт по всему миру компьютерные игры. Из открытых источников доступны исторические данные о продажах игр, оценки пользователей и экспертов, жанры и платформы (например, Xbox или PlayStation). Вам нужно выявить определяющие успешность игры закономерности. Это позволит сделать ставку на потенциально популярный продукт и спланировать рекламные кампании.\n",
    "Перед вами данные до 2016 года. Представим, что сейчас декабрь 2016 г., и вы планируете кампанию на 2017-й. Нужно отработать принцип работы с данными. Неважно, прогнозируете ли вы продажи на 2017 год по данным 2016-го или же 2027-й — по данным 2026 года.\n",
    "В наборе данных попадается аббревиатура ESRB (Entertainment Software Rating Board) — это ассоциация, определяющая возрастной рейтинг компьютерных игр. ESRB оценивает игровой контент и присваивает ему подходящую возрастную категорию, например, «Для взрослых», «Для детей младшего возраста» или «Для подростков».\n",
    "В ходе работы необходимо будет выполнить следующее:\n",
    "\n",
    "1) Открыть файл с данными и изучить общую информацию\n",
    "\n",
    "2) Подготовить данные к работе. Исправить, выявленные в ходе первого этапа проблемы с датафреймом.\n",
    "\n",
    "3) Провести исследовательский анализ данных. В рамках которого:\n",
    "\n",
    "   - посмотреть, сколько выпускалось игр за все годы\n",
    "   - посмотреть, как менялись продажи по платформам (необходимо выбрать платформы с наибольшими продажами и построить распределение по годам, определить характерный срок, в течение которого появляются и исчезают старые платформы\n",
    "   - определить данные за актуальный период, на основании которого можно построить прогноз на 2017 год\n",
    "   - необходимо определить, какие платформы лидируют по продажам, растут они или падают, выбрать несколько потенциально прибыльных платформ\n",
    "   - построить «ящик с усами» по глобальным продажам игр в разбивке по платформам и опишем результаты\n",
    "   - определить влияние на продажи внутри одной популярной платформы отзывы критиков и пользователей (построить диаграмму рассеяния и посчитать корреляцию между отзывами и продажами), соотнести с продажами игр на других платформах\n",
    "   - посмотреть на общее распределение игр по жанрам.\n",
    "    \n",
    "4) Составить портрет пользователя каждого региона (NA, EU, JP):\n",
    "   - самые популярные платформы\n",
    "   - самые популярные жанры\n",
    "   - определить влияние рейтинга ESRB на продажи в отдельном регионе\n",
    "    \n",
    "5) Проверить гипотезы:\n",
    "   - средние пользовательские рейтинги платформ Xbox One и PC одинаковые\n",
    "   - средние пользовательские рейтинга жанров Action и Sport разные\n"
   ]
  },
  {
   "cell_type": "markdown",
   "metadata": {},
   "source": [
    "## Изучение общей информации"
   ]
  },
  {
   "cell_type": "markdown",
   "metadata": {},
   "source": [
    "Приступим к выполнению первого раздела. Изучим данные."
   ]
  },
  {
   "cell_type": "code",
   "execution_count": 1,
   "metadata": {},
   "outputs": [],
   "source": [
    "# импортируем необходимые библиотеки\n",
    "import pandas as pd\n",
    "import numpy as np\n",
    "import matplotlib.pyplot as plt\n",
    "import seaborn as sns\n",
    "import warnings\n",
    "from scipy import stats as st\n",
    "warnings.filterwarnings(\"ignore\")"
   ]
  },
  {
   "cell_type": "code",
   "execution_count": 2,
   "metadata": {},
   "outputs": [
    {
     "data": {
      "text/html": [
       "<div>\n",
       "<style scoped>\n",
       "    .dataframe tbody tr th:only-of-type {\n",
       "        vertical-align: middle;\n",
       "    }\n",
       "\n",
       "    .dataframe tbody tr th {\n",
       "        vertical-align: top;\n",
       "    }\n",
       "\n",
       "    .dataframe thead th {\n",
       "        text-align: right;\n",
       "    }\n",
       "</style>\n",
       "<table border=\"1\" class=\"dataframe\">\n",
       "  <thead>\n",
       "    <tr style=\"text-align: right;\">\n",
       "      <th></th>\n",
       "      <th>Name</th>\n",
       "      <th>Platform</th>\n",
       "      <th>Year_of_Release</th>\n",
       "      <th>Genre</th>\n",
       "      <th>NA_sales</th>\n",
       "      <th>EU_sales</th>\n",
       "      <th>JP_sales</th>\n",
       "      <th>Other_sales</th>\n",
       "      <th>Critic_Score</th>\n",
       "      <th>User_Score</th>\n",
       "      <th>Rating</th>\n",
       "    </tr>\n",
       "  </thead>\n",
       "  <tbody>\n",
       "    <tr>\n",
       "      <td>0</td>\n",
       "      <td>Wii Sports</td>\n",
       "      <td>Wii</td>\n",
       "      <td>2006.0</td>\n",
       "      <td>Sports</td>\n",
       "      <td>41.36</td>\n",
       "      <td>28.96</td>\n",
       "      <td>3.77</td>\n",
       "      <td>8.45</td>\n",
       "      <td>76.0</td>\n",
       "      <td>8</td>\n",
       "      <td>E</td>\n",
       "    </tr>\n",
       "    <tr>\n",
       "      <td>1</td>\n",
       "      <td>Super Mario Bros.</td>\n",
       "      <td>NES</td>\n",
       "      <td>1985.0</td>\n",
       "      <td>Platform</td>\n",
       "      <td>29.08</td>\n",
       "      <td>3.58</td>\n",
       "      <td>6.81</td>\n",
       "      <td>0.77</td>\n",
       "      <td>NaN</td>\n",
       "      <td>NaN</td>\n",
       "      <td>NaN</td>\n",
       "    </tr>\n",
       "    <tr>\n",
       "      <td>2</td>\n",
       "      <td>Mario Kart Wii</td>\n",
       "      <td>Wii</td>\n",
       "      <td>2008.0</td>\n",
       "      <td>Racing</td>\n",
       "      <td>15.68</td>\n",
       "      <td>12.76</td>\n",
       "      <td>3.79</td>\n",
       "      <td>3.29</td>\n",
       "      <td>82.0</td>\n",
       "      <td>8.3</td>\n",
       "      <td>E</td>\n",
       "    </tr>\n",
       "    <tr>\n",
       "      <td>3</td>\n",
       "      <td>Wii Sports Resort</td>\n",
       "      <td>Wii</td>\n",
       "      <td>2009.0</td>\n",
       "      <td>Sports</td>\n",
       "      <td>15.61</td>\n",
       "      <td>10.93</td>\n",
       "      <td>3.28</td>\n",
       "      <td>2.95</td>\n",
       "      <td>80.0</td>\n",
       "      <td>8</td>\n",
       "      <td>E</td>\n",
       "    </tr>\n",
       "    <tr>\n",
       "      <td>4</td>\n",
       "      <td>Pokemon Red/Pokemon Blue</td>\n",
       "      <td>GB</td>\n",
       "      <td>1996.0</td>\n",
       "      <td>Role-Playing</td>\n",
       "      <td>11.27</td>\n",
       "      <td>8.89</td>\n",
       "      <td>10.22</td>\n",
       "      <td>1.00</td>\n",
       "      <td>NaN</td>\n",
       "      <td>NaN</td>\n",
       "      <td>NaN</td>\n",
       "    </tr>\n",
       "    <tr>\n",
       "      <td>5</td>\n",
       "      <td>Tetris</td>\n",
       "      <td>GB</td>\n",
       "      <td>1989.0</td>\n",
       "      <td>Puzzle</td>\n",
       "      <td>23.20</td>\n",
       "      <td>2.26</td>\n",
       "      <td>4.22</td>\n",
       "      <td>0.58</td>\n",
       "      <td>NaN</td>\n",
       "      <td>NaN</td>\n",
       "      <td>NaN</td>\n",
       "    </tr>\n",
       "    <tr>\n",
       "      <td>6</td>\n",
       "      <td>New Super Mario Bros.</td>\n",
       "      <td>DS</td>\n",
       "      <td>2006.0</td>\n",
       "      <td>Platform</td>\n",
       "      <td>11.28</td>\n",
       "      <td>9.14</td>\n",
       "      <td>6.50</td>\n",
       "      <td>2.88</td>\n",
       "      <td>89.0</td>\n",
       "      <td>8.5</td>\n",
       "      <td>E</td>\n",
       "    </tr>\n",
       "    <tr>\n",
       "      <td>7</td>\n",
       "      <td>Wii Play</td>\n",
       "      <td>Wii</td>\n",
       "      <td>2006.0</td>\n",
       "      <td>Misc</td>\n",
       "      <td>13.96</td>\n",
       "      <td>9.18</td>\n",
       "      <td>2.93</td>\n",
       "      <td>2.84</td>\n",
       "      <td>58.0</td>\n",
       "      <td>6.6</td>\n",
       "      <td>E</td>\n",
       "    </tr>\n",
       "    <tr>\n",
       "      <td>8</td>\n",
       "      <td>New Super Mario Bros. Wii</td>\n",
       "      <td>Wii</td>\n",
       "      <td>2009.0</td>\n",
       "      <td>Platform</td>\n",
       "      <td>14.44</td>\n",
       "      <td>6.94</td>\n",
       "      <td>4.70</td>\n",
       "      <td>2.24</td>\n",
       "      <td>87.0</td>\n",
       "      <td>8.4</td>\n",
       "      <td>E</td>\n",
       "    </tr>\n",
       "    <tr>\n",
       "      <td>9</td>\n",
       "      <td>Duck Hunt</td>\n",
       "      <td>NES</td>\n",
       "      <td>1984.0</td>\n",
       "      <td>Shooter</td>\n",
       "      <td>26.93</td>\n",
       "      <td>0.63</td>\n",
       "      <td>0.28</td>\n",
       "      <td>0.47</td>\n",
       "      <td>NaN</td>\n",
       "      <td>NaN</td>\n",
       "      <td>NaN</td>\n",
       "    </tr>\n",
       "  </tbody>\n",
       "</table>\n",
       "</div>"
      ],
      "text/plain": [
       "                        Name Platform  Year_of_Release         Genre  \\\n",
       "0                 Wii Sports      Wii           2006.0        Sports   \n",
       "1          Super Mario Bros.      NES           1985.0      Platform   \n",
       "2             Mario Kart Wii      Wii           2008.0        Racing   \n",
       "3          Wii Sports Resort      Wii           2009.0        Sports   \n",
       "4   Pokemon Red/Pokemon Blue       GB           1996.0  Role-Playing   \n",
       "5                     Tetris       GB           1989.0        Puzzle   \n",
       "6      New Super Mario Bros.       DS           2006.0      Platform   \n",
       "7                   Wii Play      Wii           2006.0          Misc   \n",
       "8  New Super Mario Bros. Wii      Wii           2009.0      Platform   \n",
       "9                  Duck Hunt      NES           1984.0       Shooter   \n",
       "\n",
       "   NA_sales  EU_sales  JP_sales  Other_sales  Critic_Score User_Score Rating  \n",
       "0     41.36     28.96      3.77         8.45          76.0          8      E  \n",
       "1     29.08      3.58      6.81         0.77           NaN        NaN    NaN  \n",
       "2     15.68     12.76      3.79         3.29          82.0        8.3      E  \n",
       "3     15.61     10.93      3.28         2.95          80.0          8      E  \n",
       "4     11.27      8.89     10.22         1.00           NaN        NaN    NaN  \n",
       "5     23.20      2.26      4.22         0.58           NaN        NaN    NaN  \n",
       "6     11.28      9.14      6.50         2.88          89.0        8.5      E  \n",
       "7     13.96      9.18      2.93         2.84          58.0        6.6      E  \n",
       "8     14.44      6.94      4.70         2.24          87.0        8.4      E  \n",
       "9     26.93      0.63      0.28         0.47           NaN        NaN    NaN  "
      ]
     },
     "metadata": {},
     "output_type": "display_data"
    }
   ],
   "source": [
    "# прочитаем файл\n",
    "data = pd.read_csv('....csv')\n",
    "display(data.head(10))"
   ]
  },
  {
   "cell_type": "code",
   "execution_count": 3,
   "metadata": {},
   "outputs": [
    {
     "name": "stdout",
     "output_type": "stream",
     "text": [
      "<class 'pandas.core.frame.DataFrame'>\n",
      "RangeIndex: 16715 entries, 0 to 16714\n",
      "Data columns (total 11 columns):\n",
      "Name               16713 non-null object\n",
      "Platform           16715 non-null object\n",
      "Year_of_Release    16446 non-null float64\n",
      "Genre              16713 non-null object\n",
      "NA_sales           16715 non-null float64\n",
      "EU_sales           16715 non-null float64\n",
      "JP_sales           16715 non-null float64\n",
      "Other_sales        16715 non-null float64\n",
      "Critic_Score       8137 non-null float64\n",
      "User_Score         10014 non-null object\n",
      "Rating             9949 non-null object\n",
      "dtypes: float64(6), object(5)\n",
      "memory usage: 1.4+ MB\n"
     ]
    }
   ],
   "source": [
    "# получим общую информацию \n",
    "data.info()"
   ]
  },
  {
   "cell_type": "code",
   "execution_count": 4,
   "metadata": {},
   "outputs": [
    {
     "name": "stdout",
     "output_type": "stream",
     "text": [
      "Index(['Name', 'Platform', 'Year_of_Release', 'Genre', 'NA_sales', 'EU_sales',\n",
      "       'JP_sales', 'Other_sales', 'Critic_Score', 'User_Score', 'Rating'],\n",
      "      dtype='object')\n"
     ]
    }
   ],
   "source": [
    "# выведем на экран название столбцов\n",
    "print(data.columns)"
   ]
  },
  {
   "cell_type": "code",
   "execution_count": 5,
   "metadata": {},
   "outputs": [
    {
     "name": "stdout",
     "output_type": "stream",
     "text": [
      "Размер датасета: 16715\n"
     ]
    }
   ],
   "source": [
    "# выведем размер датасета\n",
    "print('Размер датасета:', data.shape[0])"
   ]
  },
  {
   "cell_type": "code",
   "execution_count": 6,
   "metadata": {},
   "outputs": [
    {
     "name": "stdout",
     "output_type": "stream",
     "text": [
      "Количество дубликтов: 0\n"
     ]
    }
   ],
   "source": [
    "# посчитаем количество дубликатов\n",
    "print('Количество дубликтов:', data.duplicated().sum())"
   ]
  },
  {
   "cell_type": "code",
   "execution_count": 7,
   "metadata": {},
   "outputs": [
    {
     "name": "stdout",
     "output_type": "stream",
     "text": [
      "[' Beyblade Burst' ' Fire Emblem Fates' \" Frozen: Olaf's Quest\" ...\n",
      " 'wwe Smackdown vs. Raw 2006' '¡Shin Chan Flipa en colores!' nan]\n"
     ]
    }
   ],
   "source": [
    "# выведем уникальные значения по столбцу Name\n",
    "data_name = data['Name']\n",
    "data_name_sorted = data_name.sort_values()\n",
    "data_name_sorted = data_name_sorted.unique()\n",
    "print(data_name_sorted)"
   ]
  },
  {
   "cell_type": "code",
   "execution_count": 8,
   "metadata": {},
   "outputs": [
    {
     "name": "stdout",
     "output_type": "stream",
     "text": [
      "['2600' '3DO' '3DS' 'DC' 'DS' 'GB' 'GBA' 'GC' 'GEN' 'GG' 'N64' 'NES' 'NG'\n",
      " 'PC' 'PCFX' 'PS' 'PS2' 'PS3' 'PS4' 'PSP' 'PSV' 'SAT' 'SCD' 'SNES' 'TG16'\n",
      " 'WS' 'Wii' 'WiiU' 'X360' 'XB' 'XOne']\n"
     ]
    }
   ],
   "source": [
    "# выведем уникальные значения по столбцу platform\n",
    "data_platform = data['Platform']\n",
    "data_platform_sorted = data_platform.sort_values()\n",
    "data_platform_sorted = data_platform_sorted.unique()\n",
    "print(data_platform_sorted)"
   ]
  },
  {
   "cell_type": "code",
   "execution_count": 9,
   "metadata": {},
   "outputs": [
    {
     "name": "stdout",
     "output_type": "stream",
     "text": [
      "count    16446.000000\n",
      "mean      2006.484616\n",
      "std          5.877050\n",
      "min       1980.000000\n",
      "25%       2003.000000\n",
      "50%       2007.000000\n",
      "75%       2010.000000\n",
      "max       2016.000000\n",
      "Name: Year_of_Release, dtype: float64\n"
     ]
    }
   ],
   "source": [
    "# выведем информацию по столбцу year_of_release\n",
    "print(data['Year_of_Release'].describe())"
   ]
  },
  {
   "cell_type": "code",
   "execution_count": 10,
   "metadata": {},
   "outputs": [
    {
     "name": "stdout",
     "output_type": "stream",
     "text": [
      "['Action' 'Adventure' 'Fighting' 'Misc' 'Platform' 'Puzzle' 'Racing'\n",
      " 'Role-Playing' 'Shooter' 'Simulation' 'Sports' 'Strategy' nan]\n"
     ]
    }
   ],
   "source": [
    "# выведем информацию по жанрам игры\n",
    "data_genre = data['Genre']\n",
    "data_genre_sorted = data_genre.sort_values()\n",
    "data_genre_sorted = data_genre_sorted.unique()\n",
    "print(data_genre_sorted)"
   ]
  },
  {
   "cell_type": "code",
   "execution_count": 11,
   "metadata": {},
   "outputs": [
    {
     "name": "stdout",
     "output_type": "stream",
     "text": [
      "count    16715.000000\n",
      "mean         0.263377\n",
      "std          0.813604\n",
      "min          0.000000\n",
      "25%          0.000000\n",
      "50%          0.080000\n",
      "75%          0.240000\n",
      "max         41.360000\n",
      "Name: NA_sales, dtype: float64\n"
     ]
    }
   ],
   "source": [
    "# выведем информацию по столбцу NA_salse\n",
    "print(data['NA_sales'].describe())"
   ]
  },
  {
   "cell_type": "code",
   "execution_count": 12,
   "metadata": {},
   "outputs": [
    {
     "name": "stdout",
     "output_type": "stream",
     "text": [
      "count    16715.000000\n",
      "mean         0.145060\n",
      "std          0.503339\n",
      "min          0.000000\n",
      "25%          0.000000\n",
      "50%          0.020000\n",
      "75%          0.110000\n",
      "max         28.960000\n",
      "Name: EU_sales, dtype: float64\n"
     ]
    }
   ],
   "source": [
    "# выведем информацию по столбцу EU_sales\n",
    "print(data['EU_sales'].describe())"
   ]
  },
  {
   "cell_type": "code",
   "execution_count": 13,
   "metadata": {},
   "outputs": [
    {
     "name": "stdout",
     "output_type": "stream",
     "text": [
      "count    16715.000000\n",
      "mean         0.077617\n",
      "std          0.308853\n",
      "min          0.000000\n",
      "25%          0.000000\n",
      "50%          0.000000\n",
      "75%          0.040000\n",
      "max         10.220000\n",
      "Name: JP_sales, dtype: float64\n"
     ]
    }
   ],
   "source": [
    "# выведем информацию по столбцу JP_sales\n",
    "print(data['JP_sales'].describe())"
   ]
  },
  {
   "cell_type": "code",
   "execution_count": 14,
   "metadata": {},
   "outputs": [
    {
     "name": "stdout",
     "output_type": "stream",
     "text": [
      "count    16715.000000\n",
      "mean         0.047342\n",
      "std          0.186731\n",
      "min          0.000000\n",
      "25%          0.000000\n",
      "50%          0.010000\n",
      "75%          0.030000\n",
      "max         10.570000\n",
      "Name: Other_sales, dtype: float64\n"
     ]
    }
   ],
   "source": [
    "# выведем информацию по столбцу Other_sales\n",
    "print(data['Other_sales'].describe())"
   ]
  },
  {
   "cell_type": "code",
   "execution_count": 15,
   "metadata": {},
   "outputs": [
    {
     "name": "stdout",
     "output_type": "stream",
     "text": [
      "count    8137.000000\n",
      "mean       68.967679\n",
      "std        13.938165\n",
      "min        13.000000\n",
      "25%        60.000000\n",
      "50%        71.000000\n",
      "75%        79.000000\n",
      "max        98.000000\n",
      "Name: Critic_Score, dtype: float64\n"
     ]
    }
   ],
   "source": [
    "# выведем информацию по столбцу critic_score\n",
    "print(data['Critic_Score'].describe())"
   ]
  },
  {
   "cell_type": "code",
   "execution_count": 16,
   "metadata": {},
   "outputs": [
    {
     "name": "stdout",
     "output_type": "stream",
     "text": [
      "tbd    2424\n",
      "7.8     324\n",
      "8       290\n",
      "8.2     282\n",
      "8.3     254\n",
      "       ... \n",
      "1.5       2\n",
      "0.5       2\n",
      "0.2       2\n",
      "0         1\n",
      "9.7       1\n",
      "Name: User_Score, Length: 96, dtype: int64\n"
     ]
    }
   ],
   "source": [
    "# выведем информацию по столбцу user_score\n",
    "print(data['User_Score'].value_counts())"
   ]
  },
  {
   "cell_type": "code",
   "execution_count": 17,
   "metadata": {},
   "outputs": [
    {
     "name": "stdout",
     "output_type": "stream",
     "text": [
      "['AO' 'E' 'E10+' 'EC' 'K-A' 'M' 'RP' 'T' nan]\n"
     ]
    }
   ],
   "source": [
    "# выведем информацию по стобцу Raiting\n",
    "data_rating = data['Rating']\n",
    "data_rating_sorted = data_rating.sort_values()\n",
    "data_rating_sorted = data_rating_sorted.unique()\n",
    "print(data_rating_sorted)"
   ]
  },
  {
   "cell_type": "code",
   "execution_count": 18,
   "metadata": {},
   "outputs": [
    {
     "name": "stdout",
     "output_type": "stream",
     "text": [
      "Name                  2\n",
      "Platform              0\n",
      "Year_of_Release     269\n",
      "Genre                 2\n",
      "NA_sales              0\n",
      "EU_sales              0\n",
      "JP_sales              0\n",
      "Other_sales           0\n",
      "Critic_Score       8578\n",
      "User_Score         6701\n",
      "Rating             6766\n",
      "dtype: int64\n"
     ]
    }
   ],
   "source": [
    "# выведем пропуски в значениях\n",
    "print(data.isna().sum())"
   ]
  },
  {
   "cell_type": "code",
   "execution_count": 19,
   "metadata": {},
   "outputs": [
    {
     "name": "stdout",
     "output_type": "stream",
     "text": [
      "Name - 0.01%\n",
      "Platform - 0.0%\n",
      "Year_of_Release - 1.61%\n",
      "Genre - 0.01%\n",
      "NA_sales - 0.0%\n",
      "EU_sales - 0.0%\n",
      "JP_sales - 0.0%\n",
      "Other_sales - 0.0%\n",
      "Critic_Score - 51.32%\n",
      "User_Score - 40.09%\n",
      "Rating - 40.48%\n"
     ]
    }
   ],
   "source": [
    "# Выведем пропуски  в процентах\n",
    "for col in data.columns:\n",
    "    pct_missing = np.mean(data[col].isna())\n",
    "    print('{} - {}%'.format(col, round((pct_missing * 100), 2)))"
   ]
  },
  {
   "cell_type": "markdown",
   "metadata": {},
   "source": [
    "**Вывод:** в ходе выполненного исследования данных выявили следующее:\n",
    "1) в таблице 16715 строк и 11 столбцов\n",
    "\n",
    "2) в нашей таблице следующие столбцы:\n",
    "\n",
    "   - Name – название игры (тип object)\n",
    "   - Platform – платформа (тип object)\n",
    "   - Year_of_Release – год выпуска (тип float)\n",
    "   - Genre – жанры игры (тип object)\n",
    "   - NA_sales – продажи в Северной Америке (миллионы проданных копий) (тип float)\n",
    "   - EU_sales – продажи в Европе (миллионы проданных копий) (тип float)\n",
    "   - JP_sales – продажи в Японии (миллионы проданных копий) (тип float)\n",
    "   - Other_sales – продажи в других странах (миллионы проданных копий) (тип float)\n",
    "   - Critic_score – оценка критиков (максимум 100) (тип float)\n",
    "   - User_score – оценка пользователей (максимум 10) (тип object)\n",
    "   - Rating – рейтинг от организации ESRB. Присваивает определенную возрастную категорию (тип object).\n",
    "   \n",
    "3) Не было выявлено дубликатов\n",
    "\n",
    "4) Были выявлены следующие ошибки:\n",
    "\n",
    "   - названия столбцов с большой буквы, нужно все привести к одному регистру\n",
    "   - необходимо изменить тип данных в некоторых столбцах: years_of_release из вещественного типа необходимо сделать целочисленный, так как года обычно измеряются в целых числах, столбец user_score также необходимо из строкового типа сделать вещественным, так как мы будем проводить расчеты по данному столбцу, поэтому нам необходимы числа, также столбец critic_score необходимо из вещественного типа сделать целочисленным.\n",
    "   - это не является ошибкой, но на мой взгляд объемы продаж удобнее смотреть не в миллионах копий, а в тысячах, так как если методом describe() посмотреть описание столбцов с продажами, то данные в миллионах копий продаж, сложны для восприятия, поэтому переведем в тысячи копий\n",
    "   - также в названиях игр присутствуют лишние знаки: точки, восклицательные знаки, перевернутые восклицательные знаки.\n",
    "    \n",
    "5) Кроме того, в приведенном датасете в некоторых столбцах присутствует большое количество пропусков:\n",
    "\n",
    "   - critic_score – 51,32%\n",
    "   - user_score – 40,09%\n",
    "   - rating – 40,48%\n",
    "   - year_of_release – 1,61%\n",
    "    \n",
    "В следующем разделе рассмотрим данные столбцы более подробно для того, чтобы узнать природу данных пропусков.\n",
    "\n",
    "6) В столбце user_score нам встретилось значение tdb (информация еще не определена). В следующем разделе так же более подробно рассмотрим."
   ]
  },
  {
   "cell_type": "code",
   "execution_count": 20,
   "metadata": {},
   "outputs": [
    {
     "data": {
      "text/plain": [
       "array(['AO', 'E', 'E10+', 'EC', 'K-A', 'M', 'RP', 'T', nan], dtype=object)"
      ]
     },
     "execution_count": 20,
     "metadata": {},
     "output_type": "execute_result"
    }
   ],
   "source": [
    "# определяем уникальные значения\n",
    "data['Rating'].sort_values().unique()"
   ]
  },
  {
   "cell_type": "markdown",
   "metadata": {},
   "source": [
    "## Подготовка данных для анализа"
   ]
  },
  {
   "cell_type": "markdown",
   "metadata": {},
   "source": [
    "В данном разделе необходимо сделать следующее:\n",
    "1) Изменить названия столбцов на верное наименование\n",
    "\n",
    "2) Перевести миллионы продаж в тысячи в столбцах: NA_sales, EU_sales, JP_sales, other_sales\n",
    "\n",
    "3) Обработать пропуски, в том числе разобраться с пропуском tdb\n",
    "\n",
    "4) Изменить типы данных в столбцах:\n",
    "\n",
    "   - year_of_release\n",
    "   - critic_score\n",
    "   - user_score\n",
    "\n",
    "5) Проверить наличие неявных дубликатов\n",
    "\n",
    "6) Посчитать суммарные продажи во всех регионах и записать их в отдельный столбец"
   ]
  },
  {
   "cell_type": "markdown",
   "metadata": {},
   "source": [
    "### Изменим наименование столбцов"
   ]
  },
  {
   "cell_type": "code",
   "execution_count": 21,
   "metadata": {},
   "outputs": [],
   "source": [
    "# применим метод lower() для переименования названия столбцов\n",
    "data.columns = data.columns.str.lower()"
   ]
  },
  {
   "cell_type": "code",
   "execution_count": 22,
   "metadata": {},
   "outputs": [
    {
     "data": {
      "text/plain": [
       "Index(['name', 'platform', 'year_of_release', 'genre', 'na_sales', 'eu_sales',\n",
       "       'jp_sales', 'other_sales', 'critic_score', 'user_score', 'rating'],\n",
       "      dtype='object')"
      ]
     },
     "metadata": {},
     "output_type": "display_data"
    }
   ],
   "source": [
    "# выведем название столбцов\n",
    "display(data.columns)"
   ]
  },
  {
   "cell_type": "markdown",
   "metadata": {},
   "source": [
    "Теперь названия столбцов находится в удобном для работы виде."
   ]
  },
  {
   "cell_type": "markdown",
   "metadata": {},
   "source": [
    "### Перевод значений"
   ]
  },
  {
   "cell_type": "markdown",
   "metadata": {},
   "source": [
    "Переведем миллионы продаж в тысячи в столбцах: na_sales, eu_sales, jp_sales, other_sales"
   ]
  },
  {
   "cell_type": "code",
   "execution_count": 23,
   "metadata": {},
   "outputs": [],
   "source": [
    "# переведем миллионы копий продаж в тысячи в столбцах: na_sales, eu_sales, jp_sales, other_sales\n",
    "list_name = ['na_sales', 'eu_sales', 'jp_sales', 'other_sales']\n",
    "for name in list_name:\n",
    "    data[name] = data[name] * 1000"
   ]
  },
  {
   "cell_type": "code",
   "execution_count": 24,
   "metadata": {},
   "outputs": [
    {
     "data": {
      "text/html": [
       "<div>\n",
       "<style scoped>\n",
       "    .dataframe tbody tr th:only-of-type {\n",
       "        vertical-align: middle;\n",
       "    }\n",
       "\n",
       "    .dataframe tbody tr th {\n",
       "        vertical-align: top;\n",
       "    }\n",
       "\n",
       "    .dataframe thead th {\n",
       "        text-align: right;\n",
       "    }\n",
       "</style>\n",
       "<table border=\"1\" class=\"dataframe\">\n",
       "  <thead>\n",
       "    <tr style=\"text-align: right;\">\n",
       "      <th></th>\n",
       "      <th>name</th>\n",
       "      <th>platform</th>\n",
       "      <th>year_of_release</th>\n",
       "      <th>genre</th>\n",
       "      <th>na_sales</th>\n",
       "      <th>eu_sales</th>\n",
       "      <th>jp_sales</th>\n",
       "      <th>other_sales</th>\n",
       "      <th>critic_score</th>\n",
       "      <th>user_score</th>\n",
       "      <th>rating</th>\n",
       "    </tr>\n",
       "  </thead>\n",
       "  <tbody>\n",
       "    <tr>\n",
       "      <td>0</td>\n",
       "      <td>Wii Sports</td>\n",
       "      <td>Wii</td>\n",
       "      <td>2006.0</td>\n",
       "      <td>Sports</td>\n",
       "      <td>41360.0</td>\n",
       "      <td>28960.0</td>\n",
       "      <td>3770.0</td>\n",
       "      <td>8450.0</td>\n",
       "      <td>76.0</td>\n",
       "      <td>8</td>\n",
       "      <td>E</td>\n",
       "    </tr>\n",
       "    <tr>\n",
       "      <td>1</td>\n",
       "      <td>Super Mario Bros.</td>\n",
       "      <td>NES</td>\n",
       "      <td>1985.0</td>\n",
       "      <td>Platform</td>\n",
       "      <td>29080.0</td>\n",
       "      <td>3580.0</td>\n",
       "      <td>6810.0</td>\n",
       "      <td>770.0</td>\n",
       "      <td>NaN</td>\n",
       "      <td>NaN</td>\n",
       "      <td>NaN</td>\n",
       "    </tr>\n",
       "    <tr>\n",
       "      <td>2</td>\n",
       "      <td>Mario Kart Wii</td>\n",
       "      <td>Wii</td>\n",
       "      <td>2008.0</td>\n",
       "      <td>Racing</td>\n",
       "      <td>15680.0</td>\n",
       "      <td>12760.0</td>\n",
       "      <td>3790.0</td>\n",
       "      <td>3290.0</td>\n",
       "      <td>82.0</td>\n",
       "      <td>8.3</td>\n",
       "      <td>E</td>\n",
       "    </tr>\n",
       "    <tr>\n",
       "      <td>3</td>\n",
       "      <td>Wii Sports Resort</td>\n",
       "      <td>Wii</td>\n",
       "      <td>2009.0</td>\n",
       "      <td>Sports</td>\n",
       "      <td>15610.0</td>\n",
       "      <td>10930.0</td>\n",
       "      <td>3280.0</td>\n",
       "      <td>2950.0</td>\n",
       "      <td>80.0</td>\n",
       "      <td>8</td>\n",
       "      <td>E</td>\n",
       "    </tr>\n",
       "    <tr>\n",
       "      <td>4</td>\n",
       "      <td>Pokemon Red/Pokemon Blue</td>\n",
       "      <td>GB</td>\n",
       "      <td>1996.0</td>\n",
       "      <td>Role-Playing</td>\n",
       "      <td>11270.0</td>\n",
       "      <td>8890.0</td>\n",
       "      <td>10220.0</td>\n",
       "      <td>1000.0</td>\n",
       "      <td>NaN</td>\n",
       "      <td>NaN</td>\n",
       "      <td>NaN</td>\n",
       "    </tr>\n",
       "  </tbody>\n",
       "</table>\n",
       "</div>"
      ],
      "text/plain": [
       "                       name platform  year_of_release         genre  na_sales  \\\n",
       "0                Wii Sports      Wii           2006.0        Sports   41360.0   \n",
       "1         Super Mario Bros.      NES           1985.0      Platform   29080.0   \n",
       "2            Mario Kart Wii      Wii           2008.0        Racing   15680.0   \n",
       "3         Wii Sports Resort      Wii           2009.0        Sports   15610.0   \n",
       "4  Pokemon Red/Pokemon Blue       GB           1996.0  Role-Playing   11270.0   \n",
       "\n",
       "   eu_sales  jp_sales  other_sales  critic_score user_score rating  \n",
       "0   28960.0    3770.0       8450.0          76.0          8      E  \n",
       "1    3580.0    6810.0        770.0           NaN        NaN    NaN  \n",
       "2   12760.0    3790.0       3290.0          82.0        8.3      E  \n",
       "3   10930.0    3280.0       2950.0          80.0          8      E  \n",
       "4    8890.0   10220.0       1000.0           NaN        NaN    NaN  "
      ]
     },
     "metadata": {},
     "output_type": "display_data"
    }
   ],
   "source": [
    "# выведем на экран датасет\n",
    "display(data.head())"
   ]
  },
  {
   "cell_type": "markdown",
   "metadata": {},
   "source": [
    "Продажи переведены в тысячи копий, на мой взгляд, данные стали более читабельны."
   ]
  },
  {
   "cell_type": "markdown",
   "metadata": {},
   "source": [
    "### Обработаем пропуски, в том числе tbd"
   ]
  },
  {
   "cell_type": "markdown",
   "metadata": {},
   "source": [
    "Попробуем более подробно рассмотреть столбцы с пропусками, для того, чтобы понять их природу и определить возможность их восстановления. \n",
    "Пропуски есть в 4х столбцах:\n",
    "1. critic_score - 52,32%\n",
    "2. user_score - 40.09%\n",
    "3. rating - 40,48%\n",
    "4. year_of_release - 1,61%"
   ]
  },
  {
   "cell_type": "markdown",
   "metadata": {},
   "source": [
    "Рассмотрим столбец user_score, так как в нем есть необычное значение tbd. Посмотрим, в каких годах встречается это значение, возможно, данные за последние годы еще не получены."
   ]
  },
  {
   "cell_type": "code",
   "execution_count": 25,
   "metadata": {},
   "outputs": [
    {
     "name": "stdout",
     "output_type": "stream",
     "text": [
      "2009.0    405\n",
      "2010.0    331\n",
      "2008.0    326\n",
      "2011.0    217\n",
      "2002.0    192\n",
      "2007.0    192\n",
      "2006.0    124\n",
      "2005.0    121\n",
      "2004.0    107\n",
      "2003.0     95\n",
      "2001.0     82\n",
      "2000.0     43\n",
      "2015.0     38\n",
      "2016.0     34\n",
      "2012.0     24\n",
      "2014.0     21\n",
      "2013.0     15\n",
      "1999.0      8\n",
      "1997.0      1\n",
      "Name: year_of_release, dtype: int64\n"
     ]
    }
   ],
   "source": [
    "print(data[data['user_score'] == 'tbd']['year_of_release'].value_counts())"
   ]
  },
  {
   "cell_type": "markdown",
   "metadata": {},
   "source": [
    "Как видим разброс в годах, в которых присутствует значение tbd c 1997 по 2016, причем основная масса этих пропусков приходится на 2002-2011 годы. На мой взгляд, адекватной замены этих пропусков нет: можно, например, для заполнения оценки пользователей сравнивать оценки пользователей на других платформах, но данные могут значительно отличаться. Поэтому , если мы не знаем точно, какая оценка пользователей у той или иной игры, оставим эти значения без изменений, единственное, для того, чтобы была возможность работать с данным столбцом и изменять тип данных, преобразуем tbd в NaN"
   ]
  },
  {
   "cell_type": "code",
   "execution_count": 26,
   "metadata": {},
   "outputs": [],
   "source": [
    "# заменим tbd на NaN\n",
    "data.loc[data['user_score'] == 'tbd', 'user_score'] = np.nan"
   ]
  },
  {
   "cell_type": "code",
   "execution_count": 27,
   "metadata": {},
   "outputs": [
    {
     "name": "stdout",
     "output_type": "stream",
     "text": [
      "7.8    324\n",
      "8      290\n",
      "8.2    282\n",
      "8.3    254\n",
      "8.5    253\n",
      "      ... \n",
      "1.5      2\n",
      "0.5      2\n",
      "0.2      2\n",
      "0        1\n",
      "9.7      1\n",
      "Name: user_score, Length: 95, dtype: int64\n"
     ]
    }
   ],
   "source": [
    "# посмотрим, есть ли tbd в уникальных значениях\n",
    "print(data['user_score'].value_counts())"
   ]
  },
  {
   "cell_type": "markdown",
   "metadata": {},
   "source": [
    "Tbd среди уникальных значений нет. Рассмотрим другие столбцы с пропусками."
   ]
  },
  {
   "cell_type": "markdown",
   "metadata": {},
   "source": [
    "Рассмотрим, какие пропуски есть в столбце critic_score и есть ли корреляция данного столбца с другими."
   ]
  },
  {
   "cell_type": "code",
   "execution_count": 28,
   "metadata": {},
   "outputs": [
    {
     "data": {
      "image/png": "[encoded data removed]",
      "text/plain": [
       "<Figure size 576x576 with 2 Axes>"
      ]
     },
     "metadata": {
      "needs_background": "light"
     },
     "output_type": "display_data"
    }
   ],
   "source": [
    "# посмотрим корреляцию с другими столбцами датасета\n",
    "plt.figure(figsize=(8, 8))\n",
    "sns.heatmap(data.corr(), annot=True, cmap='coolwarm')\n",
    "plt.show()"
   ]
  },
  {
   "cell_type": "code",
   "execution_count": 29,
   "metadata": {},
   "outputs": [
    {
     "data": {
      "text/html": [
       "<div>\n",
       "<style scoped>\n",
       "    .dataframe tbody tr th:only-of-type {\n",
       "        vertical-align: middle;\n",
       "    }\n",
       "\n",
       "    .dataframe tbody tr th {\n",
       "        vertical-align: top;\n",
       "    }\n",
       "\n",
       "    .dataframe thead th {\n",
       "        text-align: right;\n",
       "    }\n",
       "</style>\n",
       "<table border=\"1\" class=\"dataframe\">\n",
       "  <thead>\n",
       "    <tr style=\"text-align: right;\">\n",
       "      <th></th>\n",
       "      <th>name</th>\n",
       "      <th>platform</th>\n",
       "      <th>year_of_release</th>\n",
       "      <th>genre</th>\n",
       "      <th>na_sales</th>\n",
       "      <th>eu_sales</th>\n",
       "      <th>jp_sales</th>\n",
       "      <th>other_sales</th>\n",
       "      <th>critic_score</th>\n",
       "      <th>user_score</th>\n",
       "      <th>rating</th>\n",
       "    </tr>\n",
       "  </thead>\n",
       "  <tbody>\n",
       "    <tr>\n",
       "      <td>1</td>\n",
       "      <td>Super Mario Bros.</td>\n",
       "      <td>NES</td>\n",
       "      <td>1985.0</td>\n",
       "      <td>Platform</td>\n",
       "      <td>29080.0</td>\n",
       "      <td>3580.0</td>\n",
       "      <td>6810.0</td>\n",
       "      <td>770.0</td>\n",
       "      <td>NaN</td>\n",
       "      <td>NaN</td>\n",
       "      <td>NaN</td>\n",
       "    </tr>\n",
       "    <tr>\n",
       "      <td>4</td>\n",
       "      <td>Pokemon Red/Pokemon Blue</td>\n",
       "      <td>GB</td>\n",
       "      <td>1996.0</td>\n",
       "      <td>Role-Playing</td>\n",
       "      <td>11270.0</td>\n",
       "      <td>8890.0</td>\n",
       "      <td>10220.0</td>\n",
       "      <td>1000.0</td>\n",
       "      <td>NaN</td>\n",
       "      <td>NaN</td>\n",
       "      <td>NaN</td>\n",
       "    </tr>\n",
       "    <tr>\n",
       "      <td>5</td>\n",
       "      <td>Tetris</td>\n",
       "      <td>GB</td>\n",
       "      <td>1989.0</td>\n",
       "      <td>Puzzle</td>\n",
       "      <td>23200.0</td>\n",
       "      <td>2260.0</td>\n",
       "      <td>4220.0</td>\n",
       "      <td>580.0</td>\n",
       "      <td>NaN</td>\n",
       "      <td>NaN</td>\n",
       "      <td>NaN</td>\n",
       "    </tr>\n",
       "    <tr>\n",
       "      <td>9</td>\n",
       "      <td>Duck Hunt</td>\n",
       "      <td>NES</td>\n",
       "      <td>1984.0</td>\n",
       "      <td>Shooter</td>\n",
       "      <td>26930.0</td>\n",
       "      <td>630.0</td>\n",
       "      <td>280.0</td>\n",
       "      <td>470.0</td>\n",
       "      <td>NaN</td>\n",
       "      <td>NaN</td>\n",
       "      <td>NaN</td>\n",
       "    </tr>\n",
       "    <tr>\n",
       "      <td>10</td>\n",
       "      <td>Nintendogs</td>\n",
       "      <td>DS</td>\n",
       "      <td>2005.0</td>\n",
       "      <td>Simulation</td>\n",
       "      <td>9050.0</td>\n",
       "      <td>10950.0</td>\n",
       "      <td>1930.0</td>\n",
       "      <td>2740.0</td>\n",
       "      <td>NaN</td>\n",
       "      <td>NaN</td>\n",
       "      <td>NaN</td>\n",
       "    </tr>\n",
       "    <tr>\n",
       "      <td>...</td>\n",
       "      <td>...</td>\n",
       "      <td>...</td>\n",
       "      <td>...</td>\n",
       "      <td>...</td>\n",
       "      <td>...</td>\n",
       "      <td>...</td>\n",
       "      <td>...</td>\n",
       "      <td>...</td>\n",
       "      <td>...</td>\n",
       "      <td>...</td>\n",
       "      <td>...</td>\n",
       "    </tr>\n",
       "    <tr>\n",
       "      <td>16710</td>\n",
       "      <td>Samurai Warriors: Sanada Maru</td>\n",
       "      <td>PS3</td>\n",
       "      <td>2016.0</td>\n",
       "      <td>Action</td>\n",
       "      <td>0.0</td>\n",
       "      <td>0.0</td>\n",
       "      <td>10.0</td>\n",
       "      <td>0.0</td>\n",
       "      <td>NaN</td>\n",
       "      <td>NaN</td>\n",
       "      <td>NaN</td>\n",
       "    </tr>\n",
       "    <tr>\n",
       "      <td>16711</td>\n",
       "      <td>LMA Manager 2007</td>\n",
       "      <td>X360</td>\n",
       "      <td>2006.0</td>\n",
       "      <td>Sports</td>\n",
       "      <td>0.0</td>\n",
       "      <td>10.0</td>\n",
       "      <td>0.0</td>\n",
       "      <td>0.0</td>\n",
       "      <td>NaN</td>\n",
       "      <td>NaN</td>\n",
       "      <td>NaN</td>\n",
       "    </tr>\n",
       "    <tr>\n",
       "      <td>16712</td>\n",
       "      <td>Haitaka no Psychedelica</td>\n",
       "      <td>PSV</td>\n",
       "      <td>2016.0</td>\n",
       "      <td>Adventure</td>\n",
       "      <td>0.0</td>\n",
       "      <td>0.0</td>\n",
       "      <td>10.0</td>\n",
       "      <td>0.0</td>\n",
       "      <td>NaN</td>\n",
       "      <td>NaN</td>\n",
       "      <td>NaN</td>\n",
       "    </tr>\n",
       "    <tr>\n",
       "      <td>16713</td>\n",
       "      <td>Spirits &amp; Spells</td>\n",
       "      <td>GBA</td>\n",
       "      <td>2003.0</td>\n",
       "      <td>Platform</td>\n",
       "      <td>10.0</td>\n",
       "      <td>0.0</td>\n",
       "      <td>0.0</td>\n",
       "      <td>0.0</td>\n",
       "      <td>NaN</td>\n",
       "      <td>NaN</td>\n",
       "      <td>NaN</td>\n",
       "    </tr>\n",
       "    <tr>\n",
       "      <td>16714</td>\n",
       "      <td>Winning Post 8 2016</td>\n",
       "      <td>PSV</td>\n",
       "      <td>2016.0</td>\n",
       "      <td>Simulation</td>\n",
       "      <td>0.0</td>\n",
       "      <td>0.0</td>\n",
       "      <td>10.0</td>\n",
       "      <td>0.0</td>\n",
       "      <td>NaN</td>\n",
       "      <td>NaN</td>\n",
       "      <td>NaN</td>\n",
       "    </tr>\n",
       "  </tbody>\n",
       "</table>\n",
       "<p>8578 rows × 11 columns</p>\n",
       "</div>"
      ],
      "text/plain": [
       "                                name platform  year_of_release         genre  \\\n",
       "1                  Super Mario Bros.      NES           1985.0      Platform   \n",
       "4           Pokemon Red/Pokemon Blue       GB           1996.0  Role-Playing   \n",
       "5                             Tetris       GB           1989.0        Puzzle   \n",
       "9                          Duck Hunt      NES           1984.0       Shooter   \n",
       "10                        Nintendogs       DS           2005.0    Simulation   \n",
       "...                              ...      ...              ...           ...   \n",
       "16710  Samurai Warriors: Sanada Maru      PS3           2016.0        Action   \n",
       "16711               LMA Manager 2007     X360           2006.0        Sports   \n",
       "16712        Haitaka no Psychedelica      PSV           2016.0     Adventure   \n",
       "16713               Spirits & Spells      GBA           2003.0      Platform   \n",
       "16714            Winning Post 8 2016      PSV           2016.0    Simulation   \n",
       "\n",
       "       na_sales  eu_sales  jp_sales  other_sales  critic_score user_score  \\\n",
       "1       29080.0    3580.0    6810.0        770.0           NaN        NaN   \n",
       "4       11270.0    8890.0   10220.0       1000.0           NaN        NaN   \n",
       "5       23200.0    2260.0    4220.0        580.0           NaN        NaN   \n",
       "9       26930.0     630.0     280.0        470.0           NaN        NaN   \n",
       "10       9050.0   10950.0    1930.0       2740.0           NaN        NaN   \n",
       "...         ...       ...       ...          ...           ...        ...   \n",
       "16710       0.0       0.0      10.0          0.0           NaN        NaN   \n",
       "16711       0.0      10.0       0.0          0.0           NaN        NaN   \n",
       "16712       0.0       0.0      10.0          0.0           NaN        NaN   \n",
       "16713      10.0       0.0       0.0          0.0           NaN        NaN   \n",
       "16714       0.0       0.0      10.0          0.0           NaN        NaN   \n",
       "\n",
       "      rating  \n",
       "1        NaN  \n",
       "4        NaN  \n",
       "5        NaN  \n",
       "9        NaN  \n",
       "10       NaN  \n",
       "...      ...  \n",
       "16710    NaN  \n",
       "16711    NaN  \n",
       "16712    NaN  \n",
       "16713    NaN  \n",
       "16714    NaN  \n",
       "\n",
       "[8578 rows x 11 columns]"
      ]
     },
     "metadata": {},
     "output_type": "display_data"
    }
   ],
   "source": [
    "display(data[data['critic_score'].isna()])"
   ]
  },
  {
   "cell_type": "markdown",
   "metadata": {},
   "source": [
    "Как мы видим из приведенной коррелиции столбца critic_score сильной корреляции с другими столбцами нет, есть незначительная корреляция со столбцами - регионами продаж. Таким образом, пропуски в данном столбце заполнять не будем, так как, возможно, игры были непопулярные, или продавались в каких-то определенных регионах, или это были давнишние игры, в период их появления просто не делали никаких рейтингов, поэтому и оценки критиков по определенной игре нет. Обоснование данного вывода видно из таблицы выше, например, отсутствуют рейтинги по играм, релиз, которых был в 1984 или 1989 году, или продажи были небольшим количеством копий, 10 тыс и в одном определенном регионе, например, только na_sales или jp_sales."
   ]
  },
  {
   "cell_type": "markdown",
   "metadata": {},
   "source": [
    "Рассмотрим пропуски в столбце rating."
   ]
  },
  {
   "cell_type": "code",
   "execution_count": 30,
   "metadata": {},
   "outputs": [
    {
     "data": {
      "text/html": [
       "<div>\n",
       "<style scoped>\n",
       "    .dataframe tbody tr th:only-of-type {\n",
       "        vertical-align: middle;\n",
       "    }\n",
       "\n",
       "    .dataframe tbody tr th {\n",
       "        vertical-align: top;\n",
       "    }\n",
       "\n",
       "    .dataframe thead th {\n",
       "        text-align: right;\n",
       "    }\n",
       "</style>\n",
       "<table border=\"1\" class=\"dataframe\">\n",
       "  <thead>\n",
       "    <tr style=\"text-align: right;\">\n",
       "      <th></th>\n",
       "      <th>name</th>\n",
       "      <th>platform</th>\n",
       "      <th>year_of_release</th>\n",
       "      <th>genre</th>\n",
       "      <th>na_sales</th>\n",
       "      <th>eu_sales</th>\n",
       "      <th>jp_sales</th>\n",
       "      <th>other_sales</th>\n",
       "      <th>critic_score</th>\n",
       "      <th>user_score</th>\n",
       "      <th>rating</th>\n",
       "    </tr>\n",
       "  </thead>\n",
       "  <tbody>\n",
       "    <tr>\n",
       "      <td>1</td>\n",
       "      <td>Super Mario Bros.</td>\n",
       "      <td>NES</td>\n",
       "      <td>1985.0</td>\n",
       "      <td>Platform</td>\n",
       "      <td>29080.0</td>\n",
       "      <td>3580.0</td>\n",
       "      <td>6810.0</td>\n",
       "      <td>770.0</td>\n",
       "      <td>NaN</td>\n",
       "      <td>NaN</td>\n",
       "      <td>NaN</td>\n",
       "    </tr>\n",
       "    <tr>\n",
       "      <td>4</td>\n",
       "      <td>Pokemon Red/Pokemon Blue</td>\n",
       "      <td>GB</td>\n",
       "      <td>1996.0</td>\n",
       "      <td>Role-Playing</td>\n",
       "      <td>11270.0</td>\n",
       "      <td>8890.0</td>\n",
       "      <td>10220.0</td>\n",
       "      <td>1000.0</td>\n",
       "      <td>NaN</td>\n",
       "      <td>NaN</td>\n",
       "      <td>NaN</td>\n",
       "    </tr>\n",
       "    <tr>\n",
       "      <td>5</td>\n",
       "      <td>Tetris</td>\n",
       "      <td>GB</td>\n",
       "      <td>1989.0</td>\n",
       "      <td>Puzzle</td>\n",
       "      <td>23200.0</td>\n",
       "      <td>2260.0</td>\n",
       "      <td>4220.0</td>\n",
       "      <td>580.0</td>\n",
       "      <td>NaN</td>\n",
       "      <td>NaN</td>\n",
       "      <td>NaN</td>\n",
       "    </tr>\n",
       "    <tr>\n",
       "      <td>9</td>\n",
       "      <td>Duck Hunt</td>\n",
       "      <td>NES</td>\n",
       "      <td>1984.0</td>\n",
       "      <td>Shooter</td>\n",
       "      <td>26930.0</td>\n",
       "      <td>630.0</td>\n",
       "      <td>280.0</td>\n",
       "      <td>470.0</td>\n",
       "      <td>NaN</td>\n",
       "      <td>NaN</td>\n",
       "      <td>NaN</td>\n",
       "    </tr>\n",
       "    <tr>\n",
       "      <td>10</td>\n",
       "      <td>Nintendogs</td>\n",
       "      <td>DS</td>\n",
       "      <td>2005.0</td>\n",
       "      <td>Simulation</td>\n",
       "      <td>9050.0</td>\n",
       "      <td>10950.0</td>\n",
       "      <td>1930.0</td>\n",
       "      <td>2740.0</td>\n",
       "      <td>NaN</td>\n",
       "      <td>NaN</td>\n",
       "      <td>NaN</td>\n",
       "    </tr>\n",
       "    <tr>\n",
       "      <td>...</td>\n",
       "      <td>...</td>\n",
       "      <td>...</td>\n",
       "      <td>...</td>\n",
       "      <td>...</td>\n",
       "      <td>...</td>\n",
       "      <td>...</td>\n",
       "      <td>...</td>\n",
       "      <td>...</td>\n",
       "      <td>...</td>\n",
       "      <td>...</td>\n",
       "      <td>...</td>\n",
       "    </tr>\n",
       "    <tr>\n",
       "      <td>16710</td>\n",
       "      <td>Samurai Warriors: Sanada Maru</td>\n",
       "      <td>PS3</td>\n",
       "      <td>2016.0</td>\n",
       "      <td>Action</td>\n",
       "      <td>0.0</td>\n",
       "      <td>0.0</td>\n",
       "      <td>10.0</td>\n",
       "      <td>0.0</td>\n",
       "      <td>NaN</td>\n",
       "      <td>NaN</td>\n",
       "      <td>NaN</td>\n",
       "    </tr>\n",
       "    <tr>\n",
       "      <td>16711</td>\n",
       "      <td>LMA Manager 2007</td>\n",
       "      <td>X360</td>\n",
       "      <td>2006.0</td>\n",
       "      <td>Sports</td>\n",
       "      <td>0.0</td>\n",
       "      <td>10.0</td>\n",
       "      <td>0.0</td>\n",
       "      <td>0.0</td>\n",
       "      <td>NaN</td>\n",
       "      <td>NaN</td>\n",
       "      <td>NaN</td>\n",
       "    </tr>\n",
       "    <tr>\n",
       "      <td>16712</td>\n",
       "      <td>Haitaka no Psychedelica</td>\n",
       "      <td>PSV</td>\n",
       "      <td>2016.0</td>\n",
       "      <td>Adventure</td>\n",
       "      <td>0.0</td>\n",
       "      <td>0.0</td>\n",
       "      <td>10.0</td>\n",
       "      <td>0.0</td>\n",
       "      <td>NaN</td>\n",
       "      <td>NaN</td>\n",
       "      <td>NaN</td>\n",
       "    </tr>\n",
       "    <tr>\n",
       "      <td>16713</td>\n",
       "      <td>Spirits &amp; Spells</td>\n",
       "      <td>GBA</td>\n",
       "      <td>2003.0</td>\n",
       "      <td>Platform</td>\n",
       "      <td>10.0</td>\n",
       "      <td>0.0</td>\n",
       "      <td>0.0</td>\n",
       "      <td>0.0</td>\n",
       "      <td>NaN</td>\n",
       "      <td>NaN</td>\n",
       "      <td>NaN</td>\n",
       "    </tr>\n",
       "    <tr>\n",
       "      <td>16714</td>\n",
       "      <td>Winning Post 8 2016</td>\n",
       "      <td>PSV</td>\n",
       "      <td>2016.0</td>\n",
       "      <td>Simulation</td>\n",
       "      <td>0.0</td>\n",
       "      <td>0.0</td>\n",
       "      <td>10.0</td>\n",
       "      <td>0.0</td>\n",
       "      <td>NaN</td>\n",
       "      <td>NaN</td>\n",
       "      <td>NaN</td>\n",
       "    </tr>\n",
       "  </tbody>\n",
       "</table>\n",
       "<p>6766 rows × 11 columns</p>\n",
       "</div>"
      ],
      "text/plain": [
       "                                name platform  year_of_release         genre  \\\n",
       "1                  Super Mario Bros.      NES           1985.0      Platform   \n",
       "4           Pokemon Red/Pokemon Blue       GB           1996.0  Role-Playing   \n",
       "5                             Tetris       GB           1989.0        Puzzle   \n",
       "9                          Duck Hunt      NES           1984.0       Shooter   \n",
       "10                        Nintendogs       DS           2005.0    Simulation   \n",
       "...                              ...      ...              ...           ...   \n",
       "16710  Samurai Warriors: Sanada Maru      PS3           2016.0        Action   \n",
       "16711               LMA Manager 2007     X360           2006.0        Sports   \n",
       "16712        Haitaka no Psychedelica      PSV           2016.0     Adventure   \n",
       "16713               Spirits & Spells      GBA           2003.0      Platform   \n",
       "16714            Winning Post 8 2016      PSV           2016.0    Simulation   \n",
       "\n",
       "       na_sales  eu_sales  jp_sales  other_sales  critic_score user_score  \\\n",
       "1       29080.0    3580.0    6810.0        770.0           NaN        NaN   \n",
       "4       11270.0    8890.0   10220.0       1000.0           NaN        NaN   \n",
       "5       23200.0    2260.0    4220.0        580.0           NaN        NaN   \n",
       "9       26930.0     630.0     280.0        470.0           NaN        NaN   \n",
       "10       9050.0   10950.0    1930.0       2740.0           NaN        NaN   \n",
       "...         ...       ...       ...          ...           ...        ...   \n",
       "16710       0.0       0.0      10.0          0.0           NaN        NaN   \n",
       "16711       0.0      10.0       0.0          0.0           NaN        NaN   \n",
       "16712       0.0       0.0      10.0          0.0           NaN        NaN   \n",
       "16713      10.0       0.0       0.0          0.0           NaN        NaN   \n",
       "16714       0.0       0.0      10.0          0.0           NaN        NaN   \n",
       "\n",
       "      rating  \n",
       "1        NaN  \n",
       "4        NaN  \n",
       "5        NaN  \n",
       "9        NaN  \n",
       "10       NaN  \n",
       "...      ...  \n",
       "16710    NaN  \n",
       "16711    NaN  \n",
       "16712    NaN  \n",
       "16713    NaN  \n",
       "16714    NaN  \n",
       "\n",
       "[6766 rows x 11 columns]"
      ]
     },
     "metadata": {},
     "output_type": "display_data"
    }
   ],
   "source": [
    "# пропуски в столбце rating\n",
    "display(data[data['rating'].isna()])"
   ]
  },
  {
   "cell_type": "code",
   "execution_count": 31,
   "metadata": {},
   "outputs": [
    {
     "data": {
      "text/html": [
       "<div>\n",
       "<style scoped>\n",
       "    .dataframe tbody tr th:only-of-type {\n",
       "        vertical-align: middle;\n",
       "    }\n",
       "\n",
       "    .dataframe tbody tr th {\n",
       "        vertical-align: top;\n",
       "    }\n",
       "\n",
       "    .dataframe thead th {\n",
       "        text-align: right;\n",
       "    }\n",
       "</style>\n",
       "<table border=\"1\" class=\"dataframe\">\n",
       "  <thead>\n",
       "    <tr style=\"text-align: right;\">\n",
       "      <th></th>\n",
       "      <th>name</th>\n",
       "      <th>platform</th>\n",
       "      <th>year_of_release</th>\n",
       "      <th>genre</th>\n",
       "      <th>na_sales</th>\n",
       "      <th>eu_sales</th>\n",
       "      <th>jp_sales</th>\n",
       "      <th>other_sales</th>\n",
       "      <th>critic_score</th>\n",
       "      <th>user_score</th>\n",
       "      <th>rating</th>\n",
       "    </tr>\n",
       "  </thead>\n",
       "  <tbody>\n",
       "    <tr>\n",
       "      <td>108</td>\n",
       "      <td>Pokemon Sun/Moon</td>\n",
       "      <td>3DS</td>\n",
       "      <td>2016.0</td>\n",
       "      <td>Role-Playing</td>\n",
       "      <td>2980.0</td>\n",
       "      <td>1450.0</td>\n",
       "      <td>2260.0</td>\n",
       "      <td>450.0</td>\n",
       "      <td>NaN</td>\n",
       "      <td>NaN</td>\n",
       "      <td>NaN</td>\n",
       "    </tr>\n",
       "    <tr>\n",
       "      <td>1216</td>\n",
       "      <td>Ratchet &amp; Clank (2016)</td>\n",
       "      <td>PS4</td>\n",
       "      <td>2016.0</td>\n",
       "      <td>Platform</td>\n",
       "      <td>500.0</td>\n",
       "      <td>760.0</td>\n",
       "      <td>40.0</td>\n",
       "      <td>240.0</td>\n",
       "      <td>NaN</td>\n",
       "      <td>NaN</td>\n",
       "      <td>NaN</td>\n",
       "    </tr>\n",
       "    <tr>\n",
       "      <td>1275</td>\n",
       "      <td>Doom (2016)</td>\n",
       "      <td>PS4</td>\n",
       "      <td>2016.0</td>\n",
       "      <td>Shooter</td>\n",
       "      <td>540.0</td>\n",
       "      <td>690.0</td>\n",
       "      <td>20.0</td>\n",
       "      <td>240.0</td>\n",
       "      <td>NaN</td>\n",
       "      <td>NaN</td>\n",
       "      <td>NaN</td>\n",
       "    </tr>\n",
       "    <tr>\n",
       "      <td>1466</td>\n",
       "      <td>Yokai Watch 3</td>\n",
       "      <td>3DS</td>\n",
       "      <td>2016.0</td>\n",
       "      <td>Action</td>\n",
       "      <td>0.0</td>\n",
       "      <td>0.0</td>\n",
       "      <td>1330.0</td>\n",
       "      <td>0.0</td>\n",
       "      <td>NaN</td>\n",
       "      <td>NaN</td>\n",
       "      <td>NaN</td>\n",
       "    </tr>\n",
       "    <tr>\n",
       "      <td>1475</td>\n",
       "      <td>The Elder Scrolls V: Skyrim</td>\n",
       "      <td>PS4</td>\n",
       "      <td>2016.0</td>\n",
       "      <td>Role-Playing</td>\n",
       "      <td>480.0</td>\n",
       "      <td>590.0</td>\n",
       "      <td>40.0</td>\n",
       "      <td>210.0</td>\n",
       "      <td>NaN</td>\n",
       "      <td>NaN</td>\n",
       "      <td>NaN</td>\n",
       "    </tr>\n",
       "    <tr>\n",
       "      <td>...</td>\n",
       "      <td>...</td>\n",
       "      <td>...</td>\n",
       "      <td>...</td>\n",
       "      <td>...</td>\n",
       "      <td>...</td>\n",
       "      <td>...</td>\n",
       "      <td>...</td>\n",
       "      <td>...</td>\n",
       "      <td>...</td>\n",
       "      <td>...</td>\n",
       "      <td>...</td>\n",
       "    </tr>\n",
       "    <tr>\n",
       "      <td>16699</td>\n",
       "      <td>The Longest 5 Minutes</td>\n",
       "      <td>PSV</td>\n",
       "      <td>2016.0</td>\n",
       "      <td>Action</td>\n",
       "      <td>0.0</td>\n",
       "      <td>0.0</td>\n",
       "      <td>10.0</td>\n",
       "      <td>0.0</td>\n",
       "      <td>NaN</td>\n",
       "      <td>NaN</td>\n",
       "      <td>NaN</td>\n",
       "    </tr>\n",
       "    <tr>\n",
       "      <td>16703</td>\n",
       "      <td>Strawberry Nauts</td>\n",
       "      <td>PSV</td>\n",
       "      <td>2016.0</td>\n",
       "      <td>Adventure</td>\n",
       "      <td>0.0</td>\n",
       "      <td>0.0</td>\n",
       "      <td>10.0</td>\n",
       "      <td>0.0</td>\n",
       "      <td>NaN</td>\n",
       "      <td>NaN</td>\n",
       "      <td>NaN</td>\n",
       "    </tr>\n",
       "    <tr>\n",
       "      <td>16710</td>\n",
       "      <td>Samurai Warriors: Sanada Maru</td>\n",
       "      <td>PS3</td>\n",
       "      <td>2016.0</td>\n",
       "      <td>Action</td>\n",
       "      <td>0.0</td>\n",
       "      <td>0.0</td>\n",
       "      <td>10.0</td>\n",
       "      <td>0.0</td>\n",
       "      <td>NaN</td>\n",
       "      <td>NaN</td>\n",
       "      <td>NaN</td>\n",
       "    </tr>\n",
       "    <tr>\n",
       "      <td>16712</td>\n",
       "      <td>Haitaka no Psychedelica</td>\n",
       "      <td>PSV</td>\n",
       "      <td>2016.0</td>\n",
       "      <td>Adventure</td>\n",
       "      <td>0.0</td>\n",
       "      <td>0.0</td>\n",
       "      <td>10.0</td>\n",
       "      <td>0.0</td>\n",
       "      <td>NaN</td>\n",
       "      <td>NaN</td>\n",
       "      <td>NaN</td>\n",
       "    </tr>\n",
       "    <tr>\n",
       "      <td>16714</td>\n",
       "      <td>Winning Post 8 2016</td>\n",
       "      <td>PSV</td>\n",
       "      <td>2016.0</td>\n",
       "      <td>Simulation</td>\n",
       "      <td>0.0</td>\n",
       "      <td>0.0</td>\n",
       "      <td>10.0</td>\n",
       "      <td>0.0</td>\n",
       "      <td>NaN</td>\n",
       "      <td>NaN</td>\n",
       "      <td>NaN</td>\n",
       "    </tr>\n",
       "  </tbody>\n",
       "</table>\n",
       "<p>222 rows × 11 columns</p>\n",
       "</div>"
      ],
      "text/plain": [
       "                                name platform  year_of_release         genre  \\\n",
       "108                 Pokemon Sun/Moon      3DS           2016.0  Role-Playing   \n",
       "1216          Ratchet & Clank (2016)      PS4           2016.0      Platform   \n",
       "1275                     Doom (2016)      PS4           2016.0       Shooter   \n",
       "1466                   Yokai Watch 3      3DS           2016.0        Action   \n",
       "1475     The Elder Scrolls V: Skyrim      PS4           2016.0  Role-Playing   \n",
       "...                              ...      ...              ...           ...   \n",
       "16699          The Longest 5 Minutes      PSV           2016.0        Action   \n",
       "16703               Strawberry Nauts      PSV           2016.0     Adventure   \n",
       "16710  Samurai Warriors: Sanada Maru      PS3           2016.0        Action   \n",
       "16712        Haitaka no Psychedelica      PSV           2016.0     Adventure   \n",
       "16714            Winning Post 8 2016      PSV           2016.0    Simulation   \n",
       "\n",
       "       na_sales  eu_sales  jp_sales  other_sales  critic_score user_score  \\\n",
       "108      2980.0    1450.0    2260.0        450.0           NaN        NaN   \n",
       "1216      500.0     760.0      40.0        240.0           NaN        NaN   \n",
       "1275      540.0     690.0      20.0        240.0           NaN        NaN   \n",
       "1466        0.0       0.0    1330.0          0.0           NaN        NaN   \n",
       "1475      480.0     590.0      40.0        210.0           NaN        NaN   \n",
       "...         ...       ...       ...          ...           ...        ...   \n",
       "16699       0.0       0.0      10.0          0.0           NaN        NaN   \n",
       "16703       0.0       0.0      10.0          0.0           NaN        NaN   \n",
       "16710       0.0       0.0      10.0          0.0           NaN        NaN   \n",
       "16712       0.0       0.0      10.0          0.0           NaN        NaN   \n",
       "16714       0.0       0.0      10.0          0.0           NaN        NaN   \n",
       "\n",
       "      rating  \n",
       "108      NaN  \n",
       "1216     NaN  \n",
       "1275     NaN  \n",
       "1466     NaN  \n",
       "1475     NaN  \n",
       "...      ...  \n",
       "16699    NaN  \n",
       "16703    NaN  \n",
       "16710    NaN  \n",
       "16712    NaN  \n",
       "16714    NaN  \n",
       "\n",
       "[222 rows x 11 columns]"
      ]
     },
     "metadata": {},
     "output_type": "display_data"
    }
   ],
   "source": [
    "# количество игр с релизом в 2016 году\n",
    "display(data[(data['rating'].isna())&(data['year_of_release'] == 2016)])"
   ]
  },
  {
   "cell_type": "code",
   "execution_count": 32,
   "metadata": {},
   "outputs": [
    {
     "data": {
      "text/html": [
       "<div>\n",
       "<style scoped>\n",
       "    .dataframe tbody tr th:only-of-type {\n",
       "        vertical-align: middle;\n",
       "    }\n",
       "\n",
       "    .dataframe tbody tr th {\n",
       "        vertical-align: top;\n",
       "    }\n",
       "\n",
       "    .dataframe thead th {\n",
       "        text-align: right;\n",
       "    }\n",
       "</style>\n",
       "<table border=\"1\" class=\"dataframe\">\n",
       "  <thead>\n",
       "    <tr style=\"text-align: right;\">\n",
       "      <th></th>\n",
       "      <th>name</th>\n",
       "      <th>platform</th>\n",
       "      <th>year_of_release</th>\n",
       "      <th>genre</th>\n",
       "      <th>na_sales</th>\n",
       "      <th>eu_sales</th>\n",
       "      <th>jp_sales</th>\n",
       "      <th>other_sales</th>\n",
       "      <th>critic_score</th>\n",
       "      <th>user_score</th>\n",
       "      <th>rating</th>\n",
       "    </tr>\n",
       "  </thead>\n",
       "  <tbody>\n",
       "    <tr>\n",
       "      <td>1</td>\n",
       "      <td>Super Mario Bros.</td>\n",
       "      <td>NES</td>\n",
       "      <td>1985.0</td>\n",
       "      <td>Platform</td>\n",
       "      <td>29080.0</td>\n",
       "      <td>3580.0</td>\n",
       "      <td>6810.0</td>\n",
       "      <td>770.0</td>\n",
       "      <td>NaN</td>\n",
       "      <td>NaN</td>\n",
       "      <td>NaN</td>\n",
       "    </tr>\n",
       "    <tr>\n",
       "      <td>4</td>\n",
       "      <td>Pokemon Red/Pokemon Blue</td>\n",
       "      <td>GB</td>\n",
       "      <td>1996.0</td>\n",
       "      <td>Role-Playing</td>\n",
       "      <td>11270.0</td>\n",
       "      <td>8890.0</td>\n",
       "      <td>10220.0</td>\n",
       "      <td>1000.0</td>\n",
       "      <td>NaN</td>\n",
       "      <td>NaN</td>\n",
       "      <td>NaN</td>\n",
       "    </tr>\n",
       "    <tr>\n",
       "      <td>5</td>\n",
       "      <td>Tetris</td>\n",
       "      <td>GB</td>\n",
       "      <td>1989.0</td>\n",
       "      <td>Puzzle</td>\n",
       "      <td>23200.0</td>\n",
       "      <td>2260.0</td>\n",
       "      <td>4220.0</td>\n",
       "      <td>580.0</td>\n",
       "      <td>NaN</td>\n",
       "      <td>NaN</td>\n",
       "      <td>NaN</td>\n",
       "    </tr>\n",
       "    <tr>\n",
       "      <td>9</td>\n",
       "      <td>Duck Hunt</td>\n",
       "      <td>NES</td>\n",
       "      <td>1984.0</td>\n",
       "      <td>Shooter</td>\n",
       "      <td>26930.0</td>\n",
       "      <td>630.0</td>\n",
       "      <td>280.0</td>\n",
       "      <td>470.0</td>\n",
       "      <td>NaN</td>\n",
       "      <td>NaN</td>\n",
       "      <td>NaN</td>\n",
       "    </tr>\n",
       "    <tr>\n",
       "      <td>12</td>\n",
       "      <td>Pokemon Gold/Pokemon Silver</td>\n",
       "      <td>GB</td>\n",
       "      <td>1999.0</td>\n",
       "      <td>Role-Playing</td>\n",
       "      <td>9000.0</td>\n",
       "      <td>6180.0</td>\n",
       "      <td>7200.0</td>\n",
       "      <td>710.0</td>\n",
       "      <td>NaN</td>\n",
       "      <td>NaN</td>\n",
       "      <td>NaN</td>\n",
       "    </tr>\n",
       "    <tr>\n",
       "      <td>...</td>\n",
       "      <td>...</td>\n",
       "      <td>...</td>\n",
       "      <td>...</td>\n",
       "      <td>...</td>\n",
       "      <td>...</td>\n",
       "      <td>...</td>\n",
       "      <td>...</td>\n",
       "      <td>...</td>\n",
       "      <td>...</td>\n",
       "      <td>...</td>\n",
       "      <td>...</td>\n",
       "    </tr>\n",
       "    <tr>\n",
       "      <td>16666</td>\n",
       "      <td>Psychic Detective</td>\n",
       "      <td>PS</td>\n",
       "      <td>1995.0</td>\n",
       "      <td>Adventure</td>\n",
       "      <td>10.0</td>\n",
       "      <td>0.0</td>\n",
       "      <td>0.0</td>\n",
       "      <td>0.0</td>\n",
       "      <td>NaN</td>\n",
       "      <td>NaN</td>\n",
       "      <td>NaN</td>\n",
       "    </tr>\n",
       "    <tr>\n",
       "      <td>16693</td>\n",
       "      <td>PGA European Tour</td>\n",
       "      <td>N64</td>\n",
       "      <td>2000.0</td>\n",
       "      <td>Sports</td>\n",
       "      <td>10.0</td>\n",
       "      <td>0.0</td>\n",
       "      <td>0.0</td>\n",
       "      <td>0.0</td>\n",
       "      <td>NaN</td>\n",
       "      <td>NaN</td>\n",
       "      <td>NaN</td>\n",
       "    </tr>\n",
       "    <tr>\n",
       "      <td>16694</td>\n",
       "      <td>Carmageddon 64</td>\n",
       "      <td>N64</td>\n",
       "      <td>1999.0</td>\n",
       "      <td>Action</td>\n",
       "      <td>10.0</td>\n",
       "      <td>0.0</td>\n",
       "      <td>0.0</td>\n",
       "      <td>0.0</td>\n",
       "      <td>NaN</td>\n",
       "      <td>NaN</td>\n",
       "      <td>NaN</td>\n",
       "    </tr>\n",
       "    <tr>\n",
       "      <td>16708</td>\n",
       "      <td>Woody Woodpecker in Crazy Castle 5</td>\n",
       "      <td>GBA</td>\n",
       "      <td>2002.0</td>\n",
       "      <td>Platform</td>\n",
       "      <td>10.0</td>\n",
       "      <td>0.0</td>\n",
       "      <td>0.0</td>\n",
       "      <td>0.0</td>\n",
       "      <td>NaN</td>\n",
       "      <td>NaN</td>\n",
       "      <td>NaN</td>\n",
       "    </tr>\n",
       "    <tr>\n",
       "      <td>16713</td>\n",
       "      <td>Spirits &amp; Spells</td>\n",
       "      <td>GBA</td>\n",
       "      <td>2003.0</td>\n",
       "      <td>Platform</td>\n",
       "      <td>10.0</td>\n",
       "      <td>0.0</td>\n",
       "      <td>0.0</td>\n",
       "      <td>0.0</td>\n",
       "      <td>NaN</td>\n",
       "      <td>NaN</td>\n",
       "      <td>NaN</td>\n",
       "    </tr>\n",
       "  </tbody>\n",
       "</table>\n",
       "<p>2716 rows × 11 columns</p>\n",
       "</div>"
      ],
      "text/plain": [
       "                                     name platform  year_of_release  \\\n",
       "1                       Super Mario Bros.      NES           1985.0   \n",
       "4                Pokemon Red/Pokemon Blue       GB           1996.0   \n",
       "5                                  Tetris       GB           1989.0   \n",
       "9                               Duck Hunt      NES           1984.0   \n",
       "12            Pokemon Gold/Pokemon Silver       GB           1999.0   \n",
       "...                                   ...      ...              ...   \n",
       "16666                   Psychic Detective       PS           1995.0   \n",
       "16693                   PGA European Tour      N64           2000.0   \n",
       "16694                      Carmageddon 64      N64           1999.0   \n",
       "16708  Woody Woodpecker in Crazy Castle 5      GBA           2002.0   \n",
       "16713                    Spirits & Spells      GBA           2003.0   \n",
       "\n",
       "              genre  na_sales  eu_sales  jp_sales  other_sales  critic_score  \\\n",
       "1          Platform   29080.0    3580.0    6810.0        770.0           NaN   \n",
       "4      Role-Playing   11270.0    8890.0   10220.0       1000.0           NaN   \n",
       "5            Puzzle   23200.0    2260.0    4220.0        580.0           NaN   \n",
       "9           Shooter   26930.0     630.0     280.0        470.0           NaN   \n",
       "12     Role-Playing    9000.0    6180.0    7200.0        710.0           NaN   \n",
       "...             ...       ...       ...       ...          ...           ...   \n",
       "16666     Adventure      10.0       0.0       0.0          0.0           NaN   \n",
       "16693        Sports      10.0       0.0       0.0          0.0           NaN   \n",
       "16694        Action      10.0       0.0       0.0          0.0           NaN   \n",
       "16708      Platform      10.0       0.0       0.0          0.0           NaN   \n",
       "16713      Platform      10.0       0.0       0.0          0.0           NaN   \n",
       "\n",
       "      user_score rating  \n",
       "1            NaN    NaN  \n",
       "4            NaN    NaN  \n",
       "5            NaN    NaN  \n",
       "9            NaN    NaN  \n",
       "12           NaN    NaN  \n",
       "...          ...    ...  \n",
       "16666        NaN    NaN  \n",
       "16693        NaN    NaN  \n",
       "16694        NaN    NaN  \n",
       "16708        NaN    NaN  \n",
       "16713        NaN    NaN  \n",
       "\n",
       "[2716 rows x 11 columns]"
      ]
     },
     "metadata": {},
     "output_type": "display_data"
    }
   ],
   "source": [
    "# рассмотрим пропуски в столбце reting в зависимости от года релиза\n",
    "display(data[(data['rating'].isna())&(data['year_of_release'] < 2005)])"
   ]
  },
  {
   "cell_type": "code",
   "execution_count": 33,
   "metadata": {},
   "outputs": [
    {
     "data": {
      "text/html": [
       "<div>\n",
       "<style scoped>\n",
       "    .dataframe tbody tr th:only-of-type {\n",
       "        vertical-align: middle;\n",
       "    }\n",
       "\n",
       "    .dataframe tbody tr th {\n",
       "        vertical-align: top;\n",
       "    }\n",
       "\n",
       "    .dataframe thead th {\n",
       "        text-align: right;\n",
       "    }\n",
       "</style>\n",
       "<table border=\"1\" class=\"dataframe\">\n",
       "  <thead>\n",
       "    <tr style=\"text-align: right;\">\n",
       "      <th></th>\n",
       "      <th>name</th>\n",
       "      <th>platform</th>\n",
       "      <th>year_of_release</th>\n",
       "      <th>genre</th>\n",
       "      <th>na_sales</th>\n",
       "      <th>eu_sales</th>\n",
       "      <th>jp_sales</th>\n",
       "      <th>other_sales</th>\n",
       "      <th>critic_score</th>\n",
       "      <th>user_score</th>\n",
       "      <th>rating</th>\n",
       "    </tr>\n",
       "  </thead>\n",
       "  <tbody>\n",
       "    <tr>\n",
       "      <td>72</td>\n",
       "      <td>Minecraft</td>\n",
       "      <td>X360</td>\n",
       "      <td>2013.0</td>\n",
       "      <td>Misc</td>\n",
       "      <td>5700.0</td>\n",
       "      <td>2650.0</td>\n",
       "      <td>20.0</td>\n",
       "      <td>810.0</td>\n",
       "      <td>NaN</td>\n",
       "      <td>NaN</td>\n",
       "      <td>NaN</td>\n",
       "    </tr>\n",
       "    <tr>\n",
       "      <td>89</td>\n",
       "      <td>Pac-Man</td>\n",
       "      <td>2600</td>\n",
       "      <td>1982.0</td>\n",
       "      <td>Puzzle</td>\n",
       "      <td>7280.0</td>\n",
       "      <td>450.0</td>\n",
       "      <td>0.0</td>\n",
       "      <td>80.0</td>\n",
       "      <td>NaN</td>\n",
       "      <td>NaN</td>\n",
       "      <td>NaN</td>\n",
       "    </tr>\n",
       "    <tr>\n",
       "      <td>99</td>\n",
       "      <td>Call of Duty: Black Ops 3</td>\n",
       "      <td>XOne</td>\n",
       "      <td>2015.0</td>\n",
       "      <td>Shooter</td>\n",
       "      <td>4590.0</td>\n",
       "      <td>2110.0</td>\n",
       "      <td>10.0</td>\n",
       "      <td>680.0</td>\n",
       "      <td>NaN</td>\n",
       "      <td>NaN</td>\n",
       "      <td>NaN</td>\n",
       "    </tr>\n",
       "    <tr>\n",
       "      <td>180</td>\n",
       "      <td>Minecraft</td>\n",
       "      <td>PS3</td>\n",
       "      <td>2014.0</td>\n",
       "      <td>Misc</td>\n",
       "      <td>2030.0</td>\n",
       "      <td>2370.0</td>\n",
       "      <td>0.0</td>\n",
       "      <td>870.0</td>\n",
       "      <td>NaN</td>\n",
       "      <td>NaN</td>\n",
       "      <td>NaN</td>\n",
       "    </tr>\n",
       "    <tr>\n",
       "      <td>195</td>\n",
       "      <td>Microsoft Flight Simulator</td>\n",
       "      <td>PC</td>\n",
       "      <td>1996.0</td>\n",
       "      <td>Simulation</td>\n",
       "      <td>3220.0</td>\n",
       "      <td>1690.0</td>\n",
       "      <td>0.0</td>\n",
       "      <td>200.0</td>\n",
       "      <td>NaN</td>\n",
       "      <td>NaN</td>\n",
       "      <td>NaN</td>\n",
       "    </tr>\n",
       "    <tr>\n",
       "      <td>...</td>\n",
       "      <td>...</td>\n",
       "      <td>...</td>\n",
       "      <td>...</td>\n",
       "      <td>...</td>\n",
       "      <td>...</td>\n",
       "      <td>...</td>\n",
       "      <td>...</td>\n",
       "      <td>...</td>\n",
       "      <td>...</td>\n",
       "      <td>...</td>\n",
       "      <td>...</td>\n",
       "    </tr>\n",
       "    <tr>\n",
       "      <td>16710</td>\n",
       "      <td>Samurai Warriors: Sanada Maru</td>\n",
       "      <td>PS3</td>\n",
       "      <td>2016.0</td>\n",
       "      <td>Action</td>\n",
       "      <td>0.0</td>\n",
       "      <td>0.0</td>\n",
       "      <td>10.0</td>\n",
       "      <td>0.0</td>\n",
       "      <td>NaN</td>\n",
       "      <td>NaN</td>\n",
       "      <td>NaN</td>\n",
       "    </tr>\n",
       "    <tr>\n",
       "      <td>16711</td>\n",
       "      <td>LMA Manager 2007</td>\n",
       "      <td>X360</td>\n",
       "      <td>2006.0</td>\n",
       "      <td>Sports</td>\n",
       "      <td>0.0</td>\n",
       "      <td>10.0</td>\n",
       "      <td>0.0</td>\n",
       "      <td>0.0</td>\n",
       "      <td>NaN</td>\n",
       "      <td>NaN</td>\n",
       "      <td>NaN</td>\n",
       "    </tr>\n",
       "    <tr>\n",
       "      <td>16712</td>\n",
       "      <td>Haitaka no Psychedelica</td>\n",
       "      <td>PSV</td>\n",
       "      <td>2016.0</td>\n",
       "      <td>Adventure</td>\n",
       "      <td>0.0</td>\n",
       "      <td>0.0</td>\n",
       "      <td>10.0</td>\n",
       "      <td>0.0</td>\n",
       "      <td>NaN</td>\n",
       "      <td>NaN</td>\n",
       "      <td>NaN</td>\n",
       "    </tr>\n",
       "    <tr>\n",
       "      <td>16713</td>\n",
       "      <td>Spirits &amp; Spells</td>\n",
       "      <td>GBA</td>\n",
       "      <td>2003.0</td>\n",
       "      <td>Platform</td>\n",
       "      <td>10.0</td>\n",
       "      <td>0.0</td>\n",
       "      <td>0.0</td>\n",
       "      <td>0.0</td>\n",
       "      <td>NaN</td>\n",
       "      <td>NaN</td>\n",
       "      <td>NaN</td>\n",
       "    </tr>\n",
       "    <tr>\n",
       "      <td>16714</td>\n",
       "      <td>Winning Post 8 2016</td>\n",
       "      <td>PSV</td>\n",
       "      <td>2016.0</td>\n",
       "      <td>Simulation</td>\n",
       "      <td>0.0</td>\n",
       "      <td>0.0</td>\n",
       "      <td>10.0</td>\n",
       "      <td>0.0</td>\n",
       "      <td>NaN</td>\n",
       "      <td>NaN</td>\n",
       "      <td>NaN</td>\n",
       "    </tr>\n",
       "  </tbody>\n",
       "</table>\n",
       "<p>4474 rows × 11 columns</p>\n",
       "</div>"
      ],
      "text/plain": [
       "                                name platform  year_of_release       genre  \\\n",
       "72                         Minecraft     X360           2013.0        Misc   \n",
       "89                           Pac-Man     2600           1982.0      Puzzle   \n",
       "99         Call of Duty: Black Ops 3     XOne           2015.0     Shooter   \n",
       "180                        Minecraft      PS3           2014.0        Misc   \n",
       "195       Microsoft Flight Simulator       PC           1996.0  Simulation   \n",
       "...                              ...      ...              ...         ...   \n",
       "16710  Samurai Warriors: Sanada Maru      PS3           2016.0      Action   \n",
       "16711               LMA Manager 2007     X360           2006.0      Sports   \n",
       "16712        Haitaka no Psychedelica      PSV           2016.0   Adventure   \n",
       "16713               Spirits & Spells      GBA           2003.0    Platform   \n",
       "16714            Winning Post 8 2016      PSV           2016.0  Simulation   \n",
       "\n",
       "       na_sales  eu_sales  jp_sales  other_sales  critic_score user_score  \\\n",
       "72       5700.0    2650.0      20.0        810.0           NaN        NaN   \n",
       "89       7280.0     450.0       0.0         80.0           NaN        NaN   \n",
       "99       4590.0    2110.0      10.0        680.0           NaN        NaN   \n",
       "180      2030.0    2370.0       0.0        870.0           NaN        NaN   \n",
       "195      3220.0    1690.0       0.0        200.0           NaN        NaN   \n",
       "...         ...       ...       ...          ...           ...        ...   \n",
       "16710       0.0       0.0      10.0          0.0           NaN        NaN   \n",
       "16711       0.0      10.0       0.0          0.0           NaN        NaN   \n",
       "16712       0.0       0.0      10.0          0.0           NaN        NaN   \n",
       "16713      10.0       0.0       0.0          0.0           NaN        NaN   \n",
       "16714       0.0       0.0      10.0          0.0           NaN        NaN   \n",
       "\n",
       "      rating  \n",
       "72       NaN  \n",
       "89       NaN  \n",
       "99       NaN  \n",
       "180      NaN  \n",
       "195      NaN  \n",
       "...      ...  \n",
       "16710    NaN  \n",
       "16711    NaN  \n",
       "16712    NaN  \n",
       "16713    NaN  \n",
       "16714    NaN  \n",
       "\n",
       "[4474 rows x 11 columns]"
      ]
     },
     "metadata": {},
     "output_type": "display_data"
    }
   ],
   "source": [
    "# рассмотрим рейтинг в зависимости от объемов продаж\n",
    "display(data[(data['rating'].isna())&(data['jp_sales'] < 60)])"
   ]
  },
  {
   "cell_type": "markdown",
   "metadata": {},
   "source": [
    "Как видим, со столбцом rating ситуация аналогичная, как и со столбцом critic_score, в столбце rating пропуски связаны с годом релиза игры. Так, напрмер в США ESRB рейтинг публикуют с 2005 года, соответственно до этого года информация о рейтингах отсутствует. Также рейтингов нет в данных за 2016 год, возможно, эти данные еще не загружены. После 2005 года в большинстве игр, если релиз проходил в штатах должен быть указан рейтинг. В нашем случае, можно найти рейтинги для некоторых игр, поэтому нужно отправить на доработку датасет, чтобы была указана актуальная информация. Но для анализа заполним пропуски на \"нет данных\", скорее всего, эти данных нам могут пригодиться"
   ]
  },
  {
   "cell_type": "code",
   "execution_count": 34,
   "metadata": {},
   "outputs": [],
   "source": [
    "# заполним пропуски в графе rating на 'нет данных'\n",
    "data['rating'] = data['rating'].fillna('нет данных')"
   ]
  },
  {
   "cell_type": "markdown",
   "metadata": {},
   "source": [
    "Рассмотрим столбец year_of_release."
   ]
  },
  {
   "cell_type": "code",
   "execution_count": 35,
   "metadata": {},
   "outputs": [
    {
     "data": {
      "text/html": [
       "<div>\n",
       "<style scoped>\n",
       "    .dataframe tbody tr th:only-of-type {\n",
       "        vertical-align: middle;\n",
       "    }\n",
       "\n",
       "    .dataframe tbody tr th {\n",
       "        vertical-align: top;\n",
       "    }\n",
       "\n",
       "    .dataframe thead th {\n",
       "        text-align: right;\n",
       "    }\n",
       "</style>\n",
       "<table border=\"1\" class=\"dataframe\">\n",
       "  <thead>\n",
       "    <tr style=\"text-align: right;\">\n",
       "      <th></th>\n",
       "      <th>name</th>\n",
       "      <th>platform</th>\n",
       "      <th>year_of_release</th>\n",
       "      <th>genre</th>\n",
       "      <th>na_sales</th>\n",
       "      <th>eu_sales</th>\n",
       "      <th>jp_sales</th>\n",
       "      <th>other_sales</th>\n",
       "      <th>critic_score</th>\n",
       "      <th>user_score</th>\n",
       "      <th>rating</th>\n",
       "    </tr>\n",
       "  </thead>\n",
       "  <tbody>\n",
       "    <tr>\n",
       "      <td>183</td>\n",
       "      <td>Madden NFL 2004</td>\n",
       "      <td>PS2</td>\n",
       "      <td>NaN</td>\n",
       "      <td>Sports</td>\n",
       "      <td>4260.0</td>\n",
       "      <td>260.0</td>\n",
       "      <td>10.0</td>\n",
       "      <td>710.0</td>\n",
       "      <td>94.0</td>\n",
       "      <td>8.5</td>\n",
       "      <td>E</td>\n",
       "    </tr>\n",
       "    <tr>\n",
       "      <td>377</td>\n",
       "      <td>FIFA Soccer 2004</td>\n",
       "      <td>PS2</td>\n",
       "      <td>NaN</td>\n",
       "      <td>Sports</td>\n",
       "      <td>590.0</td>\n",
       "      <td>2360.0</td>\n",
       "      <td>40.0</td>\n",
       "      <td>510.0</td>\n",
       "      <td>84.0</td>\n",
       "      <td>6.4</td>\n",
       "      <td>E</td>\n",
       "    </tr>\n",
       "    <tr>\n",
       "      <td>456</td>\n",
       "      <td>LEGO Batman: The Videogame</td>\n",
       "      <td>Wii</td>\n",
       "      <td>NaN</td>\n",
       "      <td>Action</td>\n",
       "      <td>1800.0</td>\n",
       "      <td>970.0</td>\n",
       "      <td>0.0</td>\n",
       "      <td>290.0</td>\n",
       "      <td>74.0</td>\n",
       "      <td>7.9</td>\n",
       "      <td>E10+</td>\n",
       "    </tr>\n",
       "    <tr>\n",
       "      <td>475</td>\n",
       "      <td>wwe Smackdown vs. Raw 2006</td>\n",
       "      <td>PS2</td>\n",
       "      <td>NaN</td>\n",
       "      <td>Fighting</td>\n",
       "      <td>1570.0</td>\n",
       "      <td>1020.0</td>\n",
       "      <td>0.0</td>\n",
       "      <td>410.0</td>\n",
       "      <td>NaN</td>\n",
       "      <td>NaN</td>\n",
       "      <td>нет данных</td>\n",
       "    </tr>\n",
       "    <tr>\n",
       "      <td>609</td>\n",
       "      <td>Space Invaders</td>\n",
       "      <td>2600</td>\n",
       "      <td>NaN</td>\n",
       "      <td>Shooter</td>\n",
       "      <td>2360.0</td>\n",
       "      <td>140.0</td>\n",
       "      <td>0.0</td>\n",
       "      <td>30.0</td>\n",
       "      <td>NaN</td>\n",
       "      <td>NaN</td>\n",
       "      <td>нет данных</td>\n",
       "    </tr>\n",
       "    <tr>\n",
       "      <td>...</td>\n",
       "      <td>...</td>\n",
       "      <td>...</td>\n",
       "      <td>...</td>\n",
       "      <td>...</td>\n",
       "      <td>...</td>\n",
       "      <td>...</td>\n",
       "      <td>...</td>\n",
       "      <td>...</td>\n",
       "      <td>...</td>\n",
       "      <td>...</td>\n",
       "      <td>...</td>\n",
       "    </tr>\n",
       "    <tr>\n",
       "      <td>16373</td>\n",
       "      <td>PDC World Championship Darts 2008</td>\n",
       "      <td>PSP</td>\n",
       "      <td>NaN</td>\n",
       "      <td>Sports</td>\n",
       "      <td>10.0</td>\n",
       "      <td>0.0</td>\n",
       "      <td>0.0</td>\n",
       "      <td>0.0</td>\n",
       "      <td>43.0</td>\n",
       "      <td>NaN</td>\n",
       "      <td>E10+</td>\n",
       "    </tr>\n",
       "    <tr>\n",
       "      <td>16405</td>\n",
       "      <td>Freaky Flyers</td>\n",
       "      <td>GC</td>\n",
       "      <td>NaN</td>\n",
       "      <td>Racing</td>\n",
       "      <td>10.0</td>\n",
       "      <td>0.0</td>\n",
       "      <td>0.0</td>\n",
       "      <td>0.0</td>\n",
       "      <td>69.0</td>\n",
       "      <td>6.5</td>\n",
       "      <td>T</td>\n",
       "    </tr>\n",
       "    <tr>\n",
       "      <td>16448</td>\n",
       "      <td>Inversion</td>\n",
       "      <td>PC</td>\n",
       "      <td>NaN</td>\n",
       "      <td>Shooter</td>\n",
       "      <td>10.0</td>\n",
       "      <td>0.0</td>\n",
       "      <td>0.0</td>\n",
       "      <td>0.0</td>\n",
       "      <td>59.0</td>\n",
       "      <td>6.7</td>\n",
       "      <td>M</td>\n",
       "    </tr>\n",
       "    <tr>\n",
       "      <td>16458</td>\n",
       "      <td>Hakuouki: Shinsengumi Kitan</td>\n",
       "      <td>PS3</td>\n",
       "      <td>NaN</td>\n",
       "      <td>Adventure</td>\n",
       "      <td>10.0</td>\n",
       "      <td>0.0</td>\n",
       "      <td>0.0</td>\n",
       "      <td>0.0</td>\n",
       "      <td>NaN</td>\n",
       "      <td>NaN</td>\n",
       "      <td>нет данных</td>\n",
       "    </tr>\n",
       "    <tr>\n",
       "      <td>16522</td>\n",
       "      <td>Virtua Quest</td>\n",
       "      <td>GC</td>\n",
       "      <td>NaN</td>\n",
       "      <td>Role-Playing</td>\n",
       "      <td>10.0</td>\n",
       "      <td>0.0</td>\n",
       "      <td>0.0</td>\n",
       "      <td>0.0</td>\n",
       "      <td>55.0</td>\n",
       "      <td>5.5</td>\n",
       "      <td>T</td>\n",
       "    </tr>\n",
       "  </tbody>\n",
       "</table>\n",
       "<p>269 rows × 11 columns</p>\n",
       "</div>"
      ],
      "text/plain": [
       "                                    name platform  year_of_release  \\\n",
       "183                      Madden NFL 2004      PS2              NaN   \n",
       "377                     FIFA Soccer 2004      PS2              NaN   \n",
       "456           LEGO Batman: The Videogame      Wii              NaN   \n",
       "475           wwe Smackdown vs. Raw 2006      PS2              NaN   \n",
       "609                       Space Invaders     2600              NaN   \n",
       "...                                  ...      ...              ...   \n",
       "16373  PDC World Championship Darts 2008      PSP              NaN   \n",
       "16405                      Freaky Flyers       GC              NaN   \n",
       "16448                          Inversion       PC              NaN   \n",
       "16458        Hakuouki: Shinsengumi Kitan      PS3              NaN   \n",
       "16522                       Virtua Quest       GC              NaN   \n",
       "\n",
       "              genre  na_sales  eu_sales  jp_sales  other_sales  critic_score  \\\n",
       "183          Sports    4260.0     260.0      10.0        710.0          94.0   \n",
       "377          Sports     590.0    2360.0      40.0        510.0          84.0   \n",
       "456          Action    1800.0     970.0       0.0        290.0          74.0   \n",
       "475        Fighting    1570.0    1020.0       0.0        410.0           NaN   \n",
       "609         Shooter    2360.0     140.0       0.0         30.0           NaN   \n",
       "...             ...       ...       ...       ...          ...           ...   \n",
       "16373        Sports      10.0       0.0       0.0          0.0          43.0   \n",
       "16405        Racing      10.0       0.0       0.0          0.0          69.0   \n",
       "16448       Shooter      10.0       0.0       0.0          0.0          59.0   \n",
       "16458     Adventure      10.0       0.0       0.0          0.0           NaN   \n",
       "16522  Role-Playing      10.0       0.0       0.0          0.0          55.0   \n",
       "\n",
       "      user_score      rating  \n",
       "183          8.5           E  \n",
       "377          6.4           E  \n",
       "456          7.9        E10+  \n",
       "475          NaN  нет данных  \n",
       "609          NaN  нет данных  \n",
       "...          ...         ...  \n",
       "16373        NaN        E10+  \n",
       "16405        6.5           T  \n",
       "16448        6.7           M  \n",
       "16458        NaN  нет данных  \n",
       "16522        5.5           T  \n",
       "\n",
       "[269 rows x 11 columns]"
      ]
     },
     "metadata": {},
     "output_type": "display_data"
    }
   ],
   "source": [
    "display(data[data['year_of_release'].isna()])"
   ]
  },
  {
   "cell_type": "markdown",
   "metadata": {},
   "source": [
    "В данном столбце можно было бы попытаться заполнить пропуски, исходя из названий игр, если в них есть годы. Но это не гарантирует, что данные годы совпадают с годами релиза. Кроме того, процент пропусков небольшой 1,61%, поэтому, на мой взгляд данный столбец можно оставить без заполнения пропусков. Информацию о годе релиза нужно уточнить у тех, кто предоставлял датасет для анализа, или можно, например, самостоятельно искать даты релиза в интернете. Но опять же не всю информацию можно найти."
   ]
  },
  {
   "cell_type": "markdown",
   "metadata": {},
   "source": [
    "Таким образом, мы посмотрели все пропуски, приняли во внимание, что практически все пропуски нужно оставить без изменений, чтобы не было искажений в данных. По работе с пропусками, необходимо уточнить информацию о том, где брать данные по пропущенным значениям. Также обработали tbd, теперь можно приступить к изменению типа в некоторых столбцах."
   ]
  },
  {
   "cell_type": "markdown",
   "metadata": {},
   "source": [
    "### Изменение типа данных в столбцах"
   ]
  },
  {
   "cell_type": "markdown",
   "metadata": {},
   "source": [
    "Как мы выяснили ранее в некоторых столбцах необходимо осуществить изменение типа данных:\n",
    "1. столбец year_of_release из float преобразовать в Int64, так как имеются пропуски\n",
    "2. столбец critic_score из float преобразовать в Int64\n",
    "3. столбец user_score из object преобразовать в float64"
   ]
  },
  {
   "cell_type": "code",
   "execution_count": 36,
   "metadata": {},
   "outputs": [],
   "source": [
    "# преобразуем тип данных в столбце year_of_release\n",
    "data['year_of_release'] = data['year_of_release'].astype('Int64')"
   ]
  },
  {
   "cell_type": "code",
   "execution_count": 37,
   "metadata": {},
   "outputs": [],
   "source": [
    "# преобразуем тип данных в столбце critic_score\n",
    "data['critic_score'] = data['critic_score'].astype('Int64')"
   ]
  },
  {
   "cell_type": "code",
   "execution_count": 38,
   "metadata": {},
   "outputs": [],
   "source": [
    "# преобразуем тип данных в столбце user_score\n",
    "data['user_score'] = data['user_score'].astype('float64')"
   ]
  },
  {
   "cell_type": "code",
   "execution_count": 39,
   "metadata": {},
   "outputs": [
    {
     "data": {
      "text/html": [
       "<div>\n",
       "<style scoped>\n",
       "    .dataframe tbody tr th:only-of-type {\n",
       "        vertical-align: middle;\n",
       "    }\n",
       "\n",
       "    .dataframe tbody tr th {\n",
       "        vertical-align: top;\n",
       "    }\n",
       "\n",
       "    .dataframe thead th {\n",
       "        text-align: right;\n",
       "    }\n",
       "</style>\n",
       "<table border=\"1\" class=\"dataframe\">\n",
       "  <thead>\n",
       "    <tr style=\"text-align: right;\">\n",
       "      <th></th>\n",
       "      <th>name</th>\n",
       "      <th>platform</th>\n",
       "      <th>year_of_release</th>\n",
       "      <th>genre</th>\n",
       "      <th>na_sales</th>\n",
       "      <th>eu_sales</th>\n",
       "      <th>jp_sales</th>\n",
       "      <th>other_sales</th>\n",
       "      <th>critic_score</th>\n",
       "      <th>user_score</th>\n",
       "      <th>rating</th>\n",
       "    </tr>\n",
       "  </thead>\n",
       "  <tbody>\n",
       "    <tr>\n",
       "      <td>0</td>\n",
       "      <td>Wii Sports</td>\n",
       "      <td>Wii</td>\n",
       "      <td>2006</td>\n",
       "      <td>Sports</td>\n",
       "      <td>41360.0</td>\n",
       "      <td>28960.0</td>\n",
       "      <td>3770.0</td>\n",
       "      <td>8450.0</td>\n",
       "      <td>76</td>\n",
       "      <td>8.0</td>\n",
       "      <td>E</td>\n",
       "    </tr>\n",
       "    <tr>\n",
       "      <td>1</td>\n",
       "      <td>Super Mario Bros.</td>\n",
       "      <td>NES</td>\n",
       "      <td>1985</td>\n",
       "      <td>Platform</td>\n",
       "      <td>29080.0</td>\n",
       "      <td>3580.0</td>\n",
       "      <td>6810.0</td>\n",
       "      <td>770.0</td>\n",
       "      <td>NaN</td>\n",
       "      <td>NaN</td>\n",
       "      <td>нет данных</td>\n",
       "    </tr>\n",
       "    <tr>\n",
       "      <td>2</td>\n",
       "      <td>Mario Kart Wii</td>\n",
       "      <td>Wii</td>\n",
       "      <td>2008</td>\n",
       "      <td>Racing</td>\n",
       "      <td>15680.0</td>\n",
       "      <td>12760.0</td>\n",
       "      <td>3790.0</td>\n",
       "      <td>3290.0</td>\n",
       "      <td>82</td>\n",
       "      <td>8.3</td>\n",
       "      <td>E</td>\n",
       "    </tr>\n",
       "    <tr>\n",
       "      <td>3</td>\n",
       "      <td>Wii Sports Resort</td>\n",
       "      <td>Wii</td>\n",
       "      <td>2009</td>\n",
       "      <td>Sports</td>\n",
       "      <td>15610.0</td>\n",
       "      <td>10930.0</td>\n",
       "      <td>3280.0</td>\n",
       "      <td>2950.0</td>\n",
       "      <td>80</td>\n",
       "      <td>8.0</td>\n",
       "      <td>E</td>\n",
       "    </tr>\n",
       "    <tr>\n",
       "      <td>4</td>\n",
       "      <td>Pokemon Red/Pokemon Blue</td>\n",
       "      <td>GB</td>\n",
       "      <td>1996</td>\n",
       "      <td>Role-Playing</td>\n",
       "      <td>11270.0</td>\n",
       "      <td>8890.0</td>\n",
       "      <td>10220.0</td>\n",
       "      <td>1000.0</td>\n",
       "      <td>NaN</td>\n",
       "      <td>NaN</td>\n",
       "      <td>нет данных</td>\n",
       "    </tr>\n",
       "  </tbody>\n",
       "</table>\n",
       "</div>"
      ],
      "text/plain": [
       "                       name platform  year_of_release         genre  na_sales  \\\n",
       "0                Wii Sports      Wii             2006        Sports   41360.0   \n",
       "1         Super Mario Bros.      NES             1985      Platform   29080.0   \n",
       "2            Mario Kart Wii      Wii             2008        Racing   15680.0   \n",
       "3         Wii Sports Resort      Wii             2009        Sports   15610.0   \n",
       "4  Pokemon Red/Pokemon Blue       GB             1996  Role-Playing   11270.0   \n",
       "\n",
       "   eu_sales  jp_sales  other_sales  critic_score  user_score      rating  \n",
       "0   28960.0    3770.0       8450.0            76         8.0           E  \n",
       "1    3580.0    6810.0        770.0           NaN         NaN  нет данных  \n",
       "2   12760.0    3790.0       3290.0            82         8.3           E  \n",
       "3   10930.0    3280.0       2950.0            80         8.0           E  \n",
       "4    8890.0   10220.0       1000.0           NaN         NaN  нет данных  "
      ]
     },
     "metadata": {},
     "output_type": "display_data"
    }
   ],
   "source": [
    "# выведем на экран датасет\n",
    "display(data.head())"
   ]
  },
  {
   "cell_type": "markdown",
   "metadata": {},
   "source": [
    "В выведенном датасете видно, что в необходимых нам столбцах изменились типы данных."
   ]
  },
  {
   "cell_type": "markdown",
   "metadata": {},
   "source": [
    "### Обработка неявных дубликатов"
   ]
  },
  {
   "cell_type": "markdown",
   "metadata": {},
   "source": [
    "В данном разделе рассмотрим и обработаем, если появятся, неявные дубликаты. Приведем названия во всех столбцах к нижнему регистру, так как одни и теже названия могут быть написаны и с большой буквы и с маленькой, поэтому, чтобы не было дубликатов приведем все к одному виду. Обработаем столбцы:\n",
    "1. name\n",
    "2. platform\n",
    "3. genre\n",
    "4. rating"
   ]
  },
  {
   "cell_type": "code",
   "execution_count": 40,
   "metadata": {},
   "outputs": [],
   "source": [
    "# приведем в нижнему регистру\n",
    "list_name = ['name', 'platform', 'genre', 'rating']\n",
    "for name in list_name:\n",
    "    data[name] = data[name].str.lower()"
   ]
  },
  {
   "cell_type": "code",
   "execution_count": 41,
   "metadata": {},
   "outputs": [
    {
     "data": {
      "text/html": [
       "<div>\n",
       "<style scoped>\n",
       "    .dataframe tbody tr th:only-of-type {\n",
       "        vertical-align: middle;\n",
       "    }\n",
       "\n",
       "    .dataframe tbody tr th {\n",
       "        vertical-align: top;\n",
       "    }\n",
       "\n",
       "    .dataframe thead th {\n",
       "        text-align: right;\n",
       "    }\n",
       "</style>\n",
       "<table border=\"1\" class=\"dataframe\">\n",
       "  <thead>\n",
       "    <tr style=\"text-align: right;\">\n",
       "      <th></th>\n",
       "      <th>name</th>\n",
       "      <th>platform</th>\n",
       "      <th>year_of_release</th>\n",
       "      <th>genre</th>\n",
       "      <th>na_sales</th>\n",
       "      <th>eu_sales</th>\n",
       "      <th>jp_sales</th>\n",
       "      <th>other_sales</th>\n",
       "      <th>critic_score</th>\n",
       "      <th>user_score</th>\n",
       "      <th>rating</th>\n",
       "    </tr>\n",
       "  </thead>\n",
       "  <tbody>\n",
       "    <tr>\n",
       "      <td>0</td>\n",
       "      <td>wii sports</td>\n",
       "      <td>wii</td>\n",
       "      <td>2006</td>\n",
       "      <td>sports</td>\n",
       "      <td>41360.0</td>\n",
       "      <td>28960.0</td>\n",
       "      <td>3770.0</td>\n",
       "      <td>8450.0</td>\n",
       "      <td>76</td>\n",
       "      <td>8.0</td>\n",
       "      <td>e</td>\n",
       "    </tr>\n",
       "    <tr>\n",
       "      <td>1</td>\n",
       "      <td>super mario bros.</td>\n",
       "      <td>nes</td>\n",
       "      <td>1985</td>\n",
       "      <td>platform</td>\n",
       "      <td>29080.0</td>\n",
       "      <td>3580.0</td>\n",
       "      <td>6810.0</td>\n",
       "      <td>770.0</td>\n",
       "      <td>NaN</td>\n",
       "      <td>NaN</td>\n",
       "      <td>нет данных</td>\n",
       "    </tr>\n",
       "    <tr>\n",
       "      <td>2</td>\n",
       "      <td>mario kart wii</td>\n",
       "      <td>wii</td>\n",
       "      <td>2008</td>\n",
       "      <td>racing</td>\n",
       "      <td>15680.0</td>\n",
       "      <td>12760.0</td>\n",
       "      <td>3790.0</td>\n",
       "      <td>3290.0</td>\n",
       "      <td>82</td>\n",
       "      <td>8.3</td>\n",
       "      <td>e</td>\n",
       "    </tr>\n",
       "    <tr>\n",
       "      <td>3</td>\n",
       "      <td>wii sports resort</td>\n",
       "      <td>wii</td>\n",
       "      <td>2009</td>\n",
       "      <td>sports</td>\n",
       "      <td>15610.0</td>\n",
       "      <td>10930.0</td>\n",
       "      <td>3280.0</td>\n",
       "      <td>2950.0</td>\n",
       "      <td>80</td>\n",
       "      <td>8.0</td>\n",
       "      <td>e</td>\n",
       "    </tr>\n",
       "    <tr>\n",
       "      <td>4</td>\n",
       "      <td>pokemon red/pokemon blue</td>\n",
       "      <td>gb</td>\n",
       "      <td>1996</td>\n",
       "      <td>role-playing</td>\n",
       "      <td>11270.0</td>\n",
       "      <td>8890.0</td>\n",
       "      <td>10220.0</td>\n",
       "      <td>1000.0</td>\n",
       "      <td>NaN</td>\n",
       "      <td>NaN</td>\n",
       "      <td>нет данных</td>\n",
       "    </tr>\n",
       "  </tbody>\n",
       "</table>\n",
       "</div>"
      ],
      "text/plain": [
       "                       name platform  year_of_release         genre  na_sales  \\\n",
       "0                wii sports      wii             2006        sports   41360.0   \n",
       "1         super mario bros.      nes             1985      platform   29080.0   \n",
       "2            mario kart wii      wii             2008        racing   15680.0   \n",
       "3         wii sports resort      wii             2009        sports   15610.0   \n",
       "4  pokemon red/pokemon blue       gb             1996  role-playing   11270.0   \n",
       "\n",
       "   eu_sales  jp_sales  other_sales  critic_score  user_score      rating  \n",
       "0   28960.0    3770.0       8450.0            76         8.0           e  \n",
       "1    3580.0    6810.0        770.0           NaN         NaN  нет данных  \n",
       "2   12760.0    3790.0       3290.0            82         8.3           e  \n",
       "3   10930.0    3280.0       2950.0            80         8.0           e  \n",
       "4    8890.0   10220.0       1000.0           NaN         NaN  нет данных  "
      ]
     },
     "metadata": {},
     "output_type": "display_data"
    }
   ],
   "source": [
    "# выведем на экран датасет\n",
    "display(data.head())"
   ]
  },
  {
   "cell_type": "markdown",
   "metadata": {},
   "source": [
    "Все назвнаия приведены к одному регистру. Проверим наличие дубликатов."
   ]
  },
  {
   "cell_type": "code",
   "execution_count": 42,
   "metadata": {},
   "outputs": [
    {
     "name": "stdout",
     "output_type": "stream",
     "text": [
      "Количество неявных дубликатов: 0\n"
     ]
    }
   ],
   "source": [
    "print('Количество неявных дубликатов:', data.duplicated().sum())"
   ]
  },
  {
   "cell_type": "markdown",
   "metadata": {},
   "source": [
    "Отлично, дубликатов нет, можем идти дальше."
   ]
  },
  {
   "cell_type": "markdown",
   "metadata": {},
   "source": [
    "### Добавление столбца суммарных продаж"
   ]
  },
  {
   "cell_type": "markdown",
   "metadata": {},
   "source": [
    "Для добавления столбца суммарных продаж, необходимо сложить продажи по всем регионам: eu_sales, na_sales, jp_sales, other_sales. Данный столбец бцдет выражен в тысячах копий продаж."
   ]
  },
  {
   "cell_type": "code",
   "execution_count": 43,
   "metadata": {},
   "outputs": [],
   "source": [
    "data['total_sales'] = data['na_sales'] + data['eu_sales'] + data['jp_sales'] + data['other_sales']"
   ]
  },
  {
   "cell_type": "code",
   "execution_count": 44,
   "metadata": {},
   "outputs": [
    {
     "data": {
      "text/html": [
       "<div>\n",
       "<style scoped>\n",
       "    .dataframe tbody tr th:only-of-type {\n",
       "        vertical-align: middle;\n",
       "    }\n",
       "\n",
       "    .dataframe tbody tr th {\n",
       "        vertical-align: top;\n",
       "    }\n",
       "\n",
       "    .dataframe thead th {\n",
       "        text-align: right;\n",
       "    }\n",
       "</style>\n",
       "<table border=\"1\" class=\"dataframe\">\n",
       "  <thead>\n",
       "    <tr style=\"text-align: right;\">\n",
       "      <th></th>\n",
       "      <th>name</th>\n",
       "      <th>platform</th>\n",
       "      <th>year_of_release</th>\n",
       "      <th>genre</th>\n",
       "      <th>na_sales</th>\n",
       "      <th>eu_sales</th>\n",
       "      <th>jp_sales</th>\n",
       "      <th>other_sales</th>\n",
       "      <th>critic_score</th>\n",
       "      <th>user_score</th>\n",
       "      <th>rating</th>\n",
       "      <th>total_sales</th>\n",
       "    </tr>\n",
       "  </thead>\n",
       "  <tbody>\n",
       "    <tr>\n",
       "      <td>0</td>\n",
       "      <td>wii sports</td>\n",
       "      <td>wii</td>\n",
       "      <td>2006</td>\n",
       "      <td>sports</td>\n",
       "      <td>41360.0</td>\n",
       "      <td>28960.0</td>\n",
       "      <td>3770.0</td>\n",
       "      <td>8450.0</td>\n",
       "      <td>76</td>\n",
       "      <td>8.0</td>\n",
       "      <td>e</td>\n",
       "      <td>82540.0</td>\n",
       "    </tr>\n",
       "    <tr>\n",
       "      <td>1</td>\n",
       "      <td>super mario bros.</td>\n",
       "      <td>nes</td>\n",
       "      <td>1985</td>\n",
       "      <td>platform</td>\n",
       "      <td>29080.0</td>\n",
       "      <td>3580.0</td>\n",
       "      <td>6810.0</td>\n",
       "      <td>770.0</td>\n",
       "      <td>NaN</td>\n",
       "      <td>NaN</td>\n",
       "      <td>нет данных</td>\n",
       "      <td>40240.0</td>\n",
       "    </tr>\n",
       "    <tr>\n",
       "      <td>2</td>\n",
       "      <td>mario kart wii</td>\n",
       "      <td>wii</td>\n",
       "      <td>2008</td>\n",
       "      <td>racing</td>\n",
       "      <td>15680.0</td>\n",
       "      <td>12760.0</td>\n",
       "      <td>3790.0</td>\n",
       "      <td>3290.0</td>\n",
       "      <td>82</td>\n",
       "      <td>8.3</td>\n",
       "      <td>e</td>\n",
       "      <td>35520.0</td>\n",
       "    </tr>\n",
       "    <tr>\n",
       "      <td>3</td>\n",
       "      <td>wii sports resort</td>\n",
       "      <td>wii</td>\n",
       "      <td>2009</td>\n",
       "      <td>sports</td>\n",
       "      <td>15610.0</td>\n",
       "      <td>10930.0</td>\n",
       "      <td>3280.0</td>\n",
       "      <td>2950.0</td>\n",
       "      <td>80</td>\n",
       "      <td>8.0</td>\n",
       "      <td>e</td>\n",
       "      <td>32770.0</td>\n",
       "    </tr>\n",
       "    <tr>\n",
       "      <td>4</td>\n",
       "      <td>pokemon red/pokemon blue</td>\n",
       "      <td>gb</td>\n",
       "      <td>1996</td>\n",
       "      <td>role-playing</td>\n",
       "      <td>11270.0</td>\n",
       "      <td>8890.0</td>\n",
       "      <td>10220.0</td>\n",
       "      <td>1000.0</td>\n",
       "      <td>NaN</td>\n",
       "      <td>NaN</td>\n",
       "      <td>нет данных</td>\n",
       "      <td>31380.0</td>\n",
       "    </tr>\n",
       "  </tbody>\n",
       "</table>\n",
       "</div>"
      ],
      "text/plain": [
       "                       name platform  year_of_release         genre  na_sales  \\\n",
       "0                wii sports      wii             2006        sports   41360.0   \n",
       "1         super mario bros.      nes             1985      platform   29080.0   \n",
       "2            mario kart wii      wii             2008        racing   15680.0   \n",
       "3         wii sports resort      wii             2009        sports   15610.0   \n",
       "4  pokemon red/pokemon blue       gb             1996  role-playing   11270.0   \n",
       "\n",
       "   eu_sales  jp_sales  other_sales  critic_score  user_score      rating  \\\n",
       "0   28960.0    3770.0       8450.0            76         8.0           e   \n",
       "1    3580.0    6810.0        770.0           NaN         NaN  нет данных   \n",
       "2   12760.0    3790.0       3290.0            82         8.3           e   \n",
       "3   10930.0    3280.0       2950.0            80         8.0           e   \n",
       "4    8890.0   10220.0       1000.0           NaN         NaN  нет данных   \n",
       "\n",
       "   total_sales  \n",
       "0      82540.0  \n",
       "1      40240.0  \n",
       "2      35520.0  \n",
       "3      32770.0  \n",
       "4      31380.0  "
      ]
     },
     "metadata": {},
     "output_type": "display_data"
    }
   ],
   "source": [
    "# выведем на экран таблицу \n",
    "display(data.head())"
   ]
  },
  {
   "cell_type": "markdown",
   "metadata": {},
   "source": [
    "### Вывод"
   ]
  },
  {
   "cell_type": "markdown",
   "metadata": {},
   "source": [
    "В ходе выполнения предобработки данных было сделано:\n",
    "1. названия столбцов приведены к одному регистру\n",
    "2. объемы продаж из миллионов копий приведены к тысячам копий. Это было сделано для повышения читабильности данных\n",
    "3. проанализированы пропуски, на основании анализа было принято решение не заполнять пропуски, так как информация специфическая для каждой игры и платформы и заполнять средними или медианными значениями будет неверно, так как это может привести к искажению данных. Были обработаны пропуски tbd, мы их заменили на nan\n",
    "4. изменены типы данных в столбцах: year_of_release, critic_score, user_score\n",
    "5. привдены все названия в столбцах к одному регистру, юлагодаря чему выяснили, что в данных нет неявных дубликатов\n",
    "6. добавлен столбец total_sales, в котором указаны суммарные объемы продаж каждой игры по всем, представленным в анализе регионам."
   ]
  },
  {
   "cell_type": "markdown",
   "metadata": {},
   "source": [
    "## Исследовательский анализ данных"
   ]
  },
  {
   "cell_type": "markdown",
   "metadata": {},
   "source": [
    "В ходе выполнения данного раздела необходимо:\n",
    "   - посмотреть, сколько выпускалось игр за все годы\n",
    "   - посмотреть, как менялись продажи по платформам (необходимо выбрать платформы с наибольшими продажами и построить распределение по годам, определить характерный срок, в течение которого появляются и исчезают старые платформы\n",
    "   - определить данные за актуальный период, на основании которого можно построить прогноз на 2017 год\n",
    "   - необходимо определить, какие платформы лидируют по продажам, растут они или падают, выбрать несколько потенциально прибыльных платформ\n",
    "   - построить «ящик с усами» по глобальным продажам игр в разбивке по платформам и опишем результаты\n",
    "   - определить влияние на продажи внутри одной популярной платформы отзывы критиков и пользователей (построить диаграмму рассеяния и посчитать корреляцию между отзывами и продажами), соотнести с продажами игр на других платформах\n",
    "   - посмотреть на общее распределение игр по жанрам."
   ]
  },
  {
   "cell_type": "markdown",
   "metadata": {},
   "source": [
    "### Определение количества игр, выпускавшихся в разные годы"
   ]
  },
  {
   "cell_type": "markdown",
   "metadata": {},
   "source": [
    "В рамках данного раздела рассмотрим, каков был объем выпуска игр по годам."
   ]
  },
  {
   "cell_type": "code",
   "execution_count": 45,
   "metadata": {},
   "outputs": [
    {
     "data": {
      "image/png": "[encoded data removed]",
      "text/plain": [
       "<Figure size 720x432 with 1 Axes>"
      ]
     },
     "metadata": {
      "needs_background": "light"
     },
     "output_type": "display_data"
    }
   ],
   "source": [
    "data_grouped_years = (data.groupby('year_of_release')\n",
    "                      .agg({'name': 'count'})\n",
    "                      .plot.bar(rot=90, figsize=(10, 6))\n",
    "                     )\n",
    "plt.title('Количество выпущенных игр по годам')\n",
    "plt.xlabel('Год')\n",
    "plt.ylabel('Количество выпущенных игр')\n",
    "plt.show()"
   ]
  },
  {
   "cell_type": "markdown",
   "metadata": {},
   "source": [
    "По построенному графику видно, что с 1980 по 1993 год игр выпускается очень мало и можно наблюдать плато, в каждый год выпускается примерно одинаковое количество игр. С 1994 года начинается замется рост количества выпускаемых игр, данный рост стремительный и доходит до своего пика в 2008-2009 году, после чего начинается заметное снижение выпускаемых игр. Возможно такое поведение связано с тем, что рынок видеоигр стал перенасыщенным, пользователей трудно чем-то удивить, да и в современных видеоиграх большое внимание уделяется картинке, поэтому это все приводит к тому, что для выпуска качественной и интересной игры разбработчикам требуется больше времени, чем это было раньше. Кроме того в тот период активно начали развиваться игры для смартфонов, это тоже оказало влияние на развитие компьютерных игр.\n",
    "\n",
    "Также исходя из графика можно ответить на еще один вопрос: важны ли данные за все периоды. На мой взгляд, данные за все периоды не важны, так как в дальнейшем анализе нас будет интересовать работа с актуальным периодом, по графику видно, что для нас актуальный период связан с сокращением количества выпускаемых игр в год, поэтому для дальнейшего анализа я бы отсекла года становения платформ, а также период бурного роста и рассматривала бы данные с 2009 года. Этот период будет наиболее показательным для дальнейшего прогнозирования выпуска игр."
   ]
  },
  {
   "cell_type": "markdown",
   "metadata": {},
   "source": [
    "### Определим изменение продаж по платформам"
   ]
  },
  {
   "cell_type": "markdown",
   "metadata": {},
   "source": [
    "В данном пункте сгруппируем данные объемы продаж по платформам, отберем платформы с наибольшими суммарными продажами и построим распределение по годам. Ответим на вопрос, за какой характерный срок появляются новые и исчезают старые платформы"
   ]
  },
  {
   "cell_type": "code",
   "execution_count": 46,
   "metadata": {},
   "outputs": [],
   "source": [
    "# сгруппируем данные по платформам\n",
    "data_platform_grouped = pd.pivot_table(data, index='platform', values='total_sales', aggfunc='sum')"
   ]
  },
  {
   "cell_type": "markdown",
   "metadata": {},
   "source": [
    "Выберем платформы с наибольшими продажами."
   ]
  },
  {
   "cell_type": "code",
   "execution_count": 47,
   "metadata": {},
   "outputs": [
    {
     "data": {
      "text/html": [
       "<div>\n",
       "<style scoped>\n",
       "    .dataframe tbody tr th:only-of-type {\n",
       "        vertical-align: middle;\n",
       "    }\n",
       "\n",
       "    .dataframe tbody tr th {\n",
       "        vertical-align: top;\n",
       "    }\n",
       "\n",
       "    .dataframe thead th {\n",
       "        text-align: right;\n",
       "    }\n",
       "</style>\n",
       "<table border=\"1\" class=\"dataframe\">\n",
       "  <thead>\n",
       "    <tr style=\"text-align: right;\">\n",
       "      <th></th>\n",
       "      <th>total_sales</th>\n",
       "    </tr>\n",
       "    <tr>\n",
       "      <th>platform</th>\n",
       "      <th></th>\n",
       "    </tr>\n",
       "  </thead>\n",
       "  <tbody>\n",
       "    <tr>\n",
       "      <td>ps2</td>\n",
       "      <td>1255770.0</td>\n",
       "    </tr>\n",
       "    <tr>\n",
       "      <td>x360</td>\n",
       "      <td>971420.0</td>\n",
       "    </tr>\n",
       "    <tr>\n",
       "      <td>ps3</td>\n",
       "      <td>939650.0</td>\n",
       "    </tr>\n",
       "    <tr>\n",
       "      <td>wii</td>\n",
       "      <td>907510.0</td>\n",
       "    </tr>\n",
       "    <tr>\n",
       "      <td>ds</td>\n",
       "      <td>806120.0</td>\n",
       "    </tr>\n",
       "    <tr>\n",
       "      <td>ps</td>\n",
       "      <td>730860.0</td>\n",
       "    </tr>\n",
       "    <tr>\n",
       "      <td>gba</td>\n",
       "      <td>317850.0</td>\n",
       "    </tr>\n",
       "    <tr>\n",
       "      <td>ps4</td>\n",
       "      <td>314140.0</td>\n",
       "    </tr>\n",
       "    <tr>\n",
       "      <td>psp</td>\n",
       "      <td>294050.0</td>\n",
       "    </tr>\n",
       "    <tr>\n",
       "      <td>pc</td>\n",
       "      <td>259520.0</td>\n",
       "    </tr>\n",
       "    <tr>\n",
       "      <td>3ds</td>\n",
       "      <td>259000.0</td>\n",
       "    </tr>\n",
       "    <tr>\n",
       "      <td>xb</td>\n",
       "      <td>257740.0</td>\n",
       "    </tr>\n",
       "    <tr>\n",
       "      <td>gb</td>\n",
       "      <td>255460.0</td>\n",
       "    </tr>\n",
       "    <tr>\n",
       "      <td>nes</td>\n",
       "      <td>251050.0</td>\n",
       "    </tr>\n",
       "    <tr>\n",
       "      <td>n64</td>\n",
       "      <td>218680.0</td>\n",
       "    </tr>\n",
       "    <tr>\n",
       "      <td>snes</td>\n",
       "      <td>200040.0</td>\n",
       "    </tr>\n",
       "    <tr>\n",
       "      <td>gc</td>\n",
       "      <td>198930.0</td>\n",
       "    </tr>\n",
       "    <tr>\n",
       "      <td>xone</td>\n",
       "      <td>159320.0</td>\n",
       "    </tr>\n",
       "    <tr>\n",
       "      <td>2600</td>\n",
       "      <td>96980.0</td>\n",
       "    </tr>\n",
       "    <tr>\n",
       "      <td>wiiu</td>\n",
       "      <td>82190.0</td>\n",
       "    </tr>\n",
       "    <tr>\n",
       "      <td>psv</td>\n",
       "      <td>54070.0</td>\n",
       "    </tr>\n",
       "    <tr>\n",
       "      <td>sat</td>\n",
       "      <td>33590.0</td>\n",
       "    </tr>\n",
       "    <tr>\n",
       "      <td>gen</td>\n",
       "      <td>30770.0</td>\n",
       "    </tr>\n",
       "    <tr>\n",
       "      <td>dc</td>\n",
       "      <td>15950.0</td>\n",
       "    </tr>\n",
       "    <tr>\n",
       "      <td>scd</td>\n",
       "      <td>1860.0</td>\n",
       "    </tr>\n",
       "    <tr>\n",
       "      <td>ng</td>\n",
       "      <td>1440.0</td>\n",
       "    </tr>\n",
       "    <tr>\n",
       "      <td>ws</td>\n",
       "      <td>1420.0</td>\n",
       "    </tr>\n",
       "    <tr>\n",
       "      <td>tg16</td>\n",
       "      <td>160.0</td>\n",
       "    </tr>\n",
       "    <tr>\n",
       "      <td>3do</td>\n",
       "      <td>100.0</td>\n",
       "    </tr>\n",
       "    <tr>\n",
       "      <td>gg</td>\n",
       "      <td>40.0</td>\n",
       "    </tr>\n",
       "    <tr>\n",
       "      <td>pcfx</td>\n",
       "      <td>30.0</td>\n",
       "    </tr>\n",
       "  </tbody>\n",
       "</table>\n",
       "</div>"
      ],
      "text/plain": [
       "          total_sales\n",
       "platform             \n",
       "ps2         1255770.0\n",
       "x360         971420.0\n",
       "ps3          939650.0\n",
       "wii          907510.0\n",
       "ds           806120.0\n",
       "ps           730860.0\n",
       "gba          317850.0\n",
       "ps4          314140.0\n",
       "psp          294050.0\n",
       "pc           259520.0\n",
       "3ds          259000.0\n",
       "xb           257740.0\n",
       "gb           255460.0\n",
       "nes          251050.0\n",
       "n64          218680.0\n",
       "snes         200040.0\n",
       "gc           198930.0\n",
       "xone         159320.0\n",
       "2600          96980.0\n",
       "wiiu          82190.0\n",
       "psv           54070.0\n",
       "sat           33590.0\n",
       "gen           30770.0\n",
       "dc            15950.0\n",
       "scd            1860.0\n",
       "ng             1440.0\n",
       "ws             1420.0\n",
       "tg16            160.0\n",
       "3do             100.0\n",
       "gg               40.0\n",
       "pcfx             30.0"
      ]
     },
     "metadata": {},
     "output_type": "display_data"
    }
   ],
   "source": [
    "# выведем платформы в зависимости от объеиов продаж\n",
    "display(data_platform_grouped.sort_values(by='total_sales', ascending=False))"
   ]
  },
  {
   "cell_type": "markdown",
   "metadata": {},
   "source": [
    "Исходя из полученных выше данных будем рассматривать топ 6, так как после ps, выручка от продаж начинает значительно падать."
   ]
  },
  {
   "cell_type": "code",
   "execution_count": 48,
   "metadata": {},
   "outputs": [],
   "source": [
    "list_platforms = ['ps2', 'x360', 'ps3', 'wii', 'ds', 'ps']\n",
    "data_top_6 = data.query('platform in @list_platforms')"
   ]
  },
  {
   "cell_type": "code",
   "execution_count": 49,
   "metadata": {},
   "outputs": [
    {
     "data": {
      "text/html": [
       "<div>\n",
       "<style scoped>\n",
       "    .dataframe tbody tr th:only-of-type {\n",
       "        vertical-align: middle;\n",
       "    }\n",
       "\n",
       "    .dataframe tbody tr th {\n",
       "        vertical-align: top;\n",
       "    }\n",
       "\n",
       "    .dataframe thead th {\n",
       "        text-align: right;\n",
       "    }\n",
       "</style>\n",
       "<table border=\"1\" class=\"dataframe\">\n",
       "  <thead>\n",
       "    <tr style=\"text-align: right;\">\n",
       "      <th></th>\n",
       "      <th>name</th>\n",
       "      <th>platform</th>\n",
       "      <th>year_of_release</th>\n",
       "      <th>genre</th>\n",
       "      <th>na_sales</th>\n",
       "      <th>eu_sales</th>\n",
       "      <th>jp_sales</th>\n",
       "      <th>other_sales</th>\n",
       "      <th>critic_score</th>\n",
       "      <th>user_score</th>\n",
       "      <th>rating</th>\n",
       "      <th>total_sales</th>\n",
       "    </tr>\n",
       "  </thead>\n",
       "  <tbody>\n",
       "    <tr>\n",
       "      <td>0</td>\n",
       "      <td>wii sports</td>\n",
       "      <td>wii</td>\n",
       "      <td>2006</td>\n",
       "      <td>sports</td>\n",
       "      <td>41360.0</td>\n",
       "      <td>28960.0</td>\n",
       "      <td>3770.0</td>\n",
       "      <td>8450.0</td>\n",
       "      <td>76</td>\n",
       "      <td>8.0</td>\n",
       "      <td>e</td>\n",
       "      <td>82540.0</td>\n",
       "    </tr>\n",
       "    <tr>\n",
       "      <td>2</td>\n",
       "      <td>mario kart wii</td>\n",
       "      <td>wii</td>\n",
       "      <td>2008</td>\n",
       "      <td>racing</td>\n",
       "      <td>15680.0</td>\n",
       "      <td>12760.0</td>\n",
       "      <td>3790.0</td>\n",
       "      <td>3290.0</td>\n",
       "      <td>82</td>\n",
       "      <td>8.3</td>\n",
       "      <td>e</td>\n",
       "      <td>35520.0</td>\n",
       "    </tr>\n",
       "    <tr>\n",
       "      <td>3</td>\n",
       "      <td>wii sports resort</td>\n",
       "      <td>wii</td>\n",
       "      <td>2009</td>\n",
       "      <td>sports</td>\n",
       "      <td>15610.0</td>\n",
       "      <td>10930.0</td>\n",
       "      <td>3280.0</td>\n",
       "      <td>2950.0</td>\n",
       "      <td>80</td>\n",
       "      <td>8.0</td>\n",
       "      <td>e</td>\n",
       "      <td>32770.0</td>\n",
       "    </tr>\n",
       "    <tr>\n",
       "      <td>6</td>\n",
       "      <td>new super mario bros.</td>\n",
       "      <td>ds</td>\n",
       "      <td>2006</td>\n",
       "      <td>platform</td>\n",
       "      <td>11280.0</td>\n",
       "      <td>9140.0</td>\n",
       "      <td>6500.0</td>\n",
       "      <td>2880.0</td>\n",
       "      <td>89</td>\n",
       "      <td>8.5</td>\n",
       "      <td>e</td>\n",
       "      <td>29800.0</td>\n",
       "    </tr>\n",
       "    <tr>\n",
       "      <td>7</td>\n",
       "      <td>wii play</td>\n",
       "      <td>wii</td>\n",
       "      <td>2006</td>\n",
       "      <td>misc</td>\n",
       "      <td>13960.0</td>\n",
       "      <td>9180.0</td>\n",
       "      <td>2930.0</td>\n",
       "      <td>2840.0</td>\n",
       "      <td>58</td>\n",
       "      <td>6.6</td>\n",
       "      <td>e</td>\n",
       "      <td>28910.0</td>\n",
       "    </tr>\n",
       "    <tr>\n",
       "      <td>...</td>\n",
       "      <td>...</td>\n",
       "      <td>...</td>\n",
       "      <td>...</td>\n",
       "      <td>...</td>\n",
       "      <td>...</td>\n",
       "      <td>...</td>\n",
       "      <td>...</td>\n",
       "      <td>...</td>\n",
       "      <td>...</td>\n",
       "      <td>...</td>\n",
       "      <td>...</td>\n",
       "      <td>...</td>\n",
       "    </tr>\n",
       "    <tr>\n",
       "      <td>16700</td>\n",
       "      <td>mezase!! tsuri master ds</td>\n",
       "      <td>ds</td>\n",
       "      <td>2009</td>\n",
       "      <td>sports</td>\n",
       "      <td>0.0</td>\n",
       "      <td>0.0</td>\n",
       "      <td>10.0</td>\n",
       "      <td>0.0</td>\n",
       "      <td>NaN</td>\n",
       "      <td>NaN</td>\n",
       "      <td>нет данных</td>\n",
       "      <td>10.0</td>\n",
       "    </tr>\n",
       "    <tr>\n",
       "      <td>16704</td>\n",
       "      <td>plushees</td>\n",
       "      <td>ds</td>\n",
       "      <td>2008</td>\n",
       "      <td>simulation</td>\n",
       "      <td>10.0</td>\n",
       "      <td>0.0</td>\n",
       "      <td>0.0</td>\n",
       "      <td>0.0</td>\n",
       "      <td>NaN</td>\n",
       "      <td>NaN</td>\n",
       "      <td>e</td>\n",
       "      <td>10.0</td>\n",
       "    </tr>\n",
       "    <tr>\n",
       "      <td>16709</td>\n",
       "      <td>score international baja 1000: the official game</td>\n",
       "      <td>ps2</td>\n",
       "      <td>2008</td>\n",
       "      <td>racing</td>\n",
       "      <td>0.0</td>\n",
       "      <td>0.0</td>\n",
       "      <td>0.0</td>\n",
       "      <td>0.0</td>\n",
       "      <td>NaN</td>\n",
       "      <td>NaN</td>\n",
       "      <td>нет данных</td>\n",
       "      <td>0.0</td>\n",
       "    </tr>\n",
       "    <tr>\n",
       "      <td>16710</td>\n",
       "      <td>samurai warriors: sanada maru</td>\n",
       "      <td>ps3</td>\n",
       "      <td>2016</td>\n",
       "      <td>action</td>\n",
       "      <td>0.0</td>\n",
       "      <td>0.0</td>\n",
       "      <td>10.0</td>\n",
       "      <td>0.0</td>\n",
       "      <td>NaN</td>\n",
       "      <td>NaN</td>\n",
       "      <td>нет данных</td>\n",
       "      <td>10.0</td>\n",
       "    </tr>\n",
       "    <tr>\n",
       "      <td>16711</td>\n",
       "      <td>lma manager 2007</td>\n",
       "      <td>x360</td>\n",
       "      <td>2006</td>\n",
       "      <td>sports</td>\n",
       "      <td>0.0</td>\n",
       "      <td>10.0</td>\n",
       "      <td>0.0</td>\n",
       "      <td>0.0</td>\n",
       "      <td>NaN</td>\n",
       "      <td>NaN</td>\n",
       "      <td>нет данных</td>\n",
       "      <td>10.0</td>\n",
       "    </tr>\n",
       "  </tbody>\n",
       "</table>\n",
       "<p>9422 rows × 12 columns</p>\n",
       "</div>"
      ],
      "text/plain": [
       "                                                   name platform  \\\n",
       "0                                            wii sports      wii   \n",
       "2                                        mario kart wii      wii   \n",
       "3                                     wii sports resort      wii   \n",
       "6                                 new super mario bros.       ds   \n",
       "7                                              wii play      wii   \n",
       "...                                                 ...      ...   \n",
       "16700                          mezase!! tsuri master ds       ds   \n",
       "16704                                          plushees       ds   \n",
       "16709  score international baja 1000: the official game      ps2   \n",
       "16710                     samurai warriors: sanada maru      ps3   \n",
       "16711                                  lma manager 2007     x360   \n",
       "\n",
       "       year_of_release       genre  na_sales  eu_sales  jp_sales  other_sales  \\\n",
       "0                 2006      sports   41360.0   28960.0    3770.0       8450.0   \n",
       "2                 2008      racing   15680.0   12760.0    3790.0       3290.0   \n",
       "3                 2009      sports   15610.0   10930.0    3280.0       2950.0   \n",
       "6                 2006    platform   11280.0    9140.0    6500.0       2880.0   \n",
       "7                 2006        misc   13960.0    9180.0    2930.0       2840.0   \n",
       "...                ...         ...       ...       ...       ...          ...   \n",
       "16700             2009      sports       0.0       0.0      10.0          0.0   \n",
       "16704             2008  simulation      10.0       0.0       0.0          0.0   \n",
       "16709             2008      racing       0.0       0.0       0.0          0.0   \n",
       "16710             2016      action       0.0       0.0      10.0          0.0   \n",
       "16711             2006      sports       0.0      10.0       0.0          0.0   \n",
       "\n",
       "       critic_score  user_score      rating  total_sales  \n",
       "0                76         8.0           e      82540.0  \n",
       "2                82         8.3           e      35520.0  \n",
       "3                80         8.0           e      32770.0  \n",
       "6                89         8.5           e      29800.0  \n",
       "7                58         6.6           e      28910.0  \n",
       "...             ...         ...         ...          ...  \n",
       "16700           NaN         NaN  нет данных         10.0  \n",
       "16704           NaN         NaN           e         10.0  \n",
       "16709           NaN         NaN  нет данных          0.0  \n",
       "16710           NaN         NaN  нет данных         10.0  \n",
       "16711           NaN         NaN  нет данных         10.0  \n",
       "\n",
       "[9422 rows x 12 columns]"
      ]
     },
     "metadata": {},
     "output_type": "display_data"
    }
   ],
   "source": [
    "display(data_top_6)"
   ]
  },
  {
   "cell_type": "code",
   "execution_count": null,
   "metadata": {},
   "outputs": [],
   "source": []
  },
  {
   "cell_type": "code",
   "execution_count": 50,
   "metadata": {},
   "outputs": [
    {
     "data": {
      "image/png": "[encoded data removed]",
      "text/plain": [
       "<Figure size 1152x432 with 1 Axes>"
      ]
     },
     "metadata": {
      "needs_background": "light"
     },
     "output_type": "display_data"
    }
   ],
   "source": [
    "data_top_6_platform_grouped = (pd.pivot_table(data_top_6, index='year_of_release', columns='platform', values='total_sales', aggfunc='sum')\n",
    "                        .plot(grid=True, figsize=(16, 6))\n",
    "                        )\n",
    "plt.title('Объем продаж по годам и платформам')\n",
    "plt.xlabel('Год')\n",
    "plt.ylabel('Объем продаж игр')\n",
    "plt.show()"
   ]
  },
  {
   "cell_type": "markdown",
   "metadata": {},
   "source": [
    "По данному графику видно, что в целом у всех платформ примерно одинаковые графики \"жизни\". Определим, сколько лет живет каждая из предстваленных платформ:\n",
    "1. ds жила с 2004 по 2013 годы - 9 лет (пик продаж приходился на 2007 год)\n",
    "2. ps жила с 1994 по 2003 годы - 9 лет (пик продаж приходился на 1998 год\n",
    "3. ps2 жила с 2000 по 2011 годы - 11 лет (пик продаж приходиося на 2002 и 2004 годы)\n",
    "4. ps3 жила с 2006 по 2016 годы - 10 лет (пик продаж приодился на 2011 год)\n",
    "5. wii жила с 2006 по 2016 годы - 10 лет (пик продаж приходился на 2009 год)\n",
    "6. x360 жила с 2005 по 2016 годы - 11 лет (пик продаж приходился на 2010 год)\n",
    "\n",
    "Из представленных данных вмдно, что в среднем сроки жизни платформы составляет 10 лет, и, возможно, платформы продолжали бы существовать если им на смену не приходили бы более усовершенствованные версии. Также видно, что в среднем пик продаж наступает через 4-5 лет с начала существования платформы, после этого момента наступает угасание интереса пользователей к данной платформе, исключение составляет ps2 за период ее существования наблюдается 2 пика в выручке от продаж с разницей в год.\n"
   ]
  },
  {
   "cell_type": "code",
   "execution_count": 51,
   "metadata": {},
   "outputs": [],
   "source": [
    "# сгруппируем данные по платформе и годам выпуска игр\n",
    "data_years_exist = data.groupby(['platform', 'year_of_release']).agg({'total_sales': 'sum'}).reset_index()"
   ]
  },
  {
   "cell_type": "code",
   "execution_count": 52,
   "metadata": {},
   "outputs": [
    {
     "name": "stdout",
     "output_type": "stream",
     "text": [
      "pc      26\n",
      "gb      13\n",
      "x360    12\n",
      "psp     12\n",
      "ps2     12\n",
      "nes     12\n",
      "ps3     11\n",
      "wii     11\n",
      "ds      11\n",
      "2600    10\n",
      "snes    10\n",
      "ps      10\n",
      "xb       9\n",
      "gba      8\n",
      "n64      7\n",
      "gc       7\n",
      "dc       7\n",
      "sat      6\n",
      "psv      6\n",
      "3ds      6\n",
      "wiiu     5\n",
      "gen      5\n",
      "ps4      4\n",
      "xone     4\n",
      "ng       4\n",
      "ws       3\n",
      "scd      2\n",
      "3do      2\n",
      "tg16     1\n",
      "pcfx     1\n",
      "gg       1\n",
      "Name: platform, dtype: int64\n"
     ]
    }
   ],
   "source": [
    "# выведем на экран, сколько лет жила каждая платформа в представленном датасете\n",
    "data_exist_2 = data_years_exist['platform'].value_counts()\n",
    "print(data_exist_2)"
   ]
  },
  {
   "cell_type": "code",
   "execution_count": 53,
   "metadata": {},
   "outputs": [
    {
     "name": "stdout",
     "output_type": "stream",
     "text": [
      "count    31.000000\n",
      "mean      7.677419\n",
      "std       5.081910\n",
      "min       1.000000\n",
      "25%       4.000000\n",
      "50%       7.000000\n",
      "75%      11.000000\n",
      "max      26.000000\n",
      "Name: platform, dtype: float64\n"
     ]
    }
   ],
   "source": [
    "# выведем описание столбца жизни консолей\n",
    "print(data_exist_2.describe())"
   ]
  },
  {
   "cell_type": "code",
   "execution_count": 54,
   "metadata": {},
   "outputs": [
    {
     "name": "stdout",
     "output_type": "stream",
     "text": [
      "0    12\n",
      "dtype: int64\n"
     ]
    }
   ],
   "source": [
    "# определим моду, наиболее часто встречающееся значение\n",
    "print(data_exist_2.mode())"
   ]
  },
  {
   "cell_type": "markdown",
   "metadata": {},
   "source": [
    "В результате проведенного выше анализа можно сказать, что в большинстве случаев платформы меняются за 10-12, среднее значение и медиана примерно одинаковая и сосставлет около 7 лет. Но так как индустрия компьютерных игр динамично меняющаяся отрасль, то актуальными периодом для нее будет 3 года, так как за это время может существенно измениться тренды. Таким образом, актуальным периодом будет период с 2014 по 2016 годы включительно."
   ]
  },
  {
   "cell_type": "markdown",
   "metadata": {},
   "source": [
    "### Определение потенциально прибыльных платформ"
   ]
  },
  {
   "cell_type": "markdown",
   "metadata": {},
   "source": [
    "В даном разделе:\n",
    "1. сформируем данные по актуальному периоду: как выяснили ранее возьмем данные начиная с 2008 года и заканчивая 2015 годом\n",
    "2. выберем потенциально прибыльные платформы и определим, растут они или падают\n",
    "3. посторим ящик с усами по глобальным продажам игр в разбивке по платформам\n",
    "4. определим, как влияют на продажи внутри одной попульрной платформы отзывы критиков и пользователей\n",
    "5. соотнесем выводы с продажами игр на других платформах\n",
    "6. посмотрим на общее распределение игр по жанрам"
   ]
  },
  {
   "cell_type": "markdown",
   "metadata": {},
   "source": [
    "#### Формирование данных по актуальному периоду"
   ]
  },
  {
   "cell_type": "code",
   "execution_count": 55,
   "metadata": {},
   "outputs": [],
   "source": [
    "# ограничим рассматриваемый период 2014 и 2016 годами\n",
    "data_actual_period = data.query('year_of_release >= 2014')"
   ]
  },
  {
   "cell_type": "code",
   "execution_count": 56,
   "metadata": {},
   "outputs": [
    {
     "data": {
      "text/html": [
       "<div>\n",
       "<style scoped>\n",
       "    .dataframe tbody tr th:only-of-type {\n",
       "        vertical-align: middle;\n",
       "    }\n",
       "\n",
       "    .dataframe tbody tr th {\n",
       "        vertical-align: top;\n",
       "    }\n",
       "\n",
       "    .dataframe thead th {\n",
       "        text-align: right;\n",
       "    }\n",
       "</style>\n",
       "<table border=\"1\" class=\"dataframe\">\n",
       "  <thead>\n",
       "    <tr style=\"text-align: right;\">\n",
       "      <th></th>\n",
       "      <th>name</th>\n",
       "      <th>platform</th>\n",
       "      <th>year_of_release</th>\n",
       "      <th>genre</th>\n",
       "      <th>na_sales</th>\n",
       "      <th>eu_sales</th>\n",
       "      <th>jp_sales</th>\n",
       "      <th>other_sales</th>\n",
       "      <th>critic_score</th>\n",
       "      <th>user_score</th>\n",
       "      <th>rating</th>\n",
       "      <th>total_sales</th>\n",
       "    </tr>\n",
       "  </thead>\n",
       "  <tbody>\n",
       "    <tr>\n",
       "      <td>31</td>\n",
       "      <td>call of duty: black ops 3</td>\n",
       "      <td>ps4</td>\n",
       "      <td>2015</td>\n",
       "      <td>shooter</td>\n",
       "      <td>6030.0</td>\n",
       "      <td>5860.0</td>\n",
       "      <td>360.0</td>\n",
       "      <td>2380.0</td>\n",
       "      <td>NaN</td>\n",
       "      <td>NaN</td>\n",
       "      <td>нет данных</td>\n",
       "      <td>14630.0</td>\n",
       "    </tr>\n",
       "    <tr>\n",
       "      <td>42</td>\n",
       "      <td>grand theft auto v</td>\n",
       "      <td>ps4</td>\n",
       "      <td>2014</td>\n",
       "      <td>action</td>\n",
       "      <td>3960.0</td>\n",
       "      <td>6310.0</td>\n",
       "      <td>380.0</td>\n",
       "      <td>1970.0</td>\n",
       "      <td>97</td>\n",
       "      <td>8.3</td>\n",
       "      <td>m</td>\n",
       "      <td>12620.0</td>\n",
       "    </tr>\n",
       "    <tr>\n",
       "      <td>47</td>\n",
       "      <td>pokemon omega ruby/pokemon alpha sapphire</td>\n",
       "      <td>3ds</td>\n",
       "      <td>2014</td>\n",
       "      <td>role-playing</td>\n",
       "      <td>4350.0</td>\n",
       "      <td>3490.0</td>\n",
       "      <td>3100.0</td>\n",
       "      <td>740.0</td>\n",
       "      <td>NaN</td>\n",
       "      <td>NaN</td>\n",
       "      <td>нет данных</td>\n",
       "      <td>11680.0</td>\n",
       "    </tr>\n",
       "    <tr>\n",
       "      <td>77</td>\n",
       "      <td>fifa 16</td>\n",
       "      <td>ps4</td>\n",
       "      <td>2015</td>\n",
       "      <td>sports</td>\n",
       "      <td>1120.0</td>\n",
       "      <td>6120.0</td>\n",
       "      <td>60.0</td>\n",
       "      <td>1280.0</td>\n",
       "      <td>82</td>\n",
       "      <td>4.3</td>\n",
       "      <td>e</td>\n",
       "      <td>8580.0</td>\n",
       "    </tr>\n",
       "    <tr>\n",
       "      <td>87</td>\n",
       "      <td>star wars battlefront (2015)</td>\n",
       "      <td>ps4</td>\n",
       "      <td>2015</td>\n",
       "      <td>shooter</td>\n",
       "      <td>2990.0</td>\n",
       "      <td>3490.0</td>\n",
       "      <td>220.0</td>\n",
       "      <td>1280.0</td>\n",
       "      <td>NaN</td>\n",
       "      <td>NaN</td>\n",
       "      <td>нет данных</td>\n",
       "      <td>7980.0</td>\n",
       "    </tr>\n",
       "  </tbody>\n",
       "</table>\n",
       "</div>"
      ],
      "text/plain": [
       "                                         name platform  year_of_release  \\\n",
       "31                  call of duty: black ops 3      ps4             2015   \n",
       "42                         grand theft auto v      ps4             2014   \n",
       "47  pokemon omega ruby/pokemon alpha sapphire      3ds             2014   \n",
       "77                                    fifa 16      ps4             2015   \n",
       "87               star wars battlefront (2015)      ps4             2015   \n",
       "\n",
       "           genre  na_sales  eu_sales  jp_sales  other_sales  critic_score  \\\n",
       "31       shooter    6030.0    5860.0     360.0       2380.0           NaN   \n",
       "42        action    3960.0    6310.0     380.0       1970.0            97   \n",
       "47  role-playing    4350.0    3490.0    3100.0        740.0           NaN   \n",
       "77        sports    1120.0    6120.0      60.0       1280.0            82   \n",
       "87       shooter    2990.0    3490.0     220.0       1280.0           NaN   \n",
       "\n",
       "    user_score      rating  total_sales  \n",
       "31         NaN  нет данных      14630.0  \n",
       "42         8.3           m      12620.0  \n",
       "47         NaN  нет данных      11680.0  \n",
       "77         4.3           e       8580.0  \n",
       "87         NaN  нет данных       7980.0  "
      ]
     },
     "metadata": {},
     "output_type": "display_data"
    }
   ],
   "source": [
    "display(data_actual_period.head())"
   ]
  },
  {
   "cell_type": "markdown",
   "metadata": {},
   "source": [
    "#### Выбор потенциально прибыльных платформ"
   ]
  },
  {
   "cell_type": "markdown",
   "metadata": {},
   "source": [
    "Еще раз выведем объемы продаж каждой платформы в зависимости от актульного периода"
   ]
  },
  {
   "cell_type": "code",
   "execution_count": 57,
   "metadata": {},
   "outputs": [
    {
     "data": {
      "image/png": "[encoded data removed]",
      "text/plain": [
       "<Figure size 864x432 with 1 Axes>"
      ]
     },
     "metadata": {
      "needs_background": "light"
     },
     "output_type": "display_data"
    }
   ],
   "source": [
    "data_actual_period_grouped = (pd.pivot_table(data_actual_period, index='year_of_release', columns='platform', values='total_sales', aggfunc='sum')\n",
    "                        .plot(grid=True, figsize=(12, 6))\n",
    "                        )\n",
    "plt.title('Объем продаж по годам и платформам актуальный период')\n",
    "plt.xlabel('Год')\n",
    "plt.ylabel('Объем продаж игр')\n",
    "plt.show()"
   ]
  },
  {
   "cell_type": "code",
   "execution_count": 58,
   "metadata": {},
   "outputs": [],
   "source": [
    "# сгруппируем данные для определения потенциально прибыльных платформ с учетом актуального периода\n",
    "data_actual_period_grouped_sales = pd.pivot_table(data_actual_period, index='platform', values='total_sales', aggfunc='sum')"
   ]
  },
  {
   "cell_type": "code",
   "execution_count": 59,
   "metadata": {},
   "outputs": [
    {
     "data": {
      "text/html": [
       "<div>\n",
       "<style scoped>\n",
       "    .dataframe tbody tr th:only-of-type {\n",
       "        vertical-align: middle;\n",
       "    }\n",
       "\n",
       "    .dataframe tbody tr th {\n",
       "        vertical-align: top;\n",
       "    }\n",
       "\n",
       "    .dataframe thead th {\n",
       "        text-align: right;\n",
       "    }\n",
       "</style>\n",
       "<table border=\"1\" class=\"dataframe\">\n",
       "  <thead>\n",
       "    <tr style=\"text-align: right;\">\n",
       "      <th></th>\n",
       "      <th>total_sales</th>\n",
       "    </tr>\n",
       "    <tr>\n",
       "      <th>platform</th>\n",
       "      <th></th>\n",
       "    </tr>\n",
       "  </thead>\n",
       "  <tbody>\n",
       "    <tr>\n",
       "      <td>ps4</td>\n",
       "      <td>288150.0</td>\n",
       "    </tr>\n",
       "    <tr>\n",
       "      <td>xone</td>\n",
       "      <td>140360.0</td>\n",
       "    </tr>\n",
       "    <tr>\n",
       "      <td>3ds</td>\n",
       "      <td>86680.0</td>\n",
       "    </tr>\n",
       "    <tr>\n",
       "      <td>ps3</td>\n",
       "      <td>68180.0</td>\n",
       "    </tr>\n",
       "    <tr>\n",
       "      <td>x360</td>\n",
       "      <td>48220.0</td>\n",
       "    </tr>\n",
       "    <tr>\n",
       "      <td>wiiu</td>\n",
       "      <td>42980.0</td>\n",
       "    </tr>\n",
       "    <tr>\n",
       "      <td>pc</td>\n",
       "      <td>27050.0</td>\n",
       "    </tr>\n",
       "    <tr>\n",
       "      <td>psv</td>\n",
       "      <td>22400.0</td>\n",
       "    </tr>\n",
       "    <tr>\n",
       "      <td>wii</td>\n",
       "      <td>5070.0</td>\n",
       "    </tr>\n",
       "    <tr>\n",
       "      <td>psp</td>\n",
       "      <td>360.0</td>\n",
       "    </tr>\n",
       "  </tbody>\n",
       "</table>\n",
       "</div>"
      ],
      "text/plain": [
       "          total_sales\n",
       "platform             \n",
       "ps4          288150.0\n",
       "xone         140360.0\n",
       "3ds           86680.0\n",
       "ps3           68180.0\n",
       "x360          48220.0\n",
       "wiiu          42980.0\n",
       "pc            27050.0\n",
       "psv           22400.0\n",
       "wii            5070.0\n",
       "psp             360.0"
      ]
     },
     "metadata": {},
     "output_type": "display_data"
    }
   ],
   "source": [
    "# выведем платформы в зависимости от объеиов продаж\n",
    "display(data_actual_period_grouped_sales.sort_values(by='total_sales', ascending=False))"
   ]
  },
  {
   "cell_type": "markdown",
   "metadata": {},
   "source": [
    "**Исходная версия**\n",
    "\n",
    "Исходя из приведенного графика видно, что в качестве прибыльных платформ можно выделить 7 , причем у некотрых из них прибыль падает, а у некоторых расчет. Можно выделить платформы, у которых за период с 2008 по 2011 годы были самые высокие продажи, но к настоящему моменту объемы продаж значительно упали. Такими платформами являются:\n",
    "1. ps3\n",
    "2. x360\n",
    "3. wii\n",
    "4. ds\n",
    "5. 3ds\n",
    "\n",
    "Но с 2013 года появились две платформы, в объемах продаж которых заметен рост:\n",
    "1. ps4, видимо, вышла на замену Ps3\n",
    "2. pc, объемы продаж данной платформы растут не так быстро, как ps4\n",
    "\n",
    "В целом можно заметить обсолютно для всех платформ похожую тенденцию: идет падение объемов продаж. Возможно, это связано с бурным развитием сматрфонов и большинство пользователей стали играть на данных устройствах."
   ]
  },
  {
   "cell_type": "markdown",
   "metadata": {},
   "source": [
    "**Новая версия**\n",
    "\n",
    "По построенному выше графику видно, что на 2016 год потенциально прибыльными платформами можно считать:\n",
    "\n",
    "1) wiiu\n",
    "2) psv\n",
    "3) wii\n",
    "4) pc\n",
    "5) 3ds\n",
    "\n",
    "Эти платформы были выбраны исходя из их стабильного состояния, по сравнению с другими платформами за последние годы. Объемы продаж не растут, но и не падают."
   ]
  },
  {
   "cell_type": "code",
   "execution_count": 60,
   "metadata": {},
   "outputs": [
    {
     "data": {
      "text/plain": [
       "array(['2600', '3do', '3ds', 'dc', 'ds', 'gb', 'gba', 'gc', 'gen', 'gg',\n",
       "       'n64', 'nes', 'ng', 'pc', 'pcfx', 'ps', 'ps2', 'ps3', 'ps4', 'psp',\n",
       "       'psv', 'sat', 'scd', 'snes', 'tg16', 'wii', 'wiiu', 'ws', 'x360',\n",
       "       'xb', 'xone'], dtype=object)"
      ]
     },
     "execution_count": 60,
     "metadata": {},
     "output_type": "execute_result"
    }
   ],
   "source": [
    "data['platform'].sort_values().unique()"
   ]
  },
  {
   "cell_type": "code",
   "execution_count": 61,
   "metadata": {},
   "outputs": [],
   "source": [
    "data_actual_period_grouped_sales = pd.pivot_table(data_actual_period, index='platform', values='total_sales', aggfunc='sum')"
   ]
  },
  {
   "cell_type": "code",
   "execution_count": 62,
   "metadata": {},
   "outputs": [
    {
     "data": {
      "text/html": [
       "<div>\n",
       "<style scoped>\n",
       "    .dataframe tbody tr th:only-of-type {\n",
       "        vertical-align: middle;\n",
       "    }\n",
       "\n",
       "    .dataframe tbody tr th {\n",
       "        vertical-align: top;\n",
       "    }\n",
       "\n",
       "    .dataframe thead th {\n",
       "        text-align: right;\n",
       "    }\n",
       "</style>\n",
       "<table border=\"1\" class=\"dataframe\">\n",
       "  <thead>\n",
       "    <tr style=\"text-align: right;\">\n",
       "      <th></th>\n",
       "      <th>total_sales</th>\n",
       "    </tr>\n",
       "    <tr>\n",
       "      <th>platform</th>\n",
       "      <th></th>\n",
       "    </tr>\n",
       "  </thead>\n",
       "  <tbody>\n",
       "    <tr>\n",
       "      <td>ps4</td>\n",
       "      <td>288150.0</td>\n",
       "    </tr>\n",
       "    <tr>\n",
       "      <td>xone</td>\n",
       "      <td>140360.0</td>\n",
       "    </tr>\n",
       "    <tr>\n",
       "      <td>3ds</td>\n",
       "      <td>86680.0</td>\n",
       "    </tr>\n",
       "    <tr>\n",
       "      <td>ps3</td>\n",
       "      <td>68180.0</td>\n",
       "    </tr>\n",
       "    <tr>\n",
       "      <td>x360</td>\n",
       "      <td>48220.0</td>\n",
       "    </tr>\n",
       "    <tr>\n",
       "      <td>wiiu</td>\n",
       "      <td>42980.0</td>\n",
       "    </tr>\n",
       "    <tr>\n",
       "      <td>pc</td>\n",
       "      <td>27050.0</td>\n",
       "    </tr>\n",
       "    <tr>\n",
       "      <td>psv</td>\n",
       "      <td>22400.0</td>\n",
       "    </tr>\n",
       "    <tr>\n",
       "      <td>wii</td>\n",
       "      <td>5070.0</td>\n",
       "    </tr>\n",
       "    <tr>\n",
       "      <td>psp</td>\n",
       "      <td>360.0</td>\n",
       "    </tr>\n",
       "  </tbody>\n",
       "</table>\n",
       "</div>"
      ],
      "text/plain": [
       "          total_sales\n",
       "platform             \n",
       "ps4          288150.0\n",
       "xone         140360.0\n",
       "3ds           86680.0\n",
       "ps3           68180.0\n",
       "x360          48220.0\n",
       "wiiu          42980.0\n",
       "pc            27050.0\n",
       "psv           22400.0\n",
       "wii            5070.0\n",
       "psp             360.0"
      ]
     },
     "metadata": {},
     "output_type": "display_data"
    }
   ],
   "source": [
    "# выведем платформы в зависимости от объеиов продаж\n",
    "display(data_actual_period_grouped_sales.sort_values(by='total_sales', ascending=False))"
   ]
  },
  {
   "cell_type": "markdown",
   "metadata": {},
   "source": [
    "#### Построим график \"ящик с усами\" по глобальным продажам игр в разбивке по платформам"
   ]
  },
  {
   "cell_type": "markdown",
   "metadata": {},
   "source": [
    "Пстроим график ящик с усами для 7 наиболее прибыльных по глобальными продажам платформ:\n",
    "- ps4\n",
    "- xone\n",
    "- 3ds\n",
    "- ps3\n",
    "- x360\n",
    "- wiiu\n",
    "- pc"
   ]
  },
  {
   "cell_type": "code",
   "execution_count": 63,
   "metadata": {},
   "outputs": [],
   "source": [
    "# отфильтруем датасет по необходимым платформам\n",
    "list_top_platform = [\"ps4\", \"xone\", \"3ds\", \"ps3\", \"x360\", \"wiiu\", \"pc\"]\n",
    "data_actual_period_top_platform = data_actual_period.query('platform in @list_top_platform')"
   ]
  },
  {
   "cell_type": "code",
   "execution_count": 64,
   "metadata": {},
   "outputs": [
    {
     "data": {
      "image/png": "[encoded data removed]",
      "text/plain": [
       "<Figure size 864x576 with 1 Axes>"
      ]
     },
     "metadata": {
      "needs_background": "light"
     },
     "output_type": "display_data"
    }
   ],
   "source": [
    "# построим ящик с усами\n",
    "plt.figure(figsize=(12, 8))\n",
    "sns.boxplot(x='platform', y='total_sales', data=data_actual_period_top_platform)\n",
    "plt.ylim(0, 4000)\n",
    "plt.xlabel('Название платформы')\n",
    "plt.ylabel('Объемы продаж в тысячах')\n",
    "plt.show()"
   ]
  },
  {
   "cell_type": "markdown",
   "metadata": {},
   "source": [
    "Исходя из построенного графика с усами можно сделать следующий вывод:\n",
    "1. медиана выручки за игру варьируется от 100 тыс до 300 тыс\n",
    "2. на графике также видны аномалии, некотрые игры приносят начительно больше прибыли, чем все остальные: для ps4 это пороговое значение аномалии составлет 1700 тысяч, 3ds - 600 тыс, xone - 1700 тыс, wiiu - 1200 тыс, ps3 - 700 тыс, x360 - 1200 тыс, pc - 500 тыс.\n",
    "3. больше всего из представленных данных выделяется платформа ps4 и xone, в ней самый высокий размер аномальных значений, при том, что медиана практически совпадает со всеми остальными платформами"
   ]
  },
  {
   "cell_type": "markdown",
   "metadata": {},
   "source": [
    "#### Определение влияния на продажи отзывов критиков и пользователей"
   ]
  },
  {
   "cell_type": "markdown",
   "metadata": {},
   "source": [
    "По условию определено, что нам нужно определить, как влияют на продажи внутри одной платформы отзывы критиков и пользователей. В качестве популярной платформы возьмем лидера в актуальном периоде - ps3"
   ]
  },
  {
   "cell_type": "code",
   "execution_count": 65,
   "metadata": {},
   "outputs": [],
   "source": [
    "# отфильтруем данные по ps4\n",
    "data_actual_period_ps3 = data_actual_period.query('platform == \"ps4\"')"
   ]
  },
  {
   "cell_type": "code",
   "execution_count": 66,
   "metadata": {},
   "outputs": [
    {
     "data": {
      "image/png": "[encoded data removed]",
      "text/plain": [
       "<Figure size 432x288 with 1 Axes>"
      ]
     },
     "metadata": {
      "needs_background": "light"
     },
     "output_type": "display_data"
    }
   ],
   "source": [
    "# построим диаграмму рассеяния в зависимости от оценки критиков\n",
    "data_actual_period_ps3.plot(kind='scatter', x='critic_score', y='total_sales', ec='black')\n",
    "plt.title('Зависимость объема продаж от оценки критиков')\n",
    "plt.xlabel('Оценка критиков')\n",
    "plt.ylabel('Объемы продаж в тысячах')\n",
    "plt.show()"
   ]
  },
  {
   "cell_type": "code",
   "execution_count": 67,
   "metadata": {},
   "outputs": [
    {
     "data": {
      "image/png": "[encoded data removed]",
      "text/plain": [
       "<Figure size 432x288 with 1 Axes>"
      ]
     },
     "metadata": {
      "needs_background": "light"
     },
     "output_type": "display_data"
    }
   ],
   "source": [
    "# построим диаграмму рассеяния в зависимости от оценки пользователей\n",
    "data_actual_period_ps3.plot(kind='scatter', x='user_score', y='total_sales', ec='black')\n",
    "plt.title('Зависимость объема продаж от оценки пользователей')\n",
    "plt.xlabel('Оценка пользователей')\n",
    "plt.ylabel('Объемы продаж в тысячах')\n",
    "plt.show()"
   ]
  },
  {
   "cell_type": "code",
   "execution_count": 68,
   "metadata": {},
   "outputs": [
    {
     "data": {
      "image/png": "[encoded data removed]",
      "text/plain": [
       "<Figure size 504x504 with 2 Axes>"
      ]
     },
     "metadata": {
      "needs_background": "light"
     },
     "output_type": "display_data"
    }
   ],
   "source": [
    "# построим матрицу корреляции \n",
    "plt.figure(figsize=(7, 7))\n",
    "sns.heatmap(data_actual_period_ps3.corr(), annot=True, cmap='coolwarm', fmt='.2f')\n",
    "plt.show()"
   ]
  },
  {
   "cell_type": "code",
   "execution_count": 69,
   "metadata": {},
   "outputs": [
    {
     "data": {
      "image/png": "[encoded data removed]",
      "text/plain": [
       "<Figure size 72x216 with 2 Axes>"
      ]
     },
     "metadata": {
      "needs_background": "light"
     },
     "output_type": "display_data"
    }
   ],
   "source": [
    "# построим корреляцию отдельно в завимисости от оценки пользователей и критиков\n",
    "data_actual_period_ps3_filtered = data_actual_period_ps3[['total_sales', 'critic_score', 'user_score']]\n",
    "plt.figure(figsize=(1, 3))\n",
    "sns.heatmap(data_actual_period_ps3_filtered.corr()[['total_sales']].sort_values(by='total_sales', ascending=False), cmap='coolwarm', annot=True)\n",
    "plt.show()"
   ]
  },
  {
   "cell_type": "markdown",
   "metadata": {},
   "source": [
    "Исходя из полученных данных на диаграммах рассеяния, а также после построения таблицы корреляции, можно сделать следующие выводы: оценка критиков сильнее влияет на объемы продаж на платформе ps4, чем оценка пользователей. На графике диаграммы рассеяния видно, что до рейтинга в 70 пунктов, влияние оценки критиков на объемы продаж не такие значительные, как после 70 пунктов. Далее видна зависимость, что, чем выше оценка критиков, тем выше объемы продаж. Если же говорить об оценке пользователей, то на диаграмме рассеяния видно, что в целом оценка пользователей не влияет на объемы продаж. Также, исходя из матрица корреляции для платформы ps4 можно увидеть достаточно сильную зависимость оценки пользователей от оценки критиков."
   ]
  },
  {
   "cell_type": "code",
   "execution_count": 70,
   "metadata": {},
   "outputs": [
    {
     "data": {
      "text/html": [
       "<div>\n",
       "<style scoped>\n",
       "    .dataframe tbody tr th:only-of-type {\n",
       "        vertical-align: middle;\n",
       "    }\n",
       "\n",
       "    .dataframe tbody tr th {\n",
       "        vertical-align: top;\n",
       "    }\n",
       "\n",
       "    .dataframe thead th {\n",
       "        text-align: right;\n",
       "    }\n",
       "</style>\n",
       "<table border=\"1\" class=\"dataframe\">\n",
       "  <thead>\n",
       "    <tr style=\"text-align: right;\">\n",
       "      <th></th>\n",
       "      <th>name</th>\n",
       "      <th>platform</th>\n",
       "      <th>year_of_release</th>\n",
       "      <th>genre</th>\n",
       "      <th>na_sales</th>\n",
       "      <th>eu_sales</th>\n",
       "      <th>jp_sales</th>\n",
       "      <th>other_sales</th>\n",
       "      <th>critic_score</th>\n",
       "      <th>user_score</th>\n",
       "      <th>rating</th>\n",
       "      <th>total_sales</th>\n",
       "    </tr>\n",
       "  </thead>\n",
       "  <tbody>\n",
       "    <tr>\n",
       "      <td>0</td>\n",
       "      <td>wii sports</td>\n",
       "      <td>wii</td>\n",
       "      <td>2006</td>\n",
       "      <td>sports</td>\n",
       "      <td>41360.0</td>\n",
       "      <td>28960.0</td>\n",
       "      <td>3770.0</td>\n",
       "      <td>8450.0</td>\n",
       "      <td>76</td>\n",
       "      <td>8.0</td>\n",
       "      <td>e</td>\n",
       "      <td>82540.0</td>\n",
       "    </tr>\n",
       "    <tr>\n",
       "      <td>1</td>\n",
       "      <td>super mario bros.</td>\n",
       "      <td>nes</td>\n",
       "      <td>1985</td>\n",
       "      <td>platform</td>\n",
       "      <td>29080.0</td>\n",
       "      <td>3580.0</td>\n",
       "      <td>6810.0</td>\n",
       "      <td>770.0</td>\n",
       "      <td>NaN</td>\n",
       "      <td>NaN</td>\n",
       "      <td>нет данных</td>\n",
       "      <td>40240.0</td>\n",
       "    </tr>\n",
       "    <tr>\n",
       "      <td>2</td>\n",
       "      <td>mario kart wii</td>\n",
       "      <td>wii</td>\n",
       "      <td>2008</td>\n",
       "      <td>racing</td>\n",
       "      <td>15680.0</td>\n",
       "      <td>12760.0</td>\n",
       "      <td>3790.0</td>\n",
       "      <td>3290.0</td>\n",
       "      <td>82</td>\n",
       "      <td>8.3</td>\n",
       "      <td>e</td>\n",
       "      <td>35520.0</td>\n",
       "    </tr>\n",
       "    <tr>\n",
       "      <td>3</td>\n",
       "      <td>wii sports resort</td>\n",
       "      <td>wii</td>\n",
       "      <td>2009</td>\n",
       "      <td>sports</td>\n",
       "      <td>15610.0</td>\n",
       "      <td>10930.0</td>\n",
       "      <td>3280.0</td>\n",
       "      <td>2950.0</td>\n",
       "      <td>80</td>\n",
       "      <td>8.0</td>\n",
       "      <td>e</td>\n",
       "      <td>32770.0</td>\n",
       "    </tr>\n",
       "    <tr>\n",
       "      <td>4</td>\n",
       "      <td>pokemon red/pokemon blue</td>\n",
       "      <td>gb</td>\n",
       "      <td>1996</td>\n",
       "      <td>role-playing</td>\n",
       "      <td>11270.0</td>\n",
       "      <td>8890.0</td>\n",
       "      <td>10220.0</td>\n",
       "      <td>1000.0</td>\n",
       "      <td>NaN</td>\n",
       "      <td>NaN</td>\n",
       "      <td>нет данных</td>\n",
       "      <td>31380.0</td>\n",
       "    </tr>\n",
       "    <tr>\n",
       "      <td>...</td>\n",
       "      <td>...</td>\n",
       "      <td>...</td>\n",
       "      <td>...</td>\n",
       "      <td>...</td>\n",
       "      <td>...</td>\n",
       "      <td>...</td>\n",
       "      <td>...</td>\n",
       "      <td>...</td>\n",
       "      <td>...</td>\n",
       "      <td>...</td>\n",
       "      <td>...</td>\n",
       "      <td>...</td>\n",
       "    </tr>\n",
       "    <tr>\n",
       "      <td>16710</td>\n",
       "      <td>samurai warriors: sanada maru</td>\n",
       "      <td>ps3</td>\n",
       "      <td>2016</td>\n",
       "      <td>action</td>\n",
       "      <td>0.0</td>\n",
       "      <td>0.0</td>\n",
       "      <td>10.0</td>\n",
       "      <td>0.0</td>\n",
       "      <td>NaN</td>\n",
       "      <td>NaN</td>\n",
       "      <td>нет данных</td>\n",
       "      <td>10.0</td>\n",
       "    </tr>\n",
       "    <tr>\n",
       "      <td>16711</td>\n",
       "      <td>lma manager 2007</td>\n",
       "      <td>x360</td>\n",
       "      <td>2006</td>\n",
       "      <td>sports</td>\n",
       "      <td>0.0</td>\n",
       "      <td>10.0</td>\n",
       "      <td>0.0</td>\n",
       "      <td>0.0</td>\n",
       "      <td>NaN</td>\n",
       "      <td>NaN</td>\n",
       "      <td>нет данных</td>\n",
       "      <td>10.0</td>\n",
       "    </tr>\n",
       "    <tr>\n",
       "      <td>16712</td>\n",
       "      <td>haitaka no psychedelica</td>\n",
       "      <td>psv</td>\n",
       "      <td>2016</td>\n",
       "      <td>adventure</td>\n",
       "      <td>0.0</td>\n",
       "      <td>0.0</td>\n",
       "      <td>10.0</td>\n",
       "      <td>0.0</td>\n",
       "      <td>NaN</td>\n",
       "      <td>NaN</td>\n",
       "      <td>нет данных</td>\n",
       "      <td>10.0</td>\n",
       "    </tr>\n",
       "    <tr>\n",
       "      <td>16713</td>\n",
       "      <td>spirits &amp; spells</td>\n",
       "      <td>gba</td>\n",
       "      <td>2003</td>\n",
       "      <td>platform</td>\n",
       "      <td>10.0</td>\n",
       "      <td>0.0</td>\n",
       "      <td>0.0</td>\n",
       "      <td>0.0</td>\n",
       "      <td>NaN</td>\n",
       "      <td>NaN</td>\n",
       "      <td>нет данных</td>\n",
       "      <td>10.0</td>\n",
       "    </tr>\n",
       "    <tr>\n",
       "      <td>16714</td>\n",
       "      <td>winning post 8 2016</td>\n",
       "      <td>psv</td>\n",
       "      <td>2016</td>\n",
       "      <td>simulation</td>\n",
       "      <td>0.0</td>\n",
       "      <td>0.0</td>\n",
       "      <td>10.0</td>\n",
       "      <td>0.0</td>\n",
       "      <td>NaN</td>\n",
       "      <td>NaN</td>\n",
       "      <td>нет данных</td>\n",
       "      <td>10.0</td>\n",
       "    </tr>\n",
       "  </tbody>\n",
       "</table>\n",
       "<p>16715 rows × 12 columns</p>\n",
       "</div>"
      ],
      "text/plain": [
       "                                name platform  year_of_release         genre  \\\n",
       "0                         wii sports      wii             2006        sports   \n",
       "1                  super mario bros.      nes             1985      platform   \n",
       "2                     mario kart wii      wii             2008        racing   \n",
       "3                  wii sports resort      wii             2009        sports   \n",
       "4           pokemon red/pokemon blue       gb             1996  role-playing   \n",
       "...                              ...      ...              ...           ...   \n",
       "16710  samurai warriors: sanada maru      ps3             2016        action   \n",
       "16711               lma manager 2007     x360             2006        sports   \n",
       "16712        haitaka no psychedelica      psv             2016     adventure   \n",
       "16713               spirits & spells      gba             2003      platform   \n",
       "16714            winning post 8 2016      psv             2016    simulation   \n",
       "\n",
       "       na_sales  eu_sales  jp_sales  other_sales  critic_score  user_score  \\\n",
       "0       41360.0   28960.0    3770.0       8450.0            76         8.0   \n",
       "1       29080.0    3580.0    6810.0        770.0           NaN         NaN   \n",
       "2       15680.0   12760.0    3790.0       3290.0            82         8.3   \n",
       "3       15610.0   10930.0    3280.0       2950.0            80         8.0   \n",
       "4       11270.0    8890.0   10220.0       1000.0           NaN         NaN   \n",
       "...         ...       ...       ...          ...           ...         ...   \n",
       "16710       0.0       0.0      10.0          0.0           NaN         NaN   \n",
       "16711       0.0      10.0       0.0          0.0           NaN         NaN   \n",
       "16712       0.0       0.0      10.0          0.0           NaN         NaN   \n",
       "16713      10.0       0.0       0.0          0.0           NaN         NaN   \n",
       "16714       0.0       0.0      10.0          0.0           NaN         NaN   \n",
       "\n",
       "           rating  total_sales  \n",
       "0               e      82540.0  \n",
       "1      нет данных      40240.0  \n",
       "2               e      35520.0  \n",
       "3               e      32770.0  \n",
       "4      нет данных      31380.0  \n",
       "...           ...          ...  \n",
       "16710  нет данных         10.0  \n",
       "16711  нет данных         10.0  \n",
       "16712  нет данных         10.0  \n",
       "16713  нет данных         10.0  \n",
       "16714  нет данных         10.0  \n",
       "\n",
       "[16715 rows x 12 columns]"
      ]
     },
     "metadata": {},
     "output_type": "display_data"
    }
   ],
   "source": [
    "display(data)"
   ]
  },
  {
   "cell_type": "code",
   "execution_count": 71,
   "metadata": {
    "scrolled": true
   },
   "outputs": [
    {
     "data": {
      "image/png": "[encoded data removed]",
      "text/plain": [
       "<Figure size 720x288 with 14 Axes>"
      ]
     },
     "metadata": {
      "needs_background": "light"
     },
     "output_type": "display_data"
    }
   ],
   "source": [
    "# выведем корреляции по топовым платформам\n",
    "fig, ax =plt.subplots(1, len(list_top_platform), figsize=(10, 4))\n",
    "fig.tight_layout()\n",
    "for i in range(len(list_top_platform)):\n",
    "    plt.subplots_adjust(right = 1.3)\n",
    "    name = list_top_platform[i]\n",
    "    data_actual_period_consol = data_actual_period.query('platform == @name')\n",
    "    data_actual_period_consol_filtered = data_actual_period_consol[['total_sales', 'critic_score', 'user_score']]\n",
    "    sns.heatmap(data_actual_period_consol_filtered.corr()[['total_sales']].sort_values(by='total_sales', ascending=False), cmap='coolwarm', annot=True, ax = ax[i])\n",
    "    ax[i].set_title(name)\n",
    "plt.show()"
   ]
  },
  {
   "cell_type": "markdown",
   "metadata": {},
   "source": [
    "Если сравнивать зависимость объемов продаж от оценки пользователей и критиков, в топ-7 платформ примерно одинаковая зависимость: объем продаж платформ ps4, xone, ps3, x360, wiiu завится от ценки критиков и мало зависят от оценки пользователей, причем зависимость оценки критиков на объемы продаж на платформе x360 сильнее всего.\n",
    "\n",
    "Но есть и отличающиеся платформы, так, например объемы продаж на платформе pc практически не зависят от оценок пользователей и критиков. А объемы продаж на платформе wiiu зависят как от оценки критиков, так и от оценки пользователей."
   ]
  },
  {
   "cell_type": "markdown",
   "metadata": {},
   "source": [
    "#### Общее распределение игр по жанрам"
   ]
  },
  {
   "cell_type": "code",
   "execution_count": 74,
   "metadata": {},
   "outputs": [
    {
     "data": {
      "image/png": "[encoded data removed]",
      "text/plain": [
       "<Figure size 1080x360 with 1 Axes>"
      ]
     },
     "metadata": {
      "needs_background": "light"
     },
     "output_type": "display_data"
    }
   ],
   "source": [
    "pivot_actual_period_genre = (data_actual_period.groupby('genre')\n",
    "                      .agg({'name': 'count', 'total_sales': 'median'})\n",
    "                       .sort_values(by='name', ascending=False)\n",
    "                      )\n",
    "plot1 = pivot_actual_period_genre['name']\n",
    "plot1.plot(kind='bar', figsize=(15, 5), ec='black',  width=0.2, position=1)\n",
    "\n",
    "plot2 = pivot_actual_period_genre['total_sales']\n",
    "plot2.plot(kind='bar', figsize=(15, 5), ec='black', width=0.2, color='#97F0AA', position=0)\n",
    "plt.xlabel('Жарны игры')\n",
    "plt.ylabel('Объемы продаж в миллионах и количество игр')\n",
    "plt.legend=(['Количество продаж', 'Медиана продаж'])"
   ]
  },
  {
   "cell_type": "markdown",
   "metadata": {},
   "source": [
    " Если рассматривать общее распределение игр по жанрам относительно медианы стоимости игр в каждом жанре, то жанрами, игры которых приносят стабильно высокий доход являются:\n",
    " \n",
    "1) shooter\n",
    "2) sports\n",
    "3) platform\n",
    "4) fighting\n",
    "\n",
    "Данные игры популярны, так как в них много движения, действия, что, вероятно, интересно пользователям.\n",
    "\n",
    "Жанры, игры которых приносят стабильно низкий доход:\n",
    "\n",
    "1) advanture\n",
    "3) strategy\n",
    "3) pussle\n",
    "\n",
    "Данные игры требуют большей усидчивости, поэтому они менее популярны"
   ]
  },
  {
   "cell_type": "markdown",
   "metadata": {},
   "source": [
    "#### Вывод"
   ]
  },
  {
   "cell_type": "markdown",
   "metadata": {},
   "source": [
    "В ходе проведенного исследовательского анализа было получено следующее:\n",
    "\n",
    "1. первые игры начала появляться еще в 1980 году, причем с 1980 по 1993 год заметно плато, с 1994 года начинается резкий рост продаж и выпуска игр, пик наступает в 2008-2009 годах, после чего начинается падение продаж компьютерных игр\n",
    "\n",
    "2. за весь период существования компьютерных игр, можно выделить наиболее популярные платформы:\n",
    "   - ds\n",
    "   - ps\n",
    "   - ps2\n",
    "   - ps3\n",
    "   - wii\n",
    "   - x360\n",
    "   \n",
    "Можно выделить, что платформы живут 10-12, но при этом их обновление происходит в среднем за 7 лет. Но так как идустрия компьютерных игр быстро меняющаяся структура, то актуальный период будет равен трем годам с 2014 по 2016 включительно\n",
    "\n",
    "3. исходя из актуального периода самыми прибыльными платформами являются:\n",
    "   - ps4\n",
    "   - xone\n",
    "   - 3ds\n",
    "   - ps3\n",
    "   - x360\n",
    "   - wiiu\n",
    "   \n",
    "Перспективными платформами можно считать:\n",
    "\n",
    "    1) wiiu\n",
    "    2) psv\n",
    "    3) wii\n",
    "    4) pc\n",
    "    5) 3ds\n",
    "\n",
    "4. благодаря анализу мы выяснили, что объемы продаж в большинстве своем зависят от полоительной оценки критиков, и чем выше рейтинг, тем больше зависисмость объема продаж. При этом зависимость объемов продаж от рейтинга пользователей небольшая. Это логично, так как пользователи с большей охотой приобретают игры с хорошим рейтингом критиков.\n",
    "\n",
    "5. жанры, игры которых приносят стабильно высокий доход:\n",
    "\n",
    "    1) shooter\n",
    "    2) sports\n",
    "    3) platform\n",
    "    4) fighting\n",
    "\n",
    "Жанры, игры которых приносят стабильно низкий доход:\n",
    "\n",
    "    1) advanture\n",
    "    2) strategy\n",
    "    3) pussle"
   ]
  },
  {
   "cell_type": "markdown",
   "metadata": {},
   "source": [
    "## Портрет пользователей каждого региона"
   ]
  },
  {
   "cell_type": "markdown",
   "metadata": {},
   "source": [
    "В данном разделе необходимо составить портрет каждого региона: NA, EU, JP: \n",
    "1. самые популярные платформы (топ-5)\n",
    "2. самые популярные жанры (топ-5)\n",
    "3. влияение рейтинга ERSB на продажи в регионах"
   ]
  },
  {
   "cell_type": "code",
   "execution_count": 75,
   "metadata": {},
   "outputs": [],
   "source": [
    "# напишем функцию для формирования графиков по регионам\n",
    "def top_in_region_plot(groupby, region, ax):\n",
    "    \"\"\"\n",
    "    Формирует графики в зависимости от группировок\n",
    "    \"\"\"\n",
    "    pivot_actual_period = (data_actual_period.groupby(groupby)\n",
    "                           .agg({region: 'sum'})\n",
    "                           .sort_values(by=region, ascending=False)[:5]\n",
    "                          )\n",
    "    title_dict = {'na_sales': 'North America', 'eu_sales': 'Europe', 'jp_sales': 'Japan'}\n",
    "    color_dict = {'na_sales': None, 'eu_sales': 'forestgreen', 'jp_sales': 'yellow'}\n",
    "    plot = pivot_actual_period.plot(kind='bar', ec='black', title=title_dict[region], ax=axes[ax], color=color_dict[region], rot=20)\n",
    "    plot.legend()"
   ]
  },
  {
   "cell_type": "markdown",
   "metadata": {},
   "source": [
    "### Самые популярные платформы"
   ]
  },
  {
   "cell_type": "code",
   "execution_count": 76,
   "metadata": {},
   "outputs": [
    {
     "data": {
      "image/png": "[encoded data removed]",
      "text/plain": [
       "<Figure size 1152x432 with 3 Axes>"
      ]
     },
     "metadata": {
      "needs_background": "light"
     },
     "output_type": "display_data"
    }
   ],
   "source": [
    "fig, axes = plt.subplots(1, 3, figsize=(16, 6))\n",
    "top_in_region_plot('platform', 'na_sales', 0)\n",
    "top_in_region_plot('platform', 'eu_sales', 1)\n",
    "top_in_region_plot('platform', 'jp_sales', 2)"
   ]
  },
  {
   "cell_type": "markdown",
   "metadata": {},
   "source": [
    "На данных грпафиках видно, что в Северной Америке и Европе вкусы пользователей примерно совпадают, в топе самых популярных платформ: ps4, xone, 3ds, ps3. Но в штатах также большой популярностью пользуется платформа x360, а в Европе pc. В то время как в Японии рынок значительно отличается, здесь в топе такие платформы как: 3ds, ps4, psv, ps3 и меньшей поопулярностью пользуется платформа wiiu.\n",
    "\n",
    "Также на графике видно, что в Северной Америке и Европе самые большие выручки от продаж по сравнению с Японией. В Японии выручка от продаж в 6 раз меньше, чем в Северной Америке. \n",
    "\n",
    "Также можно увидеть, что в Северной Америке и Европе разница между объемами продаж между топ-1 и топ-5 платформами отличется в 5 и 3 раза соответственно, то в Японии разница между топ-1 и топ-5 не такая значительная."
   ]
  },
  {
   "cell_type": "markdown",
   "metadata": {},
   "source": [
    "### Самые популярные жанры"
   ]
  },
  {
   "cell_type": "code",
   "execution_count": 77,
   "metadata": {},
   "outputs": [
    {
     "data": {
      "image/png": "[encoded data removed]",
      "text/plain": [
       "<Figure size 1152x432 with 3 Axes>"
      ]
     },
     "metadata": {
      "needs_background": "light"
     },
     "output_type": "display_data"
    }
   ],
   "source": [
    "fig, axes = plt.subplots(1, 3, figsize=(16, 6))\n",
    "top_in_region_plot('genre', 'na_sales', 0)\n",
    "top_in_region_plot('genre', 'eu_sales', 1)\n",
    "top_in_region_plot('genre', 'jp_sales', 2)"
   ]
  },
  {
   "cell_type": "markdown",
   "metadata": {},
   "source": [
    "Если смотреть по жанрам, то в Сверной Америке и Европе картина идентичная: самым популярным жанром игр является action, далее в порядке убывания популярности идут: shooter, action, sports, role-playing. При этом в Северной Америке популярен жанр misc, а в Европе racing. При этом в Японии картина выглядит совернно иначе, здесь самым популярным жанром явлется role-playing, action, менее популярными являются fighting, misc, shooter. Важно заметить что жанр action популярен во всех локациях."
   ]
  },
  {
   "cell_type": "markdown",
   "metadata": {},
   "source": [
    "### Влияние рейтинга ESRB на продажи в отдельном регионе"
   ]
  },
  {
   "cell_type": "code",
   "execution_count": 78,
   "metadata": {},
   "outputs": [
    {
     "data": {
      "text/plain": [
       "749"
      ]
     },
     "metadata": {},
     "output_type": "display_data"
    }
   ],
   "source": [
    "display(data[(data['year_of_release'] <= 2016)&(data['year_of_release'] >= 2014)&(data['rating'] == 'нет данных')]['rating'].count())"
   ]
  },
  {
   "cell_type": "code",
   "execution_count": 79,
   "metadata": {},
   "outputs": [
    {
     "data": {
      "text/plain": [
       "нет данных    749\n",
       "t             271\n",
       "m             265\n",
       "e             219\n",
       "e10+          185\n",
       "Name: rating, dtype: int64"
      ]
     },
     "execution_count": 79,
     "metadata": {},
     "output_type": "execute_result"
    }
   ],
   "source": [
    "data_actual_period['rating'].value_counts()"
   ]
  },
  {
   "cell_type": "code",
   "execution_count": 80,
   "metadata": {
    "scrolled": false
   },
   "outputs": [
    {
     "data": {
      "image/png": "[encoded data removed]",
      "text/plain": [
       "<Figure size 1008x432 with 3 Axes>"
      ]
     },
     "metadata": {
      "needs_background": "light"
     },
     "output_type": "display_data"
    }
   ],
   "source": [
    "fig, axes = plt.subplots(1, 3, figsize=(14, 6))\n",
    "top_in_region_plot('rating', 'na_sales', 0)\n",
    "top_in_region_plot('rating', 'eu_sales', 1)\n",
    "top_in_region_plot('rating', 'jp_sales', 2)"
   ]
  },
  {
   "cell_type": "markdown",
   "metadata": {},
   "source": [
    "По сравнению с предыдущими графиками на данном графике объемы продаж в зависимости от рейтинга ESRB примерно ооднаковые во всех регионах: Северной Америке, Европе, Японии. В основном можно наблюдать преобладание 5ти рейтингов: \n",
    "   - e - для всех,\n",
    "   - m - для взрослых,\n",
    "   - t - для подростков,\n",
    "   - e10+ - для всех старше 10 лет\n",
    "   - нет данных\n",
    "   \n",
    "В Северной Америке и Европе преобладают продажи игр с рейтинги для взрослых и нет данных, а в Японии нет данных и для подростков. И во всех регионах одинаковая небольшая доля продаж с рейтингом \"для всех старше 10 лет\". Возможно, такая разница связана с тем, что данная система рейтингов в меньшей мере поддерживается в Японии."
   ]
  },
  {
   "cell_type": "markdown",
   "metadata": {},
   "source": [
    "### Вывод"
   ]
  },
  {
   "cell_type": "markdown",
   "metadata": {},
   "source": [
    "Составим портрет пользователя каждого региона:\n",
    "1. Северная Америка:\n",
    "   - самые популярные платформы: ps4, xone, x360, 3ds, ps3\n",
    "   - самые популярные жанры: shooter, action, sports, role-playing, misc\n",
    "   - рейтинги ESRB, которые больше всего влияют на объем продаж: m - для взрослых и нет данных, e - для всех\n",
    "   \n",
    "2. Европа:\n",
    "   - самые популярные платформы: ps4, xone, ps3, pc, 3ds\n",
    "   - самые популярные жанры: action, shooter, sports, role-playing, racing\n",
    "   - рейтинги ESRB, которые больше всего влияют на объем продаж: нет данных, e - для всех, m - для взрослых\n",
    "   \n",
    "3. Япония:\n",
    "   - самые популярные платформы: 3ds, ps4, psv, ps3, wiiu\n",
    "   - самые популярные жанры: role-playing, action, fighting, misc, shooter \n",
    "   - рейтинги ESRB, которые больше всего влияют на объем продаж: нет данныхб, e - для всех, t - для подростков"
   ]
  },
  {
   "cell_type": "markdown",
   "metadata": {},
   "source": [
    "## Проверка гипотез"
   ]
  },
  {
   "cell_type": "markdown",
   "metadata": {},
   "source": [
    "В данном разделе необходимо проверить две гипотезы:\n",
    "1. средние пользовательские рейтинги платформ Xbox One и PC одинаковые\n",
    "2. средние пользовательские рейтинги жанров Action и Sports разные"
   ]
  },
  {
   "cell_type": "markdown",
   "metadata": {},
   "source": [
    "Для оценки гипотез будем использовать t-критерий Стьюдента, так как сравниваются выборки, независимые между собой и сравнивать мы будем средние двух генеральных совокупностей. Общепринятый критический уровень статистической значимости от 5% до 1%. В нашем исследовании установим это значение нестрогим - 5%."
   ]
  },
  {
   "cell_type": "code",
   "execution_count": 81,
   "metadata": {},
   "outputs": [],
   "source": [
    "# определеим критический уровень статистической значимости \n",
    "alpha = 0.05"
   ]
  },
  {
   "cell_type": "markdown",
   "metadata": {},
   "source": [
    "### Средние пользовательские рейтинги платформ Xbox One и PC одинаковые"
   ]
  },
  {
   "cell_type": "markdown",
   "metadata": {},
   "source": [
    "Сформулируем нулевую и альтернативную гипотезы:\n",
    "- Н0 (нулевая гипотеза): средние пользовательские рейтинги платформ Xbox One и РС одинаковые\n",
    "- Н1 (альтернативная гипотеза): средние пользовательские рейтинги платформ Xbox One и РС разные"
   ]
  },
  {
   "cell_type": "code",
   "execution_count": 82,
   "metadata": {},
   "outputs": [],
   "source": [
    "# создадим столбец с рейтингом для xbox one\n",
    "xbox_one_rating = data_actual_period[(data_actual_period['platform'] == 'xone')&(data_actual_period['user_score'].isna()==False)]['user_score']"
   ]
  },
  {
   "cell_type": "code",
   "execution_count": 83,
   "metadata": {},
   "outputs": [
    {
     "name": "stdout",
     "output_type": "stream",
     "text": [
      "Количество строк с рейтингом: 165\n"
     ]
    }
   ],
   "source": [
    "# определим, достаточное ли количество строк для использования t-критерия Стьюдента \n",
    "print('Количество строк с рейтингом:', xbox_one_rating.count())"
   ]
  },
  {
   "cell_type": "code",
   "execution_count": 84,
   "metadata": {},
   "outputs": [],
   "source": [
    "# создадим столбец с рейтингом для pc\n",
    "pc_rating = data_actual_period[(data_actual_period['platform'] == 'pc')&(data_actual_period['user_score'].isna()==False)]['user_score']"
   ]
  },
  {
   "cell_type": "code",
   "execution_count": 85,
   "metadata": {},
   "outputs": [
    {
     "name": "stdout",
     "output_type": "stream",
     "text": [
      "Количество строк с рейтингом: 122\n"
     ]
    }
   ],
   "source": [
    "# определим, достаточное ли количество строк для использования t-критерия Стьюдента \n",
    "print('Количество строк с рейтингом:', pc_rating.count())"
   ]
  },
  {
   "cell_type": "code",
   "execution_count": 86,
   "metadata": {},
   "outputs": [
    {
     "name": "stdout",
     "output_type": "stream",
     "text": [
      "р-значение: 0.10450507919348415\n",
      "Не получится отвергнуть нулевую гипотезу\n"
     ]
    }
   ],
   "source": [
    "# проведем проверку гипотезы\n",
    "results = st.ttest_ind(xbox_one_rating, pc_rating)\n",
    "print(f'р-значение: {results.pvalue}')\n",
    "if results.pvalue < alpha:\n",
    "    print('Отвергаем нулевую гипотезу')\n",
    "else:\n",
    "    print('Не получится отвергнуть нулевую гипотезу')"
   ]
  },
  {
   "cell_type": "code",
   "execution_count": 87,
   "metadata": {},
   "outputs": [
    {
     "name": "stdout",
     "output_type": "stream",
     "text": [
      "Средняя пользовательская оценка игр платформы Xbox One: 6.594545454545456\n",
      "Средняя пользовательская оценка игр платформы PC: 6.298360655737705\n"
     ]
    }
   ],
   "source": [
    "# посчитаем средний рейтинг по двум платформам\n",
    "print('Средняя пользовательская оценка игр платформы Xbox One:', xbox_one_rating.mean())\n",
    "print('Средняя пользовательская оценка игр платформы PC:', pc_rating.mean())"
   ]
  },
  {
   "cell_type": "markdown",
   "metadata": {},
   "source": [
    "Так как p-value - это вероятность получить такое или бОльшее различие в выборочных средних при условии, что нулевая гипотеза верна. Здесь мы получили большую вероятность такого события, поэтому можем предположить, что нулевую гипотезу отвергнуть не получится. Таким образом, предполагаем, что средние пользовательские рейтинги платформ Xbox One и РС одинаковые. Если выводить их значения получим средний пользовательский рейтинг для Xbox One - 6.47, для РС - 6.75. Видно, что средние рейтинги отличаются не сильно."
   ]
  },
  {
   "cell_type": "markdown",
   "metadata": {},
   "source": [
    "### Средние пользовательские рейтинги Action и Sports разные"
   ]
  },
  {
   "cell_type": "markdown",
   "metadata": {},
   "source": [
    "Сформулируем нулевую и альтернативную гипотезы:\n",
    "- Н0 (нулевая гипотеза): средние пользовательские рейтинги жанров Action и Sports одинаковые\n",
    "- Н1 (альтернативная гипотеза): средние пользовательские рейтинги жанров Action и Sports  разные"
   ]
  },
  {
   "cell_type": "code",
   "execution_count": 88,
   "metadata": {},
   "outputs": [],
   "source": [
    "# создадим столбец с рейтингом для жанра Action\n",
    "action_rating = data_actual_period[(data_actual_period['genre'] == 'action')&(data_actual_period['user_score'].isna()==False)]['user_score']"
   ]
  },
  {
   "cell_type": "code",
   "execution_count": 89,
   "metadata": {},
   "outputs": [
    {
     "name": "stdout",
     "output_type": "stream",
     "text": [
      "Количество строк с рейтингом: 297\n"
     ]
    }
   ],
   "source": [
    "# определим, достаточное ли количество строк для использования t-критерия Стьюдента \n",
    "print('Количество строк с рейтингом:', action_rating.count())"
   ]
  },
  {
   "cell_type": "code",
   "execution_count": 90,
   "metadata": {},
   "outputs": [],
   "source": [
    "# создадим столбец с рейтингом для жанра Sports\n",
    "sports_rating = data_actual_period[(data_actual_period['genre'] == 'sports')&(data_actual_period['user_score'].isna()==False)]['user_score']"
   ]
  },
  {
   "cell_type": "code",
   "execution_count": 91,
   "metadata": {},
   "outputs": [
    {
     "name": "stdout",
     "output_type": "stream",
     "text": [
      "Количество строк с рейтингом: 127\n"
     ]
    }
   ],
   "source": [
    "# определим, достаточное ли количество строк для использования t-критерия Стьюдента\n",
    "print('Количество строк с рейтингом:', sports_rating.count())"
   ]
  },
  {
   "cell_type": "code",
   "execution_count": 92,
   "metadata": {},
   "outputs": [
    {
     "name": "stdout",
     "output_type": "stream",
     "text": [
      "р-значение: 2.8711147985105864e-19\n",
      "Отвергаем нулевую гипотезу\n"
     ]
    }
   ],
   "source": [
    "# проведем проверку гипотезы\n",
    "results = st.ttest_ind(action_rating, sports_rating)\n",
    "print(f'р-значение: {results.pvalue}')\n",
    "if results.pvalue < alpha:\n",
    "    print('Отвергаем нулевую гипотезу')\n",
    "else:\n",
    "    print('Не получится отвергнуть нулевую гипотезу')"
   ]
  },
  {
   "cell_type": "code",
   "execution_count": 93,
   "metadata": {},
   "outputs": [
    {
     "name": "stdout",
     "output_type": "stream",
     "text": [
      "Средняя пользовательская оценка игр жанра Action: 6.760606060606061\n",
      "Средняя пользовательская оценка игр жанра Sports: 5.2251968503937\n"
     ]
    }
   ],
   "source": [
    "# посчитаем средний рейтинг по двум платформам\n",
    "print('Средняя пользовательская оценка игр жанра Action:', action_rating.mean())\n",
    "print('Средняя пользовательская оценка игр жанра Sports:', sports_rating.mean())"
   ]
  },
  {
   "cell_type": "markdown",
   "metadata": {},
   "source": [
    "Так как p-value - это вероятность получить такое или бОльшее различие в выборочных средних при условии, что нулевая гипотеза верна. Здесь мы получили меньшую вероятность такого события, поэтому можем предположить, что нулевую гипотезу можно отвергнуть. Таким образом, предполагаем, что средние пользовательские рейтинги жанров Action и Sports разные. Если выводить их значения получим средний пользовательский рейтинг для Action - 6.87, для Sports - 6.27. Видно, что средние рейтинги отличаются."
   ]
  },
  {
   "cell_type": "markdown",
   "metadata": {},
   "source": [
    "### Вывод"
   ]
  },
  {
   "cell_type": "markdown",
   "metadata": {},
   "source": [
    "В ходе проверки гипотез получили следующее:\n",
    "1. средние пользовательские рейтинги платформ Xbox One и PC одинаковые\n",
    "2. средние пользовательские рейтинги жанров Action и Sports разные"
   ]
  },
  {
   "cell_type": "markdown",
   "metadata": {},
   "source": [
    "## Общий вывод"
   ]
  },
  {
   "cell_type": "markdown",
   "metadata": {},
   "source": [
    "В ходе проведенной работы было сделано следующее:\n",
    "\n",
    "1) был изучен датасет и проведена предобработка датасета (названия столбцов приведены к одному регистру, объемы продаж из миллионов копий приведены к тысячам копий,  проанализированы пропуски, на основании анализа было принято решение не заполнять пропуски, так как информация специфическая для каждой игры и платформы и заполнять средними или медианными значениями будет неверно, были обработаны пропуски tbd, и заменены на nan, изменены типы данных в столбцах: year_of_release, critic_score, user_score, привдены все названия в столбцах к одному регистру, добавлен столбец total_sales, в котором указаны суммарные объемы продаж каждой игры по всем, представленным в анализе регионам)\n",
    "\n",
    "2) в ходе проведенного исследовательского анализа было получено следующее:\n",
    "   - первые игры начала появляться еще в 1980 году, причем с 1980 по 1993 год заметно плато, с 1994 года начинается резкий рост продаж и выпуска игр, пик наступает в 2008-2009 годах, после чего начинается падение продаж компьютерных игр, которое продолжается до сих пор. Упор идет на игры для мобильных устройств.\n",
    "   - за весь период существования компьютерных игр, можно выделить наиболее популярные платформы: ds, ps, ps2, ps3, wii, x360\n",
    "   \n",
    "   Можно выделить, что платформы живут 10-12, но при этом их обновление происходит в среднем за 7 лет. Таким образом актуальным периодом, на основании которого можно строить модель прогноза на 2017 год можно считать период с 2008 по 2015 годв включительно.\n",
    "   - исходя из актуального периода самыми прибыльными платформами являются: ps4, xone, 3ds, ps3, x360, wiiu\n",
    "   - потенциально прибыльными платформами являются: wiiu, psv, wii, pc, 3ds\n",
    "   - благодаря анализу мы выяснили, что объемы продаж в большинстве своем зависят от полоительной оценки критиков, и чем выше рейтинг, тем больше зависисмость объема продаж. При этом зависимость объемов продаж от рейтинга пользователей небольшая. Это логично, так как пользователи с большей охотой приобретают игры с хорошим рейтингом критиков\n",
    "   - жанрами, приносящими стабильно высокий доход являются: shooter, sports, platform, fighting\n",
    "   - жанрами, приносящими стабильно низкий доход являются: adventure, strategy, puzzle\n",
    "   \n",
    "3) составили портрет пользователя каждого региона:\n",
    "   1. Северная Америка:\n",
    "      - самые популярные платформы: ps4, xone, x360, 3ds, ps3\n",
    "      - самые популярные жанры: shooter, action, sports, role-playing, misk\n",
    "      - рейтинги ESRB, которые больше всего влияют на объем продаж: e - для всех, m - для взрослых и нет данных\n",
    "   \n",
    "   2. Европа:\n",
    "      - самые популярные платформы: ps4, xone, ps3, pc, 3ds\n",
    "      - самые популярные жанры: action, shooter, sports, role-playing, racing\n",
    "      - рейтинги ESRB, которые больше всего влияют на объем продаж: e - для всех, m - для взрослых  и нет данных\n",
    "   \n",
    "   3. Япония:\n",
    "      - самые популярные платформы: 3ds, ps4, psv, ps3, wiiu \n",
    "      - самые популярные жанры: role-playing, action, fighting, misk, shooter \n",
    "      - рейтинги ESRB, которые больше всего влияют на объем продаж: нет данных, e - для всех, t - для подростков\n",
    "   \n",
    "4) в ходе проверки гипотез получили следующее:\n",
    "   - средние пользовательские рейтинги платформ Xbox One и PC одинаковые\n",
    "   - средние пользовательские рейтинги жанров Action и Sports разные\n",
    "   \n",
    "5) для регионов Европы и Северной Америки можно выявить следуюющие закономерности успешной игры:\n",
    "   - игра может быть реализована на платформах xone, ps4, в жанре action, shooter, sports, с рейтингом ESRB E или M, и игра должна быть такой, чтобы понравилась критикам.\n",
    "   \n",
    "6) для Японии можно выявить следуюющие закономерности успешной игры:\n",
    "   - игра может быть реализована на платформе 3ds, в жанре role-playing или action, с рейтингом ESRB T, и игра должна быть такой, чтобы понравилась критикам."
   ]
  },
  {
   "cell_type": "code",
   "execution_count": null,
   "metadata": {},
   "outputs": [],
   "source": []
  }
 ],
 "metadata": {
  "ExecuteTimeLog": [
   {
    "duration": 1474,
    "start_time": "2022-02-13T21:52:56.314Z"
   },
   {
    "duration": 2453,
    "start_time": "2022-02-13T21:53:51.507Z"
   },
   {
    "duration": 65,
    "start_time": "2022-02-13T21:54:17.131Z"
   },
   {
    "duration": 14,
    "start_time": "2022-02-13T21:54:45.578Z"
   },
   {
    "duration": 5,
    "start_time": "2022-02-13T21:55:25.338Z"
   },
   {
    "duration": 5,
    "start_time": "2022-02-13T21:55:52.416Z"
   },
   {
    "duration": 6,
    "start_time": "2022-02-13T21:56:04.940Z"
   },
   {
    "duration": 26,
    "start_time": "2022-02-13T21:56:25.115Z"
   },
   {
    "duration": 27,
    "start_time": "2022-02-13T21:56:41.040Z"
   },
   {
    "duration": 19,
    "start_time": "2022-02-13T21:56:58.448Z"
   },
   {
    "duration": 11,
    "start_time": "2022-02-13T21:57:17.510Z"
   },
   {
    "duration": 19,
    "start_time": "2022-02-13T21:57:35.969Z"
   },
   {
    "duration": 10,
    "start_time": "2022-02-13T21:57:54.022Z"
   },
   {
    "duration": 11,
    "start_time": "2022-02-13T21:58:20.197Z"
   },
   {
    "duration": 11,
    "start_time": "2022-02-13T21:58:37.656Z"
   },
   {
    "duration": 11,
    "start_time": "2022-02-13T21:58:56.573Z"
   },
   {
    "duration": 11,
    "start_time": "2022-02-13T21:59:16.009Z"
   },
   {
    "duration": 9,
    "start_time": "2022-02-13T21:59:39.966Z"
   },
   {
    "duration": 12,
    "start_time": "2022-02-13T22:00:09.732Z"
   },
   {
    "duration": 16,
    "start_time": "2022-02-13T22:00:34.001Z"
   },
   {
    "duration": 10,
    "start_time": "2022-02-13T22:00:58.567Z"
   },
   {
    "duration": 17,
    "start_time": "2022-02-13T22:01:19.842Z"
   },
   {
    "duration": 19,
    "start_time": "2022-02-13T22:01:36.989Z"
   },
   {
    "duration": 6,
    "start_time": "2022-02-13T22:10:22.825Z"
   },
   {
    "duration": 5,
    "start_time": "2022-02-13T22:10:47.267Z"
   },
   {
    "duration": 4,
    "start_time": "2022-02-13T22:10:56.584Z"
   },
   {
    "duration": 282,
    "start_time": "2022-02-13T22:10:58.444Z"
   },
   {
    "duration": 284,
    "start_time": "2022-02-13T22:11:13.852Z"
   },
   {
    "duration": 297,
    "start_time": "2022-02-13T22:11:22.197Z"
   },
   {
    "duration": 280,
    "start_time": "2022-02-13T22:11:26.881Z"
   },
   {
    "duration": 265,
    "start_time": "2022-02-13T22:11:37.068Z"
   },
   {
    "duration": 284,
    "start_time": "2022-02-13T22:12:39.151Z"
   },
   {
    "duration": 1592,
    "start_time": "2022-02-13T22:12:48.050Z"
   },
   {
    "duration": 134,
    "start_time": "2022-02-13T22:12:49.645Z"
   },
   {
    "duration": 29,
    "start_time": "2022-02-13T22:12:49.783Z"
   },
   {
    "duration": 18,
    "start_time": "2022-02-13T22:12:49.816Z"
   },
   {
    "duration": 10,
    "start_time": "2022-02-13T22:12:49.836Z"
   },
   {
    "duration": 29,
    "start_time": "2022-02-13T22:12:49.849Z"
   },
   {
    "duration": 29,
    "start_time": "2022-02-13T22:12:49.881Z"
   },
   {
    "duration": 19,
    "start_time": "2022-02-13T22:12:49.925Z"
   },
   {
    "duration": 10,
    "start_time": "2022-02-13T22:12:49.947Z"
   },
   {
    "duration": 18,
    "start_time": "2022-02-13T22:12:49.960Z"
   },
   {
    "duration": 47,
    "start_time": "2022-02-13T22:12:49.981Z"
   },
   {
    "duration": 10,
    "start_time": "2022-02-13T22:12:50.030Z"
   },
   {
    "duration": 10,
    "start_time": "2022-02-13T22:12:50.042Z"
   },
   {
    "duration": 8,
    "start_time": "2022-02-13T22:12:50.055Z"
   },
   {
    "duration": 9,
    "start_time": "2022-02-13T22:12:50.066Z"
   },
   {
    "duration": 55,
    "start_time": "2022-02-13T22:12:50.077Z"
   },
   {
    "duration": 16,
    "start_time": "2022-02-13T22:12:50.135Z"
   },
   {
    "duration": 10,
    "start_time": "2022-02-13T22:12:50.153Z"
   },
   {
    "duration": 17,
    "start_time": "2022-02-13T22:12:50.166Z"
   },
   {
    "duration": 4,
    "start_time": "2022-02-13T22:12:50.224Z"
   },
   {
    "duration": 5,
    "start_time": "2022-02-13T22:13:09.137Z"
   },
   {
    "duration": 13,
    "start_time": "2022-02-13T22:17:07.581Z"
   },
   {
    "duration": 18,
    "start_time": "2022-02-13T22:17:31.505Z"
   },
   {
    "duration": 733,
    "start_time": "2022-02-13T22:41:26.706Z"
   },
   {
    "duration": 10,
    "start_time": "2022-02-13T22:43:23.287Z"
   },
   {
    "duration": 12,
    "start_time": "2022-02-13T22:43:45.067Z"
   },
   {
    "duration": 13,
    "start_time": "2022-02-13T22:46:19.538Z"
   },
   {
    "duration": 10,
    "start_time": "2022-02-13T22:55:07.183Z"
   },
   {
    "duration": 13,
    "start_time": "2022-02-13T22:55:42.984Z"
   },
   {
    "duration": 578,
    "start_time": "2022-02-13T22:57:20.230Z"
   },
   {
    "duration": 611,
    "start_time": "2022-02-13T22:57:35.328Z"
   },
   {
    "duration": 1591,
    "start_time": "2022-02-13T22:57:55.899Z"
   },
   {
    "duration": 69,
    "start_time": "2022-02-13T22:57:57.493Z"
   },
   {
    "duration": 15,
    "start_time": "2022-02-13T22:57:57.566Z"
   },
   {
    "duration": 4,
    "start_time": "2022-02-13T22:57:57.584Z"
   },
   {
    "duration": 33,
    "start_time": "2022-02-13T22:57:57.591Z"
   },
   {
    "duration": 28,
    "start_time": "2022-02-13T22:57:57.627Z"
   },
   {
    "duration": 28,
    "start_time": "2022-02-13T22:57:57.658Z"
   },
   {
    "duration": 48,
    "start_time": "2022-02-13T22:57:57.690Z"
   },
   {
    "duration": 11,
    "start_time": "2022-02-13T22:57:57.741Z"
   },
   {
    "duration": 19,
    "start_time": "2022-02-13T22:57:57.754Z"
   },
   {
    "duration": 53,
    "start_time": "2022-02-13T22:57:57.775Z"
   },
   {
    "duration": 13,
    "start_time": "2022-02-13T22:57:57.830Z"
   },
   {
    "duration": 10,
    "start_time": "2022-02-13T22:57:57.845Z"
   },
   {
    "duration": 13,
    "start_time": "2022-02-13T22:57:57.858Z"
   },
   {
    "duration": 50,
    "start_time": "2022-02-13T22:57:57.873Z"
   },
   {
    "duration": 9,
    "start_time": "2022-02-13T22:57:57.926Z"
   },
   {
    "duration": 16,
    "start_time": "2022-02-13T22:57:57.937Z"
   },
   {
    "duration": 11,
    "start_time": "2022-02-13T22:57:57.956Z"
   },
   {
    "duration": 70,
    "start_time": "2022-02-13T22:57:57.970Z"
   },
   {
    "duration": 5,
    "start_time": "2022-02-13T22:57:58.043Z"
   },
   {
    "duration": 7,
    "start_time": "2022-02-13T22:57:58.052Z"
   },
   {
    "duration": 13,
    "start_time": "2022-02-13T22:57:58.062Z"
   },
   {
    "duration": 55,
    "start_time": "2022-02-13T22:57:58.081Z"
   },
   {
    "duration": 12,
    "start_time": "2022-02-13T22:57:58.139Z"
   },
   {
    "duration": 12,
    "start_time": "2022-02-13T22:57:58.154Z"
   },
   {
    "duration": 13,
    "start_time": "2022-02-13T22:57:58.169Z"
   },
   {
    "duration": 626,
    "start_time": "2022-02-13T22:57:58.225Z"
   },
   {
    "duration": 13,
    "start_time": "2022-02-13T22:57:58.855Z"
   },
   {
    "duration": 10,
    "start_time": "2022-02-13T23:02:20.151Z"
   },
   {
    "duration": 34,
    "start_time": "2022-02-13T23:02:59.467Z"
   },
   {
    "duration": 31,
    "start_time": "2022-02-13T23:04:47.554Z"
   },
   {
    "duration": 119,
    "start_time": "2022-02-13T23:21:51.211Z"
   },
   {
    "duration": 33,
    "start_time": "2022-02-13T23:22:39.022Z"
   },
   {
    "duration": 21,
    "start_time": "2022-02-13T23:24:04.502Z"
   },
   {
    "duration": 35,
    "start_time": "2022-02-13T23:24:14.890Z"
   },
   {
    "duration": 34,
    "start_time": "2022-02-13T23:25:06.058Z"
   },
   {
    "duration": 33,
    "start_time": "2022-02-13T23:25:40.205Z"
   },
   {
    "duration": 36,
    "start_time": "2022-02-13T23:26:09.826Z"
   },
   {
    "duration": 33,
    "start_time": "2022-02-13T23:26:59.443Z"
   },
   {
    "duration": 34,
    "start_time": "2022-02-13T23:30:29.026Z"
   },
   {
    "duration": 33,
    "start_time": "2022-02-13T23:33:36.808Z"
   },
   {
    "duration": 34,
    "start_time": "2022-02-13T23:33:49.956Z"
   },
   {
    "duration": 1460,
    "start_time": "2022-02-15T20:40:32.695Z"
   },
   {
    "duration": 56,
    "start_time": "2022-02-15T20:40:34.157Z"
   },
   {
    "duration": 11,
    "start_time": "2022-02-15T20:40:34.215Z"
   },
   {
    "duration": 3,
    "start_time": "2022-02-15T20:40:34.228Z"
   },
   {
    "duration": 5,
    "start_time": "2022-02-15T20:40:34.233Z"
   },
   {
    "duration": 14,
    "start_time": "2022-02-15T20:40:34.240Z"
   },
   {
    "duration": 18,
    "start_time": "2022-02-15T20:40:34.256Z"
   },
   {
    "duration": 11,
    "start_time": "2022-02-15T20:40:34.277Z"
   },
   {
    "duration": 7,
    "start_time": "2022-02-15T20:40:34.290Z"
   },
   {
    "duration": 42,
    "start_time": "2022-02-15T20:40:34.298Z"
   },
   {
    "duration": 6,
    "start_time": "2022-02-15T20:40:34.342Z"
   },
   {
    "duration": 6,
    "start_time": "2022-02-15T20:40:34.350Z"
   },
   {
    "duration": 6,
    "start_time": "2022-02-15T20:40:34.357Z"
   },
   {
    "duration": 8,
    "start_time": "2022-02-15T20:40:34.365Z"
   },
   {
    "duration": 7,
    "start_time": "2022-02-15T20:40:34.374Z"
   },
   {
    "duration": 12,
    "start_time": "2022-02-15T20:40:34.383Z"
   },
   {
    "duration": 38,
    "start_time": "2022-02-15T20:40:34.397Z"
   },
   {
    "duration": 8,
    "start_time": "2022-02-15T20:40:34.437Z"
   },
   {
    "duration": 12,
    "start_time": "2022-02-15T20:40:34.447Z"
   },
   {
    "duration": 2,
    "start_time": "2022-02-15T20:40:34.461Z"
   },
   {
    "duration": 8,
    "start_time": "2022-02-15T20:40:34.465Z"
   },
   {
    "duration": 13,
    "start_time": "2022-02-15T20:40:34.475Z"
   },
   {
    "duration": 14,
    "start_time": "2022-02-15T20:40:34.490Z"
   },
   {
    "duration": 27,
    "start_time": "2022-02-15T20:40:34.505Z"
   },
   {
    "duration": 5,
    "start_time": "2022-02-15T20:40:34.533Z"
   },
   {
    "duration": 7,
    "start_time": "2022-02-15T20:40:34.539Z"
   },
   {
    "duration": 412,
    "start_time": "2022-02-15T20:40:34.547Z"
   },
   {
    "duration": 18,
    "start_time": "2022-02-15T20:40:34.961Z"
   },
   {
    "duration": 18,
    "start_time": "2022-02-15T20:40:34.980Z"
   },
   {
    "duration": 32,
    "start_time": "2022-02-15T20:40:35.000Z"
   },
   {
    "duration": 17,
    "start_time": "2022-02-15T20:40:35.034Z"
   },
   {
    "duration": 19,
    "start_time": "2022-02-15T20:40:35.052Z"
   },
   {
    "duration": 8826,
    "start_time": "2022-02-15T20:41:52.135Z"
   },
   {
    "duration": 17,
    "start_time": "2022-02-15T20:42:19.756Z"
   },
   {
    "duration": 4,
    "start_time": "2022-02-15T20:54:40.696Z"
   },
   {
    "duration": 4,
    "start_time": "2022-02-15T20:55:28.828Z"
   },
   {
    "duration": 5,
    "start_time": "2022-02-15T20:56:09.609Z"
   },
   {
    "duration": 11,
    "start_time": "2022-02-15T20:56:31.253Z"
   },
   {
    "duration": 24,
    "start_time": "2022-02-15T21:05:22.483Z"
   },
   {
    "duration": 11,
    "start_time": "2022-02-15T21:05:51.181Z"
   },
   {
    "duration": 22,
    "start_time": "2022-02-15T21:08:17.425Z"
   },
   {
    "duration": 5,
    "start_time": "2022-02-15T21:14:14.927Z"
   },
   {
    "duration": 14,
    "start_time": "2022-02-15T21:14:45.489Z"
   },
   {
    "duration": 1071,
    "start_time": "2022-02-15T21:33:53.989Z"
   },
   {
    "duration": 193,
    "start_time": "2022-02-15T21:33:55.062Z"
   },
   {
    "duration": 9,
    "start_time": "2022-02-15T21:33:55.257Z"
   },
   {
    "duration": 14,
    "start_time": "2022-02-15T21:33:55.268Z"
   },
   {
    "duration": 29,
    "start_time": "2022-02-15T21:33:55.284Z"
   },
   {
    "duration": 37,
    "start_time": "2022-02-15T21:33:55.314Z"
   },
   {
    "duration": 17,
    "start_time": "2022-02-15T21:33:55.353Z"
   },
   {
    "duration": 26,
    "start_time": "2022-02-15T21:33:55.373Z"
   },
   {
    "duration": 25,
    "start_time": "2022-02-15T21:33:55.401Z"
   },
   {
    "duration": 16,
    "start_time": "2022-02-15T21:33:55.428Z"
   },
   {
    "duration": 36,
    "start_time": "2022-02-15T21:33:55.446Z"
   },
   {
    "duration": 7,
    "start_time": "2022-02-15T21:33:55.484Z"
   },
   {
    "duration": 13,
    "start_time": "2022-02-15T21:33:55.492Z"
   },
   {
    "duration": 10,
    "start_time": "2022-02-15T21:33:55.507Z"
   },
   {
    "duration": 10,
    "start_time": "2022-02-15T21:33:55.518Z"
   },
   {
    "duration": 12,
    "start_time": "2022-02-15T21:33:55.530Z"
   },
   {
    "duration": 15,
    "start_time": "2022-02-15T21:33:55.544Z"
   },
   {
    "duration": 15,
    "start_time": "2022-02-15T21:33:55.561Z"
   },
   {
    "duration": 31,
    "start_time": "2022-02-15T21:33:55.578Z"
   },
   {
    "duration": 15,
    "start_time": "2022-02-15T21:33:55.611Z"
   },
   {
    "duration": 7,
    "start_time": "2022-02-15T21:33:55.628Z"
   },
   {
    "duration": 17,
    "start_time": "2022-02-15T21:33:55.637Z"
   },
   {
    "duration": 13,
    "start_time": "2022-02-15T21:33:55.657Z"
   },
   {
    "duration": 11,
    "start_time": "2022-02-15T21:33:55.672Z"
   },
   {
    "duration": 11,
    "start_time": "2022-02-15T21:33:55.685Z"
   },
   {
    "duration": 10,
    "start_time": "2022-02-15T21:33:55.698Z"
   },
   {
    "duration": 453,
    "start_time": "2022-02-15T21:33:55.709Z"
   },
   {
    "duration": 20,
    "start_time": "2022-02-15T21:33:56.164Z"
   },
   {
    "duration": 17,
    "start_time": "2022-02-15T21:33:56.186Z"
   },
   {
    "duration": 35,
    "start_time": "2022-02-15T21:33:56.204Z"
   },
   {
    "duration": 17,
    "start_time": "2022-02-15T21:33:56.240Z"
   },
   {
    "duration": 17,
    "start_time": "2022-02-15T21:33:56.259Z"
   },
   {
    "duration": 16,
    "start_time": "2022-02-15T21:33:56.277Z"
   },
   {
    "duration": 4,
    "start_time": "2022-02-15T21:33:56.294Z"
   },
   {
    "duration": 43,
    "start_time": "2022-02-15T21:33:56.300Z"
   },
   {
    "duration": 7,
    "start_time": "2022-02-15T21:33:56.344Z"
   },
   {
    "duration": 32,
    "start_time": "2022-02-15T21:33:56.352Z"
   },
   {
    "duration": 30,
    "start_time": "2022-02-15T21:33:56.386Z"
   },
   {
    "duration": 12,
    "start_time": "2022-02-15T21:33:56.417Z"
   },
   {
    "duration": 20,
    "start_time": "2022-02-15T21:33:56.431Z"
   },
   {
    "duration": 3,
    "start_time": "2022-02-15T21:33:56.453Z"
   },
   {
    "duration": 13,
    "start_time": "2022-02-15T21:33:56.458Z"
   },
   {
    "duration": 431,
    "start_time": "2022-02-15T21:33:56.472Z"
   },
   {
    "duration": 322,
    "start_time": "2022-02-15T21:40:58.486Z"
   },
   {
    "duration": 283,
    "start_time": "2022-02-15T21:41:08.965Z"
   },
   {
    "duration": 391,
    "start_time": "2022-02-15T21:41:47.620Z"
   },
   {
    "duration": 423,
    "start_time": "2022-02-15T21:41:58.318Z"
   },
   {
    "duration": 322,
    "start_time": "2022-02-15T21:42:09.124Z"
   },
   {
    "duration": 340,
    "start_time": "2022-02-15T21:44:08.450Z"
   },
   {
    "duration": 344,
    "start_time": "2022-02-15T21:46:15.157Z"
   },
   {
    "duration": 329,
    "start_time": "2022-02-15T21:46:34.694Z"
   },
   {
    "duration": 2856,
    "start_time": "2022-02-15T22:18:15.235Z"
   },
   {
    "duration": 8530,
    "start_time": "2022-02-15T22:20:43.813Z"
   },
   {
    "duration": 176,
    "start_time": "2022-02-15T22:21:15.121Z"
   },
   {
    "duration": 221,
    "start_time": "2022-02-15T23:36:03.148Z"
   },
   {
    "duration": 439,
    "start_time": "2022-02-15T23:39:37.604Z"
   },
   {
    "duration": 495,
    "start_time": "2022-02-15T23:39:59.023Z"
   },
   {
    "duration": 341,
    "start_time": "2022-02-15T23:46:08.920Z"
   },
   {
    "duration": 236,
    "start_time": "2022-02-15T23:46:38.586Z"
   },
   {
    "duration": 313,
    "start_time": "2022-02-15T23:46:43.514Z"
   },
   {
    "duration": 495,
    "start_time": "2022-02-15T23:47:16.767Z"
   },
   {
    "duration": 16,
    "start_time": "2022-02-15T23:47:31.300Z"
   },
   {
    "duration": 330,
    "start_time": "2022-02-15T23:48:04.932Z"
   },
   {
    "duration": 1089,
    "start_time": "2022-02-15T23:48:14.947Z"
   },
   {
    "duration": 47,
    "start_time": "2022-02-15T23:48:16.038Z"
   },
   {
    "duration": 9,
    "start_time": "2022-02-15T23:48:16.087Z"
   },
   {
    "duration": 3,
    "start_time": "2022-02-15T23:48:16.098Z"
   },
   {
    "duration": 3,
    "start_time": "2022-02-15T23:48:16.103Z"
   },
   {
    "duration": 31,
    "start_time": "2022-02-15T23:48:16.107Z"
   },
   {
    "duration": 17,
    "start_time": "2022-02-15T23:48:16.140Z"
   },
   {
    "duration": 12,
    "start_time": "2022-02-15T23:48:16.159Z"
   },
   {
    "duration": 7,
    "start_time": "2022-02-15T23:48:16.173Z"
   },
   {
    "duration": 12,
    "start_time": "2022-02-15T23:48:16.181Z"
   },
   {
    "duration": 40,
    "start_time": "2022-02-15T23:48:16.195Z"
   },
   {
    "duration": 6,
    "start_time": "2022-02-15T23:48:16.236Z"
   },
   {
    "duration": 6,
    "start_time": "2022-02-15T23:48:16.243Z"
   },
   {
    "duration": 9,
    "start_time": "2022-02-15T23:48:16.251Z"
   },
   {
    "duration": 9,
    "start_time": "2022-02-15T23:48:16.261Z"
   },
   {
    "duration": 8,
    "start_time": "2022-02-15T23:48:16.271Z"
   },
   {
    "duration": 14,
    "start_time": "2022-02-15T23:48:16.280Z"
   },
   {
    "duration": 10,
    "start_time": "2022-02-15T23:48:16.295Z"
   },
   {
    "duration": 35,
    "start_time": "2022-02-15T23:48:16.306Z"
   },
   {
    "duration": 3,
    "start_time": "2022-02-15T23:48:16.342Z"
   },
   {
    "duration": 8,
    "start_time": "2022-02-15T23:48:16.346Z"
   },
   {
    "duration": 11,
    "start_time": "2022-02-15T23:48:16.356Z"
   },
   {
    "duration": 11,
    "start_time": "2022-02-15T23:48:16.370Z"
   },
   {
    "duration": 8,
    "start_time": "2022-02-15T23:48:16.383Z"
   },
   {
    "duration": 8,
    "start_time": "2022-02-15T23:48:16.393Z"
   },
   {
    "duration": 11,
    "start_time": "2022-02-15T23:48:16.402Z"
   },
   {
    "duration": 403,
    "start_time": "2022-02-15T23:48:16.431Z"
   },
   {
    "duration": 18,
    "start_time": "2022-02-15T23:48:16.835Z"
   },
   {
    "duration": 17,
    "start_time": "2022-02-15T23:48:16.854Z"
   },
   {
    "duration": 17,
    "start_time": "2022-02-15T23:48:16.872Z"
   },
   {
    "duration": 43,
    "start_time": "2022-02-15T23:48:16.890Z"
   },
   {
    "duration": 18,
    "start_time": "2022-02-15T23:48:16.934Z"
   },
   {
    "duration": 15,
    "start_time": "2022-02-15T23:48:16.954Z"
   },
   {
    "duration": 5,
    "start_time": "2022-02-15T23:48:16.970Z"
   },
   {
    "duration": 5,
    "start_time": "2022-02-15T23:48:16.977Z"
   },
   {
    "duration": 4,
    "start_time": "2022-02-15T23:48:16.983Z"
   },
   {
    "duration": 13,
    "start_time": "2022-02-15T23:48:16.988Z"
   },
   {
    "duration": 47,
    "start_time": "2022-02-15T23:48:17.002Z"
   },
   {
    "duration": 10,
    "start_time": "2022-02-15T23:48:17.051Z"
   },
   {
    "duration": 20,
    "start_time": "2022-02-15T23:48:17.063Z"
   },
   {
    "duration": 3,
    "start_time": "2022-02-15T23:48:17.085Z"
   },
   {
    "duration": 15,
    "start_time": "2022-02-15T23:48:17.090Z"
   },
   {
    "duration": 367,
    "start_time": "2022-02-15T23:48:17.107Z"
   },
   {
    "duration": 16,
    "start_time": "2022-02-15T23:48:17.475Z"
   },
   {
    "duration": 414,
    "start_time": "2022-02-15T23:48:17.493Z"
   },
   {
    "duration": -1995,
    "start_time": "2022-02-15T23:48:19.904Z"
   },
   {
    "duration": 327,
    "start_time": "2022-02-15T23:48:33.762Z"
   },
   {
    "duration": 27,
    "start_time": "2022-02-15T23:49:46.779Z"
   },
   {
    "duration": 10,
    "start_time": "2022-02-15T23:52:47.411Z"
   },
   {
    "duration": 7,
    "start_time": "2022-02-15T23:52:49.165Z"
   },
   {
    "duration": 8,
    "start_time": "2022-02-15T23:53:29.897Z"
   },
   {
    "duration": 7,
    "start_time": "2022-02-15T23:53:46.157Z"
   },
   {
    "duration": 17,
    "start_time": "2022-02-15T23:58:25.248Z"
   },
   {
    "duration": 398,
    "start_time": "2022-02-15T23:58:49.323Z"
   },
   {
    "duration": 7,
    "start_time": "2022-02-15T23:59:08.727Z"
   },
   {
    "duration": 19,
    "start_time": "2022-02-15T23:59:40.253Z"
   },
   {
    "duration": 21,
    "start_time": "2022-02-15T23:59:40.965Z"
   },
   {
    "duration": 368,
    "start_time": "2022-02-15T23:59:46.662Z"
   },
   {
    "duration": 1111,
    "start_time": "2022-02-16T12:57:06.264Z"
   },
   {
    "duration": 55,
    "start_time": "2022-02-16T12:57:07.376Z"
   },
   {
    "duration": 8,
    "start_time": "2022-02-16T12:57:07.433Z"
   },
   {
    "duration": 5,
    "start_time": "2022-02-16T12:57:07.443Z"
   },
   {
    "duration": 5,
    "start_time": "2022-02-16T12:57:07.449Z"
   },
   {
    "duration": 14,
    "start_time": "2022-02-16T12:57:07.455Z"
   },
   {
    "duration": 16,
    "start_time": "2022-02-16T12:57:07.470Z"
   },
   {
    "duration": 11,
    "start_time": "2022-02-16T12:57:07.489Z"
   },
   {
    "duration": 5,
    "start_time": "2022-02-16T12:57:07.502Z"
   },
   {
    "duration": 40,
    "start_time": "2022-02-16T12:57:07.509Z"
   },
   {
    "duration": 5,
    "start_time": "2022-02-16T12:57:07.551Z"
   },
   {
    "duration": 6,
    "start_time": "2022-02-16T12:57:07.558Z"
   },
   {
    "duration": 5,
    "start_time": "2022-02-16T12:57:07.566Z"
   },
   {
    "duration": 5,
    "start_time": "2022-02-16T12:57:07.573Z"
   },
   {
    "duration": 6,
    "start_time": "2022-02-16T12:57:07.579Z"
   },
   {
    "duration": 5,
    "start_time": "2022-02-16T12:57:07.587Z"
   },
   {
    "duration": 10,
    "start_time": "2022-02-16T12:57:07.593Z"
   },
   {
    "duration": 46,
    "start_time": "2022-02-16T12:57:07.605Z"
   },
   {
    "duration": 12,
    "start_time": "2022-02-16T12:57:07.652Z"
   },
   {
    "duration": 2,
    "start_time": "2022-02-16T12:57:07.665Z"
   },
   {
    "duration": 6,
    "start_time": "2022-02-16T12:57:07.668Z"
   },
   {
    "duration": 7,
    "start_time": "2022-02-16T12:57:07.675Z"
   },
   {
    "duration": 11,
    "start_time": "2022-02-16T12:57:07.684Z"
   },
   {
    "duration": 8,
    "start_time": "2022-02-16T12:57:07.696Z"
   },
   {
    "duration": 7,
    "start_time": "2022-02-16T12:57:07.705Z"
   },
   {
    "duration": 35,
    "start_time": "2022-02-16T12:57:07.713Z"
   },
   {
    "duration": 402,
    "start_time": "2022-02-16T12:57:07.749Z"
   },
   {
    "duration": 17,
    "start_time": "2022-02-16T12:57:08.153Z"
   },
   {
    "duration": 16,
    "start_time": "2022-02-16T12:57:08.172Z"
   },
   {
    "duration": 17,
    "start_time": "2022-02-16T12:57:08.190Z"
   },
   {
    "duration": 44,
    "start_time": "2022-02-16T12:57:08.209Z"
   },
   {
    "duration": 18,
    "start_time": "2022-02-16T12:57:08.254Z"
   },
   {
    "duration": 16,
    "start_time": "2022-02-16T12:57:08.273Z"
   },
   {
    "duration": 3,
    "start_time": "2022-02-16T12:57:08.290Z"
   },
   {
    "duration": 3,
    "start_time": "2022-02-16T12:57:08.295Z"
   },
   {
    "duration": 5,
    "start_time": "2022-02-16T12:57:08.299Z"
   },
   {
    "duration": 11,
    "start_time": "2022-02-16T12:57:08.305Z"
   },
   {
    "duration": 21,
    "start_time": "2022-02-16T12:57:08.346Z"
   },
   {
    "duration": 14,
    "start_time": "2022-02-16T12:57:08.369Z"
   },
   {
    "duration": 20,
    "start_time": "2022-02-16T12:57:08.385Z"
   },
   {
    "duration": 3,
    "start_time": "2022-02-16T12:57:08.407Z"
   },
   {
    "duration": 38,
    "start_time": "2022-02-16T12:57:08.412Z"
   },
   {
    "duration": 335,
    "start_time": "2022-02-16T12:57:08.452Z"
   },
   {
    "duration": 10,
    "start_time": "2022-02-16T12:57:08.789Z"
   },
   {
    "duration": 7,
    "start_time": "2022-02-16T12:57:08.801Z"
   },
   {
    "duration": 38,
    "start_time": "2022-02-16T12:57:08.810Z"
   },
   {
    "duration": 19,
    "start_time": "2022-02-16T12:57:08.850Z"
   },
   {
    "duration": 363,
    "start_time": "2022-02-16T12:57:08.870Z"
   },
   {
    "duration": 109,
    "start_time": "2022-02-16T12:58:49.991Z"
   },
   {
    "duration": 9,
    "start_time": "2022-02-16T12:58:57.478Z"
   },
   {
    "duration": 437,
    "start_time": "2022-02-16T13:12:06.219Z"
   },
   {
    "duration": 438,
    "start_time": "2022-02-16T13:12:18.652Z"
   },
   {
    "duration": 9,
    "start_time": "2022-02-16T13:12:30.529Z"
   },
   {
    "duration": 20,
    "start_time": "2022-02-16T13:12:46.709Z"
   },
   {
    "duration": 392,
    "start_time": "2022-02-16T13:14:28.074Z"
   },
   {
    "duration": 419,
    "start_time": "2022-02-16T13:17:06.719Z"
   },
   {
    "duration": 8,
    "start_time": "2022-02-16T13:20:02.085Z"
   },
   {
    "duration": 21,
    "start_time": "2022-02-16T13:20:03.526Z"
   },
   {
    "duration": 7,
    "start_time": "2022-02-16T13:20:11.401Z"
   },
   {
    "duration": 20,
    "start_time": "2022-02-16T13:20:15.331Z"
   },
   {
    "duration": 407,
    "start_time": "2022-02-16T13:20:26.458Z"
   },
   {
    "duration": 340,
    "start_time": "2022-02-16T13:21:24.074Z"
   },
   {
    "duration": 9639,
    "start_time": "2022-02-16T13:22:36.162Z"
   },
   {
    "duration": 349,
    "start_time": "2022-02-16T13:23:17.380Z"
   },
   {
    "duration": 370,
    "start_time": "2022-02-16T13:23:49.679Z"
   },
   {
    "duration": 280,
    "start_time": "2022-02-16T13:35:17.803Z"
   },
   {
    "duration": 350,
    "start_time": "2022-02-16T13:37:42.849Z"
   },
   {
    "duration": 507,
    "start_time": "2022-02-16T13:37:50.470Z"
   },
   {
    "duration": 10,
    "start_time": "2022-02-16T13:38:33.977Z"
   },
   {
    "duration": 7,
    "start_time": "2022-02-16T13:38:54.781Z"
   },
   {
    "duration": 402,
    "start_time": "2022-02-16T13:41:48.413Z"
   },
   {
    "duration": 9,
    "start_time": "2022-02-16T13:42:02.938Z"
   },
   {
    "duration": 11,
    "start_time": "2022-02-16T13:42:05.676Z"
   },
   {
    "duration": 8867,
    "start_time": "2022-02-16T13:43:35.598Z"
   },
   {
    "duration": 8721,
    "start_time": "2022-02-16T13:44:27.715Z"
   },
   {
    "duration": 10,
    "start_time": "2022-02-16T13:45:34.986Z"
   },
   {
    "duration": 10,
    "start_time": "2022-02-16T13:45:36.089Z"
   },
   {
    "duration": 6,
    "start_time": "2022-02-16T13:46:14.564Z"
   },
   {
    "duration": 5,
    "start_time": "2022-02-16T13:49:50.386Z"
   },
   {
    "duration": 6,
    "start_time": "2022-02-16T13:50:15.314Z"
   },
   {
    "duration": 351,
    "start_time": "2022-02-16T13:51:24.505Z"
   },
   {
    "duration": 4,
    "start_time": "2022-02-16T13:51:59.288Z"
   },
   {
    "duration": 1275,
    "start_time": "2022-02-16T20:45:23.932Z"
   },
   {
    "duration": 67,
    "start_time": "2022-02-16T20:45:25.209Z"
   },
   {
    "duration": 18,
    "start_time": "2022-02-16T20:45:25.281Z"
   },
   {
    "duration": 3,
    "start_time": "2022-02-16T20:45:25.301Z"
   },
   {
    "duration": 6,
    "start_time": "2022-02-16T20:45:25.306Z"
   },
   {
    "duration": 20,
    "start_time": "2022-02-16T20:45:25.313Z"
   },
   {
    "duration": 70,
    "start_time": "2022-02-16T20:45:25.334Z"
   },
   {
    "duration": 14,
    "start_time": "2022-02-16T20:45:25.407Z"
   },
   {
    "duration": 11,
    "start_time": "2022-02-16T20:45:25.423Z"
   },
   {
    "duration": 35,
    "start_time": "2022-02-16T20:45:25.435Z"
   },
   {
    "duration": 10,
    "start_time": "2022-02-16T20:45:25.473Z"
   },
   {
    "duration": 13,
    "start_time": "2022-02-16T20:45:25.485Z"
   },
   {
    "duration": 9,
    "start_time": "2022-02-16T20:45:25.500Z"
   },
   {
    "duration": 8,
    "start_time": "2022-02-16T20:45:25.511Z"
   },
   {
    "duration": 7,
    "start_time": "2022-02-16T20:45:25.521Z"
   },
   {
    "duration": 11,
    "start_time": "2022-02-16T20:45:25.572Z"
   },
   {
    "duration": 19,
    "start_time": "2022-02-16T20:45:25.585Z"
   },
   {
    "duration": 8,
    "start_time": "2022-02-16T20:45:25.606Z"
   },
   {
    "duration": 16,
    "start_time": "2022-02-16T20:45:25.616Z"
   },
   {
    "duration": 4,
    "start_time": "2022-02-16T20:45:25.669Z"
   },
   {
    "duration": 10,
    "start_time": "2022-02-16T20:45:25.675Z"
   },
   {
    "duration": 8,
    "start_time": "2022-02-16T20:45:25.687Z"
   },
   {
    "duration": 13,
    "start_time": "2022-02-16T20:45:25.699Z"
   },
   {
    "duration": 12,
    "start_time": "2022-02-16T20:45:25.716Z"
   },
   {
    "duration": 7,
    "start_time": "2022-02-16T20:45:25.729Z"
   },
   {
    "duration": 36,
    "start_time": "2022-02-16T20:45:25.737Z"
   },
   {
    "duration": 565,
    "start_time": "2022-02-16T20:45:25.775Z"
   },
   {
    "duration": 43,
    "start_time": "2022-02-16T20:45:26.342Z"
   },
   {
    "duration": 25,
    "start_time": "2022-02-16T20:45:26.388Z"
   },
   {
    "duration": 31,
    "start_time": "2022-02-16T20:45:26.415Z"
   },
   {
    "duration": 45,
    "start_time": "2022-02-16T20:45:26.448Z"
   },
   {
    "duration": 26,
    "start_time": "2022-02-16T20:45:26.495Z"
   },
   {
    "duration": 51,
    "start_time": "2022-02-16T20:45:26.523Z"
   },
   {
    "duration": 12,
    "start_time": "2022-02-16T20:45:26.576Z"
   },
   {
    "duration": 10,
    "start_time": "2022-02-16T20:45:26.591Z"
   },
   {
    "duration": 5,
    "start_time": "2022-02-16T20:45:26.603Z"
   },
   {
    "duration": 16,
    "start_time": "2022-02-16T20:45:26.610Z"
   },
   {
    "duration": 67,
    "start_time": "2022-02-16T20:45:26.628Z"
   },
   {
    "duration": 15,
    "start_time": "2022-02-16T20:45:26.697Z"
   },
   {
    "duration": 25,
    "start_time": "2022-02-16T20:45:26.714Z"
   },
   {
    "duration": 4,
    "start_time": "2022-02-16T20:45:26.741Z"
   },
   {
    "duration": 47,
    "start_time": "2022-02-16T20:45:26.747Z"
   },
   {
    "duration": 534,
    "start_time": "2022-02-16T20:45:26.796Z"
   },
   {
    "duration": 11,
    "start_time": "2022-02-16T20:45:27.332Z"
   },
   {
    "duration": 9,
    "start_time": "2022-02-16T20:45:27.345Z"
   },
   {
    "duration": 16,
    "start_time": "2022-02-16T20:45:27.370Z"
   },
   {
    "duration": 27,
    "start_time": "2022-02-16T20:45:27.389Z"
   },
   {
    "duration": 415,
    "start_time": "2022-02-16T20:45:27.419Z"
   },
   {
    "duration": 13,
    "start_time": "2022-02-16T20:45:27.836Z"
   },
   {
    "duration": 26,
    "start_time": "2022-02-16T20:45:27.850Z"
   },
   {
    "duration": 29,
    "start_time": "2022-02-16T20:45:27.879Z"
   },
   {
    "duration": 15,
    "start_time": "2022-02-16T20:45:27.910Z"
   },
   {
    "duration": 10,
    "start_time": "2022-02-16T20:56:50.796Z"
   },
   {
    "duration": 5,
    "start_time": "2022-02-16T20:57:36.027Z"
   },
   {
    "duration": 4,
    "start_time": "2022-02-16T20:57:42.840Z"
   },
   {
    "duration": 26,
    "start_time": "2022-02-16T20:58:08.261Z"
   },
   {
    "duration": 486,
    "start_time": "2022-02-16T21:00:47.891Z"
   },
   {
    "duration": 497,
    "start_time": "2022-02-16T21:00:59.265Z"
   },
   {
    "duration": 395,
    "start_time": "2022-02-16T21:26:40.332Z"
   },
   {
    "duration": 501,
    "start_time": "2022-02-16T21:26:54.452Z"
   },
   {
    "duration": 11,
    "start_time": "2022-02-16T21:34:52.940Z"
   },
   {
    "duration": 9,
    "start_time": "2022-02-16T21:35:30.236Z"
   },
   {
    "duration": 11,
    "start_time": "2022-02-16T21:36:11.891Z"
   },
   {
    "duration": 8,
    "start_time": "2022-02-16T21:36:13.235Z"
   },
   {
    "duration": 12,
    "start_time": "2022-02-16T21:38:26.351Z"
   },
   {
    "duration": 9,
    "start_time": "2022-02-16T21:38:26.581Z"
   },
   {
    "duration": 1177,
    "start_time": "2022-02-16T21:46:21.876Z"
   },
   {
    "duration": 55,
    "start_time": "2022-02-16T21:46:23.055Z"
   },
   {
    "duration": 10,
    "start_time": "2022-02-16T21:46:23.112Z"
   },
   {
    "duration": 5,
    "start_time": "2022-02-16T21:46:23.124Z"
   },
   {
    "duration": 7,
    "start_time": "2022-02-16T21:46:23.130Z"
   },
   {
    "duration": 35,
    "start_time": "2022-02-16T21:46:23.138Z"
   },
   {
    "duration": 21,
    "start_time": "2022-02-16T21:46:23.175Z"
   },
   {
    "duration": 14,
    "start_time": "2022-02-16T21:46:23.198Z"
   },
   {
    "duration": 8,
    "start_time": "2022-02-16T21:46:23.215Z"
   },
   {
    "duration": 45,
    "start_time": "2022-02-16T21:46:23.225Z"
   },
   {
    "duration": 8,
    "start_time": "2022-02-16T21:46:23.272Z"
   },
   {
    "duration": 8,
    "start_time": "2022-02-16T21:46:23.281Z"
   },
   {
    "duration": 7,
    "start_time": "2022-02-16T21:46:23.292Z"
   },
   {
    "duration": 8,
    "start_time": "2022-02-16T21:46:23.301Z"
   },
   {
    "duration": 10,
    "start_time": "2022-02-16T21:46:23.311Z"
   },
   {
    "duration": 47,
    "start_time": "2022-02-16T21:46:23.323Z"
   },
   {
    "duration": 13,
    "start_time": "2022-02-16T21:46:23.372Z"
   },
   {
    "duration": 9,
    "start_time": "2022-02-16T21:46:23.387Z"
   },
   {
    "duration": 15,
    "start_time": "2022-02-16T21:46:23.398Z"
   },
   {
    "duration": 3,
    "start_time": "2022-02-16T21:46:23.414Z"
   },
   {
    "duration": 7,
    "start_time": "2022-02-16T21:46:23.419Z"
   },
   {
    "duration": 44,
    "start_time": "2022-02-16T21:46:23.428Z"
   },
   {
    "duration": 16,
    "start_time": "2022-02-16T21:46:23.474Z"
   },
   {
    "duration": 10,
    "start_time": "2022-02-16T21:46:23.491Z"
   },
   {
    "duration": 6,
    "start_time": "2022-02-16T21:46:23.503Z"
   },
   {
    "duration": 8,
    "start_time": "2022-02-16T21:46:23.511Z"
   },
   {
    "duration": 533,
    "start_time": "2022-02-16T21:46:23.524Z"
   },
   {
    "duration": 27,
    "start_time": "2022-02-16T21:46:24.059Z"
   },
   {
    "duration": 22,
    "start_time": "2022-02-16T21:46:24.088Z"
   },
   {
    "duration": 25,
    "start_time": "2022-02-16T21:46:24.112Z"
   },
   {
    "duration": 46,
    "start_time": "2022-02-16T21:46:24.138Z"
   },
   {
    "duration": 23,
    "start_time": "2022-02-16T21:46:24.186Z"
   },
   {
    "duration": 23,
    "start_time": "2022-02-16T21:46:24.210Z"
   },
   {
    "duration": 37,
    "start_time": "2022-02-16T21:46:24.235Z"
   },
   {
    "duration": 8,
    "start_time": "2022-02-16T21:46:24.273Z"
   },
   {
    "duration": 7,
    "start_time": "2022-02-16T21:46:24.282Z"
   },
   {
    "duration": 15,
    "start_time": "2022-02-16T21:46:24.291Z"
   },
   {
    "duration": 31,
    "start_time": "2022-02-16T21:46:24.308Z"
   },
   {
    "duration": 31,
    "start_time": "2022-02-16T21:46:24.341Z"
   },
   {
    "duration": 28,
    "start_time": "2022-02-16T21:46:24.374Z"
   },
   {
    "duration": 5,
    "start_time": "2022-02-16T21:46:24.404Z"
   },
   {
    "duration": 20,
    "start_time": "2022-02-16T21:46:24.410Z"
   },
   {
    "duration": 498,
    "start_time": "2022-02-16T21:46:24.432Z"
   },
   {
    "duration": 10,
    "start_time": "2022-02-16T21:46:24.932Z"
   },
   {
    "duration": 12,
    "start_time": "2022-02-16T21:46:24.944Z"
   },
   {
    "duration": 15,
    "start_time": "2022-02-16T21:46:24.969Z"
   },
   {
    "duration": 29,
    "start_time": "2022-02-16T21:46:24.986Z"
   },
   {
    "duration": 375,
    "start_time": "2022-02-16T21:46:25.024Z"
   },
   {
    "duration": 11,
    "start_time": "2022-02-16T21:46:25.401Z"
   },
   {
    "duration": 6,
    "start_time": "2022-02-16T21:46:25.414Z"
   },
   {
    "duration": 10,
    "start_time": "2022-02-16T21:46:25.422Z"
   },
   {
    "duration": 8,
    "start_time": "2022-02-16T21:46:25.433Z"
   },
   {
    "duration": 31,
    "start_time": "2022-02-16T21:46:25.443Z"
   },
   {
    "duration": 15,
    "start_time": "2022-02-16T21:46:25.476Z"
   },
   {
    "duration": 445,
    "start_time": "2022-02-16T21:46:25.493Z"
   },
   {
    "duration": 11,
    "start_time": "2022-02-16T21:46:25.940Z"
   },
   {
    "duration": 21,
    "start_time": "2022-02-16T21:46:25.953Z"
   },
   {
    "duration": 14,
    "start_time": "2022-02-16T21:46:25.976Z"
   },
   {
    "duration": 8,
    "start_time": "2022-02-16T21:46:25.992Z"
   },
   {
    "duration": 27,
    "start_time": "2022-02-16T21:46:26.002Z"
   },
   {
    "duration": 7,
    "start_time": "2022-02-16T21:49:36.886Z"
   },
   {
    "duration": 282,
    "start_time": "2022-02-16T21:53:41.935Z"
   },
   {
    "duration": 345,
    "start_time": "2022-02-16T21:54:08.262Z"
   },
   {
    "duration": 359,
    "start_time": "2022-02-16T21:57:22.917Z"
   },
   {
    "duration": 3,
    "start_time": "2022-02-16T21:58:29.717Z"
   },
   {
    "duration": 268,
    "start_time": "2022-02-16T21:58:31.022Z"
   },
   {
    "duration": 156,
    "start_time": "2022-02-16T21:59:55.146Z"
   },
   {
    "duration": 179,
    "start_time": "2022-02-16T22:02:06.468Z"
   },
   {
    "duration": 163,
    "start_time": "2022-02-16T22:02:16.876Z"
   },
   {
    "duration": 291,
    "start_time": "2022-02-16T22:03:08.319Z"
   },
   {
    "duration": 302,
    "start_time": "2022-02-16T22:03:37.144Z"
   },
   {
    "duration": 312,
    "start_time": "2022-02-16T22:04:02.428Z"
   },
   {
    "duration": 308,
    "start_time": "2022-02-16T22:05:10.864Z"
   },
   {
    "duration": 452,
    "start_time": "2022-02-16T22:05:51.481Z"
   },
   {
    "duration": 267,
    "start_time": "2022-02-16T22:06:35.708Z"
   },
   {
    "duration": 260,
    "start_time": "2022-02-16T22:06:55.065Z"
   },
   {
    "duration": 296,
    "start_time": "2022-02-16T22:07:04.552Z"
   },
   {
    "duration": 290,
    "start_time": "2022-02-16T22:07:45.329Z"
   },
   {
    "duration": 431,
    "start_time": "2022-02-16T22:11:14.968Z"
   },
   {
    "duration": 304,
    "start_time": "2022-02-16T22:17:01.877Z"
   },
   {
    "duration": 291,
    "start_time": "2022-02-16T22:18:41.405Z"
   },
   {
    "duration": 6,
    "start_time": "2022-02-16T22:26:32.186Z"
   },
   {
    "duration": 281,
    "start_time": "2022-02-16T22:28:23.327Z"
   },
   {
    "duration": 308,
    "start_time": "2022-02-16T22:28:37.985Z"
   },
   {
    "duration": 314,
    "start_time": "2022-02-16T22:28:51.299Z"
   },
   {
    "duration": 313,
    "start_time": "2022-02-16T22:29:01.591Z"
   },
   {
    "duration": 288,
    "start_time": "2022-02-16T22:29:23.122Z"
   },
   {
    "duration": 341,
    "start_time": "2022-02-16T22:31:11.968Z"
   },
   {
    "duration": 324,
    "start_time": "2022-02-16T22:32:20.078Z"
   },
   {
    "duration": 682,
    "start_time": "2022-02-16T22:35:28.095Z"
   },
   {
    "duration": 397,
    "start_time": "2022-02-16T22:35:39.911Z"
   },
   {
    "duration": 365,
    "start_time": "2022-02-16T22:35:54.361Z"
   },
   {
    "duration": 803,
    "start_time": "2022-02-16T22:39:01.872Z"
   },
   {
    "duration": 600,
    "start_time": "2022-02-16T22:39:47.596Z"
   },
   {
    "duration": 632,
    "start_time": "2022-02-16T22:40:14.600Z"
   },
   {
    "duration": 660,
    "start_time": "2022-02-16T22:40:45.945Z"
   },
   {
    "duration": 232,
    "start_time": "2022-02-16T22:44:53.708Z"
   },
   {
    "duration": 86,
    "start_time": "2022-02-16T22:45:26.948Z"
   },
   {
    "duration": 280,
    "start_time": "2022-02-16T22:45:46.979Z"
   },
   {
    "duration": 265,
    "start_time": "2022-02-16T22:46:03.274Z"
   },
   {
    "duration": 338,
    "start_time": "2022-02-16T22:57:31.296Z"
   },
   {
    "duration": 226,
    "start_time": "2022-02-16T22:57:49.200Z"
   },
   {
    "duration": 271,
    "start_time": "2022-02-16T23:01:30.107Z"
   },
   {
    "duration": 1931,
    "start_time": "2022-02-16T23:02:45.561Z"
   },
   {
    "duration": 1923,
    "start_time": "2022-02-16T23:03:34.618Z"
   },
   {
    "duration": 1107,
    "start_time": "2022-02-16T23:03:57.199Z"
   },
   {
    "duration": 2017,
    "start_time": "2022-02-16T23:04:11.070Z"
   },
   {
    "duration": 2094,
    "start_time": "2022-02-16T23:05:34.406Z"
   },
   {
    "duration": 2474,
    "start_time": "2022-02-16T23:09:46.312Z"
   },
   {
    "duration": 1883,
    "start_time": "2022-02-16T23:11:25.495Z"
   },
   {
    "duration": 1096,
    "start_time": "2022-02-17T10:36:12.181Z"
   },
   {
    "duration": 45,
    "start_time": "2022-02-17T10:36:13.278Z"
   },
   {
    "duration": 9,
    "start_time": "2022-02-17T10:36:13.325Z"
   },
   {
    "duration": 4,
    "start_time": "2022-02-17T10:36:13.335Z"
   },
   {
    "duration": 9,
    "start_time": "2022-02-17T10:36:13.340Z"
   },
   {
    "duration": 16,
    "start_time": "2022-02-17T10:36:13.350Z"
   },
   {
    "duration": 17,
    "start_time": "2022-02-17T10:36:13.367Z"
   },
   {
    "duration": 11,
    "start_time": "2022-02-17T10:36:13.387Z"
   },
   {
    "duration": 6,
    "start_time": "2022-02-17T10:36:13.400Z"
   },
   {
    "duration": 38,
    "start_time": "2022-02-17T10:36:13.408Z"
   },
   {
    "duration": 6,
    "start_time": "2022-02-17T10:36:13.447Z"
   },
   {
    "duration": 6,
    "start_time": "2022-02-17T10:36:13.455Z"
   },
   {
    "duration": 6,
    "start_time": "2022-02-17T10:36:13.463Z"
   },
   {
    "duration": 8,
    "start_time": "2022-02-17T10:36:13.470Z"
   },
   {
    "duration": 9,
    "start_time": "2022-02-17T10:36:13.479Z"
   },
   {
    "duration": 9,
    "start_time": "2022-02-17T10:36:13.490Z"
   },
   {
    "duration": 12,
    "start_time": "2022-02-17T10:36:13.501Z"
   },
   {
    "duration": 41,
    "start_time": "2022-02-17T10:36:13.515Z"
   },
   {
    "duration": 16,
    "start_time": "2022-02-17T10:36:13.558Z"
   },
   {
    "duration": 2,
    "start_time": "2022-02-17T10:36:13.576Z"
   },
   {
    "duration": 7,
    "start_time": "2022-02-17T10:36:13.579Z"
   },
   {
    "duration": 7,
    "start_time": "2022-02-17T10:36:13.587Z"
   },
   {
    "duration": 13,
    "start_time": "2022-02-17T10:36:13.597Z"
   },
   {
    "duration": 34,
    "start_time": "2022-02-17T10:36:13.612Z"
   },
   {
    "duration": 6,
    "start_time": "2022-02-17T10:36:13.647Z"
   },
   {
    "duration": 8,
    "start_time": "2022-02-17T10:36:13.654Z"
   },
   {
    "duration": 409,
    "start_time": "2022-02-17T10:36:13.663Z"
   },
   {
    "duration": 17,
    "start_time": "2022-02-17T10:36:14.074Z"
   },
   {
    "duration": 17,
    "start_time": "2022-02-17T10:36:14.093Z"
   },
   {
    "duration": 38,
    "start_time": "2022-02-17T10:36:14.112Z"
   },
   {
    "duration": 18,
    "start_time": "2022-02-17T10:36:14.151Z"
   },
   {
    "duration": 17,
    "start_time": "2022-02-17T10:36:14.170Z"
   },
   {
    "duration": 16,
    "start_time": "2022-02-17T10:36:14.189Z"
   },
   {
    "duration": 10,
    "start_time": "2022-02-17T10:36:14.206Z"
   },
   {
    "duration": 4,
    "start_time": "2022-02-17T10:36:14.217Z"
   },
   {
    "duration": 27,
    "start_time": "2022-02-17T10:36:14.222Z"
   },
   {
    "duration": 13,
    "start_time": "2022-02-17T10:36:14.251Z"
   },
   {
    "duration": 25,
    "start_time": "2022-02-17T10:36:14.266Z"
   },
   {
    "duration": 12,
    "start_time": "2022-02-17T10:36:14.293Z"
   },
   {
    "duration": 41,
    "start_time": "2022-02-17T10:36:14.306Z"
   },
   {
    "duration": 4,
    "start_time": "2022-02-17T10:36:14.348Z"
   },
   {
    "duration": 15,
    "start_time": "2022-02-17T10:36:14.354Z"
   },
   {
    "duration": 355,
    "start_time": "2022-02-17T10:36:14.370Z"
   },
   {
    "duration": 9,
    "start_time": "2022-02-17T10:36:14.726Z"
   },
   {
    "duration": 15,
    "start_time": "2022-02-17T10:36:14.736Z"
   },
   {
    "duration": 10,
    "start_time": "2022-02-17T10:36:14.753Z"
   },
   {
    "duration": 21,
    "start_time": "2022-02-17T10:36:14.765Z"
   },
   {
    "duration": 298,
    "start_time": "2022-02-17T10:36:14.787Z"
   },
   {
    "duration": 9,
    "start_time": "2022-02-17T10:36:15.087Z"
   },
   {
    "duration": 4,
    "start_time": "2022-02-17T10:36:15.097Z"
   },
   {
    "duration": 8,
    "start_time": "2022-02-17T10:36:15.103Z"
   },
   {
    "duration": 6,
    "start_time": "2022-02-17T10:36:15.112Z"
   },
   {
    "duration": 31,
    "start_time": "2022-02-17T10:36:15.119Z"
   },
   {
    "duration": 13,
    "start_time": "2022-02-17T10:36:15.152Z"
   },
   {
    "duration": 317,
    "start_time": "2022-02-17T10:36:15.167Z"
   },
   {
    "duration": 8,
    "start_time": "2022-02-17T10:36:15.486Z"
   },
   {
    "duration": 13,
    "start_time": "2022-02-17T10:36:15.495Z"
   },
   {
    "duration": 10,
    "start_time": "2022-02-17T10:36:15.509Z"
   },
   {
    "duration": 6,
    "start_time": "2022-02-17T10:36:15.520Z"
   },
   {
    "duration": 20,
    "start_time": "2022-02-17T10:36:15.527Z"
   },
   {
    "duration": 291,
    "start_time": "2022-02-17T10:36:15.548Z"
   },
   {
    "duration": 8,
    "start_time": "2022-02-17T10:36:15.841Z"
   },
   {
    "duration": 331,
    "start_time": "2022-02-17T10:36:15.851Z"
   },
   {
    "duration": 249,
    "start_time": "2022-02-17T10:36:16.184Z"
   },
   {
    "duration": 520,
    "start_time": "2022-02-17T10:36:16.434Z"
   },
   {
    "duration": 214,
    "start_time": "2022-02-17T10:36:16.955Z"
   },
   {
    "duration": 1497,
    "start_time": "2022-02-17T10:36:17.171Z"
   },
   {
    "duration": 637,
    "start_time": "2022-02-17T10:51:35.857Z"
   },
   {
    "duration": 572,
    "start_time": "2022-02-17T10:52:09.585Z"
   },
   {
    "duration": 618,
    "start_time": "2022-02-17T10:52:49.383Z"
   },
   {
    "duration": 223,
    "start_time": "2022-02-17T10:53:11.459Z"
   },
   {
    "duration": 384,
    "start_time": "2022-02-17T10:54:21.440Z"
   },
   {
    "duration": 226,
    "start_time": "2022-02-17T10:54:46.082Z"
   },
   {
    "duration": 344,
    "start_time": "2022-02-17T11:01:25.142Z"
   },
   {
    "duration": 4,
    "start_time": "2022-02-17T11:01:43.326Z"
   },
   {
    "duration": 230,
    "start_time": "2022-02-17T11:01:49.067Z"
   },
   {
    "duration": 226,
    "start_time": "2022-02-17T11:02:26.911Z"
   },
   {
    "duration": 236,
    "start_time": "2022-02-17T11:02:34.971Z"
   },
   {
    "duration": 1098,
    "start_time": "2022-02-17T11:10:41.737Z"
   },
   {
    "duration": 45,
    "start_time": "2022-02-17T11:10:42.837Z"
   },
   {
    "duration": 9,
    "start_time": "2022-02-17T11:10:42.884Z"
   },
   {
    "duration": 4,
    "start_time": "2022-02-17T11:10:42.895Z"
   },
   {
    "duration": 6,
    "start_time": "2022-02-17T11:10:42.900Z"
   },
   {
    "duration": 15,
    "start_time": "2022-02-17T11:10:42.907Z"
   },
   {
    "duration": 29,
    "start_time": "2022-02-17T11:10:42.923Z"
   },
   {
    "duration": 12,
    "start_time": "2022-02-17T11:10:42.953Z"
   },
   {
    "duration": 9,
    "start_time": "2022-02-17T11:10:42.967Z"
   },
   {
    "duration": 12,
    "start_time": "2022-02-17T11:10:42.978Z"
   },
   {
    "duration": 7,
    "start_time": "2022-02-17T11:10:42.991Z"
   },
   {
    "duration": 6,
    "start_time": "2022-02-17T11:10:42.999Z"
   },
   {
    "duration": 5,
    "start_time": "2022-02-17T11:10:43.006Z"
   },
   {
    "duration": 39,
    "start_time": "2022-02-17T11:10:43.012Z"
   },
   {
    "duration": 10,
    "start_time": "2022-02-17T11:10:43.052Z"
   },
   {
    "duration": 6,
    "start_time": "2022-02-17T11:10:43.063Z"
   },
   {
    "duration": 11,
    "start_time": "2022-02-17T11:10:43.070Z"
   },
   {
    "duration": 7,
    "start_time": "2022-02-17T11:10:43.082Z"
   },
   {
    "duration": 12,
    "start_time": "2022-02-17T11:10:43.092Z"
   },
   {
    "duration": 2,
    "start_time": "2022-02-17T11:10:43.106Z"
   },
   {
    "duration": 37,
    "start_time": "2022-02-17T11:10:43.109Z"
   },
   {
    "duration": 5,
    "start_time": "2022-02-17T11:10:43.147Z"
   },
   {
    "duration": 11,
    "start_time": "2022-02-17T11:10:43.154Z"
   },
   {
    "duration": 7,
    "start_time": "2022-02-17T11:10:43.167Z"
   },
   {
    "duration": 7,
    "start_time": "2022-02-17T11:10:43.176Z"
   },
   {
    "duration": 7,
    "start_time": "2022-02-17T11:10:43.185Z"
   },
   {
    "duration": 418,
    "start_time": "2022-02-17T11:10:43.195Z"
   },
   {
    "duration": 17,
    "start_time": "2022-02-17T11:10:43.615Z"
   },
   {
    "duration": 16,
    "start_time": "2022-02-17T11:10:43.646Z"
   },
   {
    "duration": 16,
    "start_time": "2022-02-17T11:10:43.663Z"
   },
   {
    "duration": 18,
    "start_time": "2022-02-17T11:10:43.681Z"
   },
   {
    "duration": 18,
    "start_time": "2022-02-17T11:10:43.700Z"
   },
   {
    "duration": 41,
    "start_time": "2022-02-17T11:10:43.720Z"
   },
   {
    "duration": 6,
    "start_time": "2022-02-17T11:10:43.763Z"
   },
   {
    "duration": 4,
    "start_time": "2022-02-17T11:10:43.770Z"
   },
   {
    "duration": 4,
    "start_time": "2022-02-17T11:10:43.776Z"
   },
   {
    "duration": 12,
    "start_time": "2022-02-17T11:10:43.782Z"
   },
   {
    "duration": 21,
    "start_time": "2022-02-17T11:10:43.795Z"
   },
   {
    "duration": 35,
    "start_time": "2022-02-17T11:10:43.818Z"
   },
   {
    "duration": 19,
    "start_time": "2022-02-17T11:10:43.854Z"
   },
   {
    "duration": 4,
    "start_time": "2022-02-17T11:10:43.874Z"
   },
   {
    "duration": 17,
    "start_time": "2022-02-17T11:10:43.879Z"
   },
   {
    "duration": 352,
    "start_time": "2022-02-17T11:10:43.898Z"
   },
   {
    "duration": 9,
    "start_time": "2022-02-17T11:10:44.251Z"
   },
   {
    "duration": 7,
    "start_time": "2022-02-17T11:10:44.261Z"
   },
   {
    "duration": 10,
    "start_time": "2022-02-17T11:10:44.270Z"
   },
   {
    "duration": 19,
    "start_time": "2022-02-17T11:10:44.282Z"
   },
   {
    "duration": 312,
    "start_time": "2022-02-17T11:10:44.303Z"
   },
   {
    "duration": 10,
    "start_time": "2022-02-17T11:10:44.617Z"
   },
   {
    "duration": 5,
    "start_time": "2022-02-17T11:10:44.628Z"
   },
   {
    "duration": 5,
    "start_time": "2022-02-17T11:10:44.646Z"
   },
   {
    "duration": 6,
    "start_time": "2022-02-17T11:10:44.652Z"
   },
   {
    "duration": 9,
    "start_time": "2022-02-17T11:10:44.659Z"
   },
   {
    "duration": 14,
    "start_time": "2022-02-17T11:10:44.670Z"
   },
   {
    "duration": 323,
    "start_time": "2022-02-17T11:10:44.685Z"
   },
   {
    "duration": 10,
    "start_time": "2022-02-17T11:10:45.010Z"
   },
   {
    "duration": 12,
    "start_time": "2022-02-17T11:10:45.021Z"
   },
   {
    "duration": 18,
    "start_time": "2022-02-17T11:10:45.034Z"
   },
   {
    "duration": 6,
    "start_time": "2022-02-17T11:10:45.053Z"
   },
   {
    "duration": 9,
    "start_time": "2022-02-17T11:10:45.061Z"
   },
   {
    "duration": 291,
    "start_time": "2022-02-17T11:10:45.072Z"
   },
   {
    "duration": 6,
    "start_time": "2022-02-17T11:10:45.365Z"
   },
   {
    "duration": 367,
    "start_time": "2022-02-17T11:10:45.373Z"
   },
   {
    "duration": 277,
    "start_time": "2022-02-17T11:10:45.746Z"
   },
   {
    "duration": 526,
    "start_time": "2022-02-17T11:10:46.025Z"
   },
   {
    "duration": 217,
    "start_time": "2022-02-17T11:10:46.552Z"
   },
   {
    "duration": 1816,
    "start_time": "2022-02-17T11:10:46.770Z"
   },
   {
    "duration": 4,
    "start_time": "2022-02-17T11:10:48.587Z"
   },
   {
    "duration": 253,
    "start_time": "2022-02-17T11:10:48.592Z"
   },
   {
    "duration": 3,
    "start_time": "2022-02-17T11:11:18.447Z"
   },
   {
    "duration": 646,
    "start_time": "2022-02-17T11:12:18.851Z"
   },
   {
    "duration": 314,
    "start_time": "2022-02-17T11:12:36.061Z"
   },
   {
    "duration": 614,
    "start_time": "2022-02-17T11:13:00.153Z"
   },
   {
    "duration": 572,
    "start_time": "2022-02-17T11:13:55.631Z"
   },
   {
    "duration": 244,
    "start_time": "2022-02-17T11:14:09.385Z"
   },
   {
    "duration": 247,
    "start_time": "2022-02-17T11:14:30.126Z"
   },
   {
    "duration": 241,
    "start_time": "2022-02-17T11:14:40.181Z"
   },
   {
    "duration": 574,
    "start_time": "2022-02-17T11:17:03.176Z"
   },
   {
    "duration": 251,
    "start_time": "2022-02-17T11:17:11.268Z"
   },
   {
    "duration": 1134,
    "start_time": "2022-02-17T11:17:25.834Z"
   },
   {
    "duration": 45,
    "start_time": "2022-02-17T11:17:26.970Z"
   },
   {
    "duration": 8,
    "start_time": "2022-02-17T11:17:27.017Z"
   },
   {
    "duration": 6,
    "start_time": "2022-02-17T11:17:27.027Z"
   },
   {
    "duration": 7,
    "start_time": "2022-02-17T11:17:27.034Z"
   },
   {
    "duration": 17,
    "start_time": "2022-02-17T11:17:27.043Z"
   },
   {
    "duration": 18,
    "start_time": "2022-02-17T11:17:27.062Z"
   },
   {
    "duration": 13,
    "start_time": "2022-02-17T11:17:27.082Z"
   },
   {
    "duration": 7,
    "start_time": "2022-02-17T11:17:27.098Z"
   },
   {
    "duration": 42,
    "start_time": "2022-02-17T11:17:27.107Z"
   },
   {
    "duration": 7,
    "start_time": "2022-02-17T11:17:27.151Z"
   },
   {
    "duration": 7,
    "start_time": "2022-02-17T11:17:27.160Z"
   },
   {
    "duration": 6,
    "start_time": "2022-02-17T11:17:27.169Z"
   },
   {
    "duration": 7,
    "start_time": "2022-02-17T11:17:27.177Z"
   },
   {
    "duration": 7,
    "start_time": "2022-02-17T11:17:27.186Z"
   },
   {
    "duration": 6,
    "start_time": "2022-02-17T11:17:27.194Z"
   },
   {
    "duration": 52,
    "start_time": "2022-02-17T11:17:27.201Z"
   },
   {
    "duration": 7,
    "start_time": "2022-02-17T11:17:27.254Z"
   },
   {
    "duration": 12,
    "start_time": "2022-02-17T11:17:27.263Z"
   },
   {
    "duration": 2,
    "start_time": "2022-02-17T11:17:27.277Z"
   },
   {
    "duration": 5,
    "start_time": "2022-02-17T11:17:27.280Z"
   },
   {
    "duration": 6,
    "start_time": "2022-02-17T11:17:27.287Z"
   },
   {
    "duration": 11,
    "start_time": "2022-02-17T11:17:27.294Z"
   },
   {
    "duration": 43,
    "start_time": "2022-02-17T11:17:27.306Z"
   },
   {
    "duration": 6,
    "start_time": "2022-02-17T11:17:27.351Z"
   },
   {
    "duration": 8,
    "start_time": "2022-02-17T11:17:27.358Z"
   },
   {
    "duration": 416,
    "start_time": "2022-02-17T11:17:27.370Z"
   },
   {
    "duration": 17,
    "start_time": "2022-02-17T11:17:27.789Z"
   },
   {
    "duration": 17,
    "start_time": "2022-02-17T11:17:27.808Z"
   },
   {
    "duration": 34,
    "start_time": "2022-02-17T11:17:27.826Z"
   },
   {
    "duration": 20,
    "start_time": "2022-02-17T11:17:27.862Z"
   },
   {
    "duration": 17,
    "start_time": "2022-02-17T11:17:27.883Z"
   },
   {
    "duration": 17,
    "start_time": "2022-02-17T11:17:27.902Z"
   },
   {
    "duration": 4,
    "start_time": "2022-02-17T11:17:27.946Z"
   },
   {
    "duration": 5,
    "start_time": "2022-02-17T11:17:27.951Z"
   },
   {
    "duration": 4,
    "start_time": "2022-02-17T11:17:27.958Z"
   },
   {
    "duration": 14,
    "start_time": "2022-02-17T11:17:27.963Z"
   },
   {
    "duration": 22,
    "start_time": "2022-02-17T11:17:27.978Z"
   },
   {
    "duration": 11,
    "start_time": "2022-02-17T11:17:28.002Z"
   },
   {
    "duration": 45,
    "start_time": "2022-02-17T11:17:28.014Z"
   },
   {
    "duration": 4,
    "start_time": "2022-02-17T11:17:28.061Z"
   },
   {
    "duration": 15,
    "start_time": "2022-02-17T11:17:28.066Z"
   },
   {
    "duration": 454,
    "start_time": "2022-02-17T11:17:28.082Z"
   },
   {
    "duration": 15,
    "start_time": "2022-02-17T11:17:28.538Z"
   },
   {
    "duration": 8,
    "start_time": "2022-02-17T11:17:28.555Z"
   },
   {
    "duration": 9,
    "start_time": "2022-02-17T11:17:28.565Z"
   },
   {
    "duration": 19,
    "start_time": "2022-02-17T11:17:28.576Z"
   },
   {
    "duration": 314,
    "start_time": "2022-02-17T11:17:28.597Z"
   },
   {
    "duration": 9,
    "start_time": "2022-02-17T11:17:28.912Z"
   },
   {
    "duration": 21,
    "start_time": "2022-02-17T11:17:28.922Z"
   },
   {
    "duration": 20,
    "start_time": "2022-02-17T11:17:28.944Z"
   },
   {
    "duration": 7,
    "start_time": "2022-02-17T11:17:28.965Z"
   },
   {
    "duration": 21,
    "start_time": "2022-02-17T11:17:28.973Z"
   },
   {
    "duration": 32,
    "start_time": "2022-02-17T11:17:28.996Z"
   },
   {
    "duration": 433,
    "start_time": "2022-02-17T11:17:29.029Z"
   },
   {
    "duration": 9,
    "start_time": "2022-02-17T11:17:29.463Z"
   },
   {
    "duration": 11,
    "start_time": "2022-02-17T11:17:29.474Z"
   },
   {
    "duration": 19,
    "start_time": "2022-02-17T11:17:29.487Z"
   },
   {
    "duration": 17,
    "start_time": "2022-02-17T11:17:29.507Z"
   },
   {
    "duration": 19,
    "start_time": "2022-02-17T11:17:29.526Z"
   },
   {
    "duration": 292,
    "start_time": "2022-02-17T11:17:29.546Z"
   },
   {
    "duration": 9,
    "start_time": "2022-02-17T11:17:29.840Z"
   },
   {
    "duration": 371,
    "start_time": "2022-02-17T11:17:29.851Z"
   },
   {
    "duration": 293,
    "start_time": "2022-02-17T11:17:30.223Z"
   },
   {
    "duration": 547,
    "start_time": "2022-02-17T11:17:30.518Z"
   },
   {
    "duration": 215,
    "start_time": "2022-02-17T11:17:31.067Z"
   },
   {
    "duration": 1484,
    "start_time": "2022-02-17T11:17:31.284Z"
   },
   {
    "duration": 3,
    "start_time": "2022-02-17T11:17:32.770Z"
   },
   {
    "duration": 253,
    "start_time": "2022-02-17T11:17:32.775Z"
   },
   {
    "duration": 4,
    "start_time": "2022-02-17T11:17:51.786Z"
   },
   {
    "duration": 258,
    "start_time": "2022-02-17T11:17:53.157Z"
   },
   {
    "duration": 1106,
    "start_time": "2022-02-17T11:20:01.561Z"
   },
   {
    "duration": 46,
    "start_time": "2022-02-17T11:20:02.669Z"
   },
   {
    "duration": 8,
    "start_time": "2022-02-17T11:20:02.717Z"
   },
   {
    "duration": 19,
    "start_time": "2022-02-17T11:20:02.727Z"
   },
   {
    "duration": 13,
    "start_time": "2022-02-17T11:20:02.747Z"
   },
   {
    "duration": 34,
    "start_time": "2022-02-17T11:20:02.761Z"
   },
   {
    "duration": 18,
    "start_time": "2022-02-17T11:20:02.796Z"
   },
   {
    "duration": 17,
    "start_time": "2022-02-17T11:20:02.817Z"
   },
   {
    "duration": 19,
    "start_time": "2022-02-17T11:20:02.835Z"
   },
   {
    "duration": 11,
    "start_time": "2022-02-17T11:20:02.856Z"
   },
   {
    "duration": 19,
    "start_time": "2022-02-17T11:20:02.869Z"
   },
   {
    "duration": 29,
    "start_time": "2022-02-17T11:20:02.890Z"
   },
   {
    "duration": 23,
    "start_time": "2022-02-17T11:20:02.921Z"
   },
   {
    "duration": 8,
    "start_time": "2022-02-17T11:20:02.946Z"
   },
   {
    "duration": 23,
    "start_time": "2022-02-17T11:20:02.956Z"
   },
   {
    "duration": 25,
    "start_time": "2022-02-17T11:20:02.980Z"
   },
   {
    "duration": 24,
    "start_time": "2022-02-17T11:20:03.006Z"
   },
   {
    "duration": 15,
    "start_time": "2022-02-17T11:20:03.031Z"
   },
   {
    "duration": 28,
    "start_time": "2022-02-17T11:20:03.047Z"
   },
   {
    "duration": 5,
    "start_time": "2022-02-17T11:20:03.076Z"
   },
   {
    "duration": 15,
    "start_time": "2022-02-17T11:20:03.082Z"
   },
   {
    "duration": 26,
    "start_time": "2022-02-17T11:20:03.099Z"
   },
   {
    "duration": 12,
    "start_time": "2022-02-17T11:20:03.128Z"
   },
   {
    "duration": 7,
    "start_time": "2022-02-17T11:20:03.143Z"
   },
   {
    "duration": 5,
    "start_time": "2022-02-17T11:20:03.152Z"
   },
   {
    "duration": 23,
    "start_time": "2022-02-17T11:20:03.158Z"
   },
   {
    "duration": 416,
    "start_time": "2022-02-17T11:20:03.182Z"
   },
   {
    "duration": 18,
    "start_time": "2022-02-17T11:20:03.600Z"
   },
   {
    "duration": 30,
    "start_time": "2022-02-17T11:20:03.619Z"
   },
   {
    "duration": 18,
    "start_time": "2022-02-17T11:20:03.650Z"
   },
   {
    "duration": 21,
    "start_time": "2022-02-17T11:20:03.670Z"
   },
   {
    "duration": 17,
    "start_time": "2022-02-17T11:20:03.692Z"
   },
   {
    "duration": 37,
    "start_time": "2022-02-17T11:20:03.710Z"
   },
   {
    "duration": 15,
    "start_time": "2022-02-17T11:20:03.748Z"
   },
   {
    "duration": 9,
    "start_time": "2022-02-17T11:20:03.765Z"
   },
   {
    "duration": 15,
    "start_time": "2022-02-17T11:20:03.776Z"
   },
   {
    "duration": 48,
    "start_time": "2022-02-17T11:20:03.793Z"
   },
   {
    "duration": 52,
    "start_time": "2022-02-17T11:20:03.843Z"
   },
   {
    "duration": 25,
    "start_time": "2022-02-17T11:20:03.896Z"
   },
   {
    "duration": 49,
    "start_time": "2022-02-17T11:20:03.923Z"
   },
   {
    "duration": 20,
    "start_time": "2022-02-17T11:20:03.974Z"
   },
   {
    "duration": 39,
    "start_time": "2022-02-17T11:20:03.996Z"
   },
   {
    "duration": 345,
    "start_time": "2022-02-17T11:20:04.037Z"
   },
   {
    "duration": 9,
    "start_time": "2022-02-17T11:20:04.383Z"
   },
   {
    "duration": 6,
    "start_time": "2022-02-17T11:20:04.394Z"
   },
   {
    "duration": 8,
    "start_time": "2022-02-17T11:20:04.402Z"
   },
   {
    "duration": 41,
    "start_time": "2022-02-17T11:20:04.411Z"
   },
   {
    "duration": 286,
    "start_time": "2022-02-17T11:20:04.454Z"
   },
   {
    "duration": 10,
    "start_time": "2022-02-17T11:20:04.745Z"
   },
   {
    "duration": 5,
    "start_time": "2022-02-17T11:20:04.756Z"
   },
   {
    "duration": 5,
    "start_time": "2022-02-17T11:20:04.763Z"
   },
   {
    "duration": 5,
    "start_time": "2022-02-17T11:20:04.770Z"
   },
   {
    "duration": 8,
    "start_time": "2022-02-17T11:20:04.776Z"
   },
   {
    "duration": 11,
    "start_time": "2022-02-17T11:20:04.786Z"
   },
   {
    "duration": 323,
    "start_time": "2022-02-17T11:20:04.798Z"
   },
   {
    "duration": 9,
    "start_time": "2022-02-17T11:20:05.123Z"
   },
   {
    "duration": 18,
    "start_time": "2022-02-17T11:20:05.133Z"
   },
   {
    "duration": 8,
    "start_time": "2022-02-17T11:20:05.153Z"
   },
   {
    "duration": 5,
    "start_time": "2022-02-17T11:20:05.163Z"
   },
   {
    "duration": 9,
    "start_time": "2022-02-17T11:20:05.170Z"
   },
   {
    "duration": 293,
    "start_time": "2022-02-17T11:20:05.180Z"
   },
   {
    "duration": 5,
    "start_time": "2022-02-17T11:20:05.475Z"
   },
   {
    "duration": 335,
    "start_time": "2022-02-17T11:20:05.481Z"
   },
   {
    "duration": 300,
    "start_time": "2022-02-17T11:20:05.818Z"
   },
   {
    "duration": 536,
    "start_time": "2022-02-17T11:20:06.120Z"
   },
   {
    "duration": 218,
    "start_time": "2022-02-17T11:20:06.658Z"
   },
   {
    "duration": 1475,
    "start_time": "2022-02-17T11:20:06.878Z"
   },
   {
    "duration": 3,
    "start_time": "2022-02-17T11:20:08.357Z"
   },
   {
    "duration": 1548,
    "start_time": "2022-02-17T11:20:08.362Z"
   },
   {
    "duration": 245,
    "start_time": "2022-02-17T11:20:20.182Z"
   },
   {
    "duration": 316,
    "start_time": "2022-02-17T11:21:16.622Z"
   },
   {
    "duration": 4,
    "start_time": "2022-02-17T11:21:24.833Z"
   },
   {
    "duration": 238,
    "start_time": "2022-02-17T11:21:25.642Z"
   },
   {
    "duration": 7,
    "start_time": "2022-02-17T11:22:16.258Z"
   },
   {
    "duration": 359,
    "start_time": "2022-02-17T11:23:04.314Z"
   },
   {
    "duration": 20,
    "start_time": "2022-02-17T11:23:31.317Z"
   },
   {
    "duration": 4,
    "start_time": "2022-02-17T11:23:45.369Z"
   },
   {
    "duration": 20,
    "start_time": "2022-02-17T11:23:47.831Z"
   },
   {
    "duration": 4,
    "start_time": "2022-02-17T11:24:17.129Z"
   },
   {
    "duration": 20,
    "start_time": "2022-02-17T11:24:18.468Z"
   },
   {
    "duration": 250,
    "start_time": "2022-02-17T11:24:20.653Z"
   },
   {
    "duration": 4,
    "start_time": "2022-02-17T12:12:33.796Z"
   },
   {
    "duration": 771,
    "start_time": "2022-02-17T12:15:14.597Z"
   },
   {
    "duration": 1595,
    "start_time": "2022-02-17T12:15:30.895Z"
   },
   {
    "duration": 4,
    "start_time": "2022-02-17T12:16:07.763Z"
   },
   {
    "duration": 1230,
    "start_time": "2022-02-17T12:16:10.861Z"
   },
   {
    "duration": 4,
    "start_time": "2022-02-17T12:16:54.874Z"
   },
   {
    "duration": 468,
    "start_time": "2022-02-17T12:16:56.635Z"
   },
   {
    "duration": 4,
    "start_time": "2022-02-17T12:19:21.765Z"
   },
   {
    "duration": 1289,
    "start_time": "2022-02-17T12:19:24.861Z"
   },
   {
    "duration": 4,
    "start_time": "2022-02-17T12:19:48.078Z"
   },
   {
    "duration": 722,
    "start_time": "2022-02-17T12:19:51.361Z"
   },
   {
    "duration": 880,
    "start_time": "2022-02-17T12:20:18.335Z"
   },
   {
    "duration": 600,
    "start_time": "2022-02-17T12:20:31.931Z"
   },
   {
    "duration": 410,
    "start_time": "2022-02-17T12:20:45.661Z"
   },
   {
    "duration": 4,
    "start_time": "2022-02-17T12:21:17.692Z"
   },
   {
    "duration": 509,
    "start_time": "2022-02-17T12:21:20.596Z"
   },
   {
    "duration": 430,
    "start_time": "2022-02-17T12:31:27.697Z"
   },
   {
    "duration": 415,
    "start_time": "2022-02-17T12:38:30.712Z"
   },
   {
    "duration": 446,
    "start_time": "2022-02-17T13:40:30.147Z"
   },
   {
    "duration": 383,
    "start_time": "2022-02-17T13:40:40.653Z"
   },
   {
    "duration": 384,
    "start_time": "2022-02-17T13:40:51.106Z"
   },
   {
    "duration": 5,
    "start_time": "2022-02-17T14:04:44.396Z"
   },
   {
    "duration": 3,
    "start_time": "2022-02-17T14:05:09.843Z"
   },
   {
    "duration": 3,
    "start_time": "2022-02-17T14:05:37.785Z"
   },
   {
    "duration": 6,
    "start_time": "2022-02-17T14:06:46.811Z"
   },
   {
    "duration": 6,
    "start_time": "2022-02-17T14:07:00.939Z"
   },
   {
    "duration": 4,
    "start_time": "2022-02-17T14:07:07.920Z"
   },
   {
    "duration": 3,
    "start_time": "2022-02-17T14:12:01.111Z"
   },
   {
    "duration": 337,
    "start_time": "2022-02-17T14:14:26.774Z"
   },
   {
    "duration": 383,
    "start_time": "2022-02-17T14:14:38.942Z"
   },
   {
    "duration": 2,
    "start_time": "2022-02-17T14:14:50.560Z"
   },
   {
    "duration": 6,
    "start_time": "2022-02-17T14:14:55.007Z"
   },
   {
    "duration": 5,
    "start_time": "2022-02-17T14:16:45.355Z"
   },
   {
    "duration": 4,
    "start_time": "2022-02-17T14:17:04.797Z"
   },
   {
    "duration": 5,
    "start_time": "2022-02-17T14:17:52.868Z"
   },
   {
    "duration": 4,
    "start_time": "2022-02-17T14:18:10.861Z"
   },
   {
    "duration": 4,
    "start_time": "2022-02-17T14:19:13.567Z"
   },
   {
    "duration": 3,
    "start_time": "2022-02-17T14:19:20.953Z"
   },
   {
    "duration": 7,
    "start_time": "2022-02-17T14:19:37.328Z"
   },
   {
    "duration": 3,
    "start_time": "2022-02-17T14:19:38.400Z"
   },
   {
    "duration": 94,
    "start_time": "2022-02-17T14:19:40.196Z"
   },
   {
    "duration": 8,
    "start_time": "2022-02-17T14:19:55.735Z"
   },
   {
    "duration": 4,
    "start_time": "2022-02-17T14:19:56.798Z"
   },
   {
    "duration": 4,
    "start_time": "2022-02-17T14:19:59.763Z"
   },
   {
    "duration": 4,
    "start_time": "2022-02-17T14:20:05.284Z"
   },
   {
    "duration": 109,
    "start_time": "2022-02-17T14:33:22.823Z"
   },
   {
    "duration": 386,
    "start_time": "2022-02-17T14:34:54.095Z"
   },
   {
    "duration": 7,
    "start_time": "2022-02-17T14:34:58.453Z"
   },
   {
    "duration": 3,
    "start_time": "2022-02-17T14:34:59.615Z"
   },
   {
    "duration": 7,
    "start_time": "2022-02-17T14:35:51.997Z"
   },
   {
    "duration": 3,
    "start_time": "2022-02-17T14:37:07.575Z"
   },
   {
    "duration": 5,
    "start_time": "2022-02-17T14:37:38.933Z"
   },
   {
    "duration": 4,
    "start_time": "2022-02-17T14:39:13.967Z"
   },
   {
    "duration": 2285,
    "start_time": "2022-02-17T15:25:07.416Z"
   },
   {
    "duration": 2243,
    "start_time": "2022-02-17T15:26:41.139Z"
   },
   {
    "duration": 1105,
    "start_time": "2022-02-17T16:01:52.712Z"
   },
   {
    "duration": 354,
    "start_time": "2022-02-17T16:02:33.746Z"
   },
   {
    "duration": 1458,
    "start_time": "2022-02-17T16:02:43.114Z"
   },
   {
    "duration": 371,
    "start_time": "2022-02-17T16:05:50.570Z"
   },
   {
    "duration": 1663,
    "start_time": "2022-02-17T16:06:03.583Z"
   },
   {
    "duration": 343,
    "start_time": "2022-02-17T16:13:52.952Z"
   },
   {
    "duration": 378,
    "start_time": "2022-02-17T16:14:10.514Z"
   },
   {
    "duration": 946,
    "start_time": "2022-02-17T16:20:56.601Z"
   },
   {
    "duration": 1352,
    "start_time": "2022-02-17T16:22:02.740Z"
   },
   {
    "duration": 1268,
    "start_time": "2022-02-17T16:22:21.737Z"
   },
   {
    "duration": 1163,
    "start_time": "2022-02-17T16:22:43.388Z"
   },
   {
    "duration": 1239,
    "start_time": "2022-02-17T16:23:13.881Z"
   },
   {
    "duration": 1165,
    "start_time": "2022-02-17T16:24:28.859Z"
   },
   {
    "duration": 1293,
    "start_time": "2022-02-17T16:24:38.022Z"
   },
   {
    "duration": 1424,
    "start_time": "2022-02-17T16:25:05.110Z"
   },
   {
    "duration": 1233,
    "start_time": "2022-02-17T16:25:14.720Z"
   },
   {
    "duration": 425,
    "start_time": "2022-02-17T16:26:09.929Z"
   },
   {
    "duration": 1496,
    "start_time": "2022-02-17T16:26:20.175Z"
   },
   {
    "duration": 1358,
    "start_time": "2022-02-17T16:28:33.107Z"
   },
   {
    "duration": 1825,
    "start_time": "2022-02-17T16:29:37.276Z"
   },
   {
    "duration": 1346,
    "start_time": "2022-02-17T16:30:37.543Z"
   },
   {
    "duration": 1845,
    "start_time": "2022-02-17T16:31:44.381Z"
   },
   {
    "duration": 1913,
    "start_time": "2022-02-17T16:31:59.345Z"
   },
   {
    "duration": 1672,
    "start_time": "2022-02-17T16:32:09.614Z"
   },
   {
    "duration": 2179,
    "start_time": "2022-02-17T16:32:24.740Z"
   },
   {
    "duration": 1604,
    "start_time": "2022-02-17T16:32:34.404Z"
   },
   {
    "duration": 1742,
    "start_time": "2022-02-17T16:32:43.741Z"
   },
   {
    "duration": 1589,
    "start_time": "2022-02-17T16:32:53.950Z"
   },
   {
    "duration": 3399,
    "start_time": "2022-02-17T16:33:03.122Z"
   },
   {
    "duration": 1703,
    "start_time": "2022-02-17T16:33:17.417Z"
   },
   {
    "duration": 1782,
    "start_time": "2022-02-17T16:33:29.331Z"
   },
   {
    "duration": 1703,
    "start_time": "2022-02-17T16:33:37.102Z"
   },
   {
    "duration": 1760,
    "start_time": "2022-02-17T16:34:07.364Z"
   },
   {
    "duration": 1834,
    "start_time": "2022-02-17T16:34:29.516Z"
   },
   {
    "duration": 1655,
    "start_time": "2022-02-17T16:34:38.906Z"
   },
   {
    "duration": 1748,
    "start_time": "2022-02-17T16:35:10.491Z"
   },
   {
    "duration": 1584,
    "start_time": "2022-02-17T16:35:19.213Z"
   },
   {
    "duration": 1839,
    "start_time": "2022-02-17T16:35:31.954Z"
   },
   {
    "duration": 1694,
    "start_time": "2022-02-17T16:35:41.702Z"
   },
   {
    "duration": 1883,
    "start_time": "2022-02-17T16:36:29.738Z"
   },
   {
    "duration": 1121,
    "start_time": "2022-02-17T16:37:15.455Z"
   },
   {
    "duration": 56,
    "start_time": "2022-02-17T16:37:16.578Z"
   },
   {
    "duration": 9,
    "start_time": "2022-02-17T16:37:16.636Z"
   },
   {
    "duration": 4,
    "start_time": "2022-02-17T16:37:16.646Z"
   },
   {
    "duration": 5,
    "start_time": "2022-02-17T16:37:16.652Z"
   },
   {
    "duration": 14,
    "start_time": "2022-02-17T16:37:16.658Z"
   },
   {
    "duration": 17,
    "start_time": "2022-02-17T16:37:16.673Z"
   },
   {
    "duration": 11,
    "start_time": "2022-02-17T16:37:16.692Z"
   },
   {
    "duration": 6,
    "start_time": "2022-02-17T16:37:16.705Z"
   },
   {
    "duration": 41,
    "start_time": "2022-02-17T16:37:16.713Z"
   },
   {
    "duration": 6,
    "start_time": "2022-02-17T16:37:16.755Z"
   },
   {
    "duration": 5,
    "start_time": "2022-02-17T16:37:16.763Z"
   },
   {
    "duration": 6,
    "start_time": "2022-02-17T16:37:16.769Z"
   },
   {
    "duration": 8,
    "start_time": "2022-02-17T16:37:16.776Z"
   },
   {
    "duration": 8,
    "start_time": "2022-02-17T16:37:16.785Z"
   },
   {
    "duration": 6,
    "start_time": "2022-02-17T16:37:16.794Z"
   },
   {
    "duration": 12,
    "start_time": "2022-02-17T16:37:16.801Z"
   },
   {
    "duration": 7,
    "start_time": "2022-02-17T16:37:16.845Z"
   },
   {
    "duration": 12,
    "start_time": "2022-02-17T16:37:16.854Z"
   },
   {
    "duration": 2,
    "start_time": "2022-02-17T16:37:16.868Z"
   },
   {
    "duration": 7,
    "start_time": "2022-02-17T16:37:16.872Z"
   },
   {
    "duration": 6,
    "start_time": "2022-02-17T16:37:16.881Z"
   },
   {
    "duration": 11,
    "start_time": "2022-02-17T16:37:16.888Z"
   },
   {
    "duration": 9,
    "start_time": "2022-02-17T16:37:16.900Z"
   },
   {
    "duration": 36,
    "start_time": "2022-02-17T16:37:16.911Z"
   },
   {
    "duration": 5,
    "start_time": "2022-02-17T16:37:16.949Z"
   },
   {
    "duration": 421,
    "start_time": "2022-02-17T16:37:16.958Z"
   },
   {
    "duration": 19,
    "start_time": "2022-02-17T16:37:17.383Z"
   },
   {
    "duration": 17,
    "start_time": "2022-02-17T16:37:17.404Z"
   },
   {
    "duration": 39,
    "start_time": "2022-02-17T16:37:17.423Z"
   },
   {
    "duration": 19,
    "start_time": "2022-02-17T16:37:17.464Z"
   },
   {
    "duration": 17,
    "start_time": "2022-02-17T16:37:17.485Z"
   },
   {
    "duration": 17,
    "start_time": "2022-02-17T16:37:17.504Z"
   },
   {
    "duration": 4,
    "start_time": "2022-02-17T16:37:17.546Z"
   },
   {
    "duration": 5,
    "start_time": "2022-02-17T16:37:17.552Z"
   },
   {
    "duration": 5,
    "start_time": "2022-02-17T16:37:17.558Z"
   },
   {
    "duration": 14,
    "start_time": "2022-02-17T16:37:17.564Z"
   },
   {
    "duration": 27,
    "start_time": "2022-02-17T16:37:17.579Z"
   },
   {
    "duration": 11,
    "start_time": "2022-02-17T16:37:17.608Z"
   },
   {
    "duration": 40,
    "start_time": "2022-02-17T16:37:17.621Z"
   },
   {
    "duration": 3,
    "start_time": "2022-02-17T16:37:17.663Z"
   },
   {
    "duration": 16,
    "start_time": "2022-02-17T16:37:17.668Z"
   },
   {
    "duration": 344,
    "start_time": "2022-02-17T16:37:17.686Z"
   },
   {
    "duration": 18,
    "start_time": "2022-02-17T16:37:18.031Z"
   },
   {
    "duration": 7,
    "start_time": "2022-02-17T16:37:18.050Z"
   },
   {
    "duration": 7,
    "start_time": "2022-02-17T16:37:18.059Z"
   },
   {
    "duration": 18,
    "start_time": "2022-02-17T16:37:18.068Z"
   },
   {
    "duration": 299,
    "start_time": "2022-02-17T16:37:18.088Z"
   },
   {
    "duration": 10,
    "start_time": "2022-02-17T16:37:18.389Z"
   },
   {
    "duration": 5,
    "start_time": "2022-02-17T16:37:18.400Z"
   },
   {
    "duration": 9,
    "start_time": "2022-02-17T16:37:18.406Z"
   },
   {
    "duration": 7,
    "start_time": "2022-02-17T16:37:18.417Z"
   },
   {
    "duration": 26,
    "start_time": "2022-02-17T16:37:18.426Z"
   },
   {
    "duration": 17,
    "start_time": "2022-02-17T16:37:18.454Z"
   },
   {
    "duration": 426,
    "start_time": "2022-02-17T16:37:18.472Z"
   },
   {
    "duration": 10,
    "start_time": "2022-02-17T16:37:18.900Z"
   },
   {
    "duration": 6,
    "start_time": "2022-02-17T16:37:18.912Z"
   },
   {
    "duration": 32,
    "start_time": "2022-02-17T16:37:18.920Z"
   },
   {
    "duration": 6,
    "start_time": "2022-02-17T16:37:18.954Z"
   },
   {
    "duration": 7,
    "start_time": "2022-02-17T16:37:18.962Z"
   },
   {
    "duration": 288,
    "start_time": "2022-02-17T16:37:18.970Z"
   },
   {
    "duration": 5,
    "start_time": "2022-02-17T16:37:19.259Z"
   },
   {
    "duration": 349,
    "start_time": "2022-02-17T16:37:19.266Z"
   },
   {
    "duration": 301,
    "start_time": "2022-02-17T16:37:19.617Z"
   },
   {
    "duration": 531,
    "start_time": "2022-02-17T16:37:19.919Z"
   },
   {
    "duration": 237,
    "start_time": "2022-02-17T16:37:20.452Z"
   },
   {
    "duration": 1642,
    "start_time": "2022-02-17T16:37:20.690Z"
   },
   {
    "duration": 3,
    "start_time": "2022-02-17T16:37:22.334Z"
   },
   {
    "duration": 249,
    "start_time": "2022-02-17T16:37:22.346Z"
   },
   {
    "duration": 4,
    "start_time": "2022-02-17T16:37:22.597Z"
   },
   {
    "duration": 494,
    "start_time": "2022-02-17T16:37:22.603Z"
   },
   {
    "duration": 420,
    "start_time": "2022-02-17T16:37:23.099Z"
   },
   {
    "duration": 429,
    "start_time": "2022-02-17T16:37:23.521Z"
   },
   {
    "duration": 3,
    "start_time": "2022-02-17T16:37:23.951Z"
   },
   {
    "duration": 10,
    "start_time": "2022-02-17T16:37:23.955Z"
   },
   {
    "duration": 5,
    "start_time": "2022-02-17T16:37:23.966Z"
   },
   {
    "duration": 8,
    "start_time": "2022-02-17T16:37:23.972Z"
   },
   {
    "duration": 9,
    "start_time": "2022-02-17T16:37:23.981Z"
   },
   {
    "duration": 14,
    "start_time": "2022-02-17T16:37:23.992Z"
   },
   {
    "duration": 23,
    "start_time": "2022-02-17T16:37:24.007Z"
   },
   {
    "duration": 13,
    "start_time": "2022-02-17T16:37:24.037Z"
   },
   {
    "duration": 14,
    "start_time": "2022-02-17T16:37:24.052Z"
   },
   {
    "duration": 12,
    "start_time": "2022-02-17T16:37:24.068Z"
   },
   {
    "duration": 16,
    "start_time": "2022-02-17T16:37:24.081Z"
   },
   {
    "duration": 24,
    "start_time": "2022-02-17T16:37:24.098Z"
   },
   {
    "duration": 15,
    "start_time": "2022-02-17T16:37:24.123Z"
   },
   {
    "duration": 537,
    "start_time": "2022-02-17T16:38:58.043Z"
   },
   {
    "duration": 1122,
    "start_time": "2022-02-17T16:47:30.660Z"
   },
   {
    "duration": 48,
    "start_time": "2022-02-17T16:47:31.784Z"
   },
   {
    "duration": 9,
    "start_time": "2022-02-17T16:47:31.834Z"
   },
   {
    "duration": 5,
    "start_time": "2022-02-17T16:47:31.845Z"
   },
   {
    "duration": 4,
    "start_time": "2022-02-17T16:47:31.852Z"
   },
   {
    "duration": 16,
    "start_time": "2022-02-17T16:47:31.858Z"
   },
   {
    "duration": 17,
    "start_time": "2022-02-17T16:47:31.876Z"
   },
   {
    "duration": 13,
    "start_time": "2022-02-17T16:47:31.895Z"
   },
   {
    "duration": 8,
    "start_time": "2022-02-17T16:47:31.910Z"
   },
   {
    "duration": 32,
    "start_time": "2022-02-17T16:47:31.919Z"
   },
   {
    "duration": 6,
    "start_time": "2022-02-17T16:47:31.952Z"
   },
   {
    "duration": 6,
    "start_time": "2022-02-17T16:47:31.959Z"
   },
   {
    "duration": 5,
    "start_time": "2022-02-17T16:47:31.966Z"
   },
   {
    "duration": 6,
    "start_time": "2022-02-17T16:47:31.972Z"
   },
   {
    "duration": 7,
    "start_time": "2022-02-17T16:47:31.979Z"
   },
   {
    "duration": 7,
    "start_time": "2022-02-17T16:47:31.987Z"
   },
   {
    "duration": 13,
    "start_time": "2022-02-17T16:47:31.996Z"
   },
   {
    "duration": 8,
    "start_time": "2022-02-17T16:47:32.010Z"
   },
   {
    "duration": 13,
    "start_time": "2022-02-17T16:47:32.046Z"
   },
   {
    "duration": 3,
    "start_time": "2022-02-17T16:47:32.060Z"
   },
   {
    "duration": 7,
    "start_time": "2022-02-17T16:47:32.065Z"
   },
   {
    "duration": 6,
    "start_time": "2022-02-17T16:47:32.073Z"
   },
   {
    "duration": 13,
    "start_time": "2022-02-17T16:47:32.083Z"
   },
   {
    "duration": 8,
    "start_time": "2022-02-17T16:47:32.098Z"
   },
   {
    "duration": 41,
    "start_time": "2022-02-17T16:47:32.107Z"
   },
   {
    "duration": 6,
    "start_time": "2022-02-17T16:47:32.149Z"
   },
   {
    "duration": 418,
    "start_time": "2022-02-17T16:47:32.156Z"
   },
   {
    "duration": 17,
    "start_time": "2022-02-17T16:47:32.575Z"
   },
   {
    "duration": 18,
    "start_time": "2022-02-17T16:47:32.594Z"
   },
   {
    "duration": 35,
    "start_time": "2022-02-17T16:47:32.615Z"
   },
   {
    "duration": 19,
    "start_time": "2022-02-17T16:47:32.652Z"
   },
   {
    "duration": 17,
    "start_time": "2022-02-17T16:47:32.673Z"
   },
   {
    "duration": 16,
    "start_time": "2022-02-17T16:47:32.691Z"
   },
   {
    "duration": 5,
    "start_time": "2022-02-17T16:47:32.708Z"
   },
   {
    "duration": 5,
    "start_time": "2022-02-17T16:47:32.714Z"
   },
   {
    "duration": 26,
    "start_time": "2022-02-17T16:47:32.721Z"
   },
   {
    "duration": 11,
    "start_time": "2022-02-17T16:47:32.748Z"
   },
   {
    "duration": 22,
    "start_time": "2022-02-17T16:47:32.761Z"
   },
   {
    "duration": 12,
    "start_time": "2022-02-17T16:47:32.784Z"
   },
   {
    "duration": 25,
    "start_time": "2022-02-17T16:47:32.797Z"
   },
   {
    "duration": 4,
    "start_time": "2022-02-17T16:47:32.823Z"
   },
   {
    "duration": 12,
    "start_time": "2022-02-17T16:47:32.845Z"
   },
   {
    "duration": 353,
    "start_time": "2022-02-17T16:47:32.858Z"
   },
   {
    "duration": 9,
    "start_time": "2022-02-17T16:47:33.213Z"
   },
   {
    "duration": 7,
    "start_time": "2022-02-17T16:47:33.224Z"
   },
   {
    "duration": 8,
    "start_time": "2022-02-17T16:47:33.245Z"
   },
   {
    "duration": 20,
    "start_time": "2022-02-17T16:47:33.254Z"
   },
   {
    "duration": 375,
    "start_time": "2022-02-17T16:47:33.276Z"
   },
   {
    "duration": 11,
    "start_time": "2022-02-17T16:47:33.653Z"
   },
   {
    "duration": 5,
    "start_time": "2022-02-17T16:47:33.665Z"
   },
   {
    "duration": 7,
    "start_time": "2022-02-17T16:47:33.672Z"
   },
   {
    "duration": 5,
    "start_time": "2022-02-17T16:47:33.681Z"
   },
   {
    "duration": 9,
    "start_time": "2022-02-17T16:47:33.687Z"
   },
   {
    "duration": 19,
    "start_time": "2022-02-17T16:47:33.697Z"
   },
   {
    "duration": 338,
    "start_time": "2022-02-17T16:47:33.717Z"
   },
   {
    "duration": 9,
    "start_time": "2022-02-17T16:47:34.057Z"
   },
   {
    "duration": 6,
    "start_time": "2022-02-17T16:47:34.068Z"
   },
   {
    "duration": 8,
    "start_time": "2022-02-17T16:47:34.076Z"
   },
   {
    "duration": 7,
    "start_time": "2022-02-17T16:47:34.085Z"
   },
   {
    "duration": 7,
    "start_time": "2022-02-17T16:47:34.094Z"
   },
   {
    "duration": 318,
    "start_time": "2022-02-17T16:47:34.103Z"
   },
   {
    "duration": 5,
    "start_time": "2022-02-17T16:47:34.423Z"
   },
   {
    "duration": 327,
    "start_time": "2022-02-17T16:47:34.430Z"
   },
   {
    "duration": 293,
    "start_time": "2022-02-17T16:47:34.759Z"
   },
   {
    "duration": 536,
    "start_time": "2022-02-17T16:47:35.054Z"
   },
   {
    "duration": 212,
    "start_time": "2022-02-17T16:47:35.592Z"
   },
   {
    "duration": 1640,
    "start_time": "2022-02-17T16:47:35.806Z"
   },
   {
    "duration": 4,
    "start_time": "2022-02-17T16:47:37.450Z"
   },
   {
    "duration": 354,
    "start_time": "2022-02-17T16:47:37.456Z"
   },
   {
    "duration": 5,
    "start_time": "2022-02-17T16:47:37.811Z"
   },
   {
    "duration": 490,
    "start_time": "2022-02-17T16:47:37.817Z"
   },
   {
    "duration": 438,
    "start_time": "2022-02-17T16:47:38.309Z"
   },
   {
    "duration": 455,
    "start_time": "2022-02-17T16:47:38.749Z"
   },
   {
    "duration": 2,
    "start_time": "2022-02-17T16:47:39.206Z"
   },
   {
    "duration": 10,
    "start_time": "2022-02-17T16:47:39.210Z"
   },
   {
    "duration": 5,
    "start_time": "2022-02-17T16:47:39.221Z"
   },
   {
    "duration": 19,
    "start_time": "2022-02-17T16:47:39.228Z"
   },
   {
    "duration": 7,
    "start_time": "2022-02-17T16:47:39.249Z"
   },
   {
    "duration": 6,
    "start_time": "2022-02-17T16:47:39.258Z"
   },
   {
    "duration": 4,
    "start_time": "2022-02-17T16:47:39.265Z"
   },
   {
    "duration": 7,
    "start_time": "2022-02-17T16:47:39.270Z"
   },
   {
    "duration": 5,
    "start_time": "2022-02-17T16:47:39.278Z"
   },
   {
    "duration": 8,
    "start_time": "2022-02-17T16:47:39.285Z"
   },
   {
    "duration": 6,
    "start_time": "2022-02-17T16:47:39.294Z"
   },
   {
    "duration": 6,
    "start_time": "2022-02-17T16:47:39.302Z"
   },
   {
    "duration": 5,
    "start_time": "2022-02-17T16:47:39.310Z"
   },
   {
    "duration": 420,
    "start_time": "2022-02-17T16:48:12.836Z"
   },
   {
    "duration": 394,
    "start_time": "2022-02-17T16:48:22.246Z"
   },
   {
    "duration": 1115,
    "start_time": "2022-02-17T16:48:38.662Z"
   },
   {
    "duration": 47,
    "start_time": "2022-02-17T16:48:39.779Z"
   },
   {
    "duration": 8,
    "start_time": "2022-02-17T16:48:39.828Z"
   },
   {
    "duration": 2,
    "start_time": "2022-02-17T16:48:39.838Z"
   },
   {
    "duration": 5,
    "start_time": "2022-02-17T16:48:39.842Z"
   },
   {
    "duration": 14,
    "start_time": "2022-02-17T16:48:39.849Z"
   },
   {
    "duration": 16,
    "start_time": "2022-02-17T16:48:39.865Z"
   },
   {
    "duration": 11,
    "start_time": "2022-02-17T16:48:39.884Z"
   },
   {
    "duration": 7,
    "start_time": "2022-02-17T16:48:39.896Z"
   },
   {
    "duration": 11,
    "start_time": "2022-02-17T16:48:39.904Z"
   },
   {
    "duration": 33,
    "start_time": "2022-02-17T16:48:39.917Z"
   },
   {
    "duration": 6,
    "start_time": "2022-02-17T16:48:39.951Z"
   },
   {
    "duration": 6,
    "start_time": "2022-02-17T16:48:39.958Z"
   },
   {
    "duration": 6,
    "start_time": "2022-02-17T16:48:39.965Z"
   },
   {
    "duration": 6,
    "start_time": "2022-02-17T16:48:39.972Z"
   },
   {
    "duration": 7,
    "start_time": "2022-02-17T16:48:39.979Z"
   },
   {
    "duration": 10,
    "start_time": "2022-02-17T16:48:39.988Z"
   },
   {
    "duration": 7,
    "start_time": "2022-02-17T16:48:40.000Z"
   },
   {
    "duration": 48,
    "start_time": "2022-02-17T16:48:40.008Z"
   },
   {
    "duration": 3,
    "start_time": "2022-02-17T16:48:40.057Z"
   },
   {
    "duration": 5,
    "start_time": "2022-02-17T16:48:40.061Z"
   },
   {
    "duration": 5,
    "start_time": "2022-02-17T16:48:40.068Z"
   },
   {
    "duration": 10,
    "start_time": "2022-02-17T16:48:40.077Z"
   },
   {
    "duration": 7,
    "start_time": "2022-02-17T16:48:40.089Z"
   },
   {
    "duration": 5,
    "start_time": "2022-02-17T16:48:40.097Z"
   },
   {
    "duration": 7,
    "start_time": "2022-02-17T16:48:40.104Z"
   },
   {
    "duration": 445,
    "start_time": "2022-02-17T16:48:40.112Z"
   },
   {
    "duration": 18,
    "start_time": "2022-02-17T16:48:40.559Z"
   },
   {
    "duration": 18,
    "start_time": "2022-02-17T16:48:40.578Z"
   },
   {
    "duration": 18,
    "start_time": "2022-02-17T16:48:40.597Z"
   },
   {
    "duration": 37,
    "start_time": "2022-02-17T16:48:40.617Z"
   },
   {
    "duration": 17,
    "start_time": "2022-02-17T16:48:40.656Z"
   },
   {
    "duration": 16,
    "start_time": "2022-02-17T16:48:40.675Z"
   },
   {
    "duration": 4,
    "start_time": "2022-02-17T16:48:40.692Z"
   },
   {
    "duration": 4,
    "start_time": "2022-02-17T16:48:40.697Z"
   },
   {
    "duration": 4,
    "start_time": "2022-02-17T16:48:40.702Z"
   },
   {
    "duration": 41,
    "start_time": "2022-02-17T16:48:40.707Z"
   },
   {
    "duration": 21,
    "start_time": "2022-02-17T16:48:40.750Z"
   },
   {
    "duration": 11,
    "start_time": "2022-02-17T16:48:40.773Z"
   },
   {
    "duration": 19,
    "start_time": "2022-02-17T16:48:40.785Z"
   },
   {
    "duration": 3,
    "start_time": "2022-02-17T16:48:40.806Z"
   },
   {
    "duration": 38,
    "start_time": "2022-02-17T16:48:40.811Z"
   },
   {
    "duration": 332,
    "start_time": "2022-02-17T16:48:40.851Z"
   },
   {
    "duration": 9,
    "start_time": "2022-02-17T16:48:41.185Z"
   },
   {
    "duration": 7,
    "start_time": "2022-02-17T16:48:41.195Z"
   },
   {
    "duration": 8,
    "start_time": "2022-02-17T16:48:41.203Z"
   },
   {
    "duration": 38,
    "start_time": "2022-02-17T16:48:41.212Z"
   },
   {
    "duration": 368,
    "start_time": "2022-02-17T16:48:41.252Z"
   },
   {
    "duration": 13,
    "start_time": "2022-02-17T16:48:41.622Z"
   },
   {
    "duration": 6,
    "start_time": "2022-02-17T16:48:41.646Z"
   },
   {
    "duration": 8,
    "start_time": "2022-02-17T16:48:41.654Z"
   },
   {
    "duration": 5,
    "start_time": "2022-02-17T16:48:41.664Z"
   },
   {
    "duration": 8,
    "start_time": "2022-02-17T16:48:41.671Z"
   },
   {
    "duration": 14,
    "start_time": "2022-02-17T16:48:41.680Z"
   },
   {
    "duration": 321,
    "start_time": "2022-02-17T16:48:41.695Z"
   },
   {
    "duration": 8,
    "start_time": "2022-02-17T16:48:42.018Z"
   },
   {
    "duration": 21,
    "start_time": "2022-02-17T16:48:42.028Z"
   },
   {
    "duration": 10,
    "start_time": "2022-02-17T16:48:42.050Z"
   },
   {
    "duration": 5,
    "start_time": "2022-02-17T16:48:42.062Z"
   },
   {
    "duration": 7,
    "start_time": "2022-02-17T16:48:42.069Z"
   },
   {
    "duration": 290,
    "start_time": "2022-02-17T16:48:42.078Z"
   },
   {
    "duration": 5,
    "start_time": "2022-02-17T16:48:42.370Z"
   },
   {
    "duration": 341,
    "start_time": "2022-02-17T16:48:42.377Z"
   },
   {
    "duration": 297,
    "start_time": "2022-02-17T16:48:42.719Z"
   },
   {
    "duration": 544,
    "start_time": "2022-02-17T16:48:43.017Z"
   },
   {
    "duration": 233,
    "start_time": "2022-02-17T16:48:43.563Z"
   },
   {
    "duration": 1641,
    "start_time": "2022-02-17T16:48:43.798Z"
   },
   {
    "duration": 3,
    "start_time": "2022-02-17T16:48:45.444Z"
   },
   {
    "duration": 254,
    "start_time": "2022-02-17T16:48:45.449Z"
   },
   {
    "duration": 4,
    "start_time": "2022-02-17T16:48:45.704Z"
   },
   {
    "duration": 481,
    "start_time": "2022-02-17T16:48:45.709Z"
   },
   {
    "duration": 420,
    "start_time": "2022-02-17T16:48:46.192Z"
   },
   {
    "duration": 405,
    "start_time": "2022-02-17T16:48:46.614Z"
   },
   {
    "duration": 2,
    "start_time": "2022-02-17T16:48:47.021Z"
   },
   {
    "duration": 7,
    "start_time": "2022-02-17T16:48:47.025Z"
   },
   {
    "duration": 14,
    "start_time": "2022-02-17T16:48:47.033Z"
   },
   {
    "duration": 6,
    "start_time": "2022-02-17T16:48:47.049Z"
   },
   {
    "duration": 5,
    "start_time": "2022-02-17T16:48:47.057Z"
   },
   {
    "duration": 5,
    "start_time": "2022-02-17T16:48:47.063Z"
   },
   {
    "duration": 4,
    "start_time": "2022-02-17T16:48:47.070Z"
   },
   {
    "duration": 8,
    "start_time": "2022-02-17T16:48:47.076Z"
   },
   {
    "duration": 4,
    "start_time": "2022-02-17T16:48:47.085Z"
   },
   {
    "duration": 6,
    "start_time": "2022-02-17T16:48:47.091Z"
   },
   {
    "duration": 4,
    "start_time": "2022-02-17T16:48:47.099Z"
   },
   {
    "duration": 7,
    "start_time": "2022-02-17T16:48:47.105Z"
   },
   {
    "duration": 4,
    "start_time": "2022-02-17T16:48:47.146Z"
   },
   {
    "duration": 1154,
    "start_time": "2022-02-26T16:12:34.386Z"
   },
   {
    "duration": 50,
    "start_time": "2022-02-26T16:12:35.542Z"
   },
   {
    "duration": 10,
    "start_time": "2022-02-26T16:12:35.594Z"
   },
   {
    "duration": 11,
    "start_time": "2022-02-26T16:12:35.606Z"
   },
   {
    "duration": 18,
    "start_time": "2022-02-26T16:12:35.619Z"
   },
   {
    "duration": 24,
    "start_time": "2022-02-26T16:12:35.639Z"
   },
   {
    "duration": 27,
    "start_time": "2022-02-26T16:12:35.665Z"
   },
   {
    "duration": 50,
    "start_time": "2022-02-26T16:12:35.694Z"
   },
   {
    "duration": 34,
    "start_time": "2022-02-26T16:12:35.747Z"
   },
   {
    "duration": 28,
    "start_time": "2022-02-26T16:12:35.783Z"
   },
   {
    "duration": 24,
    "start_time": "2022-02-26T16:12:35.813Z"
   },
   {
    "duration": 15,
    "start_time": "2022-02-26T16:12:35.839Z"
   },
   {
    "duration": 17,
    "start_time": "2022-02-26T16:12:35.855Z"
   },
   {
    "duration": 6,
    "start_time": "2022-02-26T16:12:35.873Z"
   },
   {
    "duration": 16,
    "start_time": "2022-02-26T16:12:35.881Z"
   },
   {
    "duration": 11,
    "start_time": "2022-02-26T16:12:35.899Z"
   },
   {
    "duration": 20,
    "start_time": "2022-02-26T16:12:35.911Z"
   },
   {
    "duration": 15,
    "start_time": "2022-02-26T16:12:35.933Z"
   },
   {
    "duration": 25,
    "start_time": "2022-02-26T16:12:35.950Z"
   },
   {
    "duration": 13,
    "start_time": "2022-02-26T16:12:35.977Z"
   },
   {
    "duration": 16,
    "start_time": "2022-02-26T16:12:35.992Z"
   },
   {
    "duration": 24,
    "start_time": "2022-02-26T16:12:36.010Z"
   },
   {
    "duration": 41,
    "start_time": "2022-02-26T16:12:36.035Z"
   },
   {
    "duration": 23,
    "start_time": "2022-02-26T16:12:36.078Z"
   },
   {
    "duration": 9,
    "start_time": "2022-02-26T16:12:36.103Z"
   },
   {
    "duration": 36,
    "start_time": "2022-02-26T16:12:36.114Z"
   },
   {
    "duration": 481,
    "start_time": "2022-02-26T16:12:36.155Z"
   },
   {
    "duration": 29,
    "start_time": "2022-02-26T16:12:36.638Z"
   },
   {
    "duration": 18,
    "start_time": "2022-02-26T16:12:36.669Z"
   },
   {
    "duration": 33,
    "start_time": "2022-02-26T16:12:36.688Z"
   },
   {
    "duration": 35,
    "start_time": "2022-02-26T16:12:36.722Z"
   },
   {
    "duration": 21,
    "start_time": "2022-02-26T16:12:36.762Z"
   },
   {
    "duration": 23,
    "start_time": "2022-02-26T16:12:36.785Z"
   },
   {
    "duration": 19,
    "start_time": "2022-02-26T16:12:36.809Z"
   },
   {
    "duration": 18,
    "start_time": "2022-02-26T16:12:36.830Z"
   },
   {
    "duration": 24,
    "start_time": "2022-02-26T16:12:36.850Z"
   },
   {
    "duration": 22,
    "start_time": "2022-02-26T16:12:36.875Z"
   },
   {
    "duration": 55,
    "start_time": "2022-02-26T16:12:36.898Z"
   },
   {
    "duration": 13,
    "start_time": "2022-02-26T16:12:36.956Z"
   },
   {
    "duration": 33,
    "start_time": "2022-02-26T16:12:36.970Z"
   },
   {
    "duration": 16,
    "start_time": "2022-02-26T16:12:37.005Z"
   },
   {
    "duration": 45,
    "start_time": "2022-02-26T16:12:37.023Z"
   },
   {
    "duration": 403,
    "start_time": "2022-02-26T16:12:37.070Z"
   },
   {
    "duration": 10,
    "start_time": "2022-02-26T16:12:37.475Z"
   },
   {
    "duration": 19,
    "start_time": "2022-02-26T16:12:37.487Z"
   },
   {
    "duration": 35,
    "start_time": "2022-02-26T16:12:37.507Z"
   },
   {
    "duration": 52,
    "start_time": "2022-02-26T16:12:37.544Z"
   },
   {
    "duration": 340,
    "start_time": "2022-02-26T16:12:37.598Z"
   },
   {
    "duration": 10,
    "start_time": "2022-02-26T16:12:37.940Z"
   },
   {
    "duration": 34,
    "start_time": "2022-02-26T16:12:37.951Z"
   },
   {
    "duration": 31,
    "start_time": "2022-02-26T16:12:37.987Z"
   },
   {
    "duration": 57,
    "start_time": "2022-02-26T16:12:38.019Z"
   },
   {
    "duration": 46,
    "start_time": "2022-02-26T16:12:38.078Z"
   },
   {
    "duration": 35,
    "start_time": "2022-02-26T16:12:38.126Z"
   },
   {
    "duration": 390,
    "start_time": "2022-02-26T16:12:38.163Z"
   },
   {
    "duration": 16,
    "start_time": "2022-02-26T16:12:38.554Z"
   },
   {
    "duration": 32,
    "start_time": "2022-02-26T16:12:38.571Z"
   },
   {
    "duration": 31,
    "start_time": "2022-02-26T16:12:38.604Z"
   },
   {
    "duration": 16,
    "start_time": "2022-02-26T16:12:38.637Z"
   },
   {
    "duration": 39,
    "start_time": "2022-02-26T16:12:38.655Z"
   },
   {
    "duration": 352,
    "start_time": "2022-02-26T16:12:38.696Z"
   },
   {
    "duration": 17,
    "start_time": "2022-02-26T16:12:39.050Z"
   },
   {
    "duration": 381,
    "start_time": "2022-02-26T16:12:39.069Z"
   },
   {
    "duration": 314,
    "start_time": "2022-02-26T16:12:39.451Z"
   },
   {
    "duration": 574,
    "start_time": "2022-02-26T16:12:39.767Z"
   },
   {
    "duration": 251,
    "start_time": "2022-02-26T16:12:40.343Z"
   },
   {
    "duration": 1796,
    "start_time": "2022-02-26T16:12:40.596Z"
   },
   {
    "duration": 4,
    "start_time": "2022-02-26T16:12:42.394Z"
   },
   {
    "duration": 303,
    "start_time": "2022-02-26T16:12:42.400Z"
   },
   {
    "duration": 5,
    "start_time": "2022-02-26T16:12:42.705Z"
   },
   {
    "duration": 573,
    "start_time": "2022-02-26T16:12:42.712Z"
   },
   {
    "duration": 497,
    "start_time": "2022-02-26T16:12:43.287Z"
   },
   {
    "duration": 468,
    "start_time": "2022-02-26T16:12:43.786Z"
   },
   {
    "duration": 9,
    "start_time": "2022-02-26T16:12:44.255Z"
   },
   {
    "duration": 38,
    "start_time": "2022-02-26T16:12:44.265Z"
   },
   {
    "duration": 36,
    "start_time": "2022-02-26T16:12:44.305Z"
   },
   {
    "duration": 22,
    "start_time": "2022-02-26T16:12:44.343Z"
   },
   {
    "duration": 17,
    "start_time": "2022-02-26T16:12:44.367Z"
   },
   {
    "duration": 39,
    "start_time": "2022-02-26T16:12:44.386Z"
   },
   {
    "duration": 33,
    "start_time": "2022-02-26T16:12:44.427Z"
   },
   {
    "duration": 27,
    "start_time": "2022-02-26T16:12:44.465Z"
   },
   {
    "duration": 26,
    "start_time": "2022-02-26T16:12:44.494Z"
   },
   {
    "duration": 28,
    "start_time": "2022-02-26T16:12:44.521Z"
   },
   {
    "duration": 33,
    "start_time": "2022-02-26T16:12:44.551Z"
   },
   {
    "duration": 25,
    "start_time": "2022-02-26T16:12:44.585Z"
   },
   {
    "duration": 45,
    "start_time": "2022-02-26T16:12:44.611Z"
   },
   {
    "duration": 12,
    "start_time": "2022-02-26T16:14:02.397Z"
   },
   {
    "duration": 12,
    "start_time": "2022-02-26T16:14:32.246Z"
   },
   {
    "duration": 5416,
    "start_time": "2022-02-26T16:15:13.487Z"
   },
   {
    "duration": 12,
    "start_time": "2022-02-26T16:15:32.829Z"
   },
   {
    "duration": 267,
    "start_time": "2022-02-26T20:46:16.610Z"
   },
   {
    "duration": 1527,
    "start_time": "2022-02-26T20:46:31.243Z"
   },
   {
    "duration": 72,
    "start_time": "2022-02-26T20:46:32.772Z"
   },
   {
    "duration": 14,
    "start_time": "2022-02-26T20:46:32.846Z"
   },
   {
    "duration": 7,
    "start_time": "2022-02-26T20:46:32.862Z"
   },
   {
    "duration": 18,
    "start_time": "2022-02-26T20:46:32.871Z"
   },
   {
    "duration": 27,
    "start_time": "2022-02-26T20:46:32.892Z"
   },
   {
    "duration": 26,
    "start_time": "2022-02-26T20:46:32.921Z"
   },
   {
    "duration": 47,
    "start_time": "2022-02-26T20:46:32.951Z"
   },
   {
    "duration": 10,
    "start_time": "2022-02-26T20:46:33.001Z"
   },
   {
    "duration": 19,
    "start_time": "2022-02-26T20:46:33.013Z"
   },
   {
    "duration": 9,
    "start_time": "2022-02-26T20:46:33.034Z"
   },
   {
    "duration": 51,
    "start_time": "2022-02-26T20:46:33.045Z"
   },
   {
    "duration": 9,
    "start_time": "2022-02-26T20:46:33.098Z"
   },
   {
    "duration": 9,
    "start_time": "2022-02-26T20:46:33.109Z"
   },
   {
    "duration": 9,
    "start_time": "2022-02-26T20:46:33.120Z"
   },
   {
    "duration": 10,
    "start_time": "2022-02-26T20:46:33.132Z"
   },
   {
    "duration": 15,
    "start_time": "2022-02-26T20:46:33.188Z"
   },
   {
    "duration": 13,
    "start_time": "2022-02-26T20:46:33.205Z"
   },
   {
    "duration": 21,
    "start_time": "2022-02-26T20:46:33.220Z"
   },
   {
    "duration": 6295,
    "start_time": "2022-02-26T20:46:33.243Z"
   },
   {
    "duration": -3156,
    "start_time": "2022-02-26T20:46:42.700Z"
   },
   {
    "duration": -3174,
    "start_time": "2022-02-26T20:46:42.719Z"
   },
   {
    "duration": -3191,
    "start_time": "2022-02-26T20:46:42.738Z"
   },
   {
    "duration": -3207,
    "start_time": "2022-02-26T20:46:42.755Z"
   },
   {
    "duration": -3220,
    "start_time": "2022-02-26T20:46:42.770Z"
   },
   {
    "duration": -3235,
    "start_time": "2022-02-26T20:46:42.786Z"
   },
   {
    "duration": -3245,
    "start_time": "2022-02-26T20:46:42.798Z"
   },
   {
    "duration": -3265,
    "start_time": "2022-02-26T20:46:42.819Z"
   },
   {
    "duration": -3282,
    "start_time": "2022-02-26T20:46:42.838Z"
   },
   {
    "duration": -3298,
    "start_time": "2022-02-26T20:46:42.855Z"
   },
   {
    "duration": -3311,
    "start_time": "2022-02-26T20:46:42.869Z"
   },
   {
    "duration": -3325,
    "start_time": "2022-02-26T20:46:42.885Z"
   },
   {
    "duration": -3336,
    "start_time": "2022-02-26T20:46:42.897Z"
   },
   {
    "duration": -3348,
    "start_time": "2022-02-26T20:46:42.910Z"
   },
   {
    "duration": -3352,
    "start_time": "2022-02-26T20:46:42.915Z"
   },
   {
    "duration": -3364,
    "start_time": "2022-02-26T20:46:42.929Z"
   },
   {
    "duration": -3371,
    "start_time": "2022-02-26T20:46:42.937Z"
   },
   {
    "duration": -3380,
    "start_time": "2022-02-26T20:46:42.948Z"
   },
   {
    "duration": -3393,
    "start_time": "2022-02-26T20:46:42.962Z"
   },
   {
    "duration": -3400,
    "start_time": "2022-02-26T20:46:42.970Z"
   },
   {
    "duration": -3413,
    "start_time": "2022-02-26T20:46:42.984Z"
   },
   {
    "duration": -3424,
    "start_time": "2022-02-26T20:46:42.996Z"
   },
   {
    "duration": -3429,
    "start_time": "2022-02-26T20:46:43.003Z"
   },
   {
    "duration": -3442,
    "start_time": "2022-02-26T20:46:43.017Z"
   },
   {
    "duration": -3455,
    "start_time": "2022-02-26T20:46:43.031Z"
   },
   {
    "duration": -3469,
    "start_time": "2022-02-26T20:46:43.046Z"
   },
   {
    "duration": -3475,
    "start_time": "2022-02-26T20:46:43.053Z"
   },
   {
    "duration": -3484,
    "start_time": "2022-02-26T20:46:43.064Z"
   },
   {
    "duration": -3490,
    "start_time": "2022-02-26T20:46:43.071Z"
   },
   {
    "duration": -3503,
    "start_time": "2022-02-26T20:46:43.085Z"
   },
   {
    "duration": -3514,
    "start_time": "2022-02-26T20:46:43.097Z"
   },
   {
    "duration": -3520,
    "start_time": "2022-02-26T20:46:43.104Z"
   },
   {
    "duration": -3536,
    "start_time": "2022-02-26T20:46:43.121Z"
   },
   {
    "duration": -3550,
    "start_time": "2022-02-26T20:46:43.136Z"
   },
   {
    "duration": -3564,
    "start_time": "2022-02-26T20:46:43.151Z"
   },
   {
    "duration": -3576,
    "start_time": "2022-02-26T20:46:43.164Z"
   },
   {
    "duration": -3581,
    "start_time": "2022-02-26T20:46:43.171Z"
   },
   {
    "duration": -3595,
    "start_time": "2022-02-26T20:46:43.186Z"
   },
   {
    "duration": -3606,
    "start_time": "2022-02-26T20:46:43.198Z"
   },
   {
    "duration": -3620,
    "start_time": "2022-02-26T20:46:43.213Z"
   },
   {
    "duration": -3626,
    "start_time": "2022-02-26T20:46:43.220Z"
   },
   {
    "duration": -3638,
    "start_time": "2022-02-26T20:46:43.234Z"
   },
   {
    "duration": -3650,
    "start_time": "2022-02-26T20:46:43.247Z"
   },
   {
    "duration": -3656,
    "start_time": "2022-02-26T20:46:43.254Z"
   },
   {
    "duration": -3670,
    "start_time": "2022-02-26T20:46:43.269Z"
   },
   {
    "duration": -3681,
    "start_time": "2022-02-26T20:46:43.281Z"
   },
   {
    "duration": -3687,
    "start_time": "2022-02-26T20:46:43.288Z"
   },
   {
    "duration": -3699,
    "start_time": "2022-02-26T20:46:43.302Z"
   },
   {
    "duration": -3710,
    "start_time": "2022-02-26T20:46:43.314Z"
   },
   {
    "duration": -3724,
    "start_time": "2022-02-26T20:46:43.329Z"
   },
   {
    "duration": -3730,
    "start_time": "2022-02-26T20:46:43.336Z"
   },
   {
    "duration": -3741,
    "start_time": "2022-02-26T20:46:43.349Z"
   },
   {
    "duration": -3754,
    "start_time": "2022-02-26T20:46:43.363Z"
   },
   {
    "duration": -3760,
    "start_time": "2022-02-26T20:46:43.370Z"
   },
   {
    "duration": -3770,
    "start_time": "2022-02-26T20:46:43.381Z"
   },
   {
    "duration": -3784,
    "start_time": "2022-02-26T20:46:43.396Z"
   },
   {
    "duration": -3788,
    "start_time": "2022-02-26T20:46:43.402Z"
   },
   {
    "duration": -3800,
    "start_time": "2022-02-26T20:46:43.415Z"
   },
   {
    "duration": -3813,
    "start_time": "2022-02-26T20:46:43.429Z"
   },
   {
    "duration": -3820,
    "start_time": "2022-02-26T20:46:43.437Z"
   },
   {
    "duration": -3833,
    "start_time": "2022-02-26T20:46:43.451Z"
   },
   {
    "duration": -3844,
    "start_time": "2022-02-26T20:46:43.464Z"
   },
   {
    "duration": -3877,
    "start_time": "2022-02-26T20:46:43.498Z"
   },
   {
    "duration": -3891,
    "start_time": "2022-02-26T20:46:43.513Z"
   },
   {
    "duration": -3897,
    "start_time": "2022-02-26T20:46:43.520Z"
   },
   {
    "duration": -3909,
    "start_time": "2022-02-26T20:46:43.533Z"
   },
   {
    "duration": -3921,
    "start_time": "2022-02-26T20:46:43.546Z"
   },
   {
    "duration": 5416,
    "start_time": "2022-02-26T20:46:52.345Z"
   },
   {
    "duration": 15,
    "start_time": "2022-02-26T20:47:21.423Z"
   },
   {
    "duration": 220,
    "start_time": "2022-02-26T20:53:49.084Z"
   },
   {
    "duration": 1869,
    "start_time": "2022-02-26T20:54:30.574Z"
   },
   {
    "duration": 69,
    "start_time": "2022-02-26T20:54:32.446Z"
   },
   {
    "duration": 14,
    "start_time": "2022-02-26T20:54:32.518Z"
   },
   {
    "duration": 12,
    "start_time": "2022-02-26T20:54:32.535Z"
   },
   {
    "duration": 9,
    "start_time": "2022-02-26T20:54:32.550Z"
   },
   {
    "duration": 33,
    "start_time": "2022-02-26T20:54:32.588Z"
   },
   {
    "duration": 63,
    "start_time": "2022-02-26T20:54:32.624Z"
   },
   {
    "duration": 28,
    "start_time": "2022-02-26T20:54:32.690Z"
   },
   {
    "duration": 13,
    "start_time": "2022-02-26T20:54:32.723Z"
   },
   {
    "duration": 59,
    "start_time": "2022-02-26T20:54:32.739Z"
   },
   {
    "duration": 12,
    "start_time": "2022-02-26T20:54:32.800Z"
   },
   {
    "duration": 12,
    "start_time": "2022-02-26T20:54:32.815Z"
   },
   {
    "duration": 12,
    "start_time": "2022-02-26T20:54:32.830Z"
   },
   {
    "duration": 13,
    "start_time": "2022-02-26T20:54:32.888Z"
   },
   {
    "duration": 12,
    "start_time": "2022-02-26T20:54:32.904Z"
   },
   {
    "duration": 9,
    "start_time": "2022-02-26T20:54:32.919Z"
   },
   {
    "duration": 57,
    "start_time": "2022-02-26T20:54:32.931Z"
   },
   {
    "duration": 15,
    "start_time": "2022-02-26T20:54:32.992Z"
   },
   {
    "duration": 22,
    "start_time": "2022-02-26T20:54:33.010Z"
   },
   {
    "duration": 56,
    "start_time": "2022-02-26T20:54:33.036Z"
   },
   {
    "duration": 4,
    "start_time": "2022-02-26T20:54:33.094Z"
   },
   {
    "duration": 11,
    "start_time": "2022-02-26T20:54:33.100Z"
   },
   {
    "duration": 9,
    "start_time": "2022-02-26T20:54:33.114Z"
   },
   {
    "duration": 20,
    "start_time": "2022-02-26T20:54:33.125Z"
   },
   {
    "duration": 57,
    "start_time": "2022-02-26T20:54:33.147Z"
   },
   {
    "duration": 10,
    "start_time": "2022-02-26T20:54:33.207Z"
   },
   {
    "duration": 12,
    "start_time": "2022-02-26T20:54:33.229Z"
   },
   {
    "duration": 758,
    "start_time": "2022-02-26T20:54:33.247Z"
   },
   {
    "duration": 32,
    "start_time": "2022-02-26T20:54:34.007Z"
   },
   {
    "duration": 52,
    "start_time": "2022-02-26T20:54:34.041Z"
   },
   {
    "duration": 33,
    "start_time": "2022-02-26T20:54:34.096Z"
   },
   {
    "duration": 68,
    "start_time": "2022-02-26T20:54:34.132Z"
   },
   {
    "duration": 33,
    "start_time": "2022-02-26T20:54:34.203Z"
   },
   {
    "duration": 60,
    "start_time": "2022-02-26T20:54:34.239Z"
   },
   {
    "duration": 6,
    "start_time": "2022-02-26T20:54:34.302Z"
   },
   {
    "duration": 6,
    "start_time": "2022-02-26T20:54:34.310Z"
   },
   {
    "duration": 8,
    "start_time": "2022-02-26T20:54:34.319Z"
   },
   {
    "duration": 22,
    "start_time": "2022-02-26T20:54:34.329Z"
   },
   {
    "duration": 35,
    "start_time": "2022-02-26T20:54:34.388Z"
   },
   {
    "duration": 23,
    "start_time": "2022-02-26T20:54:34.426Z"
   },
   {
    "duration": 63,
    "start_time": "2022-02-26T20:54:34.452Z"
   },
   {
    "duration": 6,
    "start_time": "2022-02-26T20:54:34.517Z"
   },
   {
    "duration": 23,
    "start_time": "2022-02-26T20:54:34.525Z"
   },
   {
    "duration": 666,
    "start_time": "2022-02-26T20:54:34.550Z"
   },
   {
    "duration": 13,
    "start_time": "2022-02-26T20:54:35.219Z"
   },
   {
    "duration": 12,
    "start_time": "2022-02-26T20:54:35.234Z"
   },
   {
    "duration": 39,
    "start_time": "2022-02-26T20:54:35.248Z"
   },
   {
    "duration": 35,
    "start_time": "2022-02-26T20:54:35.290Z"
   },
   {
    "duration": 544,
    "start_time": "2022-02-26T20:54:35.328Z"
   },
   {
    "duration": 23,
    "start_time": "2022-02-26T20:54:35.875Z"
   },
   {
    "duration": 7,
    "start_time": "2022-02-26T20:54:35.900Z"
   },
   {
    "duration": 9,
    "start_time": "2022-02-26T20:54:35.909Z"
   },
   {
    "duration": 6,
    "start_time": "2022-02-26T20:54:35.921Z"
   },
   {
    "duration": 14,
    "start_time": "2022-02-26T20:54:35.930Z"
   },
   {
    "duration": 61,
    "start_time": "2022-02-26T20:54:35.946Z"
   },
   {
    "duration": 614,
    "start_time": "2022-02-26T20:54:36.010Z"
   },
   {
    "duration": 14,
    "start_time": "2022-02-26T20:54:36.627Z"
   },
   {
    "duration": 10,
    "start_time": "2022-02-26T20:54:36.644Z"
   },
   {
    "duration": 39,
    "start_time": "2022-02-26T20:54:36.657Z"
   },
   {
    "duration": 11,
    "start_time": "2022-02-26T20:54:36.699Z"
   },
   {
    "duration": 11,
    "start_time": "2022-02-26T20:54:36.712Z"
   },
   {
    "duration": 568,
    "start_time": "2022-02-26T20:54:36.725Z"
   },
   {
    "duration": 9,
    "start_time": "2022-02-26T20:54:37.295Z"
   },
   {
    "duration": 569,
    "start_time": "2022-02-26T20:54:37.306Z"
   },
   {
    "duration": 427,
    "start_time": "2022-02-26T20:54:37.877Z"
   },
   {
    "duration": 849,
    "start_time": "2022-02-26T20:54:38.306Z"
   },
   {
    "duration": 350,
    "start_time": "2022-02-26T20:54:39.157Z"
   },
   {
    "duration": 2830,
    "start_time": "2022-02-26T20:54:39.511Z"
   },
   {
    "duration": 6,
    "start_time": "2022-02-26T20:54:42.344Z"
   },
   {
    "duration": 494,
    "start_time": "2022-02-26T20:54:42.353Z"
   },
   {
    "duration": 8,
    "start_time": "2022-02-26T20:54:42.850Z"
   },
   {
    "duration": 1043,
    "start_time": "2022-02-26T20:54:42.860Z"
   },
   {
    "duration": 981,
    "start_time": "2022-02-26T20:54:43.906Z"
   },
   {
    "duration": 811,
    "start_time": "2022-02-26T20:54:44.890Z"
   },
   {
    "duration": 3,
    "start_time": "2022-02-26T20:54:45.703Z"
   },
   {
    "duration": 18,
    "start_time": "2022-02-26T20:54:45.709Z"
   },
   {
    "duration": 17,
    "start_time": "2022-02-26T20:54:45.730Z"
   },
   {
    "duration": 38,
    "start_time": "2022-02-26T20:54:45.751Z"
   },
   {
    "duration": 6,
    "start_time": "2022-02-26T20:54:45.792Z"
   },
   {
    "duration": 8,
    "start_time": "2022-02-26T20:54:45.801Z"
   },
   {
    "duration": 7,
    "start_time": "2022-02-26T20:54:45.821Z"
   },
   {
    "duration": 59,
    "start_time": "2022-02-26T20:54:45.831Z"
   },
   {
    "duration": 6,
    "start_time": "2022-02-26T20:54:45.893Z"
   },
   {
    "duration": 12,
    "start_time": "2022-02-26T20:54:45.902Z"
   },
   {
    "duration": 7,
    "start_time": "2022-02-26T20:54:45.917Z"
   },
   {
    "duration": 19,
    "start_time": "2022-02-26T20:54:45.927Z"
   },
   {
    "duration": 42,
    "start_time": "2022-02-26T20:54:45.949Z"
   },
   {
    "duration": 916,
    "start_time": "2022-02-26T20:57:18.375Z"
   },
   {
    "duration": 10,
    "start_time": "2022-02-26T21:07:05.081Z"
   },
   {
    "duration": 21,
    "start_time": "2022-02-26T21:07:53.948Z"
   },
   {
    "duration": 546,
    "start_time": "2022-02-26T21:08:00.591Z"
   },
   {
    "duration": 14,
    "start_time": "2022-02-26T21:08:15.821Z"
   },
   {
    "duration": 10,
    "start_time": "2022-02-26T21:08:17.052Z"
   },
   {
    "duration": 8,
    "start_time": "2022-02-26T21:16:40.453Z"
   },
   {
    "duration": 550,
    "start_time": "2022-02-26T21:16:45.048Z"
   },
   {
    "duration": 555,
    "start_time": "2022-02-26T21:17:53.176Z"
   },
   {
    "duration": 662,
    "start_time": "2022-02-26T21:18:03.198Z"
   },
   {
    "duration": 8,
    "start_time": "2022-02-26T21:18:11.884Z"
   },
   {
    "duration": 535,
    "start_time": "2022-02-26T21:18:15.732Z"
   },
   {
    "duration": 30,
    "start_time": "2022-02-26T21:25:13.305Z"
   },
   {
    "duration": 23,
    "start_time": "2022-02-26T21:25:28.941Z"
   },
   {
    "duration": 4,
    "start_time": "2022-02-26T21:28:39.443Z"
   },
   {
    "duration": 5,
    "start_time": "2022-02-26T21:29:00.440Z"
   },
   {
    "duration": 443,
    "start_time": "2022-02-26T21:33:20.244Z"
   },
   {
    "duration": 5,
    "start_time": "2022-02-26T21:34:06.694Z"
   },
   {
    "duration": 447,
    "start_time": "2022-02-26T21:34:11.825Z"
   },
   {
    "duration": 36,
    "start_time": "2022-02-26T21:34:58.635Z"
   },
   {
    "duration": 35,
    "start_time": "2022-02-26T21:35:40.381Z"
   },
   {
    "duration": 4,
    "start_time": "2022-02-26T21:36:32.264Z"
   },
   {
    "duration": 5,
    "start_time": "2022-02-26T21:36:45.488Z"
   },
   {
    "duration": 448,
    "start_time": "2022-02-26T21:36:50.372Z"
   },
   {
    "duration": 437,
    "start_time": "2022-02-26T21:36:58.794Z"
   },
   {
    "duration": 1494,
    "start_time": "2022-02-26T21:37:28.153Z"
   },
   {
    "duration": 68,
    "start_time": "2022-02-26T21:37:29.649Z"
   },
   {
    "duration": 13,
    "start_time": "2022-02-26T21:37:29.720Z"
   },
   {
    "duration": 12,
    "start_time": "2022-02-26T21:37:29.736Z"
   },
   {
    "duration": 19,
    "start_time": "2022-02-26T21:37:29.750Z"
   },
   {
    "duration": 39,
    "start_time": "2022-02-26T21:37:29.772Z"
   },
   {
    "duration": 28,
    "start_time": "2022-02-26T21:37:29.814Z"
   },
   {
    "duration": 40,
    "start_time": "2022-02-26T21:37:29.847Z"
   },
   {
    "duration": 10,
    "start_time": "2022-02-26T21:37:29.891Z"
   },
   {
    "duration": 20,
    "start_time": "2022-02-26T21:37:29.904Z"
   },
   {
    "duration": 12,
    "start_time": "2022-02-26T21:37:29.927Z"
   },
   {
    "duration": 53,
    "start_time": "2022-02-26T21:37:29.942Z"
   },
   {
    "duration": 14,
    "start_time": "2022-02-26T21:37:29.998Z"
   },
   {
    "duration": 16,
    "start_time": "2022-02-26T21:37:30.015Z"
   },
   {
    "duration": 9,
    "start_time": "2022-02-26T21:37:30.034Z"
   },
   {
    "duration": 21,
    "start_time": "2022-02-26T21:37:30.088Z"
   },
   {
    "duration": 39,
    "start_time": "2022-02-26T21:37:30.112Z"
   },
   {
    "duration": 21,
    "start_time": "2022-02-26T21:37:30.154Z"
   },
   {
    "duration": 26,
    "start_time": "2022-02-26T21:37:30.179Z"
   },
   {
    "duration": 16,
    "start_time": "2022-02-26T21:37:30.208Z"
   },
   {
    "duration": 20,
    "start_time": "2022-02-26T21:37:30.226Z"
   },
   {
    "duration": 12,
    "start_time": "2022-02-26T21:37:30.249Z"
   },
   {
    "duration": 8,
    "start_time": "2022-02-26T21:37:30.287Z"
   },
   {
    "duration": 18,
    "start_time": "2022-02-26T21:37:30.301Z"
   },
   {
    "duration": 16,
    "start_time": "2022-02-26T21:37:30.322Z"
   },
   {
    "duration": 19,
    "start_time": "2022-02-26T21:37:30.340Z"
   },
   {
    "duration": 34,
    "start_time": "2022-02-26T21:37:30.361Z"
   },
   {
    "duration": 675,
    "start_time": "2022-02-26T21:37:30.397Z"
   },
   {
    "duration": 39,
    "start_time": "2022-02-26T21:37:31.075Z"
   },
   {
    "duration": 74,
    "start_time": "2022-02-26T21:37:31.116Z"
   },
   {
    "duration": 50,
    "start_time": "2022-02-26T21:37:31.193Z"
   },
   {
    "duration": 31,
    "start_time": "2022-02-26T21:37:31.245Z"
   },
   {
    "duration": 40,
    "start_time": "2022-02-26T21:37:31.279Z"
   },
   {
    "duration": 31,
    "start_time": "2022-02-26T21:37:31.322Z"
   },
   {
    "duration": 31,
    "start_time": "2022-02-26T21:37:31.356Z"
   },
   {
    "duration": 19,
    "start_time": "2022-02-26T21:37:31.389Z"
   },
   {
    "duration": 26,
    "start_time": "2022-02-26T21:37:31.411Z"
   },
   {
    "duration": 42,
    "start_time": "2022-02-26T21:37:31.440Z"
   },
   {
    "duration": 52,
    "start_time": "2022-02-26T21:37:31.485Z"
   },
   {
    "duration": 20,
    "start_time": "2022-02-26T21:37:31.539Z"
   },
   {
    "duration": 58,
    "start_time": "2022-02-26T21:37:31.562Z"
   },
   {
    "duration": 5,
    "start_time": "2022-02-26T21:37:31.623Z"
   },
   {
    "duration": 33,
    "start_time": "2022-02-26T21:37:31.632Z"
   },
   {
    "duration": 681,
    "start_time": "2022-02-26T21:37:31.668Z"
   },
   {
    "duration": 14,
    "start_time": "2022-02-26T21:37:32.352Z"
   },
   {
    "duration": 38,
    "start_time": "2022-02-26T21:37:32.369Z"
   },
   {
    "duration": 46,
    "start_time": "2022-02-26T21:37:32.410Z"
   },
   {
    "duration": 49,
    "start_time": "2022-02-26T21:37:32.459Z"
   },
   {
    "duration": 528,
    "start_time": "2022-02-26T21:37:32.510Z"
   },
   {
    "duration": 15,
    "start_time": "2022-02-26T21:37:33.040Z"
   },
   {
    "duration": 32,
    "start_time": "2022-02-26T21:37:33.058Z"
   },
   {
    "duration": 26,
    "start_time": "2022-02-26T21:37:33.093Z"
   },
   {
    "duration": 16,
    "start_time": "2022-02-26T21:37:33.122Z"
   },
   {
    "duration": 29,
    "start_time": "2022-02-26T21:37:33.140Z"
   },
   {
    "duration": 34,
    "start_time": "2022-02-26T21:37:33.172Z"
   },
   {
    "duration": 584,
    "start_time": "2022-02-26T21:37:33.208Z"
   },
   {
    "duration": 13,
    "start_time": "2022-02-26T21:37:33.795Z"
   },
   {
    "duration": 29,
    "start_time": "2022-02-26T21:37:33.811Z"
   },
   {
    "duration": 52,
    "start_time": "2022-02-26T21:37:33.843Z"
   },
   {
    "duration": 17,
    "start_time": "2022-02-26T21:37:33.898Z"
   },
   {
    "duration": 21,
    "start_time": "2022-02-26T21:37:33.918Z"
   },
   {
    "duration": 11,
    "start_time": "2022-02-26T21:37:33.942Z"
   },
   {
    "duration": 509,
    "start_time": "2022-02-26T21:37:33.956Z"
   },
   {
    "duration": 6,
    "start_time": "2022-02-26T21:37:34.467Z"
   },
   {
    "duration": 526,
    "start_time": "2022-02-26T21:37:34.488Z"
   },
   {
    "duration": 414,
    "start_time": "2022-02-26T21:37:35.017Z"
   },
   {
    "duration": 961,
    "start_time": "2022-02-26T21:37:35.434Z"
   },
   {
    "duration": 425,
    "start_time": "2022-02-26T21:37:36.406Z"
   },
   {
    "duration": 2668,
    "start_time": "2022-02-26T21:37:36.835Z"
   },
   {
    "duration": -3108,
    "start_time": "2022-02-26T21:37:42.614Z"
   },
   {
    "duration": -3112,
    "start_time": "2022-02-26T21:37:42.620Z"
   },
   {
    "duration": -3116,
    "start_time": "2022-02-26T21:37:42.625Z"
   },
   {
    "duration": -3121,
    "start_time": "2022-02-26T21:37:42.632Z"
   },
   {
    "duration": -3125,
    "start_time": "2022-02-26T21:37:42.637Z"
   },
   {
    "duration": -3137,
    "start_time": "2022-02-26T21:37:42.651Z"
   },
   {
    "duration": -3141,
    "start_time": "2022-02-26T21:37:42.657Z"
   },
   {
    "duration": -3145,
    "start_time": "2022-02-26T21:37:42.663Z"
   },
   {
    "duration": -3149,
    "start_time": "2022-02-26T21:37:42.668Z"
   },
   {
    "duration": -3152,
    "start_time": "2022-02-26T21:37:42.673Z"
   },
   {
    "duration": -3155,
    "start_time": "2022-02-26T21:37:42.678Z"
   },
   {
    "duration": -3165,
    "start_time": "2022-02-26T21:37:42.689Z"
   },
   {
    "duration": -3170,
    "start_time": "2022-02-26T21:37:42.695Z"
   },
   {
    "duration": -3179,
    "start_time": "2022-02-26T21:37:42.706Z"
   },
   {
    "duration": -3183,
    "start_time": "2022-02-26T21:37:42.712Z"
   },
   {
    "duration": -3193,
    "start_time": "2022-02-26T21:37:42.723Z"
   },
   {
    "duration": -3196,
    "start_time": "2022-02-26T21:37:42.728Z"
   },
   {
    "duration": -3207,
    "start_time": "2022-02-26T21:37:42.740Z"
   },
   {
    "duration": -3210,
    "start_time": "2022-02-26T21:37:42.745Z"
   },
   {
    "duration": -3169,
    "start_time": "2022-02-26T21:37:42.756Z"
   },
   {
    "duration": -3172,
    "start_time": "2022-02-26T21:37:42.761Z"
   },
   {
    "duration": 1498,
    "start_time": "2022-02-26T21:38:31.989Z"
   },
   {
    "duration": 67,
    "start_time": "2022-02-26T21:38:33.489Z"
   },
   {
    "duration": 13,
    "start_time": "2022-02-26T21:38:33.559Z"
   },
   {
    "duration": 13,
    "start_time": "2022-02-26T21:38:33.575Z"
   },
   {
    "duration": 6,
    "start_time": "2022-02-26T21:38:33.590Z"
   },
   {
    "duration": 32,
    "start_time": "2022-02-26T21:38:33.598Z"
   },
   {
    "duration": 62,
    "start_time": "2022-02-26T21:38:33.633Z"
   },
   {
    "duration": 26,
    "start_time": "2022-02-26T21:38:33.700Z"
   },
   {
    "duration": 11,
    "start_time": "2022-02-26T21:38:33.730Z"
   },
   {
    "duration": 20,
    "start_time": "2022-02-26T21:38:33.743Z"
   },
   {
    "duration": 10,
    "start_time": "2022-02-26T21:38:33.788Z"
   },
   {
    "duration": 9,
    "start_time": "2022-02-26T21:38:33.800Z"
   },
   {
    "duration": 9,
    "start_time": "2022-02-26T21:38:33.811Z"
   },
   {
    "duration": 13,
    "start_time": "2022-02-26T21:38:33.822Z"
   },
   {
    "duration": 56,
    "start_time": "2022-02-26T21:38:33.837Z"
   },
   {
    "duration": 9,
    "start_time": "2022-02-26T21:38:33.895Z"
   },
   {
    "duration": 19,
    "start_time": "2022-02-26T21:38:33.907Z"
   },
   {
    "duration": 11,
    "start_time": "2022-02-26T21:38:33.928Z"
   },
   {
    "duration": 54,
    "start_time": "2022-02-26T21:38:33.942Z"
   },
   {
    "duration": 15,
    "start_time": "2022-02-26T21:38:33.999Z"
   },
   {
    "duration": 6,
    "start_time": "2022-02-26T21:38:34.017Z"
   },
   {
    "duration": 9,
    "start_time": "2022-02-26T21:38:34.025Z"
   },
   {
    "duration": 7,
    "start_time": "2022-02-26T21:38:34.040Z"
   },
   {
    "duration": 53,
    "start_time": "2022-02-26T21:38:34.050Z"
   },
   {
    "duration": 11,
    "start_time": "2022-02-26T21:38:34.105Z"
   },
   {
    "duration": 9,
    "start_time": "2022-02-26T21:38:34.118Z"
   },
   {
    "duration": 9,
    "start_time": "2022-02-26T21:38:34.130Z"
   },
   {
    "duration": 692,
    "start_time": "2022-02-26T21:38:34.141Z"
   },
   {
    "duration": 31,
    "start_time": "2022-02-26T21:38:34.835Z"
   },
   {
    "duration": 48,
    "start_time": "2022-02-26T21:38:34.868Z"
   },
   {
    "duration": 33,
    "start_time": "2022-02-26T21:38:34.918Z"
   },
   {
    "duration": 57,
    "start_time": "2022-02-26T21:38:34.953Z"
   },
   {
    "duration": 32,
    "start_time": "2022-02-26T21:38:35.012Z"
   },
   {
    "duration": 59,
    "start_time": "2022-02-26T21:38:35.046Z"
   },
   {
    "duration": 11,
    "start_time": "2022-02-26T21:38:35.108Z"
   },
   {
    "duration": 14,
    "start_time": "2022-02-26T21:38:35.121Z"
   },
   {
    "duration": 9,
    "start_time": "2022-02-26T21:38:35.137Z"
   },
   {
    "duration": 40,
    "start_time": "2022-02-26T21:38:35.148Z"
   },
   {
    "duration": 39,
    "start_time": "2022-02-26T21:38:35.191Z"
   },
   {
    "duration": 23,
    "start_time": "2022-02-26T21:38:35.232Z"
   },
   {
    "duration": 43,
    "start_time": "2022-02-26T21:38:35.258Z"
   },
   {
    "duration": 6,
    "start_time": "2022-02-26T21:38:35.304Z"
   },
   {
    "duration": 24,
    "start_time": "2022-02-26T21:38:35.312Z"
   },
   {
    "duration": 675,
    "start_time": "2022-02-26T21:38:35.338Z"
   },
   {
    "duration": 18,
    "start_time": "2022-02-26T21:38:36.016Z"
   },
   {
    "duration": 16,
    "start_time": "2022-02-26T21:38:36.036Z"
   },
   {
    "duration": 37,
    "start_time": "2022-02-26T21:38:36.055Z"
   },
   {
    "duration": 35,
    "start_time": "2022-02-26T21:38:36.095Z"
   },
   {
    "duration": 545,
    "start_time": "2022-02-26T21:38:36.133Z"
   },
   {
    "duration": 25,
    "start_time": "2022-02-26T21:38:36.681Z"
   },
   {
    "duration": 10,
    "start_time": "2022-02-26T21:38:36.709Z"
   },
   {
    "duration": 11,
    "start_time": "2022-02-26T21:38:36.722Z"
   },
   {
    "duration": 8,
    "start_time": "2022-02-26T21:38:36.736Z"
   },
   {
    "duration": 48,
    "start_time": "2022-02-26T21:38:36.747Z"
   },
   {
    "duration": 21,
    "start_time": "2022-02-26T21:38:36.798Z"
   },
   {
    "duration": 573,
    "start_time": "2022-02-26T21:38:36.822Z"
   },
   {
    "duration": 13,
    "start_time": "2022-02-26T21:38:37.397Z"
   },
   {
    "duration": 13,
    "start_time": "2022-02-26T21:38:37.412Z"
   },
   {
    "duration": 23,
    "start_time": "2022-02-26T21:38:37.428Z"
   },
   {
    "duration": 45,
    "start_time": "2022-02-26T21:38:37.453Z"
   },
   {
    "duration": 12,
    "start_time": "2022-02-26T21:38:37.501Z"
   },
   {
    "duration": 23,
    "start_time": "2022-02-26T21:38:37.516Z"
   },
   {
    "duration": 511,
    "start_time": "2022-02-26T21:38:37.542Z"
   },
   {
    "duration": 7,
    "start_time": "2022-02-26T21:38:38.056Z"
   },
   {
    "duration": 505,
    "start_time": "2022-02-26T21:38:38.065Z"
   },
   {
    "duration": 393,
    "start_time": "2022-02-26T21:38:38.572Z"
   },
   {
    "duration": 839,
    "start_time": "2022-02-26T21:38:38.967Z"
   },
   {
    "duration": 382,
    "start_time": "2022-02-26T21:38:39.813Z"
   },
   {
    "duration": 2673,
    "start_time": "2022-02-26T21:38:40.197Z"
   },
   {
    "duration": -3138,
    "start_time": "2022-02-26T21:38:46.011Z"
   },
   {
    "duration": -3141,
    "start_time": "2022-02-26T21:38:46.016Z"
   },
   {
    "duration": -3145,
    "start_time": "2022-02-26T21:38:46.021Z"
   },
   {
    "duration": -3150,
    "start_time": "2022-02-26T21:38:46.027Z"
   },
   {
    "duration": -3145,
    "start_time": "2022-02-26T21:38:46.032Z"
   },
   {
    "duration": -3158,
    "start_time": "2022-02-26T21:38:46.046Z"
   },
   {
    "duration": -3169,
    "start_time": "2022-02-26T21:38:46.059Z"
   },
   {
    "duration": -3179,
    "start_time": "2022-02-26T21:38:46.070Z"
   },
   {
    "duration": -3185,
    "start_time": "2022-02-26T21:38:46.077Z"
   },
   {
    "duration": -3195,
    "start_time": "2022-02-26T21:38:46.088Z"
   },
   {
    "duration": -3201,
    "start_time": "2022-02-26T21:38:46.095Z"
   },
   {
    "duration": -3209,
    "start_time": "2022-02-26T21:38:46.104Z"
   },
   {
    "duration": -3215,
    "start_time": "2022-02-26T21:38:46.111Z"
   },
   {
    "duration": -3223,
    "start_time": "2022-02-26T21:38:46.121Z"
   },
   {
    "duration": -3229,
    "start_time": "2022-02-26T21:38:46.128Z"
   },
   {
    "duration": -3238,
    "start_time": "2022-02-26T21:38:46.138Z"
   },
   {
    "duration": -3243,
    "start_time": "2022-02-26T21:38:46.144Z"
   },
   {
    "duration": -3251,
    "start_time": "2022-02-26T21:38:46.154Z"
   },
   {
    "duration": -3256,
    "start_time": "2022-02-26T21:38:46.160Z"
   },
   {
    "duration": -3260,
    "start_time": "2022-02-26T21:38:46.165Z"
   },
   {
    "duration": -3263,
    "start_time": "2022-02-26T21:38:46.170Z"
   },
   {
    "duration": 2010,
    "start_time": "2022-02-26T21:42:10.265Z"
   },
   {
    "duration": 86,
    "start_time": "2022-02-26T21:42:12.278Z"
   },
   {
    "duration": 27,
    "start_time": "2022-02-26T21:42:12.368Z"
   },
   {
    "duration": 6,
    "start_time": "2022-02-26T21:42:12.398Z"
   },
   {
    "duration": 12,
    "start_time": "2022-02-26T21:42:12.406Z"
   },
   {
    "duration": 38,
    "start_time": "2022-02-26T21:42:12.421Z"
   },
   {
    "duration": 60,
    "start_time": "2022-02-26T21:42:12.462Z"
   },
   {
    "duration": 27,
    "start_time": "2022-02-26T21:42:12.525Z"
   },
   {
    "duration": 39,
    "start_time": "2022-02-26T21:42:12.557Z"
   },
   {
    "duration": 29,
    "start_time": "2022-02-26T21:42:12.600Z"
   },
   {
    "duration": 11,
    "start_time": "2022-02-26T21:42:12.632Z"
   },
   {
    "duration": 43,
    "start_time": "2022-02-26T21:42:12.646Z"
   },
   {
    "duration": 12,
    "start_time": "2022-02-26T21:42:12.692Z"
   },
   {
    "duration": 12,
    "start_time": "2022-02-26T21:42:12.706Z"
   },
   {
    "duration": 11,
    "start_time": "2022-02-26T21:42:12.720Z"
   },
   {
    "duration": 11,
    "start_time": "2022-02-26T21:42:12.734Z"
   },
   {
    "duration": 20,
    "start_time": "2022-02-26T21:42:12.789Z"
   },
   {
    "duration": 14,
    "start_time": "2022-02-26T21:42:12.812Z"
   },
   {
    "duration": 57,
    "start_time": "2022-02-26T21:42:12.829Z"
   },
   {
    "duration": 15,
    "start_time": "2022-02-26T21:42:12.889Z"
   },
   {
    "duration": 3,
    "start_time": "2022-02-26T21:42:12.907Z"
   },
   {
    "duration": 6,
    "start_time": "2022-02-26T21:42:12.913Z"
   },
   {
    "duration": 10,
    "start_time": "2022-02-26T21:42:12.922Z"
   },
   {
    "duration": 53,
    "start_time": "2022-02-26T21:42:12.935Z"
   },
   {
    "duration": 14,
    "start_time": "2022-02-26T21:42:12.991Z"
   },
   {
    "duration": 17,
    "start_time": "2022-02-26T21:42:13.007Z"
   },
   {
    "duration": 11,
    "start_time": "2022-02-26T21:42:13.033Z"
   },
   {
    "duration": 824,
    "start_time": "2022-02-26T21:42:13.049Z"
   },
   {
    "duration": 47,
    "start_time": "2022-02-26T21:42:13.875Z"
   },
   {
    "duration": 42,
    "start_time": "2022-02-26T21:42:13.925Z"
   },
   {
    "duration": 43,
    "start_time": "2022-02-26T21:42:13.987Z"
   },
   {
    "duration": 64,
    "start_time": "2022-02-26T21:42:14.033Z"
   },
   {
    "duration": 43,
    "start_time": "2022-02-26T21:42:14.100Z"
   },
   {
    "duration": 67,
    "start_time": "2022-02-26T21:42:14.146Z"
   },
   {
    "duration": 6,
    "start_time": "2022-02-26T21:42:14.216Z"
   },
   {
    "duration": 6,
    "start_time": "2022-02-26T21:42:14.225Z"
   },
   {
    "duration": 7,
    "start_time": "2022-02-26T21:42:14.233Z"
   },
   {
    "duration": 60,
    "start_time": "2022-02-26T21:42:14.243Z"
   },
   {
    "duration": 54,
    "start_time": "2022-02-26T21:42:14.306Z"
   },
   {
    "duration": 41,
    "start_time": "2022-02-26T21:42:14.363Z"
   },
   {
    "duration": 30,
    "start_time": "2022-02-26T21:42:14.407Z"
   },
   {
    "duration": 5,
    "start_time": "2022-02-26T21:42:14.440Z"
   },
   {
    "duration": 50,
    "start_time": "2022-02-26T21:42:14.447Z"
   },
   {
    "duration": 633,
    "start_time": "2022-02-26T21:42:14.500Z"
   },
   {
    "duration": 15,
    "start_time": "2022-02-26T21:42:15.135Z"
   },
   {
    "duration": 16,
    "start_time": "2022-02-26T21:42:15.152Z"
   },
   {
    "duration": 12,
    "start_time": "2022-02-26T21:42:15.187Z"
   },
   {
    "duration": 34,
    "start_time": "2022-02-26T21:42:15.201Z"
   },
   {
    "duration": 538,
    "start_time": "2022-02-26T21:42:15.237Z"
   },
   {
    "duration": 23,
    "start_time": "2022-02-26T21:42:15.778Z"
   },
   {
    "duration": 8,
    "start_time": "2022-02-26T21:42:15.803Z"
   },
   {
    "duration": 9,
    "start_time": "2022-02-26T21:42:15.814Z"
   },
   {
    "duration": 6,
    "start_time": "2022-02-26T21:42:15.825Z"
   },
   {
    "duration": 59,
    "start_time": "2022-02-26T21:42:15.833Z"
   },
   {
    "duration": 24,
    "start_time": "2022-02-26T21:42:15.894Z"
   },
   {
    "duration": 552,
    "start_time": "2022-02-26T21:42:15.920Z"
   },
   {
    "duration": 20,
    "start_time": "2022-02-26T21:42:16.474Z"
   },
   {
    "duration": 14,
    "start_time": "2022-02-26T21:42:16.496Z"
   },
   {
    "duration": 24,
    "start_time": "2022-02-26T21:42:16.513Z"
   },
   {
    "duration": 13,
    "start_time": "2022-02-26T21:42:16.539Z"
   },
   {
    "duration": 34,
    "start_time": "2022-02-26T21:42:16.555Z"
   },
   {
    "duration": 12,
    "start_time": "2022-02-26T21:42:16.591Z"
   },
   {
    "duration": 495,
    "start_time": "2022-02-26T21:42:16.605Z"
   },
   {
    "duration": 7,
    "start_time": "2022-02-26T21:42:17.103Z"
   },
   {
    "duration": 500,
    "start_time": "2022-02-26T21:42:17.112Z"
   },
   {
    "duration": 386,
    "start_time": "2022-02-26T21:42:17.614Z"
   },
   {
    "duration": 851,
    "start_time": "2022-02-26T21:42:18.002Z"
   },
   {
    "duration": 344,
    "start_time": "2022-02-26T21:42:18.855Z"
   },
   {
    "duration": 2675,
    "start_time": "2022-02-26T21:42:19.201Z"
   },
   {
    "duration": -3095,
    "start_time": "2022-02-26T21:42:24.974Z"
   },
   {
    "duration": -3103,
    "start_time": "2022-02-26T21:42:24.990Z"
   },
   {
    "duration": -3118,
    "start_time": "2022-02-26T21:42:25.006Z"
   },
   {
    "duration": -3135,
    "start_time": "2022-02-26T21:42:25.024Z"
   },
   {
    "duration": -3148,
    "start_time": "2022-02-26T21:42:25.039Z"
   },
   {
    "duration": -3165,
    "start_time": "2022-02-26T21:42:25.057Z"
   },
   {
    "duration": -3180,
    "start_time": "2022-02-26T21:42:25.073Z"
   },
   {
    "duration": -3196,
    "start_time": "2022-02-26T21:42:25.091Z"
   },
   {
    "duration": -3212,
    "start_time": "2022-02-26T21:42:25.108Z"
   },
   {
    "duration": -3241,
    "start_time": "2022-02-26T21:42:25.138Z"
   },
   {
    "duration": -3256,
    "start_time": "2022-02-26T21:42:25.155Z"
   },
   {
    "duration": -3275,
    "start_time": "2022-02-26T21:42:25.175Z"
   },
   {
    "duration": -3298,
    "start_time": "2022-02-26T21:42:25.199Z"
   },
   {
    "duration": -3305,
    "start_time": "2022-02-26T21:42:25.207Z"
   },
   {
    "duration": -3320,
    "start_time": "2022-02-26T21:42:25.224Z"
   },
   {
    "duration": -3334,
    "start_time": "2022-02-26T21:42:25.239Z"
   },
   {
    "duration": -3344,
    "start_time": "2022-02-26T21:42:25.250Z"
   },
   {
    "duration": -3350,
    "start_time": "2022-02-26T21:42:25.258Z"
   },
   {
    "duration": -3364,
    "start_time": "2022-02-26T21:42:25.273Z"
   },
   {
    "duration": -3377,
    "start_time": "2022-02-26T21:42:25.288Z"
   },
   {
    "duration": -3387,
    "start_time": "2022-02-26T21:42:25.300Z"
   },
   {
    "duration": 34,
    "start_time": "2022-02-26T21:42:57.374Z"
   },
   {
    "duration": 1469,
    "start_time": "2022-02-26T21:43:38.578Z"
   },
   {
    "duration": 67,
    "start_time": "2022-02-26T21:43:40.049Z"
   },
   {
    "duration": 13,
    "start_time": "2022-02-26T21:43:40.119Z"
   },
   {
    "duration": 8,
    "start_time": "2022-02-26T21:43:40.135Z"
   },
   {
    "duration": 8,
    "start_time": "2022-02-26T21:43:40.145Z"
   },
   {
    "duration": 23,
    "start_time": "2022-02-26T21:43:40.187Z"
   },
   {
    "duration": 27,
    "start_time": "2022-02-26T21:43:40.212Z"
   },
   {
    "duration": 46,
    "start_time": "2022-02-26T21:43:40.243Z"
   },
   {
    "duration": 10,
    "start_time": "2022-02-26T21:43:40.292Z"
   },
   {
    "duration": 18,
    "start_time": "2022-02-26T21:43:40.304Z"
   },
   {
    "duration": 13,
    "start_time": "2022-02-26T21:43:40.324Z"
   },
   {
    "duration": 48,
    "start_time": "2022-02-26T21:43:40.339Z"
   },
   {
    "duration": 11,
    "start_time": "2022-02-26T21:43:40.391Z"
   },
   {
    "duration": 11,
    "start_time": "2022-02-26T21:43:40.405Z"
   },
   {
    "duration": 12,
    "start_time": "2022-02-26T21:43:40.418Z"
   },
   {
    "duration": 58,
    "start_time": "2022-02-26T21:43:40.432Z"
   },
   {
    "duration": 16,
    "start_time": "2022-02-26T21:43:40.493Z"
   },
   {
    "duration": 10,
    "start_time": "2022-02-26T21:43:40.512Z"
   },
   {
    "duration": 21,
    "start_time": "2022-02-26T21:43:40.524Z"
   },
   {
    "duration": 17,
    "start_time": "2022-02-26T21:43:40.587Z"
   },
   {
    "duration": 5,
    "start_time": "2022-02-26T21:43:40.607Z"
   },
   {
    "duration": 7,
    "start_time": "2022-02-26T21:43:40.615Z"
   },
   {
    "duration": 8,
    "start_time": "2022-02-26T21:43:40.630Z"
   },
   {
    "duration": 19,
    "start_time": "2022-02-26T21:43:40.687Z"
   },
   {
    "duration": 11,
    "start_time": "2022-02-26T21:43:40.709Z"
   },
   {
    "duration": 8,
    "start_time": "2022-02-26T21:43:40.723Z"
   },
   {
    "duration": 14,
    "start_time": "2022-02-26T21:43:40.733Z"
   },
   {
    "duration": 886,
    "start_time": "2022-02-26T21:43:40.750Z"
   },
   {
    "duration": 30,
    "start_time": "2022-02-26T21:43:41.639Z"
   },
   {
    "duration": 44,
    "start_time": "2022-02-26T21:43:41.671Z"
   },
   {
    "duration": 31,
    "start_time": "2022-02-26T21:43:41.718Z"
   },
   {
    "duration": 66,
    "start_time": "2022-02-26T21:43:41.751Z"
   },
   {
    "duration": 33,
    "start_time": "2022-02-26T21:43:41.819Z"
   },
   {
    "duration": 52,
    "start_time": "2022-02-26T21:43:41.854Z"
   },
   {
    "duration": 12,
    "start_time": "2022-02-26T21:43:41.908Z"
   },
   {
    "duration": 11,
    "start_time": "2022-02-26T21:43:41.922Z"
   },
   {
    "duration": 12,
    "start_time": "2022-02-26T21:43:41.935Z"
   },
   {
    "duration": 53,
    "start_time": "2022-02-26T21:43:41.949Z"
   },
   {
    "duration": 36,
    "start_time": "2022-02-26T21:43:42.004Z"
   },
   {
    "duration": 31,
    "start_time": "2022-02-26T21:43:42.043Z"
   },
   {
    "duration": 32,
    "start_time": "2022-02-26T21:43:42.088Z"
   },
   {
    "duration": 7,
    "start_time": "2022-02-26T21:43:42.123Z"
   },
   {
    "duration": 55,
    "start_time": "2022-02-26T21:43:42.133Z"
   },
   {
    "duration": 633,
    "start_time": "2022-02-26T21:43:42.192Z"
   },
   {
    "duration": 14,
    "start_time": "2022-02-26T21:43:42.828Z"
   },
   {
    "duration": 11,
    "start_time": "2022-02-26T21:43:42.845Z"
   },
   {
    "duration": 37,
    "start_time": "2022-02-26T21:43:42.858Z"
   },
   {
    "duration": 33,
    "start_time": "2022-02-26T21:43:42.898Z"
   },
   {
    "duration": 526,
    "start_time": "2022-02-26T21:43:42.934Z"
   },
   {
    "duration": 25,
    "start_time": "2022-02-26T21:43:43.463Z"
   },
   {
    "duration": 7,
    "start_time": "2022-02-26T21:43:43.490Z"
   },
   {
    "duration": 10,
    "start_time": "2022-02-26T21:43:43.499Z"
   },
   {
    "duration": 6,
    "start_time": "2022-02-26T21:43:43.512Z"
   },
   {
    "duration": 7,
    "start_time": "2022-02-26T21:43:43.520Z"
   },
   {
    "duration": 58,
    "start_time": "2022-02-26T21:43:43.529Z"
   },
   {
    "duration": 539,
    "start_time": "2022-02-26T21:43:43.589Z"
   },
   {
    "duration": 13,
    "start_time": "2022-02-26T21:43:44.131Z"
   },
   {
    "duration": 17,
    "start_time": "2022-02-26T21:43:44.146Z"
   },
   {
    "duration": 57,
    "start_time": "2022-02-26T21:43:44.165Z"
   },
   {
    "duration": 18,
    "start_time": "2022-02-26T21:43:44.225Z"
   },
   {
    "duration": 16,
    "start_time": "2022-02-26T21:43:44.246Z"
   },
   {
    "duration": 11,
    "start_time": "2022-02-26T21:43:44.288Z"
   },
   {
    "duration": 492,
    "start_time": "2022-02-26T21:43:44.302Z"
   },
   {
    "duration": 7,
    "start_time": "2022-02-26T21:43:44.797Z"
   },
   {
    "duration": 475,
    "start_time": "2022-02-26T21:43:44.806Z"
   },
   {
    "duration": 388,
    "start_time": "2022-02-26T21:43:45.287Z"
   },
   {
    "duration": 825,
    "start_time": "2022-02-26T21:43:45.677Z"
   },
   {
    "duration": 355,
    "start_time": "2022-02-26T21:43:46.510Z"
   },
   {
    "duration": 48,
    "start_time": "2022-02-26T21:43:46.868Z"
   },
   {
    "duration": 2523,
    "start_time": "2022-02-26T21:43:46.918Z"
   },
   {
    "duration": -3056,
    "start_time": "2022-02-26T21:43:52.500Z"
   },
   {
    "duration": -3070,
    "start_time": "2022-02-26T21:43:52.515Z"
   },
   {
    "duration": -3081,
    "start_time": "2022-02-26T21:43:52.528Z"
   },
   {
    "duration": -3095,
    "start_time": "2022-02-26T21:43:52.544Z"
   },
   {
    "duration": -3110,
    "start_time": "2022-02-26T21:43:52.560Z"
   },
   {
    "duration": -3115,
    "start_time": "2022-02-26T21:43:52.567Z"
   },
   {
    "duration": -3129,
    "start_time": "2022-02-26T21:43:52.582Z"
   },
   {
    "duration": -3145,
    "start_time": "2022-02-26T21:43:52.600Z"
   },
   {
    "duration": -3155,
    "start_time": "2022-02-26T21:43:52.611Z"
   },
   {
    "duration": -3160,
    "start_time": "2022-02-26T21:43:52.618Z"
   },
   {
    "duration": -3173,
    "start_time": "2022-02-26T21:43:52.632Z"
   },
   {
    "duration": -3202,
    "start_time": "2022-02-26T21:43:52.663Z"
   },
   {
    "duration": -3188,
    "start_time": "2022-02-26T21:43:52.674Z"
   },
   {
    "duration": -3191,
    "start_time": "2022-02-26T21:43:52.679Z"
   },
   {
    "duration": -3201,
    "start_time": "2022-02-26T21:43:52.691Z"
   },
   {
    "duration": -3204,
    "start_time": "2022-02-26T21:43:52.696Z"
   },
   {
    "duration": -3214,
    "start_time": "2022-02-26T21:43:52.707Z"
   },
   {
    "duration": -3217,
    "start_time": "2022-02-26T21:43:52.712Z"
   },
   {
    "duration": -3226,
    "start_time": "2022-02-26T21:43:52.723Z"
   },
   {
    "duration": -3231,
    "start_time": "2022-02-26T21:43:52.729Z"
   },
   {
    "duration": -3234,
    "start_time": "2022-02-26T21:43:52.734Z"
   },
   {
    "duration": 9,
    "start_time": "2022-02-26T21:49:46.019Z"
   },
   {
    "duration": 517,
    "start_time": "2022-02-26T21:49:47.555Z"
   },
   {
    "duration": 7,
    "start_time": "2022-02-26T21:56:45.783Z"
   },
   {
    "duration": 398,
    "start_time": "2022-02-26T21:56:46.612Z"
   },
   {
    "duration": 511,
    "start_time": "2022-02-26T21:56:56.187Z"
   },
   {
    "duration": 797,
    "start_time": "2022-02-26T21:57:03.670Z"
   },
   {
    "duration": 277,
    "start_time": "2022-02-26T21:57:12.699Z"
   },
   {
    "duration": 2769,
    "start_time": "2022-02-26T21:59:58.466Z"
   },
   {
    "duration": 6,
    "start_time": "2022-02-26T22:02:27.647Z"
   },
   {
    "duration": 436,
    "start_time": "2022-02-26T22:02:32.903Z"
   },
   {
    "duration": 441,
    "start_time": "2022-02-26T22:02:50.889Z"
   },
   {
    "duration": 552,
    "start_time": "2022-02-26T22:03:19.730Z"
   },
   {
    "duration": 5,
    "start_time": "2022-02-26T22:03:48.914Z"
   },
   {
    "duration": 442,
    "start_time": "2022-02-26T22:03:58.196Z"
   },
   {
    "duration": 457,
    "start_time": "2022-02-26T22:04:43.819Z"
   },
   {
    "duration": 35,
    "start_time": "2022-02-26T22:05:08.232Z"
   },
   {
    "duration": 436,
    "start_time": "2022-02-26T22:06:10.482Z"
   },
   {
    "duration": 34,
    "start_time": "2022-02-26T22:06:31.516Z"
   },
   {
    "duration": 444,
    "start_time": "2022-02-26T22:06:52.376Z"
   },
   {
    "duration": 1422,
    "start_time": "2022-02-26T22:07:27.428Z"
   },
   {
    "duration": 65,
    "start_time": "2022-02-26T22:07:28.853Z"
   },
   {
    "duration": 13,
    "start_time": "2022-02-26T22:07:28.921Z"
   },
   {
    "duration": 5,
    "start_time": "2022-02-26T22:07:28.937Z"
   },
   {
    "duration": 9,
    "start_time": "2022-02-26T22:07:28.944Z"
   },
   {
    "duration": 52,
    "start_time": "2022-02-26T22:07:28.956Z"
   },
   {
    "duration": 27,
    "start_time": "2022-02-26T22:07:29.011Z"
   },
   {
    "duration": 46,
    "start_time": "2022-02-26T22:07:29.041Z"
   },
   {
    "duration": 11,
    "start_time": "2022-02-26T22:07:29.092Z"
   },
   {
    "duration": 25,
    "start_time": "2022-02-26T22:07:29.105Z"
   },
   {
    "duration": 8,
    "start_time": "2022-02-26T22:07:29.133Z"
   },
   {
    "duration": 9,
    "start_time": "2022-02-26T22:07:29.144Z"
   },
   {
    "duration": 37,
    "start_time": "2022-02-26T22:07:29.155Z"
   },
   {
    "duration": 12,
    "start_time": "2022-02-26T22:07:29.194Z"
   },
   {
    "duration": 12,
    "start_time": "2022-02-26T22:07:29.209Z"
   },
   {
    "duration": 10,
    "start_time": "2022-02-26T22:07:29.223Z"
   },
   {
    "duration": 66,
    "start_time": "2022-02-26T22:07:29.235Z"
   },
   {
    "duration": 12,
    "start_time": "2022-02-26T22:07:29.305Z"
   },
   {
    "duration": 21,
    "start_time": "2022-02-26T22:07:29.320Z"
   },
   {
    "duration": 57,
    "start_time": "2022-02-26T22:07:29.343Z"
   },
   {
    "duration": 4,
    "start_time": "2022-02-26T22:07:29.403Z"
   },
   {
    "duration": 7,
    "start_time": "2022-02-26T22:07:29.410Z"
   },
   {
    "duration": 10,
    "start_time": "2022-02-26T22:07:29.419Z"
   },
   {
    "duration": 59,
    "start_time": "2022-02-26T22:07:29.431Z"
   },
   {
    "duration": 10,
    "start_time": "2022-02-26T22:07:29.492Z"
   },
   {
    "duration": 8,
    "start_time": "2022-02-26T22:07:29.505Z"
   },
   {
    "duration": 10,
    "start_time": "2022-02-26T22:07:29.520Z"
   },
   {
    "duration": 700,
    "start_time": "2022-02-26T22:07:29.533Z"
   },
   {
    "duration": 33,
    "start_time": "2022-02-26T22:07:30.235Z"
   },
   {
    "duration": 70,
    "start_time": "2022-02-26T22:07:30.270Z"
   },
   {
    "duration": 44,
    "start_time": "2022-02-26T22:07:30.343Z"
   },
   {
    "duration": 60,
    "start_time": "2022-02-26T22:07:30.389Z"
   },
   {
    "duration": 46,
    "start_time": "2022-02-26T22:07:30.452Z"
   },
   {
    "duration": 34,
    "start_time": "2022-02-26T22:07:30.501Z"
   },
   {
    "duration": 33,
    "start_time": "2022-02-26T22:07:30.537Z"
   },
   {
    "duration": 25,
    "start_time": "2022-02-26T22:07:30.573Z"
   },
   {
    "duration": 36,
    "start_time": "2022-02-26T22:07:30.601Z"
   },
   {
    "duration": 47,
    "start_time": "2022-02-26T22:07:30.640Z"
   },
   {
    "duration": 43,
    "start_time": "2022-02-26T22:07:30.689Z"
   },
   {
    "duration": 22,
    "start_time": "2022-02-26T22:07:30.734Z"
   },
   {
    "duration": 42,
    "start_time": "2022-02-26T22:07:30.758Z"
   },
   {
    "duration": 7,
    "start_time": "2022-02-26T22:07:30.802Z"
   },
   {
    "duration": 44,
    "start_time": "2022-02-26T22:07:30.811Z"
   },
   {
    "duration": 609,
    "start_time": "2022-02-26T22:07:30.857Z"
   },
   {
    "duration": 23,
    "start_time": "2022-02-26T22:07:31.468Z"
   },
   {
    "duration": 11,
    "start_time": "2022-02-26T22:07:31.493Z"
   },
   {
    "duration": 13,
    "start_time": "2022-02-26T22:07:31.507Z"
   },
   {
    "duration": 66,
    "start_time": "2022-02-26T22:07:31.522Z"
   },
   {
    "duration": 519,
    "start_time": "2022-02-26T22:07:31.591Z"
   },
   {
    "duration": 16,
    "start_time": "2022-02-26T22:07:32.113Z"
   },
   {
    "duration": 27,
    "start_time": "2022-02-26T22:07:32.131Z"
   },
   {
    "duration": 17,
    "start_time": "2022-02-26T22:07:32.160Z"
   },
   {
    "duration": 16,
    "start_time": "2022-02-26T22:07:32.179Z"
   },
   {
    "duration": 12,
    "start_time": "2022-02-26T22:07:32.197Z"
   },
   {
    "duration": 25,
    "start_time": "2022-02-26T22:07:32.212Z"
   },
   {
    "duration": 574,
    "start_time": "2022-02-26T22:07:32.240Z"
   },
   {
    "duration": 16,
    "start_time": "2022-02-26T22:07:32.817Z"
   },
   {
    "duration": 12,
    "start_time": "2022-02-26T22:07:32.836Z"
   },
   {
    "duration": 56,
    "start_time": "2022-02-26T22:07:32.851Z"
   },
   {
    "duration": 14,
    "start_time": "2022-02-26T22:07:32.910Z"
   },
   {
    "duration": 13,
    "start_time": "2022-02-26T22:07:32.926Z"
   },
   {
    "duration": 15,
    "start_time": "2022-02-26T22:07:32.941Z"
   },
   {
    "duration": 533,
    "start_time": "2022-02-26T22:07:32.958Z"
   },
   {
    "duration": 8,
    "start_time": "2022-02-26T22:07:33.493Z"
   },
   {
    "duration": 524,
    "start_time": "2022-02-26T22:07:33.503Z"
   },
   {
    "duration": 461,
    "start_time": "2022-02-26T22:07:34.030Z"
   },
   {
    "duration": 807,
    "start_time": "2022-02-26T22:07:34.495Z"
   },
   {
    "duration": 311,
    "start_time": "2022-02-26T22:07:35.304Z"
   },
   {
    "duration": 33,
    "start_time": "2022-02-26T22:07:35.618Z"
   },
   {
    "duration": 2801,
    "start_time": "2022-02-26T22:07:35.654Z"
   },
   {
    "duration": 2,
    "start_time": "2022-02-26T22:07:38.458Z"
   },
   {
    "duration": 456,
    "start_time": "2022-02-26T22:07:38.463Z"
   },
   {
    "duration": 570,
    "start_time": "2022-02-26T22:07:38.921Z"
   },
   {
    "duration": 33,
    "start_time": "2022-02-26T22:07:39.494Z"
   },
   {
    "duration": 7,
    "start_time": "2022-02-26T22:07:39.529Z"
   },
   {
    "duration": 758,
    "start_time": "2022-02-26T22:07:39.538Z"
   },
   {
    "duration": 883,
    "start_time": "2022-02-26T22:07:40.298Z"
   },
   {
    "duration": 691,
    "start_time": "2022-02-26T22:07:41.188Z"
   },
   {
    "duration": 6,
    "start_time": "2022-02-26T22:07:41.881Z"
   },
   {
    "duration": 16,
    "start_time": "2022-02-26T22:07:41.890Z"
   },
   {
    "duration": 4,
    "start_time": "2022-02-26T22:07:41.914Z"
   },
   {
    "duration": 21,
    "start_time": "2022-02-26T22:07:41.921Z"
   },
   {
    "duration": 8,
    "start_time": "2022-02-26T22:07:41.944Z"
   },
   {
    "duration": 15,
    "start_time": "2022-02-26T22:07:41.954Z"
   },
   {
    "duration": 6,
    "start_time": "2022-02-26T22:07:41.987Z"
   },
   {
    "duration": 21,
    "start_time": "2022-02-26T22:07:41.995Z"
   },
   {
    "duration": 26,
    "start_time": "2022-02-26T22:07:42.018Z"
   },
   {
    "duration": 25,
    "start_time": "2022-02-26T22:07:42.047Z"
   },
   {
    "duration": 27,
    "start_time": "2022-02-26T22:07:42.074Z"
   },
   {
    "duration": 21,
    "start_time": "2022-02-26T22:07:42.103Z"
   },
   {
    "duration": 21,
    "start_time": "2022-02-26T22:07:42.126Z"
   },
   {
    "duration": 460,
    "start_time": "2022-02-26T22:12:06.504Z"
   },
   {
    "duration": 452,
    "start_time": "2022-02-26T22:12:23.473Z"
   },
   {
    "duration": 476,
    "start_time": "2022-02-26T22:12:34.977Z"
   },
   {
    "duration": 1465,
    "start_time": "2022-02-26T22:14:57.523Z"
   },
   {
    "duration": 72,
    "start_time": "2022-02-26T22:14:58.991Z"
   },
   {
    "duration": 22,
    "start_time": "2022-02-26T22:14:59.066Z"
   },
   {
    "duration": 6,
    "start_time": "2022-02-26T22:14:59.091Z"
   },
   {
    "duration": 7,
    "start_time": "2022-02-26T22:14:59.099Z"
   },
   {
    "duration": 22,
    "start_time": "2022-02-26T22:14:59.108Z"
   },
   {
    "duration": 59,
    "start_time": "2022-02-26T22:14:59.132Z"
   },
   {
    "duration": 18,
    "start_time": "2022-02-26T22:14:59.193Z"
   },
   {
    "duration": 10,
    "start_time": "2022-02-26T22:14:59.215Z"
   },
   {
    "duration": 19,
    "start_time": "2022-02-26T22:14:59.227Z"
   },
   {
    "duration": 46,
    "start_time": "2022-02-26T22:14:59.249Z"
   },
   {
    "duration": 9,
    "start_time": "2022-02-26T22:14:59.298Z"
   },
   {
    "duration": 15,
    "start_time": "2022-02-26T22:14:59.310Z"
   },
   {
    "duration": 9,
    "start_time": "2022-02-26T22:14:59.328Z"
   },
   {
    "duration": 54,
    "start_time": "2022-02-26T22:14:59.340Z"
   },
   {
    "duration": 9,
    "start_time": "2022-02-26T22:14:59.396Z"
   },
   {
    "duration": 19,
    "start_time": "2022-02-26T22:14:59.407Z"
   },
   {
    "duration": 14,
    "start_time": "2022-02-26T22:14:59.428Z"
   },
   {
    "duration": 51,
    "start_time": "2022-02-26T22:14:59.444Z"
   },
   {
    "duration": 15,
    "start_time": "2022-02-26T22:14:59.497Z"
   },
   {
    "duration": 4,
    "start_time": "2022-02-26T22:14:59.514Z"
   },
   {
    "duration": 7,
    "start_time": "2022-02-26T22:14:59.521Z"
   },
   {
    "duration": 8,
    "start_time": "2022-02-26T22:14:59.531Z"
   },
   {
    "duration": 53,
    "start_time": "2022-02-26T22:14:59.541Z"
   },
   {
    "duration": 12,
    "start_time": "2022-02-26T22:14:59.596Z"
   },
   {
    "duration": 10,
    "start_time": "2022-02-26T22:14:59.611Z"
   },
   {
    "duration": 8,
    "start_time": "2022-02-26T22:14:59.630Z"
   },
   {
    "duration": 696,
    "start_time": "2022-02-26T22:14:59.644Z"
   },
   {
    "duration": 29,
    "start_time": "2022-02-26T22:15:00.343Z"
   },
   {
    "duration": 31,
    "start_time": "2022-02-26T22:15:00.388Z"
   },
   {
    "duration": 33,
    "start_time": "2022-02-26T22:15:00.422Z"
   },
   {
    "duration": 32,
    "start_time": "2022-02-26T22:15:00.488Z"
   },
   {
    "duration": 58,
    "start_time": "2022-02-26T22:15:00.522Z"
   },
   {
    "duration": 30,
    "start_time": "2022-02-26T22:15:00.583Z"
   },
   {
    "duration": 17,
    "start_time": "2022-02-26T22:15:00.615Z"
   },
   {
    "duration": 22,
    "start_time": "2022-02-26T22:15:00.634Z"
   },
   {
    "duration": 26,
    "start_time": "2022-02-26T22:15:00.659Z"
   },
   {
    "duration": 29,
    "start_time": "2022-02-26T22:15:00.688Z"
   },
   {
    "duration": 65,
    "start_time": "2022-02-26T22:15:00.720Z"
   },
   {
    "duration": 19,
    "start_time": "2022-02-26T22:15:00.787Z"
   },
   {
    "duration": 40,
    "start_time": "2022-02-26T22:15:00.808Z"
   },
   {
    "duration": 6,
    "start_time": "2022-02-26T22:15:00.850Z"
   },
   {
    "duration": 45,
    "start_time": "2022-02-26T22:15:00.858Z"
   },
   {
    "duration": 620,
    "start_time": "2022-02-26T22:15:00.905Z"
   },
   {
    "duration": 15,
    "start_time": "2022-02-26T22:15:01.527Z"
   },
   {
    "duration": 33,
    "start_time": "2022-02-26T22:15:01.544Z"
   },
   {
    "duration": 31,
    "start_time": "2022-02-26T22:15:01.580Z"
   },
   {
    "duration": 45,
    "start_time": "2022-02-26T22:15:01.614Z"
   },
   {
    "duration": 506,
    "start_time": "2022-02-26T22:15:01.661Z"
   },
   {
    "duration": 22,
    "start_time": "2022-02-26T22:15:02.169Z"
   },
   {
    "duration": 22,
    "start_time": "2022-02-26T22:15:02.194Z"
   },
   {
    "duration": 25,
    "start_time": "2022-02-26T22:15:02.218Z"
   },
   {
    "duration": 9,
    "start_time": "2022-02-26T22:15:02.245Z"
   },
   {
    "duration": 15,
    "start_time": "2022-02-26T22:15:02.256Z"
   },
   {
    "duration": 28,
    "start_time": "2022-02-26T22:15:02.273Z"
   },
   {
    "duration": 544,
    "start_time": "2022-02-26T22:15:02.303Z"
   },
   {
    "duration": 13,
    "start_time": "2022-02-26T22:15:02.849Z"
   },
   {
    "duration": 55,
    "start_time": "2022-02-26T22:15:02.864Z"
   },
   {
    "duration": 57,
    "start_time": "2022-02-26T22:15:02.922Z"
   },
   {
    "duration": 52,
    "start_time": "2022-02-26T22:15:02.981Z"
   },
   {
    "duration": 63,
    "start_time": "2022-02-26T22:15:03.035Z"
   },
   {
    "duration": 54,
    "start_time": "2022-02-26T22:15:03.101Z"
   },
   {
    "duration": 571,
    "start_time": "2022-02-26T22:15:03.158Z"
   },
   {
    "duration": 7,
    "start_time": "2022-02-26T22:15:03.731Z"
   },
   {
    "duration": 493,
    "start_time": "2022-02-26T22:15:03.740Z"
   },
   {
    "duration": 450,
    "start_time": "2022-02-26T22:15:04.235Z"
   },
   {
    "duration": 795,
    "start_time": "2022-02-26T22:15:04.687Z"
   },
   {
    "duration": 293,
    "start_time": "2022-02-26T22:15:05.487Z"
   },
   {
    "duration": 31,
    "start_time": "2022-02-26T22:15:05.787Z"
   },
   {
    "duration": 2678,
    "start_time": "2022-02-26T22:15:05.821Z"
   },
   {
    "duration": 4,
    "start_time": "2022-02-26T22:15:08.502Z"
   },
   {
    "duration": 545,
    "start_time": "2022-02-26T22:15:08.509Z"
   },
   {
    "duration": 531,
    "start_time": "2022-02-26T22:15:09.056Z"
   },
   {
    "duration": 6,
    "start_time": "2022-02-26T22:15:09.590Z"
   },
   {
    "duration": 736,
    "start_time": "2022-02-26T22:15:09.598Z"
   },
   {
    "duration": 770,
    "start_time": "2022-02-26T22:15:10.336Z"
   },
   {
    "duration": 682,
    "start_time": "2022-02-26T22:15:11.109Z"
   },
   {
    "duration": 4,
    "start_time": "2022-02-26T22:15:11.793Z"
   },
   {
    "duration": 16,
    "start_time": "2022-02-26T22:15:11.799Z"
   },
   {
    "duration": 6,
    "start_time": "2022-02-26T22:15:11.818Z"
   },
   {
    "duration": 7,
    "start_time": "2022-02-26T22:15:11.832Z"
   },
   {
    "duration": 9,
    "start_time": "2022-02-26T22:15:11.843Z"
   },
   {
    "duration": 8,
    "start_time": "2022-02-26T22:15:11.887Z"
   },
   {
    "duration": 7,
    "start_time": "2022-02-26T22:15:11.897Z"
   },
   {
    "duration": 9,
    "start_time": "2022-02-26T22:15:11.907Z"
   },
   {
    "duration": 7,
    "start_time": "2022-02-26T22:15:11.918Z"
   },
   {
    "duration": 9,
    "start_time": "2022-02-26T22:15:11.927Z"
   },
   {
    "duration": 49,
    "start_time": "2022-02-26T22:15:11.938Z"
   },
   {
    "duration": 15,
    "start_time": "2022-02-26T22:15:11.990Z"
   },
   {
    "duration": 7,
    "start_time": "2022-02-26T22:15:12.007Z"
   },
   {
    "duration": 437,
    "start_time": "2022-02-26T22:16:40.340Z"
   },
   {
    "duration": 435,
    "start_time": "2022-02-26T22:16:50.169Z"
   },
   {
    "duration": 628,
    "start_time": "2022-02-26T22:17:00.486Z"
   },
   {
    "duration": 429,
    "start_time": "2022-02-26T22:17:14.166Z"
   },
   {
    "duration": 664,
    "start_time": "2022-02-26T22:17:56.466Z"
   },
   {
    "duration": 452,
    "start_time": "2022-02-26T22:18:03.487Z"
   },
   {
    "duration": 1438,
    "start_time": "2022-02-26T22:18:34.813Z"
   },
   {
    "duration": 69,
    "start_time": "2022-02-26T22:18:36.253Z"
   },
   {
    "duration": 13,
    "start_time": "2022-02-26T22:18:36.325Z"
   },
   {
    "duration": 4,
    "start_time": "2022-02-26T22:18:36.340Z"
   },
   {
    "duration": 4,
    "start_time": "2022-02-26T22:18:36.347Z"
   },
   {
    "duration": 53,
    "start_time": "2022-02-26T22:18:36.354Z"
   },
   {
    "duration": 26,
    "start_time": "2022-02-26T22:18:36.409Z"
   },
   {
    "duration": 17,
    "start_time": "2022-02-26T22:18:36.438Z"
   },
   {
    "duration": 36,
    "start_time": "2022-02-26T22:18:36.458Z"
   },
   {
    "duration": 22,
    "start_time": "2022-02-26T22:18:36.497Z"
   },
   {
    "duration": 12,
    "start_time": "2022-02-26T22:18:36.521Z"
   },
   {
    "duration": 10,
    "start_time": "2022-02-26T22:18:36.536Z"
   },
   {
    "duration": 41,
    "start_time": "2022-02-26T22:18:36.549Z"
   },
   {
    "duration": 16,
    "start_time": "2022-02-26T22:18:36.592Z"
   },
   {
    "duration": 15,
    "start_time": "2022-02-26T22:18:36.610Z"
   },
   {
    "duration": 11,
    "start_time": "2022-02-26T22:18:36.627Z"
   },
   {
    "duration": 19,
    "start_time": "2022-02-26T22:18:36.640Z"
   },
   {
    "duration": 36,
    "start_time": "2022-02-26T22:18:36.661Z"
   },
   {
    "duration": 21,
    "start_time": "2022-02-26T22:18:36.700Z"
   },
   {
    "duration": 14,
    "start_time": "2022-02-26T22:18:36.723Z"
   },
   {
    "duration": 3,
    "start_time": "2022-02-26T22:18:36.740Z"
   },
   {
    "duration": 7,
    "start_time": "2022-02-26T22:18:36.745Z"
   },
   {
    "duration": 7,
    "start_time": "2022-02-26T22:18:36.791Z"
   },
   {
    "duration": 18,
    "start_time": "2022-02-26T22:18:36.802Z"
   },
   {
    "duration": 12,
    "start_time": "2022-02-26T22:18:36.822Z"
   },
   {
    "duration": 8,
    "start_time": "2022-02-26T22:18:36.836Z"
   },
   {
    "duration": 49,
    "start_time": "2022-02-26T22:18:36.846Z"
   },
   {
    "duration": 651,
    "start_time": "2022-02-26T22:18:36.897Z"
   },
   {
    "duration": 42,
    "start_time": "2022-02-26T22:18:37.550Z"
   },
   {
    "duration": 33,
    "start_time": "2022-02-26T22:18:37.595Z"
   },
   {
    "duration": 57,
    "start_time": "2022-02-26T22:18:37.630Z"
   },
   {
    "duration": 33,
    "start_time": "2022-02-26T22:18:37.689Z"
   },
   {
    "duration": 33,
    "start_time": "2022-02-26T22:18:37.724Z"
   },
   {
    "duration": 58,
    "start_time": "2022-02-26T22:18:37.760Z"
   },
   {
    "duration": 9,
    "start_time": "2022-02-26T22:18:37.820Z"
   },
   {
    "duration": 7,
    "start_time": "2022-02-26T22:18:37.831Z"
   },
   {
    "duration": 8,
    "start_time": "2022-02-26T22:18:37.840Z"
   },
   {
    "duration": 50,
    "start_time": "2022-02-26T22:18:37.850Z"
   },
   {
    "duration": 38,
    "start_time": "2022-02-26T22:18:37.902Z"
   },
   {
    "duration": 19,
    "start_time": "2022-02-26T22:18:37.942Z"
   },
   {
    "duration": 50,
    "start_time": "2022-02-26T22:18:37.964Z"
   },
   {
    "duration": 5,
    "start_time": "2022-02-26T22:18:38.017Z"
   },
   {
    "duration": 22,
    "start_time": "2022-02-26T22:18:38.025Z"
   },
   {
    "duration": 655,
    "start_time": "2022-02-26T22:18:38.049Z"
   },
   {
    "duration": 14,
    "start_time": "2022-02-26T22:18:38.706Z"
   },
   {
    "duration": 10,
    "start_time": "2022-02-26T22:18:38.722Z"
   },
   {
    "duration": 15,
    "start_time": "2022-02-26T22:18:38.734Z"
   },
   {
    "duration": 65,
    "start_time": "2022-02-26T22:18:38.751Z"
   },
   {
    "duration": 521,
    "start_time": "2022-02-26T22:18:38.819Z"
   },
   {
    "duration": 15,
    "start_time": "2022-02-26T22:18:39.342Z"
   },
   {
    "duration": 6,
    "start_time": "2022-02-26T22:18:39.360Z"
   },
   {
    "duration": 9,
    "start_time": "2022-02-26T22:18:39.387Z"
   },
   {
    "duration": 6,
    "start_time": "2022-02-26T22:18:39.398Z"
   },
   {
    "duration": 10,
    "start_time": "2022-02-26T22:18:39.406Z"
   },
   {
    "duration": 20,
    "start_time": "2022-02-26T22:18:39.418Z"
   },
   {
    "duration": 581,
    "start_time": "2022-02-26T22:18:39.441Z"
   },
   {
    "duration": 15,
    "start_time": "2022-02-26T22:18:40.024Z"
   },
   {
    "duration": 14,
    "start_time": "2022-02-26T22:18:40.041Z"
   },
   {
    "duration": 44,
    "start_time": "2022-02-26T22:18:40.057Z"
   },
   {
    "duration": 13,
    "start_time": "2022-02-26T22:18:40.104Z"
   },
   {
    "duration": 11,
    "start_time": "2022-02-26T22:18:40.120Z"
   },
   {
    "duration": 10,
    "start_time": "2022-02-26T22:18:40.134Z"
   },
   {
    "duration": 535,
    "start_time": "2022-02-26T22:18:40.147Z"
   },
   {
    "duration": 8,
    "start_time": "2022-02-26T22:18:40.688Z"
   },
   {
    "duration": 525,
    "start_time": "2022-02-26T22:18:40.698Z"
   },
   {
    "duration": 418,
    "start_time": "2022-02-26T22:18:41.226Z"
   },
   {
    "duration": 850,
    "start_time": "2022-02-26T22:18:41.647Z"
   },
   {
    "duration": 388,
    "start_time": "2022-02-26T22:18:42.505Z"
   },
   {
    "duration": 36,
    "start_time": "2022-02-26T22:18:42.896Z"
   },
   {
    "duration": 3192,
    "start_time": "2022-02-26T22:18:42.934Z"
   },
   {
    "duration": 2,
    "start_time": "2022-02-26T22:18:46.128Z"
   },
   {
    "duration": 455,
    "start_time": "2022-02-26T22:18:46.132Z"
   },
   {
    "duration": 562,
    "start_time": "2022-02-26T22:18:46.589Z"
   },
   {
    "duration": 7,
    "start_time": "2022-02-26T22:18:47.153Z"
   },
   {
    "duration": 748,
    "start_time": "2022-02-26T22:18:47.162Z"
   },
   {
    "duration": 789,
    "start_time": "2022-02-26T22:18:47.913Z"
   },
   {
    "duration": 788,
    "start_time": "2022-02-26T22:18:48.705Z"
   },
   {
    "duration": 3,
    "start_time": "2022-02-26T22:18:49.496Z"
   },
   {
    "duration": 11,
    "start_time": "2022-02-26T22:18:49.502Z"
   },
   {
    "duration": 5,
    "start_time": "2022-02-26T22:18:49.516Z"
   },
   {
    "duration": 7,
    "start_time": "2022-02-26T22:18:49.524Z"
   },
   {
    "duration": 11,
    "start_time": "2022-02-26T22:18:49.533Z"
   },
   {
    "duration": 42,
    "start_time": "2022-02-26T22:18:49.547Z"
   },
   {
    "duration": 11,
    "start_time": "2022-02-26T22:18:49.592Z"
   },
   {
    "duration": 15,
    "start_time": "2022-02-26T22:18:49.605Z"
   },
   {
    "duration": 10,
    "start_time": "2022-02-26T22:18:49.622Z"
   },
   {
    "duration": 23,
    "start_time": "2022-02-26T22:18:49.634Z"
   },
   {
    "duration": 7,
    "start_time": "2022-02-26T22:18:49.660Z"
   },
   {
    "duration": 19,
    "start_time": "2022-02-26T22:18:49.669Z"
   },
   {
    "duration": 12,
    "start_time": "2022-02-26T22:18:49.691Z"
   },
   {
    "duration": 456,
    "start_time": "2022-02-26T22:19:10.247Z"
   },
   {
    "duration": 452,
    "start_time": "2022-02-26T22:19:17.385Z"
   },
   {
    "duration": 1416,
    "start_time": "2022-02-26T22:19:47.247Z"
   },
   {
    "duration": 70,
    "start_time": "2022-02-26T22:19:48.666Z"
   },
   {
    "duration": 14,
    "start_time": "2022-02-26T22:19:48.739Z"
   },
   {
    "duration": 17,
    "start_time": "2022-02-26T22:19:48.755Z"
   },
   {
    "duration": 7,
    "start_time": "2022-02-26T22:19:48.789Z"
   },
   {
    "duration": 33,
    "start_time": "2022-02-26T22:19:48.798Z"
   },
   {
    "duration": 26,
    "start_time": "2022-02-26T22:19:48.833Z"
   },
   {
    "duration": 38,
    "start_time": "2022-02-26T22:19:48.863Z"
   },
   {
    "duration": 9,
    "start_time": "2022-02-26T22:19:48.904Z"
   },
   {
    "duration": 18,
    "start_time": "2022-02-26T22:19:48.915Z"
   },
   {
    "duration": 8,
    "start_time": "2022-02-26T22:19:48.935Z"
   },
   {
    "duration": 49,
    "start_time": "2022-02-26T22:19:48.945Z"
   },
   {
    "duration": 9,
    "start_time": "2022-02-26T22:19:48.996Z"
   },
   {
    "duration": 8,
    "start_time": "2022-02-26T22:19:49.007Z"
   },
   {
    "duration": 8,
    "start_time": "2022-02-26T22:19:49.018Z"
   },
   {
    "duration": 8,
    "start_time": "2022-02-26T22:19:49.028Z"
   },
   {
    "duration": 60,
    "start_time": "2022-02-26T22:19:49.038Z"
   },
   {
    "duration": 10,
    "start_time": "2022-02-26T22:19:49.101Z"
   },
   {
    "duration": 18,
    "start_time": "2022-02-26T22:19:49.114Z"
   },
   {
    "duration": 14,
    "start_time": "2022-02-26T22:19:49.134Z"
   },
   {
    "duration": 4,
    "start_time": "2022-02-26T22:19:49.188Z"
   },
   {
    "duration": 7,
    "start_time": "2022-02-26T22:19:49.194Z"
   },
   {
    "duration": 7,
    "start_time": "2022-02-26T22:19:49.207Z"
   },
   {
    "duration": 19,
    "start_time": "2022-02-26T22:19:49.218Z"
   },
   {
    "duration": 50,
    "start_time": "2022-02-26T22:19:49.239Z"
   },
   {
    "duration": 9,
    "start_time": "2022-02-26T22:19:49.292Z"
   },
   {
    "duration": 13,
    "start_time": "2022-02-26T22:19:49.303Z"
   },
   {
    "duration": 682,
    "start_time": "2022-02-26T22:19:49.319Z"
   },
   {
    "duration": 32,
    "start_time": "2022-02-26T22:19:50.003Z"
   },
   {
    "duration": 52,
    "start_time": "2022-02-26T22:19:50.037Z"
   },
   {
    "duration": 32,
    "start_time": "2022-02-26T22:19:50.091Z"
   },
   {
    "duration": 31,
    "start_time": "2022-02-26T22:19:50.125Z"
   },
   {
    "duration": 34,
    "start_time": "2022-02-26T22:19:50.187Z"
   },
   {
    "duration": 30,
    "start_time": "2022-02-26T22:19:50.223Z"
   },
   {
    "duration": 34,
    "start_time": "2022-02-26T22:19:50.255Z"
   },
   {
    "duration": 5,
    "start_time": "2022-02-26T22:19:50.291Z"
   },
   {
    "duration": 8,
    "start_time": "2022-02-26T22:19:50.298Z"
   },
   {
    "duration": 22,
    "start_time": "2022-02-26T22:19:50.308Z"
   },
   {
    "duration": 66,
    "start_time": "2022-02-26T22:19:50.333Z"
   },
   {
    "duration": 19,
    "start_time": "2022-02-26T22:19:50.402Z"
   },
   {
    "duration": 32,
    "start_time": "2022-02-26T22:19:50.423Z"
   },
   {
    "duration": 5,
    "start_time": "2022-02-26T22:19:50.458Z"
   },
   {
    "duration": 42,
    "start_time": "2022-02-26T22:19:50.465Z"
   },
   {
    "duration": 627,
    "start_time": "2022-02-26T22:19:50.509Z"
   },
   {
    "duration": 14,
    "start_time": "2022-02-26T22:19:51.138Z"
   },
   {
    "duration": 11,
    "start_time": "2022-02-26T22:19:51.154Z"
   },
   {
    "duration": 11,
    "start_time": "2022-02-26T22:19:51.186Z"
   },
   {
    "duration": 37,
    "start_time": "2022-02-26T22:19:51.199Z"
   },
   {
    "duration": 529,
    "start_time": "2022-02-26T22:19:51.238Z"
   },
   {
    "duration": 22,
    "start_time": "2022-02-26T22:19:51.770Z"
   },
   {
    "duration": 6,
    "start_time": "2022-02-26T22:19:51.794Z"
   },
   {
    "duration": 13,
    "start_time": "2022-02-26T22:19:51.802Z"
   },
   {
    "duration": 11,
    "start_time": "2022-02-26T22:19:51.817Z"
   },
   {
    "duration": 9,
    "start_time": "2022-02-26T22:19:51.830Z"
   },
   {
    "duration": 53,
    "start_time": "2022-02-26T22:19:51.842Z"
   },
   {
    "duration": 542,
    "start_time": "2022-02-26T22:19:51.897Z"
   },
   {
    "duration": 14,
    "start_time": "2022-02-26T22:19:52.441Z"
   },
   {
    "duration": 33,
    "start_time": "2022-02-26T22:19:52.457Z"
   },
   {
    "duration": 25,
    "start_time": "2022-02-26T22:19:52.493Z"
   },
   {
    "duration": 16,
    "start_time": "2022-02-26T22:19:52.521Z"
   },
   {
    "duration": 46,
    "start_time": "2022-02-26T22:19:52.540Z"
   },
   {
    "duration": 11,
    "start_time": "2022-02-26T22:19:52.589Z"
   },
   {
    "duration": 528,
    "start_time": "2022-02-26T22:19:52.602Z"
   },
   {
    "duration": 8,
    "start_time": "2022-02-26T22:19:53.133Z"
   },
   {
    "duration": 520,
    "start_time": "2022-02-26T22:19:53.144Z"
   },
   {
    "duration": 433,
    "start_time": "2022-02-26T22:19:53.667Z"
   },
   {
    "duration": 793,
    "start_time": "2022-02-26T22:19:54.102Z"
   },
   {
    "duration": 313,
    "start_time": "2022-02-26T22:19:54.902Z"
   },
   {
    "duration": 34,
    "start_time": "2022-02-26T22:19:55.218Z"
   },
   {
    "duration": 2655,
    "start_time": "2022-02-26T22:19:55.254Z"
   },
   {
    "duration": 3,
    "start_time": "2022-02-26T22:19:57.911Z"
   },
   {
    "duration": 476,
    "start_time": "2022-02-26T22:19:57.916Z"
   },
   {
    "duration": 537,
    "start_time": "2022-02-26T22:19:58.394Z"
   },
   {
    "duration": 6,
    "start_time": "2022-02-26T22:19:58.933Z"
   },
   {
    "duration": 746,
    "start_time": "2022-02-26T22:19:58.941Z"
   },
   {
    "duration": 782,
    "start_time": "2022-02-26T22:19:59.689Z"
   },
   {
    "duration": 716,
    "start_time": "2022-02-26T22:20:00.474Z"
   },
   {
    "duration": 2,
    "start_time": "2022-02-26T22:20:01.193Z"
   },
   {
    "duration": 15,
    "start_time": "2022-02-26T22:20:01.198Z"
   },
   {
    "duration": 11,
    "start_time": "2022-02-26T22:20:01.215Z"
   },
   {
    "duration": 11,
    "start_time": "2022-02-26T22:20:01.228Z"
   },
   {
    "duration": 13,
    "start_time": "2022-02-26T22:20:01.241Z"
   },
   {
    "duration": 9,
    "start_time": "2022-02-26T22:20:01.256Z"
   },
   {
    "duration": 7,
    "start_time": "2022-02-26T22:20:01.288Z"
   },
   {
    "duration": 11,
    "start_time": "2022-02-26T22:20:01.297Z"
   },
   {
    "duration": 14,
    "start_time": "2022-02-26T22:20:01.310Z"
   },
   {
    "duration": 12,
    "start_time": "2022-02-26T22:20:01.327Z"
   },
   {
    "duration": 23,
    "start_time": "2022-02-26T22:20:01.341Z"
   },
   {
    "duration": 25,
    "start_time": "2022-02-26T22:20:01.367Z"
   },
   {
    "duration": 14,
    "start_time": "2022-02-26T22:20:01.395Z"
   },
   {
    "duration": 1409,
    "start_time": "2022-02-27T07:25:44.500Z"
   },
   {
    "duration": 59,
    "start_time": "2022-02-27T07:25:45.912Z"
   },
   {
    "duration": 13,
    "start_time": "2022-02-27T07:25:45.973Z"
   },
   {
    "duration": 4,
    "start_time": "2022-02-27T07:25:45.988Z"
   },
   {
    "duration": 4,
    "start_time": "2022-02-27T07:25:45.995Z"
   },
   {
    "duration": 57,
    "start_time": "2022-02-27T07:25:46.001Z"
   },
   {
    "duration": 26,
    "start_time": "2022-02-27T07:25:46.060Z"
   },
   {
    "duration": 17,
    "start_time": "2022-02-27T07:25:46.089Z"
   },
   {
    "duration": 42,
    "start_time": "2022-02-27T07:25:46.109Z"
   },
   {
    "duration": 19,
    "start_time": "2022-02-27T07:25:46.153Z"
   },
   {
    "duration": 9,
    "start_time": "2022-02-27T07:25:46.174Z"
   },
   {
    "duration": 8,
    "start_time": "2022-02-27T07:25:46.185Z"
   },
   {
    "duration": 9,
    "start_time": "2022-02-27T07:25:46.195Z"
   },
   {
    "duration": 45,
    "start_time": "2022-02-27T07:25:46.206Z"
   },
   {
    "duration": 13,
    "start_time": "2022-02-27T07:25:46.254Z"
   },
   {
    "duration": 8,
    "start_time": "2022-02-27T07:25:46.270Z"
   },
   {
    "duration": 13,
    "start_time": "2022-02-27T07:25:46.280Z"
   },
   {
    "duration": 9,
    "start_time": "2022-02-27T07:25:46.295Z"
   },
   {
    "duration": 18,
    "start_time": "2022-02-27T07:25:46.351Z"
   },
   {
    "duration": 15,
    "start_time": "2022-02-27T07:25:46.371Z"
   },
   {
    "duration": 4,
    "start_time": "2022-02-27T07:25:46.388Z"
   },
   {
    "duration": 7,
    "start_time": "2022-02-27T07:25:46.394Z"
   },
   {
    "duration": 44,
    "start_time": "2022-02-27T07:25:46.407Z"
   },
   {
    "duration": 18,
    "start_time": "2022-02-27T07:25:46.455Z"
   },
   {
    "duration": 10,
    "start_time": "2022-02-27T07:25:46.475Z"
   },
   {
    "duration": 8,
    "start_time": "2022-02-27T07:25:46.487Z"
   },
   {
    "duration": 9,
    "start_time": "2022-02-27T07:25:46.497Z"
   },
   {
    "duration": 664,
    "start_time": "2022-02-27T07:25:46.508Z"
   },
   {
    "duration": 30,
    "start_time": "2022-02-27T07:25:47.175Z"
   },
   {
    "duration": 50,
    "start_time": "2022-02-27T07:25:47.207Z"
   },
   {
    "duration": 31,
    "start_time": "2022-02-27T07:25:47.260Z"
   },
   {
    "duration": 34,
    "start_time": "2022-02-27T07:25:47.294Z"
   },
   {
    "duration": 33,
    "start_time": "2022-02-27T07:25:47.352Z"
   },
   {
    "duration": 30,
    "start_time": "2022-02-27T07:25:47.388Z"
   },
   {
    "duration": 4,
    "start_time": "2022-02-27T07:25:47.451Z"
   },
   {
    "duration": 9,
    "start_time": "2022-02-27T07:25:47.458Z"
   },
   {
    "duration": 10,
    "start_time": "2022-02-27T07:25:47.469Z"
   },
   {
    "duration": 21,
    "start_time": "2022-02-27T07:25:47.481Z"
   },
   {
    "duration": 57,
    "start_time": "2022-02-27T07:25:47.504Z"
   },
   {
    "duration": 19,
    "start_time": "2022-02-27T07:25:47.564Z"
   },
   {
    "duration": 31,
    "start_time": "2022-02-27T07:25:47.586Z"
   },
   {
    "duration": 31,
    "start_time": "2022-02-27T07:25:47.620Z"
   },
   {
    "duration": 21,
    "start_time": "2022-02-27T07:25:47.654Z"
   },
   {
    "duration": 614,
    "start_time": "2022-02-27T07:25:47.678Z"
   },
   {
    "duration": 14,
    "start_time": "2022-02-27T07:25:48.295Z"
   },
   {
    "duration": 12,
    "start_time": "2022-02-27T07:25:48.311Z"
   },
   {
    "duration": 34,
    "start_time": "2022-02-27T07:25:48.326Z"
   },
   {
    "duration": 36,
    "start_time": "2022-02-27T07:25:48.363Z"
   },
   {
    "duration": 509,
    "start_time": "2022-02-27T07:25:48.402Z"
   },
   {
    "duration": 14,
    "start_time": "2022-02-27T07:25:48.914Z"
   },
   {
    "duration": 20,
    "start_time": "2022-02-27T07:25:48.931Z"
   },
   {
    "duration": 8,
    "start_time": "2022-02-27T07:25:48.954Z"
   },
   {
    "duration": 5,
    "start_time": "2022-02-27T07:25:48.965Z"
   },
   {
    "duration": 9,
    "start_time": "2022-02-27T07:25:48.972Z"
   },
   {
    "duration": 21,
    "start_time": "2022-02-27T07:25:48.983Z"
   },
   {
    "duration": 565,
    "start_time": "2022-02-27T07:25:49.007Z"
   },
   {
    "duration": 14,
    "start_time": "2022-02-27T07:25:49.574Z"
   },
   {
    "duration": 12,
    "start_time": "2022-02-27T07:25:49.591Z"
   },
   {
    "duration": 51,
    "start_time": "2022-02-27T07:25:49.605Z"
   },
   {
    "duration": 14,
    "start_time": "2022-02-27T07:25:49.658Z"
   },
   {
    "duration": 13,
    "start_time": "2022-02-27T07:25:49.674Z"
   },
   {
    "duration": 10,
    "start_time": "2022-02-27T07:25:49.689Z"
   },
   {
    "duration": 540,
    "start_time": "2022-02-27T07:25:49.702Z"
   },
   {
    "duration": 8,
    "start_time": "2022-02-27T07:25:50.252Z"
   },
   {
    "duration": 500,
    "start_time": "2022-02-27T07:25:50.263Z"
   },
   {
    "duration": 449,
    "start_time": "2022-02-27T07:25:50.765Z"
   },
   {
    "duration": 845,
    "start_time": "2022-02-27T07:25:51.216Z"
   },
   {
    "duration": 317,
    "start_time": "2022-02-27T07:25:52.068Z"
   },
   {
    "duration": 32,
    "start_time": "2022-02-27T07:25:52.388Z"
   },
   {
    "duration": 3132,
    "start_time": "2022-02-27T07:25:52.423Z"
   },
   {
    "duration": 3,
    "start_time": "2022-02-27T07:25:55.558Z"
   },
   {
    "duration": 491,
    "start_time": "2022-02-27T07:25:55.564Z"
   },
   {
    "duration": 583,
    "start_time": "2022-02-27T07:25:56.057Z"
   },
   {
    "duration": 10,
    "start_time": "2022-02-27T07:25:56.643Z"
   },
   {
    "duration": 714,
    "start_time": "2022-02-27T07:25:56.656Z"
   },
   {
    "duration": 762,
    "start_time": "2022-02-27T07:25:57.373Z"
   },
   {
    "duration": 662,
    "start_time": "2022-02-27T07:25:58.137Z"
   },
   {
    "duration": 3,
    "start_time": "2022-02-27T07:25:58.801Z"
   },
   {
    "duration": 10,
    "start_time": "2022-02-27T07:25:58.806Z"
   },
   {
    "duration": 7,
    "start_time": "2022-02-27T07:25:58.818Z"
   },
   {
    "duration": 8,
    "start_time": "2022-02-27T07:25:58.852Z"
   },
   {
    "duration": 6,
    "start_time": "2022-02-27T07:25:58.862Z"
   },
   {
    "duration": 6,
    "start_time": "2022-02-27T07:25:58.871Z"
   },
   {
    "duration": 8,
    "start_time": "2022-02-27T07:25:58.879Z"
   },
   {
    "duration": 13,
    "start_time": "2022-02-27T07:25:58.889Z"
   },
   {
    "duration": 47,
    "start_time": "2022-02-27T07:25:58.904Z"
   },
   {
    "duration": 8,
    "start_time": "2022-02-27T07:25:58.954Z"
   },
   {
    "duration": 9,
    "start_time": "2022-02-27T07:25:58.964Z"
   },
   {
    "duration": 11,
    "start_time": "2022-02-27T07:25:58.975Z"
   },
   {
    "duration": 8,
    "start_time": "2022-02-27T07:25:58.989Z"
   },
   {
    "duration": 6,
    "start_time": "2022-02-27T07:33:58.386Z"
   },
   {
    "duration": 36,
    "start_time": "2022-02-27T07:34:12.787Z"
   },
   {
    "duration": 21,
    "start_time": "2022-02-27T07:34:27.401Z"
   },
   {
    "duration": 670,
    "start_time": "2022-02-27T07:34:30.924Z"
   },
   {
    "duration": 1469,
    "start_time": "2022-02-27T07:35:59.732Z"
   },
   {
    "duration": 62,
    "start_time": "2022-02-27T07:36:01.203Z"
   },
   {
    "duration": 14,
    "start_time": "2022-02-27T07:36:01.268Z"
   },
   {
    "duration": 4,
    "start_time": "2022-02-27T07:36:01.286Z"
   },
   {
    "duration": 8,
    "start_time": "2022-02-27T07:36:01.292Z"
   },
   {
    "duration": 59,
    "start_time": "2022-02-27T07:36:01.303Z"
   },
   {
    "duration": 25,
    "start_time": "2022-02-27T07:36:01.365Z"
   },
   {
    "duration": 17,
    "start_time": "2022-02-27T07:36:01.395Z"
   },
   {
    "duration": 38,
    "start_time": "2022-02-27T07:36:01.415Z"
   },
   {
    "duration": 19,
    "start_time": "2022-02-27T07:36:01.456Z"
   },
   {
    "duration": 10,
    "start_time": "2022-02-27T07:36:01.478Z"
   },
   {
    "duration": 10,
    "start_time": "2022-02-27T07:36:01.490Z"
   },
   {
    "duration": 55,
    "start_time": "2022-02-27T07:36:01.502Z"
   },
   {
    "duration": 9,
    "start_time": "2022-02-27T07:36:01.559Z"
   },
   {
    "duration": 16,
    "start_time": "2022-02-27T07:36:01.571Z"
   },
   {
    "duration": 27,
    "start_time": "2022-02-27T07:36:01.589Z"
   },
   {
    "duration": 22,
    "start_time": "2022-02-27T07:36:01.619Z"
   },
   {
    "duration": 11,
    "start_time": "2022-02-27T07:36:01.652Z"
   },
   {
    "duration": 29,
    "start_time": "2022-02-27T07:36:01.665Z"
   },
   {
    "duration": 18,
    "start_time": "2022-02-27T07:36:01.697Z"
   },
   {
    "duration": 35,
    "start_time": "2022-02-27T07:36:01.718Z"
   },
   {
    "duration": 11,
    "start_time": "2022-02-27T07:36:01.756Z"
   },
   {
    "duration": 7,
    "start_time": "2022-02-27T07:36:01.774Z"
   },
   {
    "duration": 20,
    "start_time": "2022-02-27T07:36:01.785Z"
   },
   {
    "duration": 17,
    "start_time": "2022-02-27T07:36:01.808Z"
   },
   {
    "duration": 30,
    "start_time": "2022-02-27T07:36:01.827Z"
   },
   {
    "duration": 12,
    "start_time": "2022-02-27T07:36:01.860Z"
   },
   {
    "duration": 623,
    "start_time": "2022-02-27T07:36:01.875Z"
   },
   {
    "duration": 30,
    "start_time": "2022-02-27T07:36:02.501Z"
   },
   {
    "duration": 31,
    "start_time": "2022-02-27T07:36:02.551Z"
   },
   {
    "duration": 32,
    "start_time": "2022-02-27T07:36:02.584Z"
   },
   {
    "duration": 58,
    "start_time": "2022-02-27T07:36:02.619Z"
   },
   {
    "duration": 31,
    "start_time": "2022-02-27T07:36:02.680Z"
   },
   {
    "duration": 57,
    "start_time": "2022-02-27T07:36:02.714Z"
   },
   {
    "duration": 6,
    "start_time": "2022-02-27T07:36:02.774Z"
   },
   {
    "duration": 6,
    "start_time": "2022-02-27T07:36:02.782Z"
   },
   {
    "duration": 10,
    "start_time": "2022-02-27T07:36:02.790Z"
   },
   {
    "duration": 54,
    "start_time": "2022-02-27T07:36:02.802Z"
   },
   {
    "duration": 36,
    "start_time": "2022-02-27T07:36:02.859Z"
   },
   {
    "duration": 19,
    "start_time": "2022-02-27T07:36:02.897Z"
   },
   {
    "duration": 55,
    "start_time": "2022-02-27T07:36:02.918Z"
   },
   {
    "duration": 6,
    "start_time": "2022-02-27T07:36:02.975Z"
   },
   {
    "duration": 21,
    "start_time": "2022-02-27T07:36:02.983Z"
   },
   {
    "duration": 617,
    "start_time": "2022-02-27T07:36:03.006Z"
   },
   {
    "duration": 30,
    "start_time": "2022-02-27T07:36:03.626Z"
   },
   {
    "duration": 12,
    "start_time": "2022-02-27T07:36:03.658Z"
   },
   {
    "duration": 13,
    "start_time": "2022-02-27T07:36:03.672Z"
   },
   {
    "duration": 33,
    "start_time": "2022-02-27T07:36:03.687Z"
   },
   {
    "duration": 514,
    "start_time": "2022-02-27T07:36:03.723Z"
   },
   {
    "duration": 15,
    "start_time": "2022-02-27T07:36:04.250Z"
   },
   {
    "duration": 8,
    "start_time": "2022-02-27T07:36:04.267Z"
   },
   {
    "duration": 11,
    "start_time": "2022-02-27T07:36:04.277Z"
   },
   {
    "duration": 8,
    "start_time": "2022-02-27T07:36:04.291Z"
   },
   {
    "duration": 9,
    "start_time": "2022-02-27T07:36:04.301Z"
   },
   {
    "duration": 54,
    "start_time": "2022-02-27T07:36:04.312Z"
   },
   {
    "duration": 539,
    "start_time": "2022-02-27T07:36:04.368Z"
   },
   {
    "duration": 13,
    "start_time": "2022-02-27T07:36:04.909Z"
   },
   {
    "duration": 28,
    "start_time": "2022-02-27T07:36:04.924Z"
   },
   {
    "duration": 22,
    "start_time": "2022-02-27T07:36:04.955Z"
   },
   {
    "duration": 14,
    "start_time": "2022-02-27T07:36:04.979Z"
   },
   {
    "duration": 9,
    "start_time": "2022-02-27T07:36:04.995Z"
   },
   {
    "duration": 46,
    "start_time": "2022-02-27T07:36:05.007Z"
   },
   {
    "duration": 486,
    "start_time": "2022-02-27T07:36:05.056Z"
   },
   {
    "duration": 9,
    "start_time": "2022-02-27T07:36:05.545Z"
   },
   {
    "duration": 506,
    "start_time": "2022-02-27T07:36:05.556Z"
   },
   {
    "duration": 403,
    "start_time": "2022-02-27T07:36:06.064Z"
   },
   {
    "duration": 785,
    "start_time": "2022-02-27T07:36:06.470Z"
   },
   {
    "duration": 307,
    "start_time": "2022-02-27T07:36:07.263Z"
   },
   {
    "duration": 35,
    "start_time": "2022-02-27T07:36:07.573Z"
   },
   {
    "duration": 2600,
    "start_time": "2022-02-27T07:36:07.610Z"
   },
   {
    "duration": 3,
    "start_time": "2022-02-27T07:36:10.212Z"
   },
   {
    "duration": 447,
    "start_time": "2022-02-27T07:36:10.217Z"
   },
   {
    "duration": 514,
    "start_time": "2022-02-27T07:36:10.666Z"
   },
   {
    "duration": 6,
    "start_time": "2022-02-27T07:36:11.182Z"
   },
   {
    "duration": 703,
    "start_time": "2022-02-27T07:36:11.190Z"
   },
   {
    "duration": 741,
    "start_time": "2022-02-27T07:36:11.896Z"
   },
   {
    "duration": 15,
    "start_time": "2022-02-27T07:36:12.640Z"
   },
   {
    "duration": 23,
    "start_time": "2022-02-27T07:36:12.658Z"
   },
   {
    "duration": 676,
    "start_time": "2022-02-27T07:36:12.684Z"
   },
   {
    "duration": 4,
    "start_time": "2022-02-27T07:36:13.363Z"
   },
   {
    "duration": 11,
    "start_time": "2022-02-27T07:36:13.370Z"
   },
   {
    "duration": 6,
    "start_time": "2022-02-27T07:36:13.383Z"
   },
   {
    "duration": 9,
    "start_time": "2022-02-27T07:36:13.392Z"
   },
   {
    "duration": 50,
    "start_time": "2022-02-27T07:36:13.403Z"
   },
   {
    "duration": 9,
    "start_time": "2022-02-27T07:36:13.456Z"
   },
   {
    "duration": 5,
    "start_time": "2022-02-27T07:36:13.468Z"
   },
   {
    "duration": 10,
    "start_time": "2022-02-27T07:36:13.476Z"
   },
   {
    "duration": 7,
    "start_time": "2022-02-27T07:36:13.488Z"
   },
   {
    "duration": 61,
    "start_time": "2022-02-27T07:36:13.497Z"
   },
   {
    "duration": 6,
    "start_time": "2022-02-27T07:36:13.562Z"
   },
   {
    "duration": 8,
    "start_time": "2022-02-27T07:36:13.571Z"
   },
   {
    "duration": 8,
    "start_time": "2022-02-27T07:36:13.581Z"
   },
   {
    "duration": 2986,
    "start_time": "2022-02-27T07:37:31.033Z"
   },
   {
    "duration": 10,
    "start_time": "2022-02-27T07:38:54.778Z"
   },
   {
    "duration": 661,
    "start_time": "2022-02-27T07:39:13.153Z"
   },
   {
    "duration": 8,
    "start_time": "2022-02-27T07:40:51.012Z"
   },
   {
    "duration": 27,
    "start_time": "2022-02-27T07:41:33.245Z"
   },
   {
    "duration": 13,
    "start_time": "2022-02-27T07:42:27.061Z"
   },
   {
    "duration": 11,
    "start_time": "2022-02-27T07:42:41.927Z"
   },
   {
    "duration": 210,
    "start_time": "2022-02-27T07:43:05.441Z"
   },
   {
    "duration": 225,
    "start_time": "2022-02-27T07:43:30.360Z"
   },
   {
    "duration": 9,
    "start_time": "2022-02-27T07:43:55.461Z"
   },
   {
    "duration": 221,
    "start_time": "2022-02-27T07:44:58.333Z"
   },
   {
    "duration": 12,
    "start_time": "2022-02-27T07:46:10.391Z"
   },
   {
    "duration": 6,
    "start_time": "2022-02-27T07:48:14.840Z"
   },
   {
    "duration": 1457,
    "start_time": "2022-02-27T07:48:40.333Z"
   },
   {
    "duration": 65,
    "start_time": "2022-02-27T07:48:41.793Z"
   },
   {
    "duration": 14,
    "start_time": "2022-02-27T07:48:41.861Z"
   },
   {
    "duration": 6,
    "start_time": "2022-02-27T07:48:41.878Z"
   },
   {
    "duration": 5,
    "start_time": "2022-02-27T07:48:41.887Z"
   },
   {
    "duration": 62,
    "start_time": "2022-02-27T07:48:41.894Z"
   },
   {
    "duration": 26,
    "start_time": "2022-02-27T07:48:41.958Z"
   },
   {
    "duration": 18,
    "start_time": "2022-02-27T07:48:41.987Z"
   },
   {
    "duration": 10,
    "start_time": "2022-02-27T07:48:42.008Z"
   },
   {
    "duration": 18,
    "start_time": "2022-02-27T07:48:42.052Z"
   },
   {
    "duration": 10,
    "start_time": "2022-02-27T07:48:42.072Z"
   },
   {
    "duration": 9,
    "start_time": "2022-02-27T07:48:42.084Z"
   },
   {
    "duration": 9,
    "start_time": "2022-02-27T07:48:42.095Z"
   },
   {
    "duration": 51,
    "start_time": "2022-02-27T07:48:42.106Z"
   },
   {
    "duration": 10,
    "start_time": "2022-02-27T07:48:42.159Z"
   },
   {
    "duration": 10,
    "start_time": "2022-02-27T07:48:42.171Z"
   },
   {
    "duration": 17,
    "start_time": "2022-02-27T07:48:42.184Z"
   },
   {
    "duration": 57,
    "start_time": "2022-02-27T07:48:42.204Z"
   },
   {
    "duration": 22,
    "start_time": "2022-02-27T07:48:42.264Z"
   },
   {
    "duration": 17,
    "start_time": "2022-02-27T07:48:42.289Z"
   },
   {
    "duration": 46,
    "start_time": "2022-02-27T07:48:42.309Z"
   },
   {
    "duration": 7,
    "start_time": "2022-02-27T07:48:42.358Z"
   },
   {
    "duration": 9,
    "start_time": "2022-02-27T07:48:42.373Z"
   },
   {
    "duration": 18,
    "start_time": "2022-02-27T07:48:42.387Z"
   },
   {
    "duration": 13,
    "start_time": "2022-02-27T07:48:42.452Z"
   },
   {
    "duration": 10,
    "start_time": "2022-02-27T07:48:42.468Z"
   },
   {
    "duration": 10,
    "start_time": "2022-02-27T07:48:42.481Z"
   },
   {
    "duration": 659,
    "start_time": "2022-02-27T07:48:42.494Z"
   },
   {
    "duration": 37,
    "start_time": "2022-02-27T07:48:43.156Z"
   },
   {
    "duration": 28,
    "start_time": "2022-02-27T07:48:43.196Z"
   },
   {
    "duration": 31,
    "start_time": "2022-02-27T07:48:43.250Z"
   },
   {
    "duration": 31,
    "start_time": "2022-02-27T07:48:43.283Z"
   },
   {
    "duration": 61,
    "start_time": "2022-02-27T07:48:43.317Z"
   },
   {
    "duration": 28,
    "start_time": "2022-02-27T07:48:43.380Z"
   },
   {
    "duration": 7,
    "start_time": "2022-02-27T07:48:43.410Z"
   },
   {
    "duration": 33,
    "start_time": "2022-02-27T07:48:43.420Z"
   },
   {
    "duration": 5,
    "start_time": "2022-02-27T07:48:43.455Z"
   },
   {
    "duration": 6,
    "start_time": "2022-02-27T07:48:43.463Z"
   },
   {
    "duration": 22,
    "start_time": "2022-02-27T07:48:43.471Z"
   },
   {
    "duration": 66,
    "start_time": "2022-02-27T07:48:43.495Z"
   },
   {
    "duration": 18,
    "start_time": "2022-02-27T07:48:43.564Z"
   },
   {
    "duration": 29,
    "start_time": "2022-02-27T07:48:43.584Z"
   },
   {
    "duration": 5,
    "start_time": "2022-02-27T07:48:43.616Z"
   },
   {
    "duration": 47,
    "start_time": "2022-02-27T07:48:43.623Z"
   },
   {
    "duration": 587,
    "start_time": "2022-02-27T07:48:43.673Z"
   },
   {
    "duration": 15,
    "start_time": "2022-02-27T07:48:44.262Z"
   },
   {
    "duration": 11,
    "start_time": "2022-02-27T07:48:44.279Z"
   },
   {
    "duration": 21,
    "start_time": "2022-02-27T07:48:44.293Z"
   },
   {
    "duration": 53,
    "start_time": "2022-02-27T07:48:44.316Z"
   },
   {
    "duration": 490,
    "start_time": "2022-02-27T07:48:44.371Z"
   },
   {
    "duration": 16,
    "start_time": "2022-02-27T07:48:44.864Z"
   },
   {
    "duration": 6,
    "start_time": "2022-02-27T07:48:44.882Z"
   },
   {
    "duration": 16,
    "start_time": "2022-02-27T07:48:44.890Z"
   },
   {
    "duration": 6,
    "start_time": "2022-02-27T07:48:44.908Z"
   },
   {
    "duration": 35,
    "start_time": "2022-02-27T07:48:44.916Z"
   },
   {
    "duration": 21,
    "start_time": "2022-02-27T07:48:44.953Z"
   },
   {
    "duration": 536,
    "start_time": "2022-02-27T07:48:44.976Z"
   },
   {
    "duration": 14,
    "start_time": "2022-02-27T07:48:45.514Z"
   },
   {
    "duration": 26,
    "start_time": "2022-02-27T07:48:45.530Z"
   },
   {
    "duration": 22,
    "start_time": "2022-02-27T07:48:45.559Z"
   },
   {
    "duration": 13,
    "start_time": "2022-02-27T07:48:45.584Z"
   },
   {
    "duration": 12,
    "start_time": "2022-02-27T07:48:45.599Z"
   },
   {
    "duration": 40,
    "start_time": "2022-02-27T07:48:45.613Z"
   },
   {
    "duration": 518,
    "start_time": "2022-02-27T07:48:45.656Z"
   },
   {
    "duration": 7,
    "start_time": "2022-02-27T07:48:46.176Z"
   },
   {
    "duration": 574,
    "start_time": "2022-02-27T07:48:46.185Z"
   },
   {
    "duration": 402,
    "start_time": "2022-02-27T07:48:46.761Z"
   },
   {
    "duration": 1106,
    "start_time": "2022-02-27T07:48:47.171Z"
   },
   {
    "duration": 343,
    "start_time": "2022-02-27T07:48:48.280Z"
   },
   {
    "duration": 44,
    "start_time": "2022-02-27T07:48:48.626Z"
   },
   {
    "duration": 2557,
    "start_time": "2022-02-27T07:48:48.673Z"
   },
   {
    "duration": 3,
    "start_time": "2022-02-27T07:48:51.232Z"
   },
   {
    "duration": 434,
    "start_time": "2022-02-27T07:48:51.237Z"
   },
   {
    "duration": 536,
    "start_time": "2022-02-27T07:48:51.673Z"
   },
   {
    "duration": 7,
    "start_time": "2022-02-27T07:48:52.211Z"
   },
   {
    "duration": 714,
    "start_time": "2022-02-27T07:48:52.220Z"
   },
   {
    "duration": 750,
    "start_time": "2022-02-27T07:48:52.937Z"
   },
   {
    "duration": 13,
    "start_time": "2022-02-27T07:48:53.689Z"
   },
   {
    "duration": 13,
    "start_time": "2022-02-27T07:48:53.704Z"
   },
   {
    "duration": 691,
    "start_time": "2022-02-27T07:48:53.719Z"
   },
   {
    "duration": 251,
    "start_time": "2022-02-27T07:48:54.412Z"
   },
   {
    "duration": 3,
    "start_time": "2022-02-27T07:48:54.666Z"
   },
   {
    "duration": 10,
    "start_time": "2022-02-27T07:48:54.671Z"
   },
   {
    "duration": 8,
    "start_time": "2022-02-27T07:48:54.683Z"
   },
   {
    "duration": 7,
    "start_time": "2022-02-27T07:48:54.693Z"
   },
   {
    "duration": 6,
    "start_time": "2022-02-27T07:48:54.702Z"
   },
   {
    "duration": 45,
    "start_time": "2022-02-27T07:48:54.710Z"
   },
   {
    "duration": 8,
    "start_time": "2022-02-27T07:48:54.758Z"
   },
   {
    "duration": 9,
    "start_time": "2022-02-27T07:48:54.768Z"
   },
   {
    "duration": 7,
    "start_time": "2022-02-27T07:48:54.779Z"
   },
   {
    "duration": 12,
    "start_time": "2022-02-27T07:48:54.789Z"
   },
   {
    "duration": 47,
    "start_time": "2022-02-27T07:48:54.804Z"
   },
   {
    "duration": 7,
    "start_time": "2022-02-27T07:48:54.854Z"
   },
   {
    "duration": 11,
    "start_time": "2022-02-27T07:48:54.863Z"
   },
   {
    "duration": 1469,
    "start_time": "2022-02-27T08:16:23.938Z"
   },
   {
    "duration": 66,
    "start_time": "2022-02-27T08:16:25.410Z"
   },
   {
    "duration": 14,
    "start_time": "2022-02-27T08:16:25.479Z"
   },
   {
    "duration": 5,
    "start_time": "2022-02-27T08:16:25.496Z"
   },
   {
    "duration": 6,
    "start_time": "2022-02-27T08:16:25.503Z"
   },
   {
    "duration": 55,
    "start_time": "2022-02-27T08:16:25.512Z"
   },
   {
    "duration": 25,
    "start_time": "2022-02-27T08:16:25.570Z"
   },
   {
    "duration": 17,
    "start_time": "2022-02-27T08:16:25.598Z"
   },
   {
    "duration": 40,
    "start_time": "2022-02-27T08:16:25.619Z"
   },
   {
    "duration": 19,
    "start_time": "2022-02-27T08:16:25.661Z"
   },
   {
    "duration": 8,
    "start_time": "2022-02-27T08:16:25.682Z"
   },
   {
    "duration": 9,
    "start_time": "2022-02-27T08:16:25.692Z"
   },
   {
    "duration": 50,
    "start_time": "2022-02-27T08:16:25.704Z"
   },
   {
    "duration": 9,
    "start_time": "2022-02-27T08:16:25.756Z"
   },
   {
    "duration": 9,
    "start_time": "2022-02-27T08:16:25.767Z"
   },
   {
    "duration": 9,
    "start_time": "2022-02-27T08:16:25.778Z"
   },
   {
    "duration": 14,
    "start_time": "2022-02-27T08:16:25.789Z"
   },
   {
    "duration": 10,
    "start_time": "2022-02-27T08:16:25.852Z"
   },
   {
    "duration": 19,
    "start_time": "2022-02-27T08:16:25.864Z"
   },
   {
    "duration": 15,
    "start_time": "2022-02-27T08:16:25.885Z"
   },
   {
    "duration": 4,
    "start_time": "2022-02-27T08:16:25.902Z"
   },
   {
    "duration": 45,
    "start_time": "2022-02-27T08:16:25.908Z"
   },
   {
    "duration": 8,
    "start_time": "2022-02-27T08:16:25.955Z"
   },
   {
    "duration": 17,
    "start_time": "2022-02-27T08:16:25.965Z"
   },
   {
    "duration": 9,
    "start_time": "2022-02-27T08:16:25.985Z"
   },
   {
    "duration": 8,
    "start_time": "2022-02-27T08:16:25.997Z"
   },
   {
    "duration": 9,
    "start_time": "2022-02-27T08:16:26.052Z"
   },
   {
    "duration": 595,
    "start_time": "2022-02-27T08:16:26.065Z"
   },
   {
    "duration": 28,
    "start_time": "2022-02-27T08:16:26.663Z"
   },
   {
    "duration": 28,
    "start_time": "2022-02-27T08:16:26.694Z"
   },
   {
    "duration": 33,
    "start_time": "2022-02-27T08:16:26.751Z"
   },
   {
    "duration": 31,
    "start_time": "2022-02-27T08:16:26.786Z"
   },
   {
    "duration": 58,
    "start_time": "2022-02-27T08:16:26.819Z"
   },
   {
    "duration": 6,
    "start_time": "2022-02-27T08:16:26.879Z"
   },
   {
    "duration": 32,
    "start_time": "2022-02-27T08:16:26.887Z"
   },
   {
    "duration": 31,
    "start_time": "2022-02-27T08:16:26.921Z"
   },
   {
    "duration": 5,
    "start_time": "2022-02-27T08:16:26.954Z"
   },
   {
    "duration": 7,
    "start_time": "2022-02-27T08:16:26.962Z"
   },
   {
    "duration": 23,
    "start_time": "2022-02-27T08:16:26.971Z"
   },
   {
    "duration": 66,
    "start_time": "2022-02-27T08:16:26.996Z"
   },
   {
    "duration": 19,
    "start_time": "2022-02-27T08:16:27.065Z"
   },
   {
    "duration": 32,
    "start_time": "2022-02-27T08:16:27.087Z"
   },
   {
    "duration": 6,
    "start_time": "2022-02-27T08:16:27.121Z"
   },
   {
    "duration": 20,
    "start_time": "2022-02-27T08:16:27.152Z"
   },
   {
    "duration": 590,
    "start_time": "2022-02-27T08:16:27.175Z"
   },
   {
    "duration": 14,
    "start_time": "2022-02-27T08:16:27.767Z"
   },
   {
    "duration": 11,
    "start_time": "2022-02-27T08:16:27.783Z"
   },
   {
    "duration": 10,
    "start_time": "2022-02-27T08:16:27.796Z"
   },
   {
    "duration": 65,
    "start_time": "2022-02-27T08:16:27.808Z"
   },
   {
    "duration": 576,
    "start_time": "2022-02-27T08:16:27.876Z"
   },
   {
    "duration": 14,
    "start_time": "2022-02-27T08:16:28.455Z"
   },
   {
    "duration": 6,
    "start_time": "2022-02-27T08:16:28.472Z"
   },
   {
    "duration": 8,
    "start_time": "2022-02-27T08:16:28.481Z"
   },
   {
    "duration": 6,
    "start_time": "2022-02-27T08:16:28.491Z"
   },
   {
    "duration": 9,
    "start_time": "2022-02-27T08:16:28.499Z"
   },
   {
    "duration": 60,
    "start_time": "2022-02-27T08:16:28.510Z"
   },
   {
    "duration": 533,
    "start_time": "2022-02-27T08:16:28.573Z"
   },
   {
    "duration": 13,
    "start_time": "2022-02-27T08:16:29.109Z"
   },
   {
    "duration": 30,
    "start_time": "2022-02-27T08:16:29.124Z"
   },
   {
    "duration": 22,
    "start_time": "2022-02-27T08:16:29.157Z"
   },
   {
    "duration": 13,
    "start_time": "2022-02-27T08:16:29.181Z"
   },
   {
    "duration": 12,
    "start_time": "2022-02-27T08:16:29.196Z"
   },
   {
    "duration": 41,
    "start_time": "2022-02-27T08:16:29.210Z"
   },
   {
    "duration": 501,
    "start_time": "2022-02-27T08:16:29.253Z"
   },
   {
    "duration": 7,
    "start_time": "2022-02-27T08:16:29.757Z"
   },
   {
    "duration": 515,
    "start_time": "2022-02-27T08:16:29.766Z"
   },
   {
    "duration": 409,
    "start_time": "2022-02-27T08:16:30.283Z"
   },
   {
    "duration": 857,
    "start_time": "2022-02-27T08:16:30.694Z"
   },
   {
    "duration": 315,
    "start_time": "2022-02-27T08:16:31.553Z"
   },
   {
    "duration": 33,
    "start_time": "2022-02-27T08:16:31.870Z"
   },
   {
    "duration": 2758,
    "start_time": "2022-02-27T08:16:31.906Z"
   },
   {
    "duration": 3,
    "start_time": "2022-02-27T08:16:34.666Z"
   },
   {
    "duration": 439,
    "start_time": "2022-02-27T08:16:34.672Z"
   },
   {
    "duration": 537,
    "start_time": "2022-02-27T08:16:35.114Z"
   },
   {
    "duration": 6,
    "start_time": "2022-02-27T08:16:35.653Z"
   },
   {
    "duration": 698,
    "start_time": "2022-02-27T08:16:35.662Z"
   },
   {
    "duration": 743,
    "start_time": "2022-02-27T08:16:36.363Z"
   },
   {
    "duration": 12,
    "start_time": "2022-02-27T08:16:37.109Z"
   },
   {
    "duration": 28,
    "start_time": "2022-02-27T08:16:37.123Z"
   },
   {
    "duration": 672,
    "start_time": "2022-02-27T08:16:37.153Z"
   },
   {
    "duration": 3,
    "start_time": "2022-02-27T08:16:37.834Z"
   },
   {
    "duration": 17,
    "start_time": "2022-02-27T08:16:37.840Z"
   },
   {
    "duration": 8,
    "start_time": "2022-02-27T08:16:37.859Z"
   },
   {
    "duration": 9,
    "start_time": "2022-02-27T08:16:37.870Z"
   },
   {
    "duration": 4,
    "start_time": "2022-02-27T08:16:37.881Z"
   },
   {
    "duration": 14,
    "start_time": "2022-02-27T08:16:37.888Z"
   },
   {
    "duration": 9,
    "start_time": "2022-02-27T08:16:37.904Z"
   },
   {
    "duration": 44,
    "start_time": "2022-02-27T08:16:37.916Z"
   },
   {
    "duration": 16,
    "start_time": "2022-02-27T08:16:37.963Z"
   },
   {
    "duration": 12,
    "start_time": "2022-02-27T08:16:37.981Z"
   },
   {
    "duration": 13,
    "start_time": "2022-02-27T08:16:37.995Z"
   },
   {
    "duration": 9,
    "start_time": "2022-02-27T08:16:38.010Z"
   },
   {
    "duration": 6,
    "start_time": "2022-02-27T08:16:38.021Z"
   },
   {
    "duration": 1569,
    "start_time": "2022-02-27T08:21:10.235Z"
   },
   {
    "duration": 70,
    "start_time": "2022-02-27T08:21:11.806Z"
   },
   {
    "duration": 13,
    "start_time": "2022-02-27T08:21:11.879Z"
   },
   {
    "duration": 6,
    "start_time": "2022-02-27T08:21:11.895Z"
   },
   {
    "duration": 5,
    "start_time": "2022-02-27T08:21:11.903Z"
   },
   {
    "duration": 58,
    "start_time": "2022-02-27T08:21:11.910Z"
   },
   {
    "duration": 30,
    "start_time": "2022-02-27T08:21:11.971Z"
   },
   {
    "duration": 47,
    "start_time": "2022-02-27T08:21:12.007Z"
   },
   {
    "duration": 10,
    "start_time": "2022-02-27T08:21:12.057Z"
   },
   {
    "duration": 22,
    "start_time": "2022-02-27T08:21:12.071Z"
   },
   {
    "duration": 10,
    "start_time": "2022-02-27T08:21:12.095Z"
   },
   {
    "duration": 51,
    "start_time": "2022-02-27T08:21:12.107Z"
   },
   {
    "duration": 10,
    "start_time": "2022-02-27T08:21:12.160Z"
   },
   {
    "duration": 10,
    "start_time": "2022-02-27T08:21:12.172Z"
   },
   {
    "duration": 11,
    "start_time": "2022-02-27T08:21:12.185Z"
   },
   {
    "duration": 56,
    "start_time": "2022-02-27T08:21:12.199Z"
   },
   {
    "duration": 19,
    "start_time": "2022-02-27T08:21:12.258Z"
   },
   {
    "duration": 10,
    "start_time": "2022-02-27T08:21:12.280Z"
   },
   {
    "duration": 32,
    "start_time": "2022-02-27T08:21:12.292Z"
   },
   {
    "duration": 37,
    "start_time": "2022-02-27T08:21:12.326Z"
   },
   {
    "duration": 8,
    "start_time": "2022-02-27T08:21:12.365Z"
   },
   {
    "duration": 37,
    "start_time": "2022-02-27T08:21:12.375Z"
   },
   {
    "duration": 13,
    "start_time": "2022-02-27T08:21:12.418Z"
   },
   {
    "duration": 18,
    "start_time": "2022-02-27T08:21:12.435Z"
   },
   {
    "duration": 12,
    "start_time": "2022-02-27T08:21:12.455Z"
   },
   {
    "duration": 13,
    "start_time": "2022-02-27T08:21:12.470Z"
   },
   {
    "duration": 15,
    "start_time": "2022-02-27T08:21:12.485Z"
   },
   {
    "duration": 712,
    "start_time": "2022-02-27T08:21:12.502Z"
   },
   {
    "duration": 41,
    "start_time": "2022-02-27T08:21:13.216Z"
   },
   {
    "duration": 33,
    "start_time": "2022-02-27T08:21:13.260Z"
   },
   {
    "duration": 64,
    "start_time": "2022-02-27T08:21:13.295Z"
   },
   {
    "duration": 50,
    "start_time": "2022-02-27T08:21:13.362Z"
   },
   {
    "duration": 54,
    "start_time": "2022-02-27T08:21:13.414Z"
   },
   {
    "duration": 5,
    "start_time": "2022-02-27T08:21:13.470Z"
   },
   {
    "duration": 34,
    "start_time": "2022-02-27T08:21:13.478Z"
   },
   {
    "duration": 36,
    "start_time": "2022-02-27T08:21:13.515Z"
   },
   {
    "duration": 5,
    "start_time": "2022-02-27T08:21:13.554Z"
   },
   {
    "duration": 7,
    "start_time": "2022-02-27T08:21:13.561Z"
   },
   {
    "duration": 22,
    "start_time": "2022-02-27T08:21:13.570Z"
   },
   {
    "duration": 82,
    "start_time": "2022-02-27T08:21:13.594Z"
   },
   {
    "duration": 22,
    "start_time": "2022-02-27T08:21:13.679Z"
   },
   {
    "duration": 55,
    "start_time": "2022-02-27T08:21:13.704Z"
   },
   {
    "duration": 6,
    "start_time": "2022-02-27T08:21:13.761Z"
   },
   {
    "duration": 28,
    "start_time": "2022-02-27T08:21:13.769Z"
   },
   {
    "duration": 619,
    "start_time": "2022-02-27T08:21:13.800Z"
   },
   {
    "duration": 15,
    "start_time": "2022-02-27T08:21:14.421Z"
   },
   {
    "duration": 11,
    "start_time": "2022-02-27T08:21:14.451Z"
   },
   {
    "duration": 11,
    "start_time": "2022-02-27T08:21:14.465Z"
   },
   {
    "duration": 74,
    "start_time": "2022-02-27T08:21:14.479Z"
   },
   {
    "duration": 500,
    "start_time": "2022-02-27T08:21:14.556Z"
   },
   {
    "duration": 14,
    "start_time": "2022-02-27T08:21:15.059Z"
   },
   {
    "duration": 7,
    "start_time": "2022-02-27T08:21:15.075Z"
   },
   {
    "duration": 12,
    "start_time": "2022-02-27T08:21:15.085Z"
   },
   {
    "duration": 16,
    "start_time": "2022-02-27T08:21:15.100Z"
   },
   {
    "duration": 49,
    "start_time": "2022-02-27T08:21:15.118Z"
   },
   {
    "duration": 26,
    "start_time": "2022-02-27T08:21:15.169Z"
   },
   {
    "duration": 532,
    "start_time": "2022-02-27T08:21:15.197Z"
   },
   {
    "duration": 21,
    "start_time": "2022-02-27T08:21:15.731Z"
   },
   {
    "duration": 12,
    "start_time": "2022-02-27T08:21:15.754Z"
   },
   {
    "duration": 24,
    "start_time": "2022-02-27T08:21:15.768Z"
   },
   {
    "duration": 12,
    "start_time": "2022-02-27T08:21:15.795Z"
   },
   {
    "duration": 42,
    "start_time": "2022-02-27T08:21:15.809Z"
   },
   {
    "duration": 9,
    "start_time": "2022-02-27T08:21:15.853Z"
   },
   {
    "duration": 514,
    "start_time": "2022-02-27T08:21:15.865Z"
   },
   {
    "duration": 8,
    "start_time": "2022-02-27T08:21:16.381Z"
   },
   {
    "duration": 489,
    "start_time": "2022-02-27T08:21:16.391Z"
   },
   {
    "duration": 432,
    "start_time": "2022-02-27T08:21:16.882Z"
   },
   {
    "duration": 898,
    "start_time": "2022-02-27T08:21:17.324Z"
   },
   {
    "duration": 317,
    "start_time": "2022-02-27T08:21:18.226Z"
   },
   {
    "duration": 32,
    "start_time": "2022-02-27T08:21:18.551Z"
   },
   {
    "duration": 2942,
    "start_time": "2022-02-27T08:21:18.585Z"
   },
   {
    "duration": 3,
    "start_time": "2022-02-27T08:21:21.530Z"
   },
   {
    "duration": 465,
    "start_time": "2022-02-27T08:21:21.535Z"
   },
   {
    "duration": 527,
    "start_time": "2022-02-27T08:21:22.003Z"
   },
   {
    "duration": 19,
    "start_time": "2022-02-27T08:21:22.534Z"
   },
   {
    "duration": 720,
    "start_time": "2022-02-27T08:21:22.556Z"
   },
   {
    "duration": 737,
    "start_time": "2022-02-27T08:21:23.279Z"
   },
   {
    "duration": 14,
    "start_time": "2022-02-27T08:21:24.019Z"
   },
   {
    "duration": 10,
    "start_time": "2022-02-27T08:21:24.052Z"
   },
   {
    "duration": 696,
    "start_time": "2022-02-27T08:21:24.065Z"
   },
   {
    "duration": 5,
    "start_time": "2022-02-27T08:21:24.763Z"
   },
   {
    "duration": 10,
    "start_time": "2022-02-27T08:21:24.771Z"
   },
   {
    "duration": 7,
    "start_time": "2022-02-27T08:21:24.783Z"
   },
   {
    "duration": 10,
    "start_time": "2022-02-27T08:21:24.792Z"
   },
   {
    "duration": 48,
    "start_time": "2022-02-27T08:21:24.804Z"
   },
   {
    "duration": 7,
    "start_time": "2022-02-27T08:21:24.855Z"
   },
   {
    "duration": 6,
    "start_time": "2022-02-27T08:21:24.864Z"
   },
   {
    "duration": 9,
    "start_time": "2022-02-27T08:21:24.873Z"
   },
   {
    "duration": 6,
    "start_time": "2022-02-27T08:21:24.884Z"
   },
   {
    "duration": 7,
    "start_time": "2022-02-27T08:21:24.892Z"
   },
   {
    "duration": 8,
    "start_time": "2022-02-27T08:21:24.901Z"
   },
   {
    "duration": 6,
    "start_time": "2022-02-27T08:21:24.952Z"
   },
   {
    "duration": 8,
    "start_time": "2022-02-27T08:21:24.960Z"
   }
  ],
  "kernelspec": {
   "display_name": "Python 3 (ipykernel)",
   "language": "python",
   "name": "python3"
  },
  "language_info": {
   "codemirror_mode": {
    "name": "ipython",
    "version": 3
   },
   "file_extension": ".py",
   "mimetype": "text/x-python",
   "name": "python",
   "nbconvert_exporter": "python",
   "pygments_lexer": "ipython3",
   "version": "3.10.9"
  },
  "toc": {
   "base_numbering": 1,
   "nav_menu": {},
   "number_sections": false,
   "sideBar": true,
   "skip_h1_title": false,
   "title_cell": "Table of Contents",
   "title_sidebar": "Contents",
   "toc_cell": false,
   "toc_position": {},
   "toc_section_display": true,
   "toc_window_display": true
  }
 },
 "nbformat": 4,
 "nbformat_minor": 2
}
